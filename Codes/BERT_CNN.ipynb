{
  "nbformat": 4,
  "nbformat_minor": 0,
  "metadata": {
    "colab": {
      "name": "BERT_CNN.ipynb",
      "provenance": [],
      "collapsed_sections": []
    },
    "kernelspec": {
      "name": "python3",
      "display_name": "Python 3"
    }
  },
  "cells": [
    {
      "cell_type": "code",
      "metadata": {
        "id": "Nl6v0DCYipi4",
        "colab": {
          "base_uri": "https://localhost:8080/",
          "height": 356
        },
        "outputId": "f61f75f7-a5d1-43b4-f0c5-50b2b0b4302f"
      },
      "source": [
        "#Install the Transformer\n",
        "pip install transformers"
      ],
      "execution_count": null,
      "outputs": [
        {
          "output_type": "stream",
          "text": [
            "Requirement already satisfied: transformers in /usr/local/lib/python3.6/dist-packages (3.0.2)\n",
            "Requirement already satisfied: packaging in /usr/local/lib/python3.6/dist-packages (from transformers) (20.4)\n",
            "Requirement already satisfied: tqdm>=4.27 in /usr/local/lib/python3.6/dist-packages (from transformers) (4.41.1)\n",
            "Requirement already satisfied: dataclasses; python_version < \"3.7\" in /usr/local/lib/python3.6/dist-packages (from transformers) (0.7)\n",
            "Requirement already satisfied: numpy in /usr/local/lib/python3.6/dist-packages (from transformers) (1.18.5)\n",
            "Requirement already satisfied: tokenizers==0.8.1.rc1 in /usr/local/lib/python3.6/dist-packages (from transformers) (0.8.1rc1)\n",
            "Requirement already satisfied: sacremoses in /usr/local/lib/python3.6/dist-packages (from transformers) (0.0.43)\n",
            "Requirement already satisfied: requests in /usr/local/lib/python3.6/dist-packages (from transformers) (2.23.0)\n",
            "Requirement already satisfied: sentencepiece!=0.1.92 in /usr/local/lib/python3.6/dist-packages (from transformers) (0.1.91)\n",
            "Requirement already satisfied: filelock in /usr/local/lib/python3.6/dist-packages (from transformers) (3.0.12)\n",
            "Requirement already satisfied: regex!=2019.12.17 in /usr/local/lib/python3.6/dist-packages (from transformers) (2019.12.20)\n",
            "Requirement already satisfied: pyparsing>=2.0.2 in /usr/local/lib/python3.6/dist-packages (from packaging->transformers) (2.4.7)\n",
            "Requirement already satisfied: six in /usr/local/lib/python3.6/dist-packages (from packaging->transformers) (1.12.0)\n",
            "Requirement already satisfied: click in /usr/local/lib/python3.6/dist-packages (from sacremoses->transformers) (7.1.2)\n",
            "Requirement already satisfied: joblib in /usr/local/lib/python3.6/dist-packages (from sacremoses->transformers) (0.16.0)\n",
            "Requirement already satisfied: idna<3,>=2.5 in /usr/local/lib/python3.6/dist-packages (from requests->transformers) (2.10)\n",
            "Requirement already satisfied: certifi>=2017.4.17 in /usr/local/lib/python3.6/dist-packages (from requests->transformers) (2020.6.20)\n",
            "Requirement already satisfied: urllib3!=1.25.0,!=1.25.1,<1.26,>=1.21.1 in /usr/local/lib/python3.6/dist-packages (from requests->transformers) (1.24.3)\n",
            "Requirement already satisfied: chardet<4,>=3.0.2 in /usr/local/lib/python3.6/dist-packages (from requests->transformers) (3.0.4)\n"
          ],
          "name": "stdout"
        }
      ]
    },
    {
      "cell_type": "code",
      "metadata": {
        "id": "eLo1z6ABi4P6"
      },
      "source": [
        "import numpy as np\n",
        "import pandas as pd\n",
        "import torch\n",
        "import transformers  as ppb \n",
        "from sklearn.linear_model import LogisticRegression\n",
        "from sklearn.model_selection import cross_val_score\n",
        "from sklearn.model_selection import train_test_split"
      ],
      "execution_count": null,
      "outputs": []
    },
    {
      "cell_type": "code",
      "metadata": {
        "id": "FhJY3vksi9Is"
      },
      "source": [
        "model_class, tokenizer_class, pretrained_weights = (ppb.DistilBertModel, ppb.DistilBertTokenizer, 'distilbert-base-uncased')\n",
        "\n",
        "#We can use BERT but here I am using DistillBERT because BERT requires more RAM then available in the colab,but to use BERT just uncomment the next line and comment the previous line\n",
        "#model_class, tokenizer_class, pretrained_weights = (ppb.BertModel, ppb.BertTokenizer, 'bert-base-uncased')\n",
        "\n",
        "# Load pretrained model/tokenizer\n",
        "tokenizer = tokenizer_class.from_pretrained(pretrained_weights)\n",
        "model = model_class.from_pretrained(pretrained_weights)\n",
        "#To run the model on GPU\n",
        "#model.cuda()   "
      ],
      "execution_count": null,
      "outputs": []
    },
    {
      "cell_type": "code",
      "metadata": {
        "id": "zGIYJjcdjAPP"
      },
      "source": [
        "#Importing the dataset\n",
        "import pandas as pd\n",
        " \n",
        "dataset=pd.read_csv('/content/100_tweets_per_user_new.csv')\n",
        "\n",
        "y=dataset.iloc[:,1].values"
      ],
      "execution_count": null,
      "outputs": []
    },
    {
      "cell_type": "code",
      "metadata": {
        "id": "9cBafCb39L9Q"
      },
      "source": [
        "#splitting in testing and training\n",
        "k=0\n",
        "X_train=[]\n",
        "y_train=[]\n",
        "for i in range(0,50):\n",
        "  for j in range(k,k+90):\n",
        "    X_train.append(dataset.iloc[j,0])\n",
        "    y_train.append(dataset.iloc[j,1])\n",
        "  k+=100"
      ],
      "execution_count": null,
      "outputs": []
    },
    {
      "cell_type": "code",
      "metadata": {
        "id": "g_ICLU-nZLP1",
        "colab": {
          "base_uri": "https://localhost:8080/",
          "height": 1000
        },
        "outputId": "e157b718-76a4-4ef4-bf1f-b25fb7bfbb3f"
      },
      "source": [
        "X_train"
      ],
      "execution_count": null,
      "outputs": [
        {
          "output_type": "execute_result",
          "data": {
            "text/plain": [
              "[\"b'India and Benin should broaden trade ties: Tharoor - India and Benin need to broaden and deepen trade ties and look... http://ow.ly/15WSX8\\\\n'\",\n",
              " \"b'Parliament should have 100 sittings a year: Meira Kumar - Lok Sabha Speaker Meira Kumar Wednesday expressed her con... http://ow.ly/15MtWl\\\\n'\",\n",
              " 'b\"PM launches Cairn India\\'s oil fields in Barmer - Prime Minister Manmohan Singh Saturday formally inaugurated Cairn ... http://ow.ly/15MUVZ\\\\n\"',\n",
              " \"b'Jharkhand governor to hold additional charge of Andhra - Jharkhand Governor K. Sankaranarayanan will hold additiona... http://ow.ly/16dzh3\\\\n'\",\n",
              " \"b'British national found dead in Goa village - A 39-year-old British national was found dead in his guest house room ... http://ow.ly/15Xd1t\\\\n'\",\n",
              " 'b\"Kashmiri Hindus heckle Yasin Malik at peace conference - Jammu and Kashmir\\'s separatist leader Yasin Malik was heck... http://ow.ly/16joeW\\\\n\"',\n",
              " 'b\\'Shazahn Padamsee loves kids.. - Shazahn Padamsee is fond of kids. \"Being with kids lights up Shazahn face,\" said a ... http://ow.ly/15NgrV\\\\n\\'',\n",
              " \"b'Heavy winter showers, hailstones lash Delhi - Thundershowers with hailstones lashed the national capital Friday eve... http://ow.ly/16yTSa\\\\n'\",\n",
              " \"b'Guinness world record appreciation for ?Bhavanaonko Samjho? - For the first time in the history of Bollywood 52 tel... http://ow.ly/16girv\\\\n'\",\n",
              " \"b'Indian Air Force MiG-21 crashes, pilot killed - An Indian Air Force (IAF) MiG-21 fighter crashed at Bathinda air ba... http://ow.ly/15Oths\\\\n'\",\n",
              " \"b'Shoot-at-sight orders in Mizoram to control ethnic violence - The Mizoram government has issued shoot-at-sight orde... http://ow.ly/162igs\\\\n'\",\n",
              " \"b'Sindhanai Sei- Finely inspired from ?Johnny Gaddaar? - Production- RMA Factory Direction- Yuvan Star-casts- Yuvan, ... http://ow.ly/15Jvuy\\\\n'\",\n",
              " \"b'Metro cable stolen, Yamuna Bank-Indraprashta services hit - Services on the Indraprastha-Yamuna Bank section of Del... http://ow.ly/15Oc19\\\\n'\",\n",
              " \"b'Work on AIIMS-like institution to begin in Chhattisgarh - Construction work on a Rs.329 crore (Rs.3.29 billion) AII... http://ow.ly/15ZkoX\\\\n'\",\n",
              " \"b'Five Nepalis among six killed in landslide (Lead) - Five Nepali labourers and an Indian girl were killed when bould... http://ow.ly/16zM0u\\\\n'\",\n",
              " \"b'Muthoot murder: Congress wants Kerala home minister out - The Congress Saturday demanded the resignation of Kerala ... http://ow.ly/15MW9w\\\\n'\",\n",
              " \"b'Two poachers arrested with deer skin, antlers - Two poachers have been arrested alongwith three spotted deer skins ... http://ow.ly/15PQIG\\\\n'\",\n",
              " 'b\"Maoist leader\\'s body found in Uttar Pradesh forest - Police in Uttar Pradesh have recovered the body of a Maoist  l... http://ow.ly/166ykd\\\\n\"',\n",
              " 'b\"Bihar Congress leaders meet Rahul Gandhi over \\'lopsided list\\' http://ow.ly/16kx5Z\\\\n\"',\n",
              " \"b'Farooq Abdullah takes taxi to reach IIT function - New and Renewable Energy Minister Farooq Abdullah, one of the mo... http://ow.ly/16gYeT\\\\n'\",\n",
              " 'b\"Villagers beat up policemen over Dalit\\'s death - An irate mob in an Uttar Pradesh village Sunday chased and beat up... http://ow.ly/15NVZJ\\\\n\"',\n",
              " 'b\"Man arrested in Orissa for killing daughter - A man in Orissa\\'s Dhenkanal district has been charged with killing hi... http://ow.ly/166f8Q\\\\n\"',\n",
              " \"b'Cold wave continues in Delhi - The wind chill factor continued to add to the woes of shivering Delhi residents Tues... http://ow.ly/16gJuZ\\\\n'\",\n",
              " \"b'Maoists blow up school building in Orissa - A large group of Maoist guerrillas blew up a school building in Sunderg... http://ow.ly/16ggFq\\\\n'\",\n",
              " \"b'Chandigarh set to party at Saturday carnival - Goofy, Minnie Mouse, a slew of sea creatures, all brought alive in c... http://ow.ly/164saD\\\\n'\",\n",
              " \"b'Jaswant Singh cannot be excused of expedient silence (Comment) http://ow.ly/15Ne0F\\\\n'\",\n",
              " 'b\"India, Russia discuss Afghanistan, terror - Ahead of Russian Prime Minister Vladimir Putin\\'s visit in March, India ... http://ow.ly/16tfNh\\\\n\"',\n",
              " \"b'Suspected swine flu death in Delhi - A 48-year-old man, suspected to be suffering from influenza A (H1N1) virus, ha... http://ow.ly/15M5aP\\\\n'\",\n",
              " \"b'Special cell to help Chandigarh-origin NRIs - A special cell was launched Saturday for the early settlement of lega... http://ow.ly/15L7M5\\\\n'\",\n",
              " \"b'Actor Vishal is on cloud nine! - The young actor Vishal had got through the worst speculative phase with his films ... http://ow.ly/16tbWD\\\\n'\",\n",
              " \"b'Football world cup trophy comes to Kolkata - The original Coca Cola FIFA World Cup trophy Thursday came on a three-... http://ow.ly/16l3ZF\\\\n'\",\n",
              " \"b'Prime Minister should worry about people, not us: BJP - The Bharatiya Janata Party (BJP) Sunday said Prime Minister... http://ow.ly/15N0Tk\\\\n'\",\n",
              " 'b\"Two of Haryana\\'s top cops have been behind bars as well - Haryana Police appear to be dithering over the arrest of ... http://ow.ly/16iYC1\\\\n\"',\n",
              " 'b\"Sand artist sculpts \\'save hockey\\' message on Orissa beach (With Image) http://ow.ly/16kzje\\\\n\"',\n",
              " \"b'Sonia indicates no rollback on fuel prices, lauds Pranab - Congress president Sonia Gandhi Thursday indicated there... http://ow.ly/16IpkC\\\\n'\",\n",
              " \"b'Four students suspended for beating up junior - Four senior students of the defence ministry-run Sainik School in t... http://ow.ly/15KiIQ\\\\n'\",\n",
              " \"b'Stink in Chandigarh, courtesy waste management plant - A multi-million rupee solid waste management plant has liter... http://ow.ly/15LHLX\\\\n'\",\n",
              " \"b'Scene of agitation shifts back to Telangana - There seems to be no end to the political turmoil, en masse resignati... http://ow.ly/16cXty\\\\n'\",\n",
              " 'b\"Aamir Khan and Kiran lose their baby - Tragedy has struck the Khan household. Aamir Khan\\'s wife Kiran Rao has had a... http://ow.ly/15KEA5\\\\n\"',\n",
              " \"b'Srimathi to have Celina Jaitley - Bollywood actress, Celina Jaitley, is about to debut in Kannada movies with Srima... http://ow.ly/15O9CX\\\\n'\",\n",
              " 'b\"Angry mob attacks police in Ghaziabad over man\\'s death (Lead) http://ow.ly/1625s8\\\\n\"',\n",
              " \"b'LeT hawala racket busted in Kashmir - A money laundering (hawala) racket run to fund the Lashkar-e-Taiba (LeT) sepe... http://ow.ly/15TCnL\\\\n'\",\n",
              " \"b'IANS Top Stories at 9 - NATIONAL 26/11 redux: India unites in remembering 26/11 victims - Roundup Moved at 1857 Voi... http://ow.ly/164xYP\\\\n'\",\n",
              " 'b\"Parliament to mark 2001 terror attack - India\\'s political leadership will gather in parliament here Sunday to mark ... http://ow.ly/168OQ4\\\\n\"',\n",
              " 'b\"Sissy love: Ayesha Takia?s Sister To Enter Films - Ayesha Takia\\'s sister is also poised for a film career. Says Aye... http://ow.ly/15OUfU\\\\n\"',\n",
              " 'b\"Government keeps off Mayawati\\'s Noida park project - Perhaps wary of alienating Dalit voters, the Congress-led Unit... http://ow.ly/15WQnB\\\\n\"',\n",
              " \"b'Rahul Gandhi interacts with engineering students in Bhopal - Congress party general secretary Rahul Gandhi interact... http://ow.ly/16mIVp\\\\n'\",\n",
              " \"b'Seven of family found dead in Haryana village - Seven members of a family were Tuesday found dead in their house in... http://ow.ly/15P5eF\\\\n'\",\n",
              " \"b'Orissa seeks more aid for backward region - Orissa Wednesday asked the central government to extend the long-term a... http://ow.ly/15LDkf\\\\n'\",\n",
              " 'b\"Orissa\\'s first community radio station goes on air - Orissa\\'s first community radio station has gone on air in Kona... http://ow.ly/16zjLZ\\\\n\"',\n",
              " \"b'Most sick newborns have kidney problem: Study (March 11 is World Kidney Day) http://ow.ly/16M0R1\\\\n'\",\n",
              " \"b'India, Canada to talk nuclear deal, FTA Tuesday - Canada Monday called for stronger economic ties with India and ho... http://ow.ly/1623zO\\\\n'\",\n",
              " 'b\"Abducted policeman\\'s family meets Buddhadeb - The family of an abducted West Bengal police officer met Chief Minist... http://ow.ly/15WfgR\\\\n\"',\n",
              " \"b'Apex court says stop cremation, but Asthana cremated Sunday (Second Lead) http://ow.ly/15VTdZ\\\\n'\",\n",
              " \"b'Work hard to develop India, Dalai Lama tells people - Tibetan spiritual leader the Dalai Lama Monday called for the... http://ow.ly/16jlvR\\\\n'\",\n",
              " \"b'Fill up glaring police vacancies, Chidambaram tells states (Lead) http://ow.ly/15Lk6C\\\\n'\",\n",
              " \"b'Jaitley, Swaraj meet Bhagwat and Advani - With senior Bharatiya Janata Party (BJP) leader L.K. Advani in the eye of... http://ow.ly/15MQvg\\\\n'\",\n",
              " \"b'100,000 Dawoodi Bohras in Mumbai for discourses by Syedna (With image) http://ow.ly/16cc0c\\\\n'\",\n",
              " \"b'Cold wave continues in parts of Orissa - Cold wave conditions continued in parts of Orissa Monday with minimum temp... http://ow.ly/16goQl\\\\n'\",\n",
              " \"b'Nine convicted for murder of former Bihar minister - A civil court here found nine people, including former MP Sura... http://ow.ly/15KIoE\\\\n'\",\n",
              " \"b'Villagers lynch leopard in West Bengal - Angry villagers stoned a leopard to death Monday in Jalpaiguri district in... http://ow.ly/16jzyd\\\\n'\",\n",
              " 'b\"Tribal leader Chhattradhar Mahato\\'s police custody extended - Tribal leader Chhattradhar Mahato, who was arrested l... http://ow.ly/15Si14\\\\n\"',\n",
              " \"b'Punjabi comedian injured in clash over petty toll ticket - Well-known Punjabi comedian Bhagwant Mann, famous for hi... http://ow.ly/15UQ29\\\\n'\",\n",
              " \"b'Earthquake rocks Assam, other states - A high magnitude earthquake rocked Assam and other states of northeast India... http://ow.ly/15Q5FM\\\\n'\",\n",
              " 'b\\'Stripped wide open by wife -Om Puri - \"I am proud and happy to have been stripped in public by my wife...\" Om Puri,... http://ow.ly/165JbC\\\\n\\'',\n",
              " \"b'Lok Sabha adjourned for fourth time (Lead) - Janata Dal-United (JD-U) MPs, led by Sharad Yadav, joined the Samajwad... http://ow.ly/16KfJw\\\\n'\",\n",
              " 'b\"Five deaths take India\\'s swine flu toll to 262 (Roundup) - Five swine flu deaths, including three in Karnataka, wer... http://ow.ly/15QnE5\\\\n\"',\n",
              " \"b'Poverty declined after reforms in India: PM (Lead) - The economic reforms have helped in reducing poverty in India,... http://ow.ly/16dNfl\\\\n'\",\n",
              " \"b'New Year?s New Kannada Releases - The New Year has opened with a big bang, given the number of films lined up for r... http://ow.ly/16fJ10\\\\n'\",\n",
              " \"b'Bodies of YSR, four others being brought to Hyderabad (Lead) http://ow.ly/15NA8q\\\\n'\",\n",
              " \"b'Santhali literature is booming, but needs government help - Contemporary Santhali literature has taken off in a big... http://ow.ly/162LBm\\\\n'\",\n",
              " 'b\"?Traffic Jam? to be directed by Singitam - Konda Krishnamraju is planning a film \\'Traffic Jam\\' under the banner of ... http://ow.ly/1605d7\\\\n\"',\n",
              " \"b'Murder case against cops for fake encounter - A murder case has been registered against six policemen in Sultanpur ... http://ow.ly/15K9Km\\\\n'\",\n",
              " \"b'Mayawati government creating hurdles in Amethi development: Rahul http://ow.ly/15LiQH\\\\n'\",\n",
              " \"b'Witch doctors called to treat students who fainted students - Superstition-driven residents of a village in Chhatti... http://ow.ly/168UwB\\\\n'\",\n",
              " 'b\"Chiranjeevi rubbishes talk of PRP\\'s merger with Congress (Lead) http://ow.ly/15LJR1\\\\n\"',\n",
              " \"b'Arshad is Mad About Shoes! - Arshad is crazy about branded shoes. Recently, Arshad bought a pair of HUGO BOSS shoe,... http://ow.ly/15K9H3\\\\n'\",\n",
              " \"b'Street vendor kills woman for talking to other men - A street vendor allegedly killed a housewife, with whom he had... http://ow.ly/1610z6\\\\n'\",\n",
              " 'b\"PM confident of women\\'s quota bill passage (Lead) - Prime Minister Manmohan Singh Saturday stressed his government\\'... http://ow.ly/16JsNU\\\\n\"',\n",
              " 'b\"UPA and BSP cheer, by-elections crush SP, Left (Roundup) - India\\'s ruling Congress and its ally Trinamool Congress ... http://ow.ly/160IFG\\\\n\"',\n",
              " 'b\"Lok Sabha passes workmen\\'s compensation bill - Less than 75 MPs were present in the Lok Sabha when the house passed... http://ow.ly/164gz9\\\\n\"',\n",
              " 'b\"Delhi Metro\\'s six lines get rainbow colour codes - Delhi Metro is set to get a splash of rainbow colours on its net... http://ow.ly/15RN0A\\\\n\"',\n",
              " 'b\"Bangaloreans unite to help Karnataka\\'s flood victims - At a time when north Karnataka has witnessed large-scale los... http://ow.ly/15SWdN\\\\n\"',\n",
              " 'b\"Businessman\\'s house burgled of cash, jewellery worth Rs.8 mn http://ow.ly/15R3nx\\\\n\"',\n",
              " \"b'Action plan to check dengue in Delhi ahead of CWG - The Municipal Corporation of Delhi (MCD) Wednesday initiated a ... http://ow.ly/16HXv7\\\\n'\",\n",
              " \"b'Zayad khan Gifts Kylie a Sari - Zayed Khan and Kylie Minogue have made it a point to keep in touch even after compl... http://ow.ly/15POao\\\\n'\",\n",
              " \"b'Over 3,200 poultry culled in bird flu-hit Murshidabad district http://ow.ly/16mdQ5\\\\n'\",\n",
              " \"b'Trying Times for Sanju Baba?s Ex-Friend Sanjay Gupta! - Sanjay Gupta is facing troubled times. The director is goin... http://ow.ly/15O27i\\\\n'\",\n",
              " \"b'Chennai sea affected by oil leak - A thin film of oil around five nautical miles along the coast and two nautical m... http://ow.ly/16fNKC\\\\n'\",\n",
              " 'b\"New book reveals India\\'s \\'hidden hand\\' in Sri Lanka war (Repeating story for all needing) http://ow.ly/15M5nu\\\\n\"',\n",
              " 'b\"Himachal\\'s annual plan fixed at Rs.3,000 crore - The annual plan of Himachal Pradesh has been fixed at Rs.3,000 cro... http://ow.ly/16KiF9\\\\n\"',\n",
              " 'b\"Maoists torch road construction firm\\'s machines - Suspected Maoists torched several machines of a road construction... http://ow.ly/16vQ4w\\\\n\"',\n",
              " \"b'Dikshit seeks central help to cut Bawana power plant delay - Worried over the impending delay in commissioning the ... http://ow.ly/15MviN\\\\n'\",\n",
              " 'b\"Nimhans wants Jyoti Basu\\'s \\'agile\\' brain - The National Institute of Mental Health and Neurosciences(Nimhans), Bang... http://ow.ly/16nvcs\\\\n\"',\n",
              " 'b\"University politics: Jammu to shut down Monday - A students\\' organisation Saturday called a complete shutdown here ... http://ow.ly/15Kjno\\\\n\"',\n",
              " \"b'Dutiful Student- Nagashekhar - Director Nagashekhar is busy looking for little details on the life of his guru, Lat... http://ow.ly/15S1Re\\\\n'\",\n",
              " \"b'India prepares for I-Day under shadow of terror and drought - India braced itself to celebrate its 63nd Independenc... http://ow.ly/15KZQe\\\\n'\",\n",
              " \"b'Chhattisgarh official found to own assets worth billions - Raids carried out by the Income Tax (IT) department Thur... http://ow.ly/16uYlQ\\\\n'\",\n",
              " 'b\"Mismatch between education system, job requirements: Study - What is being taught in schools and colleges doesn\\'t m... http://ow.ly/15Lc0v\\\\n\"',\n",
              " \"b'Cold wave continues in Orissa - The cold wave continued to grip some parts of Orissa Friday with the minimum temper... http://ow.ly/16iflZ\\\\n'\",\n",
              " 'b\\'@ThunderingBlurb I\\\\\\'m tellin\\\\\\' ya\\\\\\'. In Foxboro, somebody\\\\\\'s saying, \"Hmmm, we did it w/Dillon, why not LJ?\"\\\\n\\'',\n",
              " 'b\"@FDC_MikeClay Didn\\'t we spend 1000 tweets on what my point was regarding how nice the Philly fans are?\\\\n\"',\n",
              " 'b\"@QBKILLA @OGOchocinco Is this how FSU lineman block? No wonder they want Bobby outta there if so. C\\'MON SON! http://bit.ly/4waWU3\\\\n\"',\n",
              " 'b\\'@katyperry In the words of Brian Griffin:  \"Yes, yes it does make you a horrible person\" for that ;)\\\\n\\'',\n",
              " \"b'@mikefabianonfl Your Yanks better not screw this up, Mike.\\\\n'\",\n",
              " 'b\"@SarahSpain Make sure to ask Selig how parity\\'s doing w/basically no small market teams making the playoffs this year AGAIN.\\\\n\"',\n",
              " 'b\"Think U can escape Obama w/the NFL? Remember DSmith Prez of NFLPA is Obama\\'s boy + CBA negoations are going nowhere. http://bit.ly/y7OGd\\\\n\"',\n",
              " \"b'STILL one of my favorite commercials EVER. http://bit.ly/16AR43\\\\n'\",\n",
              " 'b\"@Michellelay69 Ever seen a sex toy combined w/booze like this? I guess the theory\\'s sound.  http://bit.ly/2q6Rcm\\\\n\"',\n",
              " 'b\"...for Valentine\\'s Day. And, to clarify, the collage would of actual, attractive ppl, not me. (I\\'m not THAT dumb)\\\\n\"',\n",
              " 'b\"@Marcusfitz1 Don\\'t know if I\\'d say cute, but she doesn\\'t look like a witch. Average perhaps?\\\\n\"',\n",
              " \"b'@BrewCrewBabe I would comment but I still wear white socks w/black shoes ;)\\\\n'\",\n",
              " \"b'@JessicaBurciaga Probably not as much as they like waking up next to you.\\\\n'\",\n",
              " 'b\"@ochoNFLcinco85 Hey Chad, Yahoo\\'s debating who\\'s more primed to bounce back between U + Braylon. They picked U because of Carson.\\\\n\"',\n",
              " \"b'And in other ratings news, Fox continues record-setting in January. http://bit.ly/aRxmFG\\\\n'\",\n",
              " \"b'MORE liberal political footballs out of tragedy in Haiti: Olbermann uses it 2 push 4 Obamacare passage. NICE Keith. http://ow.ly/16kQmT\\\\n'\",\n",
              " 'b\\'Hilarious govt fail: Homeland Sec says she was \"not scheduled\" 2B @ hearing regarding the Christmas Day bomber. http://ow.ly/16yjbG\\\\n\\'',\n",
              " 'b\"@vickyvette I don\\'t know where believing in a God\\'s existence and believing in great sex parted ways but it\\'s moronic they did at all.\\\\n\"',\n",
              " 'b\"@Adam_Schefter TO 2 Balt/SF?  Haven\\'t they played that game B4 + ripped up their house like the kids on that game renting commercial after?\\\\n\"',\n",
              " \"b'@taylorswift13 Fist pumps and cupcakes? Sounds like 1st grade holiday party instead of recording session to me ;)\\\\n'\",\n",
              " 'b\"Ever wonder what life was like BEFORE Craig\\'s List? This is pretty close. http://bit.ly/1AWi\\\\n\"',\n",
              " 'b\"I\\'m out for now, peeps.  Check out the big show premieres tonight of Dollhouse and Smallville.  I know I WILL.\\\\n\"',\n",
              " 'b\"@missdamena Then you\\'re not doing it hard enough! (cracks whip)\\\\n\"',\n",
              " \"b'@JessicaBurciaga I call shenanigans! You missed the most imp part in your hair, girl! And, why are your bed sheets lonely and cold again?\\\\n'\",\n",
              " 'b\"@OGOchocinco Don\\'t play Call of Duty 2 for too long or you could end up like this kid. http://bit.ly/3KDGcK\\\\n\"',\n",
              " 'b\\'Disgraced Govnr of IL Rod Blagojevich tries 2 lengthen his 15min of fame by claiming \"I\\\\\\'m blacker than Obama?\" http://bit.ly/4sXdi3\\\\n\\'',\n",
              " 'b\"So, my wife\\'s OBGYN can\\'t legally do a C-section earlier than Nov. 3rd due 2 lawsuit fears. And tort reform is NOT a big prob in HC costs?\\\\n\"',\n",
              " \"b'@OGOchoCinco Great game (and catch) yesterday, Chad.  Kick them Brownies in the butt!\\\\n'\",\n",
              " \"b'@htphelps http://twitpic.com/11jpvp - Man, I miss that.\\\\n'\",\n",
              " 'b\"More eco-prostitute discounts for the Copenhagen Summit. Why would even a PAID ho\\' wanna sleep w/a hippie? http://bit.ly/5of3fD\\\\n\"',\n",
              " 'b\\'This flick \"Frozen\" looks predictable and far-fetched but not bad. http://bit.ly/7bKpjn\\\\n\\'',\n",
              " \"b'@AndreaTantaros I just wanna know how they DARED to leave you out of the Great American Conservative Women Calendar 2010. Travesty!\\\\n'\",\n",
              " 'b\"@FDC_MikeClay I\\'m saying a MAJORITY of Philly fans have 2 high expectations, no patience, + thus, don\\'t deserve, champs. Not ALL of \\'em.\\\\n\"',\n",
              " \"b'@DENISE_RICHARDS http://twitpic.com/c33wl - Two funny, beautiful women. What could be better?\\\\n'\",\n",
              " 'b\\'More BMI ranting: how can 6\\\\\\'4\" 270lbs be considered obese anyway? I don\\\\\\'t have a six pack but I\\\\\\'m more toned than Vince Vaughn is @ least.\\\\n\\'',\n",
              " \"b'@Sarah_Michaels @ambermeade @BadGirlAnnie Am I the only one that thinks of the BGC whenever I hear @the_donnas?\\\\n'\",\n",
              " \"b'Little help? Not sure if this is awesome or too bizarre? http://bit.ly/5aB1KB\\\\n'\",\n",
              " 'b\"@kelliepickler http://twitpic.com/132tyb - He\\'s so young. Always have to remind myself ppl have grandparents younger than my parents.\\\\n\"',\n",
              " 'b\"@ChattyNatty And don\\'t concentrate on taking my stuff or you\\'ll REALLY be unhappy ;)\\\\n\"',\n",
              " \"b'@Jay_Glazer If things fall apart in Green Bay, any chance TT calls up Gruden for a Packer reunion?\\\\n'\",\n",
              " \"b'@PigsknLvngLady @thenflchick Add this 2 my belated Christmas Wish List: a Tim Tebow crying 8x10. http://bit.ly/7Prf5G\\\\n'\",\n",
              " 'b\"@JediMaster_OPS Support that fascist BCS system? No freakin\\' way.\\\\n\"',\n",
              " 'b\"What\\'s the angle in this? Obama promotes transgender nominee to commerce department. http://bit.ly/7i3GmW\\\\n\"',\n",
              " 'b\"@GBGinny Yeah, I\\'m wondering if all the fantasy fans out there that loved Cutler still think he\\'s NOT going 2 B Favre circa \\'93 this yr?\\\\n\"',\n",
              " 'b\"@jessejane Stop by and get a massage somewhere while you\\'re at it. Never had 1 but I hear they do wonders for stress.\\\\n\"',\n",
              " 'b\"GI Joe sequel? REALLY? OK, I\\'ll watch it, but I probably won\\'t like it beyond the more Sienna Miller, Rachel Nichols, + Dennis Quaid factor.\\\\n\"',\n",
              " 'b\"@BrewCrewBabe U can stop worrying about Lautner being good enuff 4 Swift b/c she decided 4 ya\\' + dumped his behind. http://bit.ly/6J5SZB\\\\n\"',\n",
              " 'b\\'@McCainBlogette Fascinating take. One thing that bugs me about is the hypocrisy of \"women\\\\\\'s\" groups like NOW that only defend liberal women.\\\\n\\'',\n",
              " 'b\"@michellemalkin Whoops, sorry, didn\\'t update my twitter history before my NY23 question and missed your own update.\\\\n\"',\n",
              " 'b\"@MikeReiss It\\'s Wednesday before Pats/Jets Part Deux and Ryan & Co haven\\'t opened their yaps YET? What have I missed?\\\\n\"',\n",
              " 'b\"@FDC_MikeClay Where would Megatron\\'s targets be if extrapolated to same number of games as the others?\\\\n\"',\n",
              " 'b\\'@jessicaburciaga http://twitpic.com/owk3k - All I can say is: \"Daaaaaaaaaaamn!\"\\\\n\\'',\n",
              " 'b\"Always thought Meredith Viera was a naughty girl. Wonder how her hubby feels \\'bout her hitting on this navy guy on TV? http://bit.ly/1p1Plu\\\\n\"',\n",
              " 'b\"@Sarah_Michaels If the show doesn\\'t work out and you or @ambermeade need a downtrodden Cabana Boy in a few months, shoot me an email.\\\\n\"',\n",
              " 'b\"Daniel Craig and Hugh Jackman are cool, but they could\\'ve been AWESOME if they\\'d told this cellphone twit off. http://bit.ly/13n3uZ\\\\n\"',\n",
              " 'b\\'@shannonelizab http://twitpic.com/q8qvm - I\\\\\\'ve got nothing other than \"Wow.\"\\\\n\\'',\n",
              " \"b'@OGOchoCinco I love you Chad, but have you SEEN Merriman lately? He looks like HE should be in MMA, not Hershel Walker.\\\\n'\",\n",
              " 'b\\'The woman that called @SarahPalinUSA a bad mother for running as VP\\\\\\'s @ it again, calling her a \"rotten Christian.\" http://ow.ly/1638bm\\\\n\\'',\n",
              " 'b\"@SarahSpain NEVER! This is the Pack/Bears Sarah. Sweeping the Bears means we\\'ve had a great season just like losing 2 Vikes saddens it.\\\\n\"',\n",
              " 'b\"@jessejane Damn. You\\'ve been EVERYWHERE lately. Make sure you find some alone time to keep the stress away.\\\\n\"',\n",
              " 'b\"@jaketapper Audacity of Hops, that\\'s SO great, Jake, ha!\\\\n\"',\n",
              " 'b\\'@Greg_A_Bedard I wanna know if the \"Superman\" Peyton talk\\\\\\'s now going to change to \"he\\\\\\'s only really won ONE big game....\"\\\\n\\'',\n",
              " 'b\"So, now that I\\'ve dried up the tears over Favre\\'s return to the enemy, I can now move on w/life and wait for the Pack to knock him out.\\\\n\"',\n",
              " 'b\"Canada\\'s unions + province head of HC want U 2 know their HC is just okee-day w/NO criticisms? Just a LITTLE slanted? http://bit.ly/niVXO\\\\n\"',\n",
              " 'b\"@McCainBlogette Don\\'t they already do this once/year in Sturgis? Road Warrior Weekend in LA. http://bit.ly/7wjeKV\\\\n\"',\n",
              " 'b\"@JessicaBurciaga You couldn\\'t do gross if you were tied down and forced too, Jess ;)\\\\n\"',\n",
              " 'b\"@shannonelizab http://twitpic.com/o9woh - I\\'m getting clausterphobic just looking at that.\\\\n\"',\n",
              " \"b'All guys are like this puppy. Lure a chick into your place for some quick action. http://bit.ly/dxRJho\\\\n'\",\n",
              " 'b\"As long as you don\\'t go all Twilight wolf on us, I\\'ll agree. http://tweetphoto.com/5660364\\\\n\"',\n",
              " 'b\"@Sarah_Michaels @ambermeade @BadGirlAnnie It\\'s a secret plan for a Bad Girls All Stars show to debut in June, I think ;)\\\\n\"',\n",
              " \"b'Massachusetts: a study in failed natl health care. http://bit.ly/2qEMf\\\\n'\",\n",
              " 'b\\'Why the \"we need more $\" argument fails: states are increasing spending whether economy\\\\\\'s good OR bad. http://bit.ly/5Vtbi4\\\\n\\'',\n",
              " 'b\"@CommishChick How\\'s this one:  Hey Clemson!  The Browns called and they want their jerseys back NOW!\\\\n\"',\n",
              " 'b\"@officialTila What to send ya\\'? All my support\\'s too lengthy of an email, isn\\'t it?\\\\n\"',\n",
              " 'b\\'@AKGovSarahPalin \"Fiscal restraint.\" I think that term in Washington creates the \"Huh?\" look when mentioned in these days of bailouts.\\\\n\\'',\n",
              " 'b\\'@rebdee80 \"forbidden love is my thing:\" isn\\\\\\'t that the same thing Tiger Woods said to all of his mistresses?\\\\n\\'',\n",
              " 'b\\'This \"Major Boobage\" episode of South Park gets me every time. Who sings the cheesy song during the trippin\\\\\\' out scenes?\\\\n\\'',\n",
              " 'b\"Out for now, tweets. Gotta be daddy while the wife checks on our newest addition at the Doctor\\'s.  Watch the \\'Boys and Panthers 2nite!\\\\n\"',\n",
              " 'b\\'@meginden Dare I ask what \"throw me somethin\\\\\\' mister\" entails? Or is that all I\\\\\\'d have to ask to get them?\\\\n\\'',\n",
              " 'b\\'@Bethenny Have you checked out the \"Stork Parking\" at Babys \\\\\\'R Us? My wife\\\\\\'s actually mad she doesn\\\\\\'t get it anymore now she\\\\\\'s no preggo.\\\\n\\'',\n",
              " 'b\"NYC schools continue to fail our kids per NYT/state report. I\\'m sure all they need is more taxpayer dollars, right? http://bit.ly/3whMHs\\\\n\"',\n",
              " 'b\"@bethenny http://twitpic.com/lqkly - Hope you got a parachute when she wakes up and finds out what you\\'ve been doing.\\\\n\"',\n",
              " 'b\"@AlinskyDefeater I like to keep touch w/other conservatives too but I\\'m afraid they\\'ll get lost in my sports/news tweets I follow.\\\\n\"',\n",
              " 'b\"Great analysis of neocons from @CatoInstitute\\'s founder. Nice to see I\\'m more libertarian than neocon, never knew. http://bit.ly/1NLwAs\\\\n\"',\n",
              " 'b\"@MoveTheSticks Are Chris Weinke or, gulp, Vinny Testaverde still around somewhere to save the day? I can\\'t believe Delhomme\\'s done, tho.\\\\n\"',\n",
              " 'b\"Looking 2 add a few more teams 2 my 3 player fantasy football keeper league. Got 7 teams so far, max 12, and league\\'s free this year. IM me.\\\\n\"',\n",
              " 'b\"@2009cansuckit Goes for women too? (shudders at the thought) Did you SEE Star Jones\\'s legs at that awards show recently?\\\\n\"',\n",
              " 'b\"@therealpickler http://twitpic.com/bzk0b - Beautiful as always, darlin\\'.\\\\n\"',\n",
              " \"b'@kelliepickler Every time @kelliepickler tweets now, I get so distracted by that amazingly curvy profile pic. Focus, focus.\\\\n'\",\n",
              " 'b\"@JessicaBurciaga That\\'d be pointless. All the other women\\'d be PO\\'d no one looks at them if you\\'re out and about.\\\\n\"',\n",
              " 'b\"Obama winning the NPP 4 nothing shows what I\\'ve suspected 4 a long time in USA: there aren\\'t enough Louden Swain\\'s left. http://bit.ly/wUSc8\\\\n\"',\n",
              " 'b\"@secupp Uh, has he noticed the guy currently in office that\\'s been on every TV show nonstop for the last year or so?\\\\n\"',\n",
              " 'b\"@katiemae1979 On Obama\\'s Richie Cunningham Prez: it\\'s fitting since Ron Howard helped push his campaign isn\\'t it?  http://bit.ly/2IEjLa\\\\n\"',\n",
              " 'b\"@jessejane Sex toys are cool and all, but doesn\\'t this look a TAD scary for a woman to use? http://bit.ly/7XLyD\\\\n\"',\n",
              " 'b\"@Corky1961 Yeah, well, if he doesn\\'t wise up, the tea partiers are going to be carrying torches, not signs soon.\\\\n\"',\n",
              " 'b\"Anybody wanna spam Media Matters? They\\'re calling 4 Rupert Murdoch\\'s apology 4 agreeing w/@glennbeck on O\\'s racism. http://bit.ly/clCfg\\\\n\"',\n",
              " 'b\"@Sarah_Michaels It\\'s VERY fair. Wish I got that much help from the plethora of women I\\'ve helped w/schools, moves, etc. over the years.\\\\n\"',\n",
              " 'b\"Detroit, MI schools: yet another area where Dem policies and unions have destroyed kids\\' futures. http://bit.ly/V0lQt\\\\n\"',\n",
              " 'b\"The stupidity of Obama kool-aid drinkers on this health care stuff is REALLY pissin\\' me off.\\\\n\"',\n",
              " \"b'All men want in life is a woman who will happily serve them a turbaconducken for Thanksgiving before they die eating it. http://bit.ly/2bCP\\\\n'\",\n",
              " 'b\"@tamiro18 I\\'m sure they\\'d make one! (You need a closer Tully\\'s!)\\\\n\"',\n",
              " \"b'Amtrak Cacades discount! 25% off PDX-VAN and SEA-VAN thru 1/31/10 (Purch by 12/31). Some blackouts / as low as $27/ow: http://bit.ly/26W1R3\\\\n'\",\n",
              " 'b\"@drew_tucker Have you tried CLOVER yet? I was a skeptic ... it\\'s incredible! (and brewed one-cup-at-a-time) #Starbucks #Seattle\\\\n\"',\n",
              " \"b'@roseannwang There are several Specialties in Seattle - yummy stuff! 4th & Union downtown\\\\n'\",\n",
              " \"b'@seedmoon Sounds amazing! (particularly the goat-cheese baked chicken) Nice!\\\\n'\",\n",
              " 'b\"@Trish1981Can\\'t wait to hear more from you - @DingBatKaren @GabbyCat know who to follow! (No pressure ... right?!) Bring it on!\\\\n\"',\n",
              " 'b\"@tabletlawyer I love the Klondike Goldrush Museum! Fascinating tie-ins to Seattle (amazing how we really wouldn\\'t be this city w/out it!)\\\\n\"',\n",
              " \"b'@hotel_max @brianshead Great idea from @Annssister (not my sister, btw - but totally cool!) Enlist the help of PornBots! Plenty in #seattle\\\\n'\",\n",
              " \"b'@kevinspacey How do you feel about Batter Blaster? You know - pancakes-in-a-can? Encouraged to attend a Tweetup in Seattle with them?\\\\n'\",\n",
              " 'b\"@stevebellnow This is true! (And we\\'re home of the No. Pacific Fishing Fleet!) Etta\\'s in Pike Pl Mkt, Brooklyn at 2nd & University ...\\\\n\"',\n",
              " 'b\"@SeattleTallPopp And then there\\'s always rhubarb crisp - I\\'ve an awesome recipe from a friend in my hometown (Leavenworth) - DELICIOUS!\\\\n\"',\n",
              " 'b\"@gabbycat It\\'s raining? (I\\'m somewhat afraid to look out in the dark gloomy beyond to check weather this morning)\\\\n\"',\n",
              " 'b\"Keep up on this morning\\'s happenings with the Dreamliner - watch #787FT (and of course follow @FlightBlogger!) Big happenings!\\\\n\"',\n",
              " 'b\"@jnoche How IS Rusty Pelican? Haven\\'t been there in a long time\\\\n\"',\n",
              " 'b\"@JadeEJF That was SO awesome!! I\\'m so glad you dropped by - good sunshine karma! :o)\\\\n\"',\n",
              " 'b\"@megrooney That\\'s an excellent rafting attitude - I love it! :o) (Maybe next time, huh?)\\\\n\"',\n",
              " \"b'@NotoriousMUG - of course THANKS for the #FF love to you! :o)\\\\n'\",\n",
              " \"b'FREE! Halloween Fashion Show in Fremont 3-6pm today. Fun trends for humans & pets with a special dose of ELVIRA! http://bit.ly/FreBoo\\\\n'\",\n",
              " 'b\"I bring you (again) the Leavenworth Echo Sheriff\\'s Blotter (honorable mention: Do-it-yourself speedbumps) ~ http://bit.ly/O4ErD #bizarroland\\\\n\"',\n",
              " 'b\"Follow @ACTtheatre on Facebook & enter to win tickets to Runt of the Litter!  http://bit.ly/vPUpx Starts tonight (can\\'t wait to see Tues!)\\\\n\"',\n",
              " \"b'@noblebeast Act Hotel is very minimalist - great prices, too. Lots of deals on SEA hotels - check out @Hotel_Max and @HotelAndra, too!\\\\n'\",\n",
              " 'b\"@KING5Seattle If I were to have a Bed Bug SUmmit at my hotel, I don\\'t think I\\'d be calling it a BED BUG SUMMIT - know what I mean!?\\\\n\"',\n",
              " \"b'@mwfroh All of the above! (Do, eat, see ...) When are you visiting? (Or are you here already?)\\\\n'\",\n",
              " \"b'@GrowForTheCure Ten-4! :}\\\\n'\",\n",
              " \"b'@luckylou Makes me glad every day I live in the NW! :o)\\\\n'\",\n",
              " 'b\"Heading out on the UnderWorld Tour in Pioneer Square tonight - (not to be confused with Underground Tour) . It\\'s seedier & more dubocherous!\\\\n\"',\n",
              " 'b\"@BobLichtenhan Undoubtedly the boy\\'ll be asking for car keys next week. Congrats on another fun step in parenthood!\\\\n\"',\n",
              " \"b'@RedFinJapanese Happy New Year right back at ya @RedFinJapanese!! I resolve to eat more sushi this year! :o)\\\\n'\",\n",
              " 'b\"@JeromeShaw I\\'m proud of the outdoorsman my bro\\'s become - started VERY young and still shows up kids half his age (he\\'s in his 50s!)\\\\n\"',\n",
              " \"b'@BetsC Agreed -- it appears less about communication and more about one-upsmanship #NotFavoritesOfMine\\\\n'\",\n",
              " \"b'Multiple scratches & creepy-crawlies in my hair yielded +/- 1 gal of blackberries. I see a slump in my future! #summer #seattle #berrygods\\\\n'\",\n",
              " 'b\"@Hotel_Max SUNSHINE? How\\'d I miss that? Has it already come/gone?\\\\n\"',\n",
              " 'b\"@brianshead First Hulk Hogan ... now Little People/BigWorld? \\'Stashes on them, too? #WhatNotToWatch ;o)\\\\n\"',\n",
              " \"b'@knitpurl Ask if you can sit up in the cockpit and the co-pilot can do it for you! :o)\\\\n'\",\n",
              " \"b'@bitterbiscuit Excellent! Great deals at seattleattractions.com and (worth every penny) seattletoursaver.com Need any help, let me know!\\\\n'\",\n",
              " 'b\"@Skookum86 That\\'s a beautiful thing! And did I already mention: Happy Anniversary! :o)\\\\n\"',\n",
              " 'b\\'@BBL_Angela Makes TOTAL sense! (\"OMG - did I leave *that* out!\") Been there / scrambled for that! ;o)\\\\n\\'',\n",
              " 'b\"The best part of 5am outdoor puppytime in the Northwest? The distant \\'Whooooo\\' from closeby owl! :o) #NorthwestLiving\\\\n\"',\n",
              " \"b'@JeffreyJKingman Lamb shank recipe swap? (Tho I offer no LS recipe in exchange, I can regale you w/ stories of culinary happiness afterward)\\\\n'\",\n",
              " 'b\"@voraciousgirl ...yearn for Pike Place Market. Maybe it\\'s my need for more olive oil and clams, but something about it never gets old.\\\\n\"',\n",
              " \"b'@angie_seattle Thanks :o) And enjoy your Christmas!\\\\n'\",\n",
              " \"b'@daviddogtrainer No dog with an iota of self esteem would be wearing one of those #ThisCouldBeWhySomeDogsAreAggressive! ;o)\\\\n'\",\n",
              " 'b\".@SeastarRawBar Can\\'t wait for our awesome lunch next Tuesday w/ your followers/my winners! I should have a countdown flip-chart here! ;o)\\\\n\"',\n",
              " \"b'@BradleyScottInc Music? Theatre? Music/Cirque/Theatre? What do you enjoy most? Adventure? Something off-the-beaten-path?\\\\n'\",\n",
              " 'b\\'@brianshead \"Scary Teri?!!\" (Fave crackhead hang out)\\\\n\\'',\n",
              " 'b\"OMG @ARTrestaurant your Counter Uncorked menu looks other-worldly! Can\\'t wait \\'til tomorrow #ARTCU\\\\n\"',\n",
              " \"b'@brianshead Broken scattered clouds and blue skies here! Shorts day! :)\\\\n'\",\n",
              " 'b\"Software to nudge your Hotel/Visitor Center to the next level? I\\'ve got it:  http://bit.ly/6pHuWn #CVB #DMO #DMAI\\\\n\"',\n",
              " 'b\"@brianshead I\\'d it be by first name and southern-most residential location (the selection of names, not the tat location)\\\\n\"',\n",
              " \"b'Cute little man just dropped in looking for a haberdashery (& of course I knew where to send him). I just think that word is AWESOME. #hats\\\\n'\",\n",
              " \"b'@brianshead Perhaps they could straddle the tailpipe?! :o) #TooBadYouCouldntGetTheSmokeAndBOCombo\\\\n'\",\n",
              " \"b'@brianshead ANOTHER big date? Is that a good sign? #ValentinesDayIsComingAndBrianNeedsAValentine\\\\n'\",\n",
              " 'b\"@Slickriptide Amazing museum - isn\\'t it?!\\\\n\"',\n",
              " \"b'Congratulations on 20 years of amazing brewing @PikeBrewing - you ARE a Seattle icon! :o) #Seattle #iconic #beer\\\\n'\",\n",
              " \"b'@MartinLang You should TOTALLY do the hike - 3 mi each way to the beach - petroglyphs there, too!\\\\n'\",\n",
              " 'b\"@silvermink Whoa! I\\'m a Sharpie queen ... I definitely need one of these. Where\\'d you find it?\\\\n\"',\n",
              " 'b\"http://twitpic.com/mwsz2 - Mmmm ... being patient finally pays off. Unfortunately, the rolls took so long that the coffee\\'s gone!\\\\n\"',\n",
              " 'b\"@Dan_Christensen Now there\\'s a thought! All we need is a North-South running stream (but that\\'ll never happen, will it?!) ;o)\\\\n\"',\n",
              " \"b'@whatcomcounty Makes me want to head up there!\\\\n'\",\n",
              " 'b\"@kenji_O Wha? Now that\\'d just make sense! #WheresTheList?\\\\n\"',\n",
              " \"b'@SunnyJupiter Fantastic Indian at Rainier Square (4th & University) - Navya Lounge. Great outdoor deck, too!\\\\n'\",\n",
              " \"b'@slaven Have anything in particular in mind? Holiday stuff? General see-the-city-enjoy-it-as-a-local-would stuff? (Glad to help!)\\\\n'\",\n",
              " 'b\"@dingbatkaren And references to \\'salacious dancing\\', too! Oh, those smarmy women! ;o)\\\\n\"',\n",
              " 'b\"@brianshead OMG! Could life get any better than that? Somehow I don\\'t think the Colonel would have approved. Is that for real?\\\\n\"',\n",
              " 'b\"ANOTHER reason to love Tully\\'s AND AAA: T @AAA_Washington: @SeattleMaven AAA members get a 10% discount at @Tullys_Coffee.\\\\n\"',\n",
              " 'b\"I forgive you THIS TIME. Let\\'s not make a habit of train stoppage. Perhaps promise of super-duper communication next time? @ST_TravelLight\\\\n\"',\n",
              " \"b'http://twitpic.com/a6tml - So glad to live in the Pacific NW! Hike today to Comet Falls could not have been better - misty and beautiful ...\\\\n'\",\n",
              " 'b\"@brianshead Now that I read the fine print \\'peanut butter\\', nevermind. BLECH!  It\\'s just a ruined chocolate shake!\\\\n\"',\n",
              " 'b\"@PlushPalate Let me know if you need a bzillion idea for what to see/do while you\\'re here! #SeattleLove\\\\n\"',\n",
              " \"b'@SheilaS I kept thinking that Round Rock sounded SOOOO familiar - I was thinking of Rock Ridge (ala Blazing Saddles fame) ;o)\\\\n'\",\n",
              " 'b\"@will8907 And I love that there\\'s so much cool stuff to do here!\\\\n\"',\n",
              " 'b\"@MichaelMachida Sounds like Steelhead Diner in the Market ... or perhaps Rover\\'s in Madison Park ... or Ponti on the Ship Canal\\\\n\"',\n",
              " 'b\"@gabbycat trying to pick out the perfect outfit for our home \\'screening\\' lol What looks best with a bulging ego?!\\\\n\"',\n",
              " \"b'Man of 10,000 voices Michael Winslow at @ParlorLive Nov 12-14 www.parlorlive.com #Bellevue #Comedy\\\\n'\",\n",
              " 'b\"Wha? It\\'s only THURSDAY?! Sorry - PAPERBOYS play tomorrow! (early bird gets it wrong)\\\\n\"',\n",
              " 'b\"@tamiro18 I feeling a little funkalicious myself. Hopefully I\\'ll snap out of it by tomorrow. Hope you do, too! :o)\\\\n\"',\n",
              " \"b'@colindchapman I love the tapas-qualities of the NW sampling dishes at Purple - almost always wins when not sure what I want for dinner out\\\\n'\",\n",
              " 'b\"Groove with Po\\' Girl atFreeway Park today - Noon-1:30pm. The sun\\'ll be shining - Indie fun!  http://bit.ly/PdJta I\\'ll be there! #seattle\\\\n\"',\n",
              " \"b'@mjgiarlo Nice to live in a city where only one restaurant truly has a dress code. We love comfort!\\\\n'\",\n",
              " \"b'@halogengallery Fun stuff - busy art walk tonight?\\\\n'\",\n",
              " \"b'@ilovebellyrubs Dog days are perfect last-day-of days!\\\\n'\",\n",
              " 'b\".@ourmollusk Raunchy ... tawdry ... it\\'s like the Underground Tour on steroids -- truly no-holds barred. Covers 99% of Urban Dictionary wds!\\\\n\"',\n",
              " 'b\"@medic_ray And we\\'re only a 4 hour drive north of Portland! #NorthwestRocks\\\\n\"',\n",
              " 'b\"Love Seattle? Let\\'s hear why! Gimme your #1 reason by 7pm & tag it with #SeattleLove for chance to randomly win $25 @iconGrill gift card!\\\\n\"',\n",
              " 'b\"@VisitKitsap Next time I\\'m thinking I want to become a hog farmer, I\\'ll use this as reference! event: tinyurl.com/l2vl4e\\\\n\"',\n",
              " 'b\"@bubbamike That\\'s the one! Makes me wish I was a hat-wearer! ;o)\\\\n\"',\n",
              " 'b\"Today\\'s exercise? Bathing 75# great dane puppy. #Exhausting #LikeWrestingAGorilla\\\\n\"',\n",
              " \"b'@Hovlast Those cheezy/pumpkin biscuits look yummy! Are there leftovers?\\\\n'\",\n",
              " \"b'@brianshead Need I mention reservations are required? (and by now you should know who can help with that!)\\\\n'\",\n",
              " \"b'Follow & watch @PacSci for #FridayFreebie today - passes to the 36th Annual Model Railroad Show! #AllAboard\\\\n'\",\n",
              " 'b\\'@NotoriousMUG Looks like someone\\\\\\'s hijacking your acct w/ \"Hey, I just took this quiz thing ... you should too\" and \"My IQ Store is high...\"\\\\n\\'',\n",
              " 'b\"@SheilaS Be sure to leave that Goliath paper in your hotel room - the airline\\'ll charge you an extra $20 to take it on board! #SafeTravels\\\\n\"',\n",
              " \"b'Washington Anglers Chime-In: Best secret weapon for eastern brook trout or impulsive, girly outdoor-store buy?  http://bit.ly/uscQ3 #flyfish\\\\n'\",\n",
              " 'b\"@425talker looks like a little popped corn on the spun-sugar piece, too. I suspect coupled w/ the subtle, sweet tarragon there\\'s a surprise!\\\\n\"',\n",
              " 'b\"@brianshead We\\'re sticking with the 3-course meal gum (you\\'ll remember  Violet Beauregard in Willy Wonka enjoyed it, too!)\\\\n\"',\n",
              " 'b\"FREE! Anyone need a 12th man pin? Get \\'em while the gettin\\'s good at our 7th & PIke Visitor Center location #Seattle #Seahawks\\\\n\"',\n",
              " \"b'Another happy Kenmore Air experience. Personally? My cheeks hurt from smiling so much!  http://bit.ly/2LfQy0 @KenmoreAir\\\\n'\",\n",
              " \"b'@JeffreyJKingman But of course, thanks for the #FF kudos :o)\\\\n'\",\n",
              " 'b\"@gabbycat I am positive that @MotleySu\\'s pup is with him - and @herbguy\\'s super-sweet kitty, too.\\\\n\"',\n",
              " 'b\"@What_Boundaries It\\'ll be fun being able to watch \\'em build them this year!\\\\n\"',\n",
              " 'b\"I\\'m subscribed to some weirdos on Youtube\\\\n\"',\n",
              " \"b'Now you got me talkin like a Queen! Most definitely ..absolutely.. Completely! Bitch!\\\\n'\",\n",
              " 'b\"@Sm0kinAcesz wth?? Uhn uhn! That\\'s nasty\\\\n\"',\n",
              " 'b\"hahah she said I\\'m sleepin on the couch tonight.\\\\n\"',\n",
              " \"b'Dreaming... - Jezzy and Keyshia.. Idk if thats the name of the song but yea.. Ok gn\\\\n'\",\n",
              " \"b'never get text flow.. only when they tryna sex flow.\\\\n'\",\n",
              " \"b'When I write papers I see so many psychological quotes I can publish. I have a great mind when it comes to psych. Phill. And soc.\\\\n'\",\n",
              " 'b\"I forgot to tell y\\'all that somebody made breakfast for me.. cool friend\\\\n\"',\n",
              " \"b'@JDJ22 I use to be a hyper ass table dancers that caused ppl to wonder and yea w/e\\\\n'\",\n",
              " 'b\\'@LOXX no you don\\\\\\'t! get an imaginary friend. & everytime he say somethin\\\\\\' talk to your friend and say stuff like \"you hear that mighty mouse\\\\n\\'',\n",
              " 'b\"@iysis_lifestyle ok ok.. well make sure you tell me when I\\'m out of line I know I can say some crazy stuff!\\\\n\"',\n",
              " \"b'I slept for 15 hrs. smh I guess I was tired.\\\\n'\",\n",
              " 'b\"Too bad it\\'s winter. Old ppl would be on the front porch knitting and listening...\\\\n\"',\n",
              " 'b\"All ppl aren\\'t as mean!\\\\n\"',\n",
              " \"b'@mia_nikole Mia you just confused the shit out of me but I understand ppl are being nosey!\\\\n'\",\n",
              " \"b'@YuNGCiTYMoE lol thats what I want! I might get grey and put limegreen on the the license plate.\\\\n'\",\n",
              " 'b\"I can\\'t even baby sit other ppl kids! this is ridiculous..\\\\n\"',\n",
              " \"b'@ThysIZHer stalker?? wow!\\\\n'\",\n",
              " 'b\"@Neek720 yap. I keep\\'em runnin back... I guess dudes don\\'t know how to handle the pussy cat! can\\'t even make it purr smh.\\\\n\"',\n",
              " 'b\\'\"Oooh they killin\\\\\\'em with them 3\\\\\\'s\" lmao she\\\\\\'s funny\\\\n\\'',\n",
              " 'b\"Great Im not a weirdo. You\\'re just a weirdho\\\\n\"',\n",
              " \"b'@PrincessOfSex  watching Jackson 5 @HippieCake ...so cool\\\\n'\",\n",
              " \"b'@ROCKAS2DEFF nothin ...they cool..\\\\n'\",\n",
              " \"b'@Liter43 lmao! she is def. HYPE! and she can get stuff crunk!\\\\n'\",\n",
              " 'b\"man Im so hungry! it\\'s breakfast time\\\\n\"',\n",
              " 'b\"Ok I\\'m about bruSh my curls out and be an afro queen! bbl with a pic... I GUESS\\\\n\"',\n",
              " 'b\"@JrKeepBitches WTF! I dont want to be a damn tranny! smh! I\\'m a girl!\\\\n\"',\n",
              " \"b'day 3 living by myself is almost perfect. All I need to do is wash the dishes.\\\\n'\",\n",
              " \"b'@JayyTwo lmao.. where can you get them???\\\\n'\",\n",
              " 'b\"@radseed smh! $2!!! wow I\\'d rather eat taco bell F word that ice cream sandwich!!\\\\n\"',\n",
              " 'b\\'#uknowuradike when all the hood niggas call you and ask \"where the hoes at?\" {lmao that\\\\\\'s everyday for me!}\\\\n\\'',\n",
              " \"b'I cant wait to get old and stay  in a retirement home\\\\n'\",\n",
              " \"b'my ass is average! smh!\\\\n'\",\n",
              " \"b'just the typical asshole.\\\\n'\",\n",
              " \"b'I dont think my head big. I just think my face is big.\\\\n'\",\n",
              " \"b'about to eat this twix smh! I need a fuckin kid!\\\\n'\",\n",
              " \"b'watchin the cookout!\\\\n'\",\n",
              " \"b'ppl shouldnt put random pics on the net .. I like to post them everywhere\\\\n'\",\n",
              " \"b'@LiteBriteDyme :( I thought you were!! wow\\\\n'\",\n",
              " 'b\\'shit I\\\\\\'m tired,, lmao I was about to say this ghetto shit to yall \"hi yall doin\" ....i hear ppl say it that way i guess it\\\\\\'s cool ...GOODAM\\\\n\\'',\n",
              " 'b\"@ComplexPoetiq all you gotta do is text me.. I\\'m the comedian!!!\\\\n\"',\n",
              " 'b\"@mzt_thefinisher I\\'ve been great! take a ride on the town..have some fun!!\\\\n\"',\n",
              " 'b\"so this girl in my yoga class ass is jiggly and fat.. And I\\'m hatin\\' on it ..\\\\n\"',\n",
              " 'b\"i\\'m bout to wear cow girl boots even though its 72 degrees outside\\\\n\"',\n",
              " \"b'@stockz32 hola... nothing much just listening to music... you?\\\\n'\",\n",
              " 'b\"@WinninSince91 I knowww! Lol I\\'m not that slow.. how have you been\\\\n\"',\n",
              " 'b\"@B3autifulDr3amR oh lol I have the boobs! but that outfit is cute and I\\'ll look flawless in it!\\\\n\"',\n",
              " 'b\"I HATE that Keyshia Cole closed her gap! OMG WHY did she do that! it was SO #fuckin SEXY! she\\'s still pretty tho..\\\\n\"',\n",
              " \"b'@TeteSoBAD hey boo... what are you doing!?\\\\n'\",\n",
              " 'b\"well I\\'m about to tweet from @basixxkcm account I know random right?\\\\n\"',\n",
              " 'b\"how many 1 night stands have y\\'all had?\\\\n\"',\n",
              " 'b\\'@kylalajoi lol right! I see ppl pics and they say \" in VIP chillin\\\\\\' \"...??? um you can chill home lol\\\\n\\'',\n",
              " 'b\"@igetzCrAzy I cant sing forreal tho workin\\' on it I can free style\\\\n\"',\n",
              " 'b\"@keisha1525 lmfao! you are mad rude! but it\\'s funny!\\\\n\"',\n",
              " \"b'@YaDreamFem_Naji smh.. it be like that sometimes. jealous\\\\n'\",\n",
              " 'b\"I\\'m goin to the doctor... or hospital bcuz my right kidney hurt or maybe my ovaries.!\\\\n\"',\n",
              " \"b'@Liter43 I wish my lazy butt would sometimes\\\\n'\",\n",
              " 'b\"baby don\\'t you know you\\'re so beautiful.. I\\'f I could sing that\\'ll be my fav song to sang\\\\n\"',\n",
              " \"b'ugh!!!!!! my head hurt! and she want me to drive! & I gotta pack! ugh!\\\\n'\",\n",
              " \"b'I need 3 bank accounts. I have 2 but 3 would be great! I need to hide money from myself!\\\\n'\",\n",
              " \"b'I left my laptop in the car bcuz shit I need to concentrate I guess.. wtf did I bring it for??\\\\n'\",\n",
              " 'b\"@KEimage ok ok I feel you... I\\'m bout to hop on @StylisticChuck like a tiger on a zebras ass..\\\\n\"',\n",
              " \"b'OMG!!!!!!!! we made it - Wyclef Jean is a great SONG!!\\\\n'\",\n",
              " \"b'@shawnj3000 aww thanks so nice! I wish you could blow dry it!! :(\\\\n'\",\n",
              " 'b\"@NygeeLIVE call a damn gynecologist for me so she can go in my pussy and fix my bladder. I\\'ll go then.\\\\n\"',\n",
              " \"b'omg the next twitpic I want you to see its too funny @HippieCake\\\\n'\",\n",
              " 'b\"@Tanae21 yup... smh... it\\'s nothing major she say.. but It\\'s major to me! lol she said we talked about everything in the class but ...idk\\\\n\"',\n",
              " \"b'@JDJ22 you never seen the movie cars... well I remixed the song lol\\\\n'\",\n",
              " \"b'@Pr3tiiStuDDiggZ hahhah well I guess so... I hope not..\\\\n'\",\n",
              " \"b'@nicweezy oh wow you just now hittin 1k!! I need to stop tweetin! I do 600 tweets a week\\\\n'\",\n",
              " 'b\"she\\'s the best Teacher ever her body bend in so many positions you\\'d think she\\'s rubber\\\\n\"',\n",
              " 'b\"I\\'m hurt my bitch ass mama if she give my number to another dude!!!!!!!!! FORREAL!  ugh! I dont do that!\\\\n\"',\n",
              " \"b'@Liter43 ok you win! Crazy ass bombo\\\\n'\",\n",
              " 'b\"my mom think I\\'m crazy bcuz I drove to the mall just for chinese food! :/  I want what I want Becky!\\\\n\"',\n",
              " \"b'@ToiEdition lmao! stop talking about my lover!\\\\n'\",\n",
              " \"b'Ahhh this feel great :)\\\\n'\",\n",
              " \"b'make them.. cocky.. and conceited ..with no confidence to back it up.\\\\n'\",\n",
              " \"b'@aBstracKt_  & that tweet was to you! I had to use all 140\\\\n'\",\n",
              " \"b'@NuGgAxDoPe how is it a shame..? Flint aint good for shit but murderin niggas ...smfh\\\\n'\",\n",
              " \"b'never mind... this hoe dont know how to satisfy me!!!\\\\n'\",\n",
              " \"b'@IAMschizO oh that suck :/\\\\n'\",\n",
              " \"b'@miamuhfnharris what you mean? you texted me?\\\\n'\",\n",
              " 'b\"@ImJerrica YTF do you tweet me with questions like that!? smh it\\'s this thing called text!\\\\n\"',\n",
              " 'b\"take pictures with you loved ones.. especially if he\\'s a thug one... they\\'re the quickest to die out. life is never promised to a hustler\\\\n\"',\n",
              " \"b'maybe I should get my tongue pierced..\\\\n'\",\n",
              " \"b'F that.. I rather dwell in the past than star over\\\\n'\",\n",
              " 'b\"well.. since today was my last day of school I\\'ll listen to the radio to figure it out\\\\n\"',\n",
              " 'b\"apples are so f\\'n gooddd!!\\\\n\"',\n",
              " \"b'@NygeeLIVE country is suicidal\\\\n'\",\n",
              " \"b'OMFG! IM GETTIN MY # CHANGED! LEAVE ME THE FUCK ALONE!!! pressin charges\\\\n'\",\n",
              " \"b'@NygeeLIVE what you talkin about?\\\\n'\",\n",
              " 'b\"@Liter43 its snowing from hell right now! can we say 8 inches?? it\\'s snowing penis\\'\\\\n\"',\n",
              " \"b'@adanielle06 oh.. well I might get a Shark! umm where to get it from?\\\\n'\",\n",
              " \"b'Whitney Houston - I have nothing ...haaah throw back\\\\n'\",\n",
              " \"b'i feel a positive vibe from you mufuckas today.. keep it up\\\\n'\",\n",
              " \"b'@NewEra1984 thats what I like to hear! :)\\\\n'\",\n",
              " \"b'I starting to stay up too late. I cant have that\\\\n'\",\n",
              " \"b'I hope they cancel class for everyone else\\\\n'\",\n",
              " \"b'Only tall ppl look cool with big boobs\\\\n'\",\n",
              " \"b'then go to Palms and sit by the pool on Ditch Work Fridays.\\\\n'\",\n",
              " \"b'To the lady with free punching bag (Any): Hi  To the lady with the punching bag. Your contact information is undeli... http://bit.ly/5FRzsG\\\\n'\",\n",
              " \"b'free lateral file cabinet: the email does not work and I would like to gett it thanks http://bit.ly/6bMXxa http://bit.ly/6KPOg2\\\\n'\",\n",
              " \"b'Give out some Free toothbrush: I got a bunch of extra toothbrushes at home which I never touch because I use el.. http://bit.ly/3XT9vW\\\\n'\",\n",
              " 'b\"Wood Pallets (45 & West Road): 4 ft x 10 ft wood pallets they have 10 ft long 4x4\\'s on them and 4 ft 1x6\\'s... http://bit.ly/zptAY\\\\n\"',\n",
              " \"b'Free Clothes and purses (cleveland): Free clothes little girls, women, and men plus some purses and shoes....must t... http://bit.ly/5Aqgie\\\\n'\",\n",
              " \"b'curb alert-chest FREEZER-works! (Steeplechase 77065): On the curb at 10414 Jockey Club Drive Houston, Tx. 77065 (en... http://bit.ly/7VSIAz\\\\n'\",\n",
              " \"b'male pit $30 re-homing fee 832-435-6554 (aldine): 14 mo. old male rednose http://bit.ly/8Eaj2t http://bit.ly/6KPOg2\\\\n'\",\n",
              " \"b'** FREE 1hr Fitness Training FREE ** (Northwest/Cy-fair/Katy): I am a 38 year old Fitness Trai... http://bit.ly/7uULO9 http://bit.ly/6KPOg2\\\\n'\",\n",
              " \"b'Camper shell Ford Short Bed (Houston):  I have a ford camper shell that i removed from my ford... http://bit.ly/cYECEV http://bit.ly/6KPOg2\\\\n'\",\n",
              " \"b'Free King matress, frame, box springs (Spring): Free to anyone who can come pick up today, I can not help, stuf.. http://bit.ly/4yXuGt\\\\n'\",\n",
              " \"b'Free Bricks, Bed Frame, TV (Cypress): Pick up today please!   About 300 red tone bricks left over from when our .. http://bit.ly/qy3ps\\\\n'\",\n",
              " \"b'CURB ALERT!! (LEAGUE CITY): BRITTANY BAY SUB.  CASTLE DR. OFF OF HOBBS/LEAGUE CITY PARKWAY.   THERE IS AN ANTIQUE S... http://bit.ly/8peylI\\\\n'\",\n",
              " \"b'FREE RODEO TICKETS POSTING # 1600946873 IS A MISTAKE (HOUSTON): THIS POSTING WAS ONCE AGAIN A ... http://bit.ly/cO7ndA http://bit.ly/6KPOg2\\\\n'\",\n",
              " \"b'free basket ball goal (Lake Jackson): come and get it 979 297 9982 http://bit.ly/CWKzw\\\\n'\",\n",
              " 'b\\'FREE 60\" MITSUBISHI TV (The Woodlands, TX): We have a free 60\" Mitsubishi projection television and a free Mits.. http://bit.ly/4Jcix4\\\\n\\'',\n",
              " \"b'sofa (Sugar Land): I am moving and have a sleeper sofa to give away. It is in good condition. It was not around.. http://bit.ly/1699u8\\\\n'\",\n",
              " \"b'unwanted furniture , misc. items: will pick up unwanted furniture and misc. items emial mutantjoe48@yahoo.com http://bit.ly/FtBXG\\\\n'\",\n",
              " \"b'Some great free things: Get a lot of great things here, it is updated everyday with new free things: http://www.fre... http://bit.ly/5KjMzV\\\\n'\",\n",
              " 'b\\'FREE - 54\" TV - Needs Repair (Pearland/Friendswood): 54\" RCA Projection TV. Has picture but seems to have a pro.. http://bit.ly/iTLUD\\\\n\\'',\n",
              " \"b'HP Officejet 6210 Printer/Scanner/Copier/Fax (West University): I have a FREE HP Officejet 6210 Printer/Scanner.. http://bit.ly/7KneMA\\\\n'\",\n",
              " \"b'I haul your junk (new caney): I will haul away your junk for free. I am in need , I have a 4 w... http://bit.ly/5th57v http://bit.ly/6KPOg2\\\\n'\",\n",
              " \"b'Vintage gas range: This old gas range has been working like a charm. It just came out of my soon to be renovate.. http://bit.ly/iOyYn\\\\n'\",\n",
              " \"b'Christmas is about giving (Katy/Northwest): Donate some time to help a need 2hands .org can help you with your need... http://bit.ly/89wRzU\\\\n'\",\n",
              " \"b'Have metal?Ill pick up alvin & surrounding area (alvin): Please dont flag me im out of work an... http://bit.ly/9bUaXD http://bit.ly/6KPOg2\\\\n'\",\n",
              " \"b'2 free old cars(junk) (deer park): I have two old mustangs that are crapping out my yard and need them gone asa.. http://bit.ly/4DyJ9U\\\\n'\",\n",
              " \"b'motor parts (angleton): call jessi 979-481-1494 http://bit.ly/16tMhq\\\\n'\",\n",
              " 'b\\'Serving Tray and Side Table Top (no legs) (Tomball): Serving tray-3\" x 16\" x 25\", metal frame (looks like bamboo.. http://bit.ly/3zVLvV\\\\n\\'',\n",
              " \"b'FREE WAY TO MAKE MONEY FROM HOME AND THIS IS NOT SPAM (houston ): Clix Sense will pay you. Get... http://bit.ly/crblsk http://bit.ly/6KPOg2\\\\n'\",\n",
              " \"b'Garage Sale Leftovers (Katy): I have a bunch of misc leftovers from my garage sale. Must take all and MUST pick .. http://bit.ly/g3Qsn\\\\n'\",\n",
              " \"b'Free Baby/Toddler stuff to needy family (Spring Tx): I have 3 girls and mountains of clothes. ( sizes from newborn ... http://bit.ly/5BH00r\\\\n'\",\n",
              " 'b\"Free Mattress and Box: I\\'ve got a good condition queen size mattress and box for free. Also got a brand new sti.. http://bit.ly/aXAzA\\\\n\"',\n",
              " \"b'free two big bag of female clothing (SW): Hello,   Free is 2 bags of clothing with jeans/slack, skirts, dress, .. http://bit.ly/2MXbfX\\\\n'\",\n",
              " \"b'wanted a good home (Katy Texas): 9 week old kittens- calico or orange tabby...sweet and playful, ready to be ad.. http://bit.ly/f0Ev9\\\\n'\",\n",
              " \"b'free working washer and dryer (706 rittenhouse 77076): i have a washer and dryer that i dont need anymore becau.. http://bit.ly/E6tRL\\\\n'\",\n",
              " 'b\\'Small boxes (Houston): 13 small, sturdy cardboard boxes 8 inches x 8 inches\" x (5 inches height)   PLEASE READ -.. http://bit.ly/IRUMY\\\\n\\'',\n",
              " \"b'Free House (SW Houston): House is on blocks can be moved 713-208-0514 Jesse http://bit.ly/8RpqFv http://bit.ly/6KPOg2\\\\n'\",\n",
              " 'b\\'free Computer Monitor 13\" crt (works) (Hwy 290 / Fairbanks): It is a gray Envision crt computer monitor and has.. http://bit.ly/6rjzk\\\\n\\'',\n",
              " 'b\"Free Subs (45 and west rd.): i got a kenwood 12\\'\\'?nch sub and a 10 inch kicker L5 they both need minor repair b.. http://bit.ly/82b2D\\\\n\"',\n",
              " \"b'Entertainment Center (Katy): Free to Good Home!! Entertainment center that fits a 32 inch tv, possibly bigger. It i... http://bit.ly/6KB4AN\\\\n'\",\n",
              " \"b'Printer HP ColorLaser Jet-Needs repair (Hitchcock, Texas): HP2605dn HP Color Laser Jet. The print looks like you.. http://bit.ly/2Mu10O\\\\n'\",\n",
              " \"b'WOOD SCREEN DOOR (FRIENDSWOOD): WOOD SCREEN DOOR 32 X 80 NEW NEVER HUNG AND NO TEARS IN SCREEN http://bit.ly/ccBTqd http://bit.ly/6KPOg2\\\\n'\",\n",
              " \"b'FREE 36 in. RCA TV: Free 36 in. 20 year old RCA tv. Very Very heavy and big ,works fine. 832-3... http://bit.ly/bQWnlv http://bit.ly/6KPOg2\\\\n'\",\n",
              " \"b'good stuff free, kitchen, yard, house, appare (N.W. Houston, Hempstead.): Lots of cool stuff! Must take all. Sm.. http://bit.ly/Pa7i\\\\n'\",\n",
              " \"b'frontload washer and tv: defective tv and maytag frontload washer call 2815683496 http://bit.ly/mwgeI\\\\n'\",\n",
              " \"b'Maxim Magazines (Spring): Free stack of Maxim Magazines. Most, if not all are in excellent condition, spanning t.. http://bit.ly/iCOSu\\\\n'\",\n",
              " \"b'blankets bedspreads   conferters (texascity or houston): im looking for blankets bedspread  for king size beds full... http://bit.ly/4QydmK\\\\n'\",\n",
              " \"b'Info needed (Cleveland/North of Houston): Hello - I live North of Houston and my family is in ... http://bit.ly/5mHgqT http://bit.ly/6KPOg2\\\\n'\",\n",
              " 'b\\'Free 36\" Hitachi Table Top TV (Southeast Houston): Free 36\" tv works fine at times and then after a while shuts.. http://bit.ly/JJxA7\\\\n\\'',\n",
              " \"b'FREE COUCH AND CHAISE LOUNGES!  (Katy near I10 and Fry ): FREE COUCH and TWO CHAISE LOUNGES!   We have a small sofa... http://bit.ly/8Zmv2L\\\\n'\",\n",
              " \"b'FREE RAT!!!! (Katy, Tx): This is a domestic rat that is really loving and has the biggest pers... http://bit.ly/ciOT9Z http://bit.ly/6KPOg2\\\\n'\",\n",
              " \"b'Free Furniture  (NW Houston/Tomball): Moving and do not have room for leftover furniture. I wo... http://bit.ly/5jbXVP http://bit.ly/6KPOg2\\\\n'\",\n",
              " 'b\"Couches (Pearland): A love sear and sofa. Not so good condition, but hey, they\\'re free.  Must carry downstairs.  I\\'... http://bit.ly/7gkcXd\\\\n\"',\n",
              " \"b'Sand (Galleria): TODAY ONLY!!!!!!!!!!      Have one yard of sand to be picked up today only.  ... http://bit.ly/6f5HGW http://bit.ly/6KPOg2\\\\n'\",\n",
              " \"b'FREE Baby Formula 3 cans (Dayton, Texas): Nestle Good Start Gentle Plus has about 1/4 left Expires 28 October 2.. http://bit.ly/1I1KuH\\\\n'\",\n",
              " \"b'FREE TORO LAWNMOWER (League City): FREE lawnmower. It does not want to start. Great for someone who can fix it o.. http://bit.ly/teArG\\\\n'\",\n",
              " \"b'Psychic Readings... ONE FREE QUESTION 832 631 0242 (HOUSTON 832 631 0242): Hi, Psychic readings available by Sa.. http://bit.ly/9TmI9\\\\n'\",\n",
              " \"b'FREE Bottle of the most Nutritional Supplement ever made. (Houston & surrounding areas): This has the highe.. http://bit.ly/hmTi6\\\\n'\",\n",
              " 'b\\'tinted mirror 43\" X 111\" (montrose): Darkly tinted mirror over 6 and a half feet in height by... http://bit.ly/c6sZzy  http://bit.ly/6KPOg2\\\\n\\'',\n",
              " \"b'Free Goats (45 North ): I have three goat that i need to give away because i am relocating. Tw... http://bit.ly/7agHHL http://bit.ly/6KPOg2\\\\n'\",\n",
              " \"b'Free six-drawer dresser (mem and gessner): One of the drawer bottoms is missing. Can be cut out of 1/8 in plywo.. http://bit.ly/1OU6te\\\\n'\",\n",
              " \"b'Refrigerator Admiral side by side  (Spring, TX 77388): Please read this ad thoroughly!  Every ... http://bit.ly/cGpGPp http://bit.ly/6KPOg2\\\\n'\",\n",
              " \"b'single mom in need of furniture  (texas city texas): hello if you know of anyone who is gettin... http://bit.ly/7ArUJF http://bit.ly/6KPOg2\\\\n'\",\n",
              " 'b\"GE Gas Stove for parts or repair. (Holcombe and Buffalo Speedway. 77025): We\\'ve used this for years and then th.. http://bit.ly/Yl9Dh\\\\n\"',\n",
              " \"b'Computer Desk (Willowbrook): This is a maple computer desk and hutch in good shape.  There are... http://bit.ly/btdpdY http://bit.ly/6KPOg2\\\\n'\",\n",
              " \"b'Office Chair (Cypress): Come and get it tonight. Please call 7133844224 http://bit.ly/4EyELZ\\\\n'\",\n",
              " \"b'Free TV stand (medical center): I am moving amd want to give away my TV stand. You have to pick it up by yourse.. http://bit.ly/PBlw1\\\\n'\",\n",
              " \"b'Pecan wood is scam!: Guy says he did not posr this! http://bit.ly/4nUGub http://bit.ly/6KPOg2\\\\n'\",\n",
              " \"b'boys uniform pants: im in need of boys uniform pants 6t, khaki or navy blue... plz let me know... http://bit.ly/c1tlUL http://bit.ly/6KPOg2\\\\n'\",\n",
              " \"b'Water Cooler/Dispenser (medical center): Company has an old water cooler/dispenser (for 3-5 gal water jugs) wit.. http://bit.ly/pjpgl\\\\n'\",\n",
              " \"b'Free sofa and loveseat (Baytown): Very comfortable sofa and loveseat for free!!!! They have scratches in the sea.. http://bit.ly/e5Sl4\\\\n'\",\n",
              " \"b'Scrooges of craigslist: I see families reaching out for help for the holidays, and others wanting to help a family.... http://bit.ly/5HTmXO\\\\n'\",\n",
              " 'b\\'Free used lumber. (Missouri City): 20\\\\\\' X 20\\\\\\' gazebo containing 2\"x6\"x 12\\\\\\' flooring and siding,... http://bit.ly/64CI8Z http://bit.ly/6KPOg2\\\\n\\'',\n",
              " \"b'free computer desk (league city): free black computer desk with matching book shelf must come ... http://bit.ly/dlWdHe http://bit.ly/6KPOg2\\\\n'\",\n",
              " \"b'PPU...Free Full Size/Double Mattress, Box Springs (Barker Cypress/W. Little York, west side): PENDING PICKUP..... http://bit.ly/1aFYUJ\\\\n'\",\n",
              " 'b\\'19\" HP CRT Monitor (Kemah Clear Lake): Free working HP CRT 19\" Monitor. . it works great, but i\\\\\\'ve not used it .. http://bit.ly/ZONcp\\\\n\\'',\n",
              " \"b'To Everyone interested in Entertainment Center (La Porte): I am so sorry that I was not able to respond to ever.. http://bit.ly/4k7OdQ\\\\n'\",\n",
              " \"b'Canon S520 printer (Spring): Canon S520 printer. Sort of works... prints several lines OK, then only half print.. http://bit.ly/40CN9r\\\\n'\",\n",
              " \"b'Wipey Warmer (290 @ Hwy. 6): I?m cleaning out my garage, so this has to go. I plugged it in to... http://bit.ly/bYMFce http://bit.ly/6KPOg2\\\\n'\",\n",
              " \"b'I NEED CONTROLLERS FOR GAME SYSTEMS: ANY KIND OF CONTROLLERS  GAMES   GAME SYSTEMS  EMAIL ME A... http://bit.ly/8iP03J http://bit.ly/6KPOg2\\\\n'\",\n",
              " \"b'Free Brick (Beltway & 45 S): I have several bricks up for grabs. some cinder block, some stepping stone conc.. http://bit.ly/h9UXn\\\\n'\",\n",
              " \"b'WHY AREYOU FLAGING ME I NEED SCREEN FOR MY WINDOWS IKE TOOK THEM: PL EASE CALL ME I WILL SHOW YOU MY HOME IT DO.. http://bit.ly/IBvBv\\\\n'\",\n",
              " \"b'Medtronic Carelink Monitor - Cardiac (Willis, TX ): I have a Medtronic Carelink Monitor that I am hoping someone co... http://bit.ly/7SnvH8\\\\n'\",\n",
              " \"b'Free Black Kittens (Houston / Rice Village):   Two cute & cuddly kittens ready to go to a good home - as a pair .. http://bit.ly/17RR5n\\\\n'\",\n",
              " \"b'shelves / tv entertainment (bammel/veteran): Free, I also have a TV entertainment that fit 32 inch TV (not in t.. http://bit.ly/5CBlV9\\\\n'\",\n",
              " 'b\"Air Hockey Table - (The Woodlands): Still works, but the kids don\\'t play anymore.  Will cancel... http://bit.ly/coNqq5 http://bit.ly/6KPOg2\\\\n\"',\n",
              " \"b'Black pleather rocking recliner (spring ): Everything works good condition, could use new upho... http://bit.ly/dmscve http://bit.ly/6KPOg2\\\\n'\",\n",
              " 'b\"Free DESK (59 N / Crosstimbers): Free desk. Please email and I will give directions for pick up.  It\\'s a old des.. http://bit.ly/z3uwX\\\\n\"',\n",
              " 'b\"Free Dresser (Museum District): Free Dresser. In good condition. Just can\\'t find room for it in my new apartment. C... http://bit.ly/7RmH71\\\\n\"',\n",
              " 'b\"Merry Christmas to both of us (League City): Let\\'s help each other out, I have a bunch of items for free...you take... http://bit.ly/92NtqK\\\\n\"',\n",
              " \"b'king size mattress & box springs (highlands 77562): not new but still in good shape , has a few small rips .. http://bit.ly/4sWwzD\\\\n'\",\n",
              " \"b'SleepNumber Bed (As Advertised on TV) (West Houston): SleepNumber Queen-size mattress, boxspring, and frame.  This ... http://bit.ly/4Yba0t\\\\n'\",\n",
              " 'b\"Free Trees (Houston (Spring Branch)): Free Trees for firewood. Must cut them down and haul them off have 100\\'s .. http://bit.ly/26X53R\\\\n\"',\n",
              " 'b\\'FREE 32\" TV _ Please email me!!! (Your post): I tried to call your number and it would not all... http://bit.ly/dh5XwT http://bit.ly/6KPOg2\\\\n\\'',\n",
              " \"b'Bunk Bed with Futon (Willowood-77086): Used Bunk Bed in good condition. This was given to us a... http://bit.ly/9qcOYO http://bit.ly/6KPOg2\\\\n'\",\n",
              " \"b'FREE ITEMS ON CURB (Katy @ Mason/Clay): FREE ITEMS WILL BE OUT ON THE CURB FOR THE 1ST PERSON WHO PICKS THEM UP.. http://bit.ly/3nCG48\\\\n'\",\n",
              " \"b'employee 4 cleaning (houston): 9 per hour   36 hous a week need have transp http://bit.ly/2j45KK\\\\n'\",\n",
              " \"b'~Free Chair and Ottoman~ (Houston, TX.): Most comftorable chair, the only thing is the left arm rest keeps falli.. http://bit.ly/4rYWIO\\\\n'\",\n",
              " \"b'Get free money for college (Houston): Win a scholarship Everyone can sign up the 10k scholarsh... http://bit.ly/9mKJjB http://bit.ly/6KPOg2\\\\n'\",\n",
              " \"b'Free graco stroller, seat and bases (290 nw houston): All in very good condition.  Graco strol... http://bit.ly/67EAmP http://bit.ly/6KPOg2\\\\n'\",\n",
              " \"b'Boxes (Tomball/Spring): We have moved and I have lots of boxes. Many are random sizes like small for books or D.. http://bit.ly/1I9Dud\\\\n'\",\n",
              " \"b'@Robin_CE Your CEO is one in a million!\\\\n'\",\n",
              " \"b'@hriefs Thanks Howard! I wonder what our fellow PR peeps will have to say?\\\\n'\",\n",
              " 'b\"@LesLent I suppose you get to ride outside? I\\'m stuck on the trainer. Goal of 500 miles this month. Only 86 miles in right now.\\\\n\"',\n",
              " \"b'@bricefaubel Thanks Brice! Happy New Year!\\\\n'\",\n",
              " \"b'@Daveisbell And you are kind of crazy.\\\\n'\",\n",
              " 'b\"@Sarahlevy I actually go home tomorrow...I\\'ve been here all week.\\\\n\"',\n",
              " 'b\"@abbyharenberg Watch that @dashalgroup. He\\'s CRAZY!\\\\n\"',\n",
              " 'b\"@julito77 It\\'s hard because you don\\'t want to hurt anyone\\'s feelings. But inevitably you do.\\\\n\"',\n",
              " \"b'@LauraJDaley Let me know what the PS says today!\\\\n'\",\n",
              " \"b'@CesLSU I guess I AM fan of the week!\\\\n'\",\n",
              " 'b\"@overtimeshow LOL! Thanks! I\\'m not your typical PR mumbo pro...kind of a smart aleck.\\\\n\"',\n",
              " \"b'@BMAMan Pretty boring game, is right.\\\\n'\",\n",
              " \"b'@LoisatVistage I am the bomb. Do you not know this? I have five days of work clothes, cycling gear, and work stuff in one carryon.\\\\n'\",\n",
              " 'b\"@jeanniecw @thomasshort2334 and I LOVE Lil\\' Wayne!\\\\n\"',\n",
              " 'b\"@dashalgroup LOL! I\\'ll talk to the powers that be, then!\\\\n\"',\n",
              " \"b'@Robin_CE Oh they were real! Just crazy!\\\\n'\",\n",
              " \"b'@AJDonovan Sigh...I was too late.\\\\n'\",\n",
              " \"b'@DaveNelsen Hey! Too funny! Where did you meet @teamsrock??\\\\n'\",\n",
              " 'b\"@Ramon_DeLeon If your delivery driver wanted to come to my house on accident tonight, I wouldn\\'t turn them away.\\\\n\"',\n",
              " 'b\"@richstep51 I WILL! I\\'ll search for case studies for you.\\\\n\"',\n",
              " \"b'@Los2911 I think I can do MUCH better than what we have. Fresh perspective. New ideas. Play calling that makes sense.\\\\n'\",\n",
              " 'b\"@hdougherty The Bears aren\\'t doing so hot right now.\\\\n\"',\n",
              " \"b'@patrickreyes Yay! Thank you!!\\\\n'\",\n",
              " \"b'@hbrumleve The food from @CharleySinden was so good last night!\\\\n'\",\n",
              " 'b\"@julito77 What\\'s for dinner?\\\\n\"',\n",
              " \"b'Mastering the art of the difficult conversation - my take http://su.pr/7X3ehC\\\\n'\",\n",
              " \"b'@andreamv I found a few new ones in her list too!\\\\n'\",\n",
              " 'b\"@Kyle_Stites HAHAHAHA! I\\'m not scared of Red Lobster. Oh but their biscuits are sooo good!\\\\n\"',\n",
              " \"b'@heyclay I have! You went away for Christmas...never to be heard from again!\\\\n'\",\n",
              " \"b'I nominate @julito77 for a Shorty Award in #vivaviernes because he is the man behind the curtain! http://bit.ly/shorty\\\\n'\",\n",
              " \"b'Great blog post by @SarahRobinson on the shape shifters in business http://bit.ly/4nr4E0\\\\n'\",\n",
              " 'b\"The dos and don\\'ts of creating original video content http://bit.ly/36joET\\\\n\"',\n",
              " 'b\"If you didn\\'t pimp your blog on Spin Sucks yesterday, you can still do it today! http://su.pr/1S5ZHG\\\\n\"',\n",
              " \"b'@bneale Yeah!!! I used you as an example to other Vistage members today.\\\\n'\",\n",
              " \"b'@LindsayMAllen I love baked goods. @PeteTheTapeWorm loves baked goods.\\\\n'\",\n",
              " \"b'@angelica7641 I want the video!\\\\n'\",\n",
              " 'b\"@SamBroberg No bet. I don\\'t care enough to bet. I just want the Vikings to lose. Even if it\\'s in the Super Bowl.\\\\n\"',\n",
              " \"b'@badleader Our iPhones can have a date next month!\\\\n'\",\n",
              " 'b\"I love bath salts from @joyfulbathco. They\\'re magical elixir after a hard workout.\\\\n\"',\n",
              " 'b\"@timjahn Now we\\'re on to Bonnie & Clyde. I\\'m cool being the girl in that situation.\\\\n\"',\n",
              " 'b\"@JaimieField I\\'m drinking hot chocolate, in Florida, in my hotel because they have the air pumping through here at sub-zero temps!\\\\n\"',\n",
              " \"b'@jennifervides Meet The Beast! http://pic.gd/51efc3\\\\n'\",\n",
              " \"b'I am off to dinner with @erinbrumleve @hbrumleve @modishplum and @hubby now!\\\\n'\",\n",
              " \"b'@JustInTheSouth What?! What?! What?!\\\\n'\",\n",
              " 'b\"@melaniegreen It\\'s on Tuesday nights. CBS. Super good!\\\\n\"',\n",
              " 'b\"@foiledcupcakes I\\'m going to ask @luiserpa to get us a place to stay.\\\\n\"',\n",
              " \"b'Very brave post about unemployment by @TransitionalTee http://bit.ly/wLJ8V\\\\n'\",\n",
              " \"b'@SusiePR You are absolutely right! You should put that on the blog so others can see it!\\\\n'\",\n",
              " \"b'.@LaConsuelo Yay! Happy #FollowFriday to you!\\\\n'\",\n",
              " 'b\"@julito77 WTH is this? You\\'re starting new lists now??\\\\n\"',\n",
              " \"b'@Keith_Shay I just saw your recommendation to us on LinkedIn. Thank you!\\\\n'\",\n",
              " \"b'@jennifervides He does stay out of trouble??\\\\n'\",\n",
              " \"b'@WalkerSands Kind of crazy we have to be reminded to say thank you.\\\\n'\",\n",
              " 'b\"@jer327 The problem is, it\\'s not me tweeting for him. So you\\'ll see me having convos with him about food. But it\\'s not me. Kind of funny.\\\\n\"',\n",
              " 'b\"@carolwolniak I\\'m telling you! I was just saying to @tstonecareers I could take over for Oprah. That\\'s my start!\\\\n\"',\n",
              " \"b'@Keith_Shay Did you eat? Sleep?\\\\n'\",\n",
              " 'b\"@WSJSmallBiz You\\'re having the same weather we\\'re having in Chicago. I think Mother Nature has forgotten it\\'s June.\\\\n\"',\n",
              " \"b'@julito77 Crazy, huh?? Before you know it, snow.\\\\n'\",\n",
              " \"b'Using Twitter in a B2B company http://su.pr/1vGki1\\\\n'\",\n",
              " \"b'@FranchiseReview And Gini needs to finish her slides!\\\\n'\",\n",
              " 'b\"@terilg We haven\\'t bumped into each other yet because I\\'m never in Chicago.\\\\n\"',\n",
              " 'b\"@tstonecareers When I did my workshop yesterday, I told them how you\\'re doing this #ridleybikes experiment and they\\'re not listening.\\\\n\"',\n",
              " \"b'@robsaker They listened to us! I was able to get on the site. :)\\\\n'\",\n",
              " 'b\"@julito77 Totally weird. I\\'ve never burned my mouth that badly.\\\\n\"',\n",
              " \"b'Vistage friends @EconomyHeroes @Keith_Shay @Hollisthomases @4thGear @BMAMan @bconrey @GinaAbudi @TomSearcy #FollowFriday\\\\n'\",\n",
              " \"b'I just got a Christmas present from @BMAMan on HIS birthday! I like this rule. A lot.\\\\n'\",\n",
              " \"b'If you missed it earlier, my blog post on why decreasing marketing spend in a down economy is a bad idea http://su.pr/2Nucun\\\\n'\",\n",
              " \"b'@hriefs I know. But they might actually win this week.\\\\n'\",\n",
              " 'b\"Follow @loisatvistage for making me go work out with her every time I\\'m in San Diego. #FollowFriday\\\\n\"',\n",
              " 'b\"@aakomas Sigh is right. That\\'s kind of a pain.\\\\n\"',\n",
              " \"b'@chrisgeier It sounds like iPhone may be the winner.\\\\n'\",\n",
              " \"b'@JoeTheProducer You. Are. Mean.\\\\n'\",\n",
              " 'b\"@Keith_Shay LOL! If there\\'s wine, you\\'ll find Keith.\\\\n\"',\n",
              " \"b'@erinbrumleve LOL! Are you guys having fun??\\\\n'\",\n",
              " \"b'@dashalgroup LOL! That WAS funny!\\\\n'\",\n",
              " \"b'If you need a brain break, read this blog. http://bit.ly/4GAFss\\\\n'\",\n",
              " \"b'@smashadv Go buy a new pair of shorts!\\\\n'\",\n",
              " 'b\"@Daveisbell You think you would ease people into Twitter. Sorry @PaulKoning. We\\'re a bit overwhelming.\\\\n\"',\n",
              " 'b\"@CesLSU I\\'m not going to have this debate with you on Twitter. We can discuss in person.\\\\n\"',\n",
              " 'b\"@SamBroberg LOL! That\\'s funny! You\\'ll have to tweet me from the game.\\\\n\"',\n",
              " \"b'@AJDonovan Well hurry up and get the house ready already!\\\\n'\",\n",
              " \"b'@TrotlineDesigns Thank you!\\\\n'\",\n",
              " \"b'@heyclay I think it is!\\\\n'\",\n",
              " 'b\"@aakomas Oh. It\\'s not morning.\\\\n\"',\n",
              " 'b\"@tanyaflynn I didn\\'t start using eye cream until Mr. D told me he liked my wrinkles earlier this year. NO MORE WRINKLES!\\\\n\"',\n",
              " 'b\"@tastidlite Thanks! It\\'s slow going, but I\\'m adding them all one by one.\\\\n\"',\n",
              " \"b'@jackielamp Congrats on the win!\\\\n'\",\n",
              " \"b'@MichaelVistage How was the holiday party?\\\\n'\",\n",
              " \"b'@CesLSU I figured you had a fever.\\\\n'\",\n",
              " \"b'@loladanseforth OMG! @nylons is the BEST!\\\\n'\",\n",
              " 'b\"@PhilipNowak Holy cow! I\\'m changing careers.\\\\n\"',\n",
              " \"b'@patrickreyes I guess I need to get a speaking engagement in Detroit, huh?\\\\n'\",\n",
              " \"b'@tstonecareers I spend a lot of time in the winter in Colorado.\\\\n'\",\n",
              " \"b'The economic crisis is calling for a new style of leadership. Learn more here http://bit.ly/2aT4nu)\\\\n'\",\n",
              " \"b'@AJDonovan I love ice cream!\\\\n'\",\n",
              " \"b'Want a few reasons to follow new people? Check out my #FollowFriday recommendations here http://su.pr/1zmwky\\\\n'\",\n",
              " 'b\"@JoyFull_deb It\\'s my DREAM to have my own cooking show!\\\\n\"',\n",
              " 'b\"@SamBroberg I\\'ll go to Halas Hall today and have a talk with Ron Turner for you.\\\\n\"',\n",
              " \"b'Some ideas on creating efficiency of daily blog, article, and news reading http://su.pr/7CjELg\\\\n'\",\n",
              " 'b\"@patrickreyes Well, it\\'s not me. So I\\'m bitter.\\\\n\"',\n",
              " \"b'@Marigracebieber you drove?? i drove there long time ago from canada it took 2 days!!\\\\n'\",\n",
              " \"b'im here time for shoutouts girlsss!!\\\\n'\",\n",
              " \"b'@Dancer111895 yeah!!! its catchy! sweet stevey!! stevey like!\\\\n'\",\n",
              " \"b'MUST FOLLOW NOW:   @alisonsheahan  and   @DevilsFan24\\\\n'\",\n",
              " \"b'online...WOW i spun around on my desk chair like 3 seconds strait....feeling dizzy....haha really stupid i noe..\\\\n'\",\n",
              " \"b'anyone watch #paranormalactivity ? im dying to see that movie!!!!!!!!!!!!\\\\n'\",\n",
              " \"b'@Bert2012 well hello there :) my name is steven, nice to meet you :)))\\\\n'\",\n",
              " \"b'@grantsxxgirl328 please!!! i wanna know!! this is spastic!!\\\\n'\",\n",
              " \"b'@The_Blonde_Bomb yeahhh!!! arent you??? it said you were offline..oh now ur on...lol\\\\n'\",\n",
              " 'b\"@christannoel hey but I\\'m not on long\\\\n\"',\n",
              " \"b'@RayRayLove24 im really good hbu?\\\\n'\",\n",
              " \"b'@EmilyOsment Who are the band members in your band Em?\\\\n'\",\n",
              " \"b'@Victoria_Marley it may sound like a lot that i do but if i cant help and make my fave twitter friends smile im not happy. :))\\\\n'\",\n",
              " \"b'@Sebastian_YaNo listening to the radio and checking email...hbu?\\\\n'\",\n",
              " \"b'@justinafever ill try but theres too many hearts in the sky that distract me\\\\n'\",\n",
              " 'b\\'WOW! i cant believe people have twitter on their \"List\" lmao!!\\\\n\\'',\n",
              " \"b'@Jlover4everdel who is she??\\\\n'\",\n",
              " \"b'@Victoria_Marley victoria!!! whats upp?\\\\n'\",\n",
              " \"b'@EmilyOsment Tip of Advice, if you are a t a hotel in Toronto and you like sports go to channel 22 for Sportsnet Connected\\\\n'\",\n",
              " \"b'going on my ipod....1 sec!\\\\n'\",\n",
              " \"b'Norwegian Wood - The Beatles     ***amazing song***\\\\n'\",\n",
              " \"b'one sec...brb...send me the smiles!!!\\\\n'\",\n",
              " \"b'@darlingdrake you problaby think im nuts, but when i was new to twitter, i had 30 followers for 1 month! i was really shy...not anymore!\\\\n'\",\n",
              " 'b\"watching a movie, back and forth time to time...i\\'ll read all msg\\'s dont worry...\\\\n\"',\n",
              " \"b'@biebfever96 lol, the basics includes that haha i hear alot of dirty things...im aware!\\\\n'\",\n",
              " 'b\\'@Lisa_loverr you given a command. i follow it :) hehehe so if im gonna stop being \"so amazing\" im gonna be \"very lovable\" hahaha\\\\n\\'',\n",
              " \"b'@13POB13 please follow me back! this year its time to get some revenge on the celtics! lets show whos boss!!!!\\\\n'\",\n",
              " \"b'doesnt @Victoria_Marley have the cooliest glasses in that pic!!!??!!! sooo awesome!!\\\\n'\",\n",
              " \"b'@justinafever hahahaha how ironic!\\\\n'\",\n",
              " \"b'@melissarear haha you said it before...hehe\\\\n'\",\n",
              " \"b'@jaclynsilvestri going to be famous? wow i think you 7 already are...you all are soo very pretty...damn! pretty school for sure!!\\\\n'\",\n",
              " \"b'@rachael_bell lol sunday homework day! I start school tomorrow, grade 10! How was your first day of school?\\\\n'\",\n",
              " \"b'@mileycyrus Do the Ice-Cream Freeze!\\\\n'\",\n",
              " \"b'@cwazzygurlay 15 years young...hbu?\\\\n'\",\n",
              " \"b'@PeaceLaughLove1 @SelenaLovatoxo3 @doskinsMJJ98 haha all of you three chose blue ~ im thinking black though! awesome colour!!\\\\n'\",\n",
              " \"b'@taylor6785 anythings possible. it just might happen one day. until then we have each others voices :)\\\\n'\",\n",
              " \"b'@XxAlaynaxX lol thats the funniest part!\\\\n'\",\n",
              " \"b'@jjkors im happy cuz normally i would be at school, but not today!! no school :))\\\\n'\",\n",
              " \"b'@TheDebbyRyan Coming to Canada Debby. Emily Osment is here in Toronto today! you should come too. add me debs. Love Steven Basso\\\\n'\",\n",
              " \"b'back from hockeyy....yes it was an overtime win for me!!!\\\\n'\",\n",
              " 'b\"@Sebastian_YaNo haha we\\'ll play some football in the car! i call dibs on QB!!!\\\\n\"',\n",
              " \"b'@xojessbabyxo yeahhh!!! at least thats my opinion ;) you melted all the snow here ;)\\\\n'\",\n",
              " \"b'@Mwahahatay lmao! hahaha got me worried there... i dont know what else to say...umm, im 15 :)\\\\n'\",\n",
              " \"b'@Jessi_Bieberx33 where is that??\\\\n'\",\n",
              " \"b'online! thanks everyone whos been followin me, as soon as i pass 300 i will be followin more...\\\\n'\",\n",
              " \"b'@ILuvMeganAndLiz wow that was QUICK!\\\\n'\",\n",
              " \"b'@sarahfrancisfs hey whats up Sarah?\\\\n'\",\n",
              " 'b\"TWEETERS!!!! ~~~i need your help~~~~ message me if you see this and i\\'ll explain.\\\\n\"',\n",
              " \"b'im out of energy, i cant be doing this anymore...think what you want about me...but here lies the truth....your choice.believe what you want\\\\n'\",\n",
              " \"b'@100794KBx someone told me you were really nice, and i saw you could use some more followers so...why not..im in for making new friends..\\\\n'\",\n",
              " \"b'@biebfever96 i got exams to study for, some people mad at me, a road hockey game tomorrow against 4 24 yr olds...soo much!!\\\\n'\",\n",
              " \"b'@Tinalovee321 hey! good morning!\\\\n'\",\n",
              " \"b'@immadork94k stuck with tuns of hmwk...ugh i hate it! hbu?\\\\n'\",\n",
              " \"b'@Dancer111895 hahaha please do so! and i will later :)\\\\n'\",\n",
              " 'b\\'@lovenhappy ohh ...so your new one is like a reserved AIM for \"twitter friends\" lol i bet it has to do with love and happy just like you are\\\\n\\'',\n",
              " \"b'FOLLOW my OTHER ACCOUNT @sweetstevey\\\\n'\",\n",
              " \"b'@_ashley_sommers ........you have alot to learn my friend her twitter is @lovenhappy\\\\n'\",\n",
              " \"b'@RayRayLove24 really happy that JJ is ungrounded and my holidays start tomorrow!\\\\n'\",\n",
              " \"b'@maryiduff tests....ugh, i hate tests!!! yes i am her bf...she is awesome!! she can turn my day in a 180 just like i do on my skateboard!!\\\\n'\",\n",
              " \"b'@Jessi_Bieberx33 good! theres not one teen i know that doesnt! haha\\\\n'\",\n",
              " \"b'@chanlovesyou23 how old are you?\\\\n'\",\n",
              " \"b'@mrhurst i was just remembering the best concert i went to go see, when you opened for Alice Cooper at Hamilton Place... Get out of the way!\\\\n'\",\n",
              " \"b'@grantsxxgirl328 heyy i saw your previous tweet before...srry i cant tweet as much tonight cuz i have to finsh some hmwk but whats the news?\\\\n'\",\n",
              " \"b'@biebfever96 i cant believe how badly some people at your school are! damn! your nice & pretty. ugh! that gets me mad!!\\\\n'\",\n",
              " \"b'@joey_polter bring it! lolz atlanta doesnt have a chance! lolz!\\\\n'\",\n",
              " \"b'@rachael_bell whats up Rachael? have a good day at school today?\\\\n'\",\n",
              " \"b'@estherrbabyy lol for some reason they like to...haha UK? AWESOME!\\\\n'\",\n",
              " \"b'@kayliestfu hey Kaylie! oh sorry, i had school today :((\\\\n'\",\n",
              " 'b\"@DemiSelenaLG if it helps, there\\'s many more fish in the sea :)\\\\n\"',\n",
              " \"b'@Dancer111895 lol haha i wont be on much tonight, but after 10:30 i will be...\\\\n'\",\n",
              " \"b'@qd_angel yeahhh!!! u watchin the game?? 3-3 with can and usa\\\\n'\",\n",
              " \"b'@Xx_Caitlynn_xX why are you deleting??? how i can i change this??\\\\n'\",\n",
              " \"b'wayyy too much pepsi for one night!  :/\\\\n'\",\n",
              " \"b'my followers....DM me right now if you see this tweet....ITS IMPORTANT!\\\\n'\",\n",
              " \"b'FOLLOW @chelseaahart shes part of the #bombgirls too\\\\n'\",\n",
              " 'b\"@christannoel awh thanks but a girl was being made fun of she liked me but i logged off bcuz i had to go :\\'(((\\\\n\"',\n",
              " \"b'@GuiDuff anyways...[changing the subject] .....lolz\\\\n'\",\n",
              " \"b'@morganspencerJB its true though, to see someone smile is jackpot for me. your making me smile :)))\\\\n'\",\n",
              " \"b'@chanlovesyou23 soooo??? lol is this a song? lolz\\\\n'\",\n",
              " \"b'@HannahJartin heyy its cleaning girl!! remember me?? wow!! long time no talk!!!\\\\n'\",\n",
              " 'b\\'@taylor6785 but once i hear that \"hey\" from you i just feel better and the nervousness goes away ;)\\\\n\\'',\n",
              " \"b'@Jessi_Bieberx33 true, but just the thought of it hurt me....NEVER DELETE!\\\\n'\",\n",
              " \"b'@Dominicanlatina yeah! its so weird, normally soo many ppl are on but tonight not many...want a shout-out?\\\\n'\",\n",
              " 'b\"@GottaloveJBs i love seeing smiles :) have a heart that smiles you smile and cries if someones sad :\\'(\\\\n\"',\n",
              " \"b'@Mwahahatay alright, :( well it was nice meeting you anyways\\\\n'\",\n",
              " \"b'@HannahJartin then take out the windex!! that will make your day! hahaha jks!\\\\n'\",\n",
              " \"b'@biebfever96 ummm what do you want for dinner cuz im hungry! lol brb dinner time...\\\\n'\",\n",
              " \"b'@SingingSweetie6 wait...im confused...im not mad at you!! why do you think that??\\\\n'\",\n",
              " \"b'@LexyLovato yes they will..just give them time...there under new management now so....halladay!!!! awesome pitcher!\\\\n'\",\n",
              " \"b'@LexyLovato lol! i have the whole lovato family following me!! HAHA (now i need demi) haha\\\\n'\",\n",
              " \"b'@GottaloveJBs hahaha if you remain online, im happy :) thanks sunday school teachers!!!! :D\\\\n'\",\n",
              " 'b\"@ReggieEvans30 thats true...!! i didnt think of that! at a store they have a sale buy 2 for some price...so maybe i\\'ll do that! good one!\\\\n\"',\n",
              " \"b'@Victoria_Marley what are yah girls up to?\\\\n'\",\n",
              " \"b'@JBieberRButler i see...im from canada but my football team is the jaguars, vikings and eagles...i hate the patriots!! lol\\\\n'\",\n",
              " \"b'@EmilyOsment Emily what sports teams do you watch or cheer for? I assume LA Dodgers?...Add me!\\\\n'\",\n",
              " \"b'@madielovesyou it was a reply to your tweet of *TOUNGE* hahaha\\\\n'\",\n",
              " \"b'i got soul but im not a soilder\\\\n'\",\n",
              " \"b'@BrittneyyBieber great!!! awesomly great!! how bout brittney??\\\\n'\",\n",
              " \"b'@LexyLovato i can only imagine the product sales increase soo soo much when your on the front of a product! (:\\\\n'\",\n",
              " \"b'@Victoria_Marley chat? or no im good with it\\\\n'\",\n",
              " \"b'Now playing: Orlando - Memories Of You. Tune in: http://stream.laut.fm/eurodance.m3u\\\\n'\",\n",
              " \"b'Now playing: Radio Eurodance - Jingle 8. Tune in: http://stream.laut.fm/eurodance.m3u\\\\n'\",\n",
              " \"b'Now playing: Boys Next Door - Lady Of The Night. Tune in: http://stream.laut.fm/eurodance.m3u\\\\n'\",\n",
              " \"b'Now playing: Radio Eurodance - Jingle 4. Tune in: http://stream.laut.fm/eurodance.m3u\\\\n'\",\n",
              " \"b'Now playing: Bad Boys Blue - Queen Of My Dreams 2009 (Alex Twister Radio Edit). Tune in: http://stream.laut.fm/eurodance.m3u\\\\n'\",\n",
              " 'b\"Now playing: J.D. Jaber - Don\\'t Wake Me Up. Tune in: http://stream.laut.fm/eurodance.m3u\\\\n\"',\n",
              " \"b'Now playing: Amati - Are You In The Mood For Beach Tonight. Tune in: http://stream.laut.fm/eurodance.m3u\\\\n'\",\n",
              " \"b'Now playing: Scotch - Disco Band. Tune in: http://stream.laut.fm/eurodance.m3u\\\\n'\",\n",
              " \"b'Now playing: Tina Cousins - Sex On Fire (Topham And Twiggsters Snap Mix). Tune in: http://stream.laut.fm/eurodance.m3u\\\\n'\",\n",
              " \"b'Now playing: Systems In Blue - Every Little Thing. Tune in: http://stream.laut.fm/eurodance.m3u\\\\n'\",\n",
              " 'b\"Now playing: Patty Ryan - You\\'re My Love, You\\'re My Life. Tune in: http://stream.laut.fm/eurodance.m3u\\\\n\"',\n",
              " \"b'Now playing: Jason Donovan - Everyday. Tune in: http://stream.laut.fm/eurodance.m3u\\\\n'\",\n",
              " \"b'Now playing: Silent Circle - Night Train. Tune in: http://stream.laut.fm/eurodance.m3u\\\\n'\",\n",
              " \"b'Now playing: Loft - Love is Magic. Tune in: http://stream.laut.fm/eurodance.m3u\\\\n'\",\n",
              " 'b\"Now playing: Modern Talking - Angie\\'s Heart. Tune in: http://stream.laut.fm/eurodance.m3u\\\\n\"',\n",
              " \"b'Now playing: Sandra - In The Heat Of The Night. Tune in: http://stream.laut.fm/eurodance.m3u\\\\n'\",\n",
              " \"b'Now playing: Ken Laszlo - Everytime. Tune in: http://stream.laut.fm/eurodance.m3u\\\\n'\",\n",
              " \"b'Now playing: Max Him - Japanese Girl. Tune in: http://stream.laut.fm/eurodance.m3u\\\\n'\",\n",
              " \"b'Now playing: E-Type - Hold Your Horses. Tune in: http://stream.laut.fm/eurodance.m3u\\\\n'\",\n",
              " \"b'Now playing: Indiana - Together Again. Tune in: http://stream.laut.fm/eurodance.m3u\\\\n'\",\n",
              " \"b'Now playing: David Lyme - Bye, Bye Mi Amor (12inch Version). Tune in: http://stream.laut.fm/eurodance.m3u\\\\n'\",\n",
              " \"b'Now playing: Sash! - Stay (feat. La Trec). Tune in: http://stream.laut.fm/eurodance.m3u\\\\n'\",\n",
              " \"b'Now playing: Sonia - Listen To Your Heart. Tune in: http://stream.laut.fm/eurodance.m3u\\\\n'\",\n",
              " \"b'Now playing: Co.Ro. feat. Taleesa - 4 Your Love. Tune in: http://stream.laut.fm/eurodance.m3u\\\\n'\",\n",
              " \"b'Now playing: Black and White - Do You Know (Radio Mix). Tune in: http://stream.laut.fm/eurodance.m3u\\\\n'\",\n",
              " \"b'Now playing: New Baccara - Call Me Up (Extended Version). Tune in: http://stream.laut.fm/eurodance.m3u\\\\n'\",\n",
              " \"b'Now playing: Mark Ashley - Mareen. Tune in: http://stream.laut.fm/eurodance.m3u\\\\n'\",\n",
              " \"b'Now playing: Alexia - Number One. Tune in: http://stream.laut.fm/eurodance.m3u\\\\n'\",\n",
              " \"b'Now playing: Topmodelz - Take On Me. Tune in: http://stream.laut.fm/eurodance.m3u\\\\n'\",\n",
              " \"b'Now playing: Fun Factory - Close to you. Tune in: http://stream.laut.fm/eurodance.m3u\\\\n'\",\n",
              " \"b'Now playing: Fancy - Wait By The Radio. Tune in: http://stream.laut.fm/eurodance.m3u\\\\n'\",\n",
              " \"b'Now playing: Sylver - Sympathy. Tune in: http://stream.laut.fm/eurodance.m3u\\\\n'\",\n",
              " \"b'Now playing: Danuta - Touch My Heart. Tune in: http://stream.laut.fm/eurodance.m3u\\\\n'\",\n",
              " \"b'Now playing: M.C. Sar and The Real McCoy - Run Away (1994). Tune in: http://stream.laut.fm/eurodance.m3u\\\\n'\",\n",
              " \"b'Now playing: Nina - Jos Uvijek Sam Tu (extended). Tune in: http://stream.laut.fm/eurodance.m3u\\\\n'\",\n",
              " 'b\"Now playing: Nite Beat - Don\\'t Walk Away. Tune in: http://stream.laut.fm/eurodance.m3u\\\\n\"',\n",
              " \"b'Now playing: Bananarama - Love In The First Degree. Tune in: http://stream.laut.fm/eurodance.m3u\\\\n'\",\n",
              " \"b'Now playing: Fred Ventura - Leave Me Alone. Tune in: http://stream.laut.fm/eurodance.m3u\\\\n'\",\n",
              " \"b'Now playing: Peter Schilling - Different Story (World Of Lust And Crime) (Long Version). Tune in: http://stream.laut.fm/eurodance.m3u\\\\n'\",\n",
              " \"b'Now playing: Laserdance - Escape From The Forbidden City. Tune in: http://stream.laut.fm/eurodance.m3u\\\\n'\",\n",
              " 'b\"Now playing: Mark \\'Oh vs. Digital Rockers - Because I Love You (radio cut). Tune in: http://stream.laut.fm/eurodance.m3u\\\\n\"',\n",
              " \"b'Now playing: Bad Boys Blue - From Heart To Heart. Tune in: http://stream.laut.fm/eurodance.m3u\\\\n'\",\n",
              " \"b'Now playing: Angie Gold - Eat You Up (Almighty 12inch Definitive Mix). Tune in: http://stream.laut.fm/eurodance.m3u\\\\n'\",\n",
              " \"b'Now playing: Tommy - One Night. Tune in: http://stream.laut.fm/eurodance.m3u\\\\n'\",\n",
              " \"b'Now playing: Mex - Calling You. Tune in: http://stream.laut.fm/eurodance.m3u\\\\n'\",\n",
              " \"b'Now playing: Bad Boys Blue - For Your Love. Tune in: http://stream.laut.fm/eurodance.m3u\\\\n'\",\n",
              " \"b'Now playing: Fancy - Bolero. Tune in: http://stream.laut.fm/eurodance.m3u\\\\n'\",\n",
              " \"b'Now playing: Bad Boys Blue - A Train to Nowhere. Tune in: http://stream.laut.fm/eurodance.m3u\\\\n'\",\n",
              " \"b'Now playing: Laserdance - You\\\\n'\",\n",
              " \"b'Now playing: Conways Feat Nick Straker Band - A Walk in the Park. Tune in: http://stream.laut.fm/eurodance.m3u\\\\n'\",\n",
              " \"b'Now playing: Playahitty - 1-2-3!. Tune in: http://stream.laut.fm/eurodance.m3u\\\\n'\",\n",
              " \"b'Now playing: Hermes House Band - Country roads. Tune in: http://stream.laut.fm/eurodance.m3u\\\\n'\",\n",
              " \"b'Now playing: Belle Lawrence - Human (Almighty Definitive Radio Edit). Tune in: http://stream.laut.fm/eurodance.m3u\\\\n'\",\n",
              " \"b'Now playing: BBE - Seven Days and One Week. Tune in: http://stream.laut.fm/eurodance.m3u\\\\n'\",\n",
              " \"b'Now playing: Gazebo - I Like Chopin. Tune in: http://stream.laut.fm/eurodance.m3u\\\\n'\",\n",
              " \"b'Now playing: Connie Nice - Dancing In The Night. Tune in: http://stream.laut.fm/eurodance.m3u\\\\n'\",\n",
              " \"b'Now playing: Fragma - Alive. Tune in: http://stream.laut.fm/eurodance.m3u\\\\n'\",\n",
              " \"b'Now playing: Lian Ross - Fantasy (Original Version). Tune in: http://stream.laut.fm/eurodance.m3u\\\\n'\",\n",
              " \"b'Now playing: Radio Eurodance - Jingle 5. Tune in: http://stream.laut.fm/eurodance.m3u\\\\n'\",\n",
              " \"b'Now playing: Kylie Minogue - On A Night Like This. Tune in: http://stream.laut.fm/eurodance.m3u\\\\n'\",\n",
              " \"b'Now playing: Fragma - Memory (Rob Mayth Remix Edit). Tune in: http://stream.laut.fm/eurodance.m3u\\\\n'\",\n",
              " \"b'Now playing: Spagna - Easy Lady. Tune in: http://stream.laut.fm/eurodance.m3u\\\\n'\",\n",
              " \"b'Now playing: Da Blitz - Stay With Me. Tune in: http://stream.laut.fm/eurodance.m3u\\\\n'\",\n",
              " \"b'Now playing: Del Garrett - Hollywood (I Bring You My Heart). Tune in: http://stream.laut.fm/eurodance.m3u\\\\n'\",\n",
              " \"b'Now playing: Pharao - There is a Star. Tune in: http://stream.laut.fm/eurodance.m3u\\\\n'\",\n",
              " \"b'Now playing: Pharao - There is a Star. Tune in: http://stream.laut.fm/eurodance.m3u\\\\n'\",\n",
              " \"b'Now playing: Ian van Dahl - Castles In The Sky (Version 1). Tune in: http://stream.laut.fm/eurodance.m3u\\\\n'\",\n",
              " \"b'Now playing: Deborah Kinley - All For Love. Tune in: http://stream.laut.fm/eurodance.m3u\\\\n'\",\n",
              " \"b'Now playing: Alice Deejay - Better Off Alone. Tune in: http://stream.laut.fm/eurodance.m3u\\\\n'\",\n",
              " \"b'Now playing: Tina Cousins - Forever [radio edit]. Tune in: http://stream.laut.fm/eurodance.m3u\\\\n'\",\n",
              " \"b'Now playing: E-Rotic - Falling For A Witch. Tune in: http://stream.laut.fm/eurodance.m3u\\\\n'\",\n",
              " \"b'Now playing: DHT feat. Edmee - Your Touch (Radio Edit). Tune in: http://stream.laut.fm/eurodance.m3u\\\\n'\",\n",
              " \"b'Now playing: Playahitty - The Summer Is Magic. Tune in: http://stream.laut.fm/eurodance.m3u\\\\n'\",\n",
              " \"b'Now playing: Savage - Twothousandnine (Euro Radio). Tune in: http://stream.laut.fm/eurodance.m3u\\\\n'\",\n",
              " \"b'Now playing: Mark Ashley - Jeannie Moviestar. Tune in: http://stream.laut.fm/eurodance.m3u\\\\n'\",\n",
              " \"b'Now playing: Orlando - Here Comes The Night. Tune in: http://stream.laut.fm/eurodance.m3u\\\\n'\",\n",
              " \"b'Now playing:  - . Tune in: http://stream.laut.fm/eurodance.m3u\\\\n'\",\n",
              " \"b'Now playing: Orlando - Here Comes The Night. Tune in: http://stream.laut.fm/eurodance.m3u\\\\n'\",\n",
              " \"b'Now playing: Robert Miles - Children. Tune in: http://stream.laut.fm/eurodance.m3u\\\\n'\",\n",
              " \"b'Now playing: Rocky M - Fly With Me To Wonderland. Tune in: http://stream.laut.fm/eurodance.m3u\\\\n'\",\n",
              " \"b'Now playing: Robert Miles feat. Maria Nayler - One And One. Tune in: http://stream.laut.fm/eurodance.m3u\\\\n'\",\n",
              " 'b\"Now playing: Katy Perry - Hot N\\' Cold (Rain Factory Radio Edit). Tune in: http://stream.laut.fm/eurodance.m3u\\\\n\"',\n",
              " \"b'Now playing: Double You - Dancing With An Angel. Tune in: http://stream.laut.fm/eurodance.m3u\\\\n'\",\n",
              " 'b\"Now playing: Loft - It\\'s Raining Again. Tune in: http://stream.laut.fm/eurodance.m3u\\\\n\"',\n",
              " \"b'Now playing: Pet Shop Boys - the way it used to be. Tune in: http://stream.laut.fm/eurodance.m3u\\\\n'\",\n",
              " \"b'Now playing: Mollela - Love Lasts Forever. Tune in: http://stream.laut.fm/eurodance.m3u\\\\n'\",\n",
              " \"b'Now playing: Radio Eurodance - Jingle 8. Tune in: http://stream.laut.fm/eurodance.m3u\\\\n'\",\n",
              " \"b'Now playing: Brian Ice - Talking to the night (1985). Tune in: http://stream.laut.fm/eurodance.m3u\\\\n'\",\n",
              " \"b'Now playing: Tommy - One Night. Tune in: http://stream.laut.fm/eurodance.m3u\\\\n'\",\n",
              " 'b\"Now playing: Joy Peters - Don\\'t Loose Your Heart Tonight (Maxi). Tune in: http://stream.laut.fm/eurodance.m3u\\\\n\"',\n",
              " \"b'Now playing: Maxx - Get-a-way (Club Mix). Tune in: http://stream.laut.fm/eurodance.m3u\\\\n'\",\n",
              " \"b'Now playing: Danuta - Touch My Heart. Tune in: http://stream.laut.fm/eurodance.m3u\\\\n'\",\n",
              " \"b'Now playing: Bananarama - Love In The First Degree. Tune in: http://stream.laut.fm/eurodance.m3u\\\\n'\",\n",
              " \"b'Now playing: Pet Shop Boys - Always on my mind. Tune in: http://stream.laut.fm/eurodance.m3u\\\\n'\",\n",
              " \"b'Now playing: Den Harrow - Catch The Fox (Caccia Alla Volpe) (Remix). Tune in: http://stream.laut.fm/eurodance.m3u\\\\n'\",\n",
              " \"b'Now playing: Tina Cousins - Sex On Fire (Topham And Twiggsters Snap Mix). Tune in: http://stream.laut.fm/eurodance.m3u\\\\n'\",\n",
              " \"b'Now playing: Novaspace - Close To You. Tune in: http://stream.laut.fm/eurodance.m3u\\\\n'\",\n",
              " \"b'Now playing: Sash! - Stay (feat. La Trec). Tune in: http://stream.laut.fm/eurodance.m3u\\\\n'\",\n",
              " \"b'Now playing: Alexia feat. Double You - Me and You (extended). Tune in: http://stream.laut.fm/eurodance.m3u\\\\n'\",\n",
              " \"b'Now playing: Gina T - Tokyo By Night. Tune in: http://stream.laut.fm/eurodance.m3u\\\\n'\",\n",
              " \"b'@Missg0diva lmao..tell her twitter is whats poppin now lol\\\\n'\",\n",
              " \"b'@AriesBeauty412 oh yeah..thanks\\\\n'\",\n",
              " \"b'bout to go get some food...i might smh all the way to mcdonalds..or burger king..or taco bell..or popeyes\\\\n'\",\n",
              " \"b'@tone2fly all day lol\\\\n'\",\n",
              " \"b'@BourneApe7 no..it was somethin said on fb...\\\\n'\",\n",
              " \"b'@Its_Jaycub lol..thats what u like?\\\\n'\",\n",
              " \"b'@ps_imDAM i would unfollow u lmao\\\\n'\",\n",
              " 'b\"Desmond..who don\\'t u want?..u wanted everybody at one point.\\\\n\"',\n",
              " \"b'@ABswagg pow=puff on weed lmao..thats what he said..i guess he do alot of puffin..he use it after everything lol\\\\n'\",\n",
              " 'b\\'lets get ABC out here so they can sing \"IIIEESSHHHHAAAA\"..lmao\\\\n\\'',\n",
              " \"b'@beauTIFFulLibra yup..and I coulda been if I jus said I would go.smh\\\\n'\",\n",
              " \"b'@ReginaldHarris1 im not talkin bout that!..im talkin bout u poppin off at the mouth like u knw everything\\\\n'\",\n",
              " \"b'@TerrenceJ106 196 and park?..did they change the name of the show?..lmao\\\\n'\",\n",
              " \"b'@Holly1920 im always in my room\\\\n'\",\n",
              " \"b'@Mr_Meer5 yes..i said dnt yell..and so did  @ajcouture3  ..u dnt listen..u gotta be taught a lesson\\\\n'\",\n",
              " \"b'oh another part of my dream this girl was tryna teach me the jerk wen i said i knw how to do it.she jus kept sayin.u gotta do this.then that\\\\n'\",\n",
              " \"b'@DAM_iam smh...damn shame..niggas aint used to nothin natural lol\\\\n'\",\n",
              " 'b\"#ghettoremedies gettin the earlier edition of a book so u don\\'t gotta pay more money..wait..not ghetto.. #moneysavertweet lol\\\\n\"',\n",
              " \"b'no more of them blue drinks for me...smh..i need to be taken care of..\\\\n'\",\n",
              " \"b'Shit..iwas in Twitter jail lmao\\\\n'\",\n",
              " \"b'dnt u hate wen u put lotion on ya feet then put heels on..ya feet slidin all night..its no way u can stop it lol\\\\n'\",\n",
              " \"b'@DIJAHrealRAW lmao..i think that nigga name was charlie..and i really dnt remember lol\\\\n'\",\n",
              " \"b'Haha I go to chic-fil-a on Sundays and order a #1 wit a lemonade #thuglife lol\\\\n'\",\n",
              " \"b'@QuettaJ i told @JahGetsMula bout the time bran came out the house in that corona hat for anna bday..lmao..sorry..we was dyin..lmao\\\\n'\",\n",
              " \"b'@T_Haley22 lol..noo..somebody always got somethin to  say bout jersey\\\\n'\",\n",
              " \"b'and trust me..i knw every jersey girl aint poppin..i see rainbow wearin barefeet shoes wearin bitches all the time..\\\\n'\",\n",
              " 'b\\'i hate wen people on FB make their status n then at the end say \"txt it!\"...u jus fein\\\\\\'n for somebody to txt u..shut up\\\\n\\'',\n",
              " \"b'y does lil wayne have a plain, no team havin fitted on?\\\\n'\",\n",
              " \"b'@prettyboirah lol..okay...if u prove urself ur be included in the cool crew lol\\\\n'\",\n",
              " \"b'@QuettaJ #shoutout to my belly ring bein gon when i took off my dress..smh\\\\n'\",\n",
              " \"b'@PrettyBoiRah its good to have confidence\\\\n'\",\n",
              " 'b\"@TheChozen7 jus reminding u I\\'m royalty everytime u see it lol\\\\n\"',\n",
              " \"b'Not ya timeRT @imthe_ISH Everybody(Friends/Family)For The Past 5-6 Years Have Been Dying Around Me Why Not Me? #PleaseExplainWhy Not Me GOD?\\\\n'\",\n",
              " \"b'#inhighschool the plan was on the last day of lunch we was gon have a food fight..well my period lunch was the only ones who did it!..lol\\\\n'\",\n",
              " \"b'Bout to sip this moscato\\\\n'\",\n",
              " 'b\\'Luscious can\\\\\\'t win. \"the homies\" don\\\\\\'t respect her..they can\\\\\\'t all chill together lol\\\\n\\'',\n",
              " \"b'Marquettas in Twitter jail lol\\\\n'\",\n",
              " \"b'@Israh_NotIsreal @JahGetsMula lol..nah..y would i lie bout rih-rih?..lol\\\\n'\",\n",
              " \"b'#ifiwaswhite i would wash my hair eveytime i got in the shower then go places wit my hair all stringy n wet like its a hair style lol\\\\n'\",\n",
              " 'b\"My mom and sister goin to Hawaii Tuesday. I\\'m jealous.\\\\n\"',\n",
              " \"b'this is like my 2nd tuesday home this summer..ssooo..where we at tonight?..lol\\\\n'\",\n",
              " \"b'Thank goodness for @JASwizzy headband that partially saved me.\\\\n'\",\n",
              " \"b'@S_Holiday okay..was them dudes talkin to yall lastnight?..all loud infront on my window lol..i was bout to snap\\\\n'\",\n",
              " \"b'@JASwizzy @LBoogieBunns are we goin to this party tomorrow??..and the cabaret Saturday??\\\\n'\",\n",
              " 'b\"#worstfeeling havin a pop quiz and u ain\\'t read..jus bringin that grade down\\\\n\"',\n",
              " \"b'@MRGTKINGSUPREME i like to flick thru the channels lol\\\\n'\",\n",
              " \"b'#FF @MallyMal19 cuz he takes twitter hiatuses often..niggas dnt even care to ask where he at no more lol\\\\n'\",\n",
              " 'b\"@soulikedarkskin mines is the 10th..I\\'ll be gone the 12th lol\\\\n\"',\n",
              " \"b'@mrRealGDP lol I love that game..I goes in\\\\n'\",\n",
              " 'b\\'dad cool it wit the twitter updates (dad) \"im on the patio\" lmao\\\\n\\'',\n",
              " \"b'my mom prolly gon yell at me for turnin on the ac but oh well...it gotta be cold so i can sleep good\\\\n'\",\n",
              " \"b'@djqlassick u can tell me yaself..lol..hi!...good  mornin!..lol\\\\n'\",\n",
              " \"b'@ajcouture3 we must really be related..my mom rolls down the window n start yellin at everybody lmao..n everybody say we got smart mouths\\\\n'\",\n",
              " \"b'Trey songz said send him a kiss lol\\\\n'\",\n",
              " \"b'i was so sure uncle earl was gon pay a visit last night...but i held it down...woke up this mornin hungry as hell\\\\n'\",\n",
              " \"b'matter of fact...i wish stewie from family guy did have a twitter..i would jus need to follow him @lilduval and @KevinHart4real for a laugh\\\\n'\",\n",
              " \"b'@giannilee I like some of it..not all\\\\n'\",\n",
              " \"b'do it be the rookie mosquitos that hurt u wen they bite u?..like they dnt knw wtf they doin?..oh well step ya skills up..ur dead now tho lol\\\\n'\",\n",
              " \"b'@L_Taylor15 excuse me..im grown..\\\\n'\",\n",
              " \"b'@mark_nixon1011 he prolly dnt even wanna leave the house wit his lazy ass\\\\n'\",\n",
              " \"b'@mimidamn yo somethin wrong wit my pocketwit..idk what to do\\\\n'\",\n",
              " \"b'@PrettyNupe1 I was tweetin too much\\\\n'\",\n",
              " 'b\"@giannilee where\\'s the pole?..jk lol\\\\n\"',\n",
              " \"b'@RealMrMatrix yeah..it always starts 10 days before the day it started the year before..somethin like that\\\\n'\",\n",
              " \"b'its only 12...where is everybody?...maybe they all boo-lovin...\\\\n'\",\n",
              " \"b'@Missg0diva but im takin..law enforcement..methods of research..socialogical therioes..corrections..men&women in society.. applyin computers\\\\n'\",\n",
              " \"b'@ps_imDAM yo..F her lol\\\\n'\",\n",
              " 'b\"@HOFFABABY it\\'s a state of emergency..i ain\\'t posed to be drivin..and my car covered in snow lol\\\\n\"',\n",
              " \"b'@QuettaJ lol dont even worry bout it\\\\n'\",\n",
              " \"b'@StephStackz lmaoooo..i do knw..but i dnt like\\\\n'\",\n",
              " \"b'Always Camden niggas boosting the shit lol. Holla at me tho!! || lol\\\\n'\",\n",
              " 'b\\'Me and @JahGetsMula bout to make a \"smashed the homies\" song\\\\n\\'',\n",
              " \"b'straightenin my hair..it truly needed to be done\\\\n'\",\n",
              " \"b'@Missg0diva umm..damn..what classes u got?..cuz u aint in none of mine\\\\n'\",\n",
              " 'b\"She couldn\\'t be my friend wit that weave. Never. Not even if it was a fire.\\\\n\"',\n",
              " \"b'#its2009 and u dnt knw who ur real friends r?..if u have more than 5 REAL friends..ur lost\\\\n'\",\n",
              " 'b\"There are alot of diamond shaped signs on the road..idk what they say..but it\\'s alot of them\\\\n\"',\n",
              " 'b\"@LyricUHear_it lol I won\\'t watch it...nope\\\\n\"',\n",
              " \"b'@SlickMcflyy mommy says no then that means ask daddy lol\\\\n'\",\n",
              " \"b'jersey bound...i knw yall missed me...especially @QuettaJ ..dont front lol\\\\n'\",\n",
              " \"b'@DjTheJuiceMan lmao...did i use ji right?\\\\n'\",\n",
              " \"b'and nobody talkin to me either...is this thing on?..lol\\\\n'\",\n",
              " \"b'@CreatedToBHated dream big.\\\\n'\",\n",
              " 'b\"@Cashazj yeah I prolly won\\'t be lookin for u either lmao\\\\n\"',\n",
              " \"b'@mimidamn lmao.i dnt love suits either\\\\n'\",\n",
              " \"b'@SashMulaaaBaby lol..u missed it..a fake tapin page said fuck hov n fab and then fab went off..it was funny\\\\n'\",\n",
              " \"b'@beauTIFFulLibra me and @JASwizzy been here for the longest...\\\\n'\",\n",
              " \"b'#onsomerealshit..dnt invite me somwhere jus cuz im standin nex to @JahGetsMula wen u tell him bout it...i dnt talk to u...so i aint comin\\\\n'\",\n",
              " \"b'@AirlineJay u better go on myspace..thts where all the 40 year olds are lol\\\\n'\",\n",
              " \"b'@JahGetsMula but still..bald head tho?..lol\\\\n'\",\n",
              " 'b\"Niggas so used to seein 24\\'s y\\'all forgot what 20\\'s look like lol\\\\n\"',\n",
              " 'b\"@soulikedarkskin haha that\\'s where I\\'m at now lol\\\\n\"',\n",
              " \"b'@mimidamn lmao I was waitin too\\\\n'\",\n",
              " \"b'#nevertrust the nigga ridin around wit a pickup truck ridin around wit everybody trashy furniture..that couch was in my livin room last week\\\\n'\",\n",
              " \"b'#justbecause i have a pool in my backyard dnt mean i was gettin in it over the summer...cuz i wasnt...\\\\n'\",\n",
              " \"b'@giannilee then the surrogate bodies start actin up..\\\\n'\",\n",
              " \"b'@Reef87 not that one lol\\\\n'\",\n",
              " \"b'its crazy how wen ppl heard @drakkardnoir fell everybody had wheelchair jimmy jokes..nobody was like damn..i hope he okay lol\\\\n'\",\n",
              " \"b'@PanaMontanah keep tellin yaself that cuz i can stunt on a philly girl anyday\\\\n'\",\n",
              " 'b\"74749 tweets is unreal and I ain\\'t tweet nowhere near that lol.\\\\n\"',\n",
              " \"b'Are you emailing in your Web Business. Free opportunity to get started. Permission emailing for free http://ow.ly/w2tX\\\\n'\",\n",
              " \"b'Free HTML Email, your permission based emailing is free with this online tool. http://ow.ly/ODaa\\\\n'\",\n",
              " \"b'Business Development tool online. Free permission emailing tool that you can use for life. http://ow.ly/IzGy\\\\n'\",\n",
              " \"b'Advertising or Ad Agency, utilize this permission based online emailing tool for free http://ow.ly/sli3\\\\n'\",\n",
              " \"b'Online Free Discount coupons or better yet, a free service providing a permission based emailing solution http://ow.ly/wHgd\\\\n'\",\n",
              " \"b'Online Free Discount coupons or better yet, a free service providing a permission based emailing solution http://ow.ly/otE5\\\\n'\",\n",
              " \"b'Internet Business utilize the most effective marketing method, Free permission emailing, free solution provided. http://ow.ly/Fe9f\\\\n'\",\n",
              " \"b'The Best Free Email Marketing, build your permission-based emailing the correct way and send for free! http://ow.ly/nTyX\\\\n'\",\n",
              " \"b'Promote your internet website thru a free online site allowing permission based emailing. http://ow.ly/uE6a\\\\n'\",\n",
              " \"b'Webmaster, utilize this free site web tools for permission emailing for free, cool free service. http://ow.ly/XMnJ\\\\n'\",\n",
              " \"b'Are you using emailing to do your promoting, if not check out this free service http://ow.ly/14pj4\\\\n'\",\n",
              " \"b'Entrepreneur with good business ideas can take advantage of this Free online permission based emailing tool. http://ow.ly/Tjax\\\\n'\",\n",
              " \"b'Get emailing for free with your Business Start up. Permission based emailing online service for free for life. http://ow.ly/HQx5\\\\n'\",\n",
              " \"b'Direct and Targeted Marketing is essential, now use this FREE emailing tool to get started. http://ow.ly/zVxk\\\\n'\",\n",
              " \"b'Travel Agencies get started with internet permission emailing for free. http://ow.ly/E3jk\\\\n'\",\n",
              " \"b'The best Franchise on the internet leverages their investment by using a Free emailing tool to build prospects and leads http://ow.ly/pkEc\\\\n'\",\n",
              " \"b'Build your corporate brand or a new brand through a Free marketing and sending permission based email solution.\\\\t http://ow.ly/14p90\\\\n'\",\n",
              " \"b'Building Materials companies utilize a free permission emailing solution to reach prospects and customers http://ow.ly/zyzU\\\\n'\",\n",
              " \"b'Restaurant Marketing, Strategies and tips, are you using a permission emailing solution? This solution is Free!\\\\t http://ow.ly/TGxM\\\\n'\",\n",
              " \"b'Content is everything in Marketing. Utilize this free emailing tool from a top emailing service http://ow.ly/zCXt\\\\n'\",\n",
              " \"b'Email List, Free Emailing to permission-based lists that are built the correct way http://ow.ly/Fzoz\\\\n'\",\n",
              " \"b'Internet success with FREE permission emailing http://ow.ly/ySM6\\\\n'\",\n",
              " \"b'We provide a FREE email sending tool for Small Business to help you get started. http://ow.ly/14131\\\\n'\",\n",
              " \"b'Use your Graphic Design to build emails on the web with website signup boxes for FREE!. Unique tool! http://ow.ly/Wqvl\\\\n'\",\n",
              " \"b'Free Bulk Email, build your permission-based list the correct way and send for free! http://ow.ly/oTCw\\\\n'\",\n",
              " \"b'Are you using emailing to do your promoting, if not check out this free service http://ow.ly/D3S0\\\\n'\",\n",
              " \"b'Advertise your business through a free sales marketing advertising software to do emailing. Unique service free for life http://ow.ly/AJAb\\\\n'\",\n",
              " \"b'Content is everything in Marketing. Utilize this free emailing tool from a top emailing service http://ow.ly/14fqL\\\\n'\",\n",
              " \"b'One of the Best Online Marketing tools is emailing. We offer a FREE tool to get started.\\\\t http://ow.ly/CPIC\\\\n'\",\n",
              " \"b'Web and Media Marketing program tool for free. Get started with permission emailing for no cost. http://ow.ly/yWrS\\\\n'\",\n",
              " \"b'Use your Graphic Design to build emails on the web with website signup boxes for FREE!. Unique tool! http://ow.ly/oXVo\\\\n'\",\n",
              " \"b'Travel Agencies get started with internet permission emailing for free. http://ow.ly/Tjun\\\\n'\",\n",
              " \"b'Use code promotions in this free emailing solution http://ow.ly/nTGe\\\\n'\",\n",
              " \"b'One of the Best Online Marketing tools is emailing. We offer a FREE tool to get started.\\\\t  http://ow.ly/Bv2b\\\\n'\",\n",
              " \"b'Content is everything in Marketing. Utilize this free emailing tool from a top emailing service http://ow.ly/OJpN\\\\n'\",\n",
              " \"b'Guerrilla Market Strategy? How are you growing your business and your market. Utilize this free emailing tool to do both.\\\\t http://ow.ly/zy01\\\\n'\",\n",
              " \"b'Use your Graphic Design to build emails on the web with website signup boxes for FREE!. Unique tool! http://ow.ly/JwOO\\\\n'\",\n",
              " \"b'New Business is helped with proper emailing, FREE online service to help you get started http://ow.ly/zGm3\\\\n'\",\n",
              " \"b'Use your Graphic Design to build emails on the web with website signup boxes for FREE!. Unique tool! http://ow.ly/UerB\\\\n'\",\n",
              " \"b'Guerrilla Market Strategy? How are you growing your business and your market. Utilize this free emailing tool to do both. http://ow.ly/FlUM\\\\n'\",\n",
              " \"b'Utilize a FREE Marketing Communications tool, start sending permission emails for free! http://ow.ly/FlAR\\\\n'\",\n",
              " \"b'We provide a FREE email sending tool for Small Business to help you get started. http://ow.ly/NbkO\\\\n'\",\n",
              " \"b'Network Marketing and online MLM, grab this opportunity to use this Free permission emailing solution. http://ow.ly/wALQ\\\\n'\",\n",
              " \"b'Clickbank users, utilize a free emailing solution for life http://ow.ly/M5lk\\\\n'\",\n",
              " \"b'Build your corporate brand or a new brand through a Free marketing and sending permission based email solution. http://ow.ly/vFy0\\\\n'\",\n",
              " \"b'Direct and Targeted Marketing is essential, now use this FREE emailing tool to get started. http://ow.ly/ySjt\\\\n'\",\n",
              " \"b'Build your Sales Marketing for Free. Utilize this permission emailing tool to successfully communicate with clients. http://ow.ly/nL4V\\\\n'\",\n",
              " \"b'Online Marketing for Car and Auto sales, are you currently using a permission emailing solution, here is a free solution. http://ow.ly/pgr7\\\\n'\",\n",
              " \"b'The Best Free Email Marketing, build your permission-based emailing the correct way and send for free! http://ow.ly/wddq\\\\n'\",\n",
              " \"b'Business Development tool online. Free permission emailing tool that you can use for life. http://ow.ly/sbMl\\\\n'\",\n",
              " \"b'We provide a FREE email sending tool for Small Business to help you get started.\\\\t http://ow.ly/tBS6\\\\n'\",\n",
              " \"b'Are you emailing in your Web Business. Free opportunity to get started. Permission emailing for free http://ow.ly/BT7r\\\\n'\",\n",
              " \"b'Do you send or would like to send Email Newsletters to your prospects and clients, we provide a FREE solution. http://ow.ly/IDnp\\\\n'\",\n",
              " \"b'We provide a FREE email sending tool for Small Business to help you get started. http://ow.ly/uTP0\\\\n'\",\n",
              " \"b'Web and Media Marketing program tool for free. Get started with permission emailing for no cost. http://ow.ly/E2QG\\\\n'\",\n",
              " \"b'Auto Repair Marketing, Strategy and Tips, best tip is are you utilizing permission emailing, here is a Free Solution. http://ow.ly/nLcC\\\\n'\",\n",
              " \"b'cInternet success with FREE permission emailing http://ow.ly/rvW8\\\\n'\",\n",
              " \"b'We provide a FREE email sending tool for Small Business to help you get started. http://ow.ly/15EF0\\\\n'\",\n",
              " \"b'Free Website Marketing Software tool for permission emailing, get started today for free! http://ow.ly/IHhM\\\\n'\",\n",
              " \"b'The Best Free Email Marketing, build your permission-based emailing the correct way and send for free! http://ow.ly/T5GJ\\\\n'\",\n",
              " \"b'Entrepreneur with good business ideas can take advantage of this Free online permission based emailing tool.\\\\t http://ow.ly/qmh4\\\\n'\",\n",
              " \"b'The Best Free Email Marketing, build your permission-based emailing the correct way and send for free! http://ow.ly/Bq11\\\\n'\",\n",
              " \"b'Build your Sales Marketing for Free. Utilize this permission emailing tool to successfully communicate with clients. http://ow.ly/DnEa\\\\n'\",\n",
              " \"b'Internet success with FREE permission emailing\\\\t http://ow.ly/BXG3\\\\n'\",\n",
              " \"b'Webmaster, utilize this free site web tools for permission emailing for free, cool free service. http://ow.ly/Bn9g\\\\n'\",\n",
              " \"b'Free Website Marketing Software tool for permission emailing, get started today for free! http://ow.ly/tZL4\\\\n'\",\n",
              " \"b'Web and Media Marketing program tool for free. Get started with permission emailing for no cost. http://ow.ly/BKFl\\\\n'\",\n",
              " \"b'The Best Free Email Marketing, build your permission-based emailing the correct way and send for free! http://ow.ly/srvG\\\\n'\",\n",
              " \"b'Online Sales growth can be difficult. Utilize this Free emailing tool to grow your business sales and market share http://ow.ly/W2TK\\\\n'\",\n",
              " \"b'Internet success with FREE permission emailing http://ow.ly/u8RP\\\\n'\",\n",
              " \"b'Online Free Discount coupons or better yet, a free service providing a permission based emailing solution http://ow.ly/P4LW\\\\n'\",\n",
              " \"b'Home Based Business, learn how to do marketing like the pros with permission emailing, without it costing you a penny. http://ow.ly/oJyW\\\\n'\",\n",
              " \"b'Webmaster, utilize this free site web tools for permission emailing for free, cool free service.\\\\t http://ow.ly/z0jj\\\\n'\",\n",
              " \"b'Travel Agencies get started with internet permission emailing for free. http://ow.ly/IdnM\\\\n'\",\n",
              " \"b'Online Free Discount coupons or better yet, a free service providing a permission based emailing solution http://ow.ly/IA7h\\\\n'\",\n",
              " \"b'Do you send or would like to send Email Newsletters to your prospects and clients, we provide a FREE solution. http://ow.ly/FlRF\\\\n'\",\n",
              " \"b'Home Based Business, learn how to do marketing like the pros with permission emailing, without it costing you a penny.\\\\t http://ow.ly/TOZI\\\\n'\",\n",
              " \"b'One of the Best Online Marketing tools is emailing. We offer a FREE tool to get started. http://ow.ly/ufjw\\\\n'\",\n",
              " \"b'The Best Free Email Marketing, build your permission-based emailing the correct way and send for free! http://ow.ly/Un8x\\\\n'\",\n",
              " \"b'Do you send or would like to send Email Newsletters to your prospects and clients, we provide a FREE solution. http://ow.ly/13AaH\\\\n'\",\n",
              " \"b'Email List, Free Emailing to permission-based lists that are built the correct way\\\\t http://ow.ly/yZJu\\\\n'\",\n",
              " \"b'Direct and Targeted Marketing is essential, now use this FREE emailing tool to get started. http://ow.ly/zxIj\\\\n'\",\n",
              " \"b'Business Development tool online. Free permission emailing tool that you can use for life. http://ow.ly/soOu\\\\n'\",\n",
              " \"b'Promote your restaurant coupon or codes or other bargains with a free emailing solution. http://ow.ly/o3TG\\\\n'\",\n",
              " \"b'Entrepreneur with good business ideas can take advantage of this Free online permission based emailing tool. http://ow.ly/HQJs\\\\n'\",\n",
              " \"b'Build your Sales Marketing for Free. Utilize this permission emailing tool to successfully communicate with clients. http://ow.ly/rp8I\\\\n'\",\n",
              " \"b'Use your Graphic Design to build emails on the web with website signup boxes for FREE!. Unique tool! http://ow.ly/qmjc\\\\n'\",\n",
              " \"b'Use code promotions in this free emailing solution http://ow.ly/Tt30\\\\n'\",\n",
              " \"b'The Best Free Email Marketing, build your permission-based emailing the correct way and send for free! http://ow.ly/pxjB\\\\n'\",\n",
              " \"b'Free Bulk Email, build your permission-based list the correct way and send for free!\\\\t http://ow.ly/12AYD\\\\n'\",\n",
              " \"b'Free Website Marketing Software tool for permission emailing, get started today for free! http://ow.ly/N2ME\\\\n'\",\n",
              " \"b'Business Development tool online. Free permission emailing tool that you can use for life. http://ow.ly/Nbtg\\\\n'\",\n",
              " \"b'Guerrilla Market Strategy? How are you growing your business and your market. Utilize this free emailing tool to do both. http://ow.ly/otBG\\\\n'\",\n",
              " \"b'Booksellers and book buyers, utilize an online web permission emailing solution for free. http://ow.ly/N3AN\\\\n'\",\n",
              " \"b'Business Development tool online. Free permission emailing tool that you can use for life. http://ow.ly/upDM\\\\n'\",\n",
              " \"b'Are you emailing in your Web Business. Free opportunity to get started. Permission emailing for free http://ow.ly/vv6R\\\\n'\",\n",
              " \"b'Webmaster, utilize this free site web tools for permission emailing for free, cool free service. http://ow.ly/N3HW\\\\n'\",\n",
              " \"b'Entrepreneur with good business ideas can take advantage of this Free online permission based emailing tool.\\\\t http://ow.ly/u8Id\\\\n'\",\n",
              " \"b'Guerrilla Market Strategy? How are you growing your business and your market. Utilize this free emailing tool to do both. http://ow.ly/131q1\\\\n'\",\n",
              " \"b'Online Sales growth can be difficult. Utilize this Free emailing tool to grow your business sales and market share http://ow.ly/tsOd\\\\n'\",\n",
              " ...]"
            ]
          },
          "metadata": {
            "tags": []
          },
          "execution_count": 6
        }
      ]
    },
    {
      "cell_type": "code",
      "metadata": {
        "id": "MOknnFno9nNh"
      },
      "source": [
        "k=90\n",
        "X_test=[]\n",
        "y_test=[]\n",
        "for i in range(0,50):\n",
        "  for j in range(k,k+10):\n",
        "    X_test.append(dataset.iloc[j,0])\n",
        "    y_test.append(dataset.iloc[j,1])\n",
        "  k+=100"
      ],
      "execution_count": null,
      "outputs": []
    },
    {
      "cell_type": "code",
      "metadata": {
        "id": "E1wI0KrL9nbF"
      },
      "source": [
        "X_train=pd.DataFrame(X_train)\n",
        "X_test=pd.DataFrame(X_test)\n",
        "y_train=pd.DataFrame(y_train)\n",
        "y_test=pd.DataFrame(y_test)\n",
        "X_train=X_train.iloc[:,:].values\n",
        "X_test=X_test.iloc[:,:].values\n",
        "y_train=y_train.iloc[:,:].values\n",
        "y_test=y_test.iloc[:,:].values"
      ],
      "execution_count": null,
      "outputs": []
    },
    {
      "cell_type": "code",
      "metadata": {
        "id": "MUML-SpG9nmE"
      },
      "source": [
        "train=np.concatenate((X_train,y_train),axis=1)\n",
        "test=np.concatenate((X_test,y_test),axis=1)"
      ],
      "execution_count": null,
      "outputs": []
    },
    {
      "cell_type": "code",
      "metadata": {
        "id": "_rHNujxk9nz8"
      },
      "source": [
        "np.random.shuffle(train)\n",
        "np.random.shuffle(test)"
      ],
      "execution_count": null,
      "outputs": []
    },
    {
      "cell_type": "code",
      "metadata": {
        "id": "vEKRfqTT9nwu"
      },
      "source": [
        "train=pd.DataFrame(train)\n",
        "test=pd.DataFrame(test)"
      ],
      "execution_count": null,
      "outputs": []
    },
    {
      "cell_type": "code",
      "metadata": {
        "id": "lrb1FU0m9nuJ",
        "colab": {
          "base_uri": "https://localhost:8080/",
          "height": 67
        },
        "outputId": "99378b91-1a57-45f7-b819-c74694f0ae37"
      },
      "source": [
        "import nltk\n",
        "nltk.download('wordnet')"
      ],
      "execution_count": null,
      "outputs": [
        {
          "output_type": "stream",
          "text": [
            "[nltk_data] Downloading package wordnet to /root/nltk_data...\n",
            "[nltk_data]   Unzipping corpora/wordnet.zip.\n"
          ],
          "name": "stdout"
        },
        {
          "output_type": "execute_result",
          "data": {
            "text/plain": [
              "True"
            ]
          },
          "metadata": {
            "tags": []
          },
          "execution_count": 11
        }
      ]
    },
    {
      "cell_type": "code",
      "metadata": {
        "id": "3RMLkOvi93aI",
        "colab": {
          "base_uri": "https://localhost:8080/",
          "height": 67
        },
        "outputId": "e9db84be-d6ee-4dfb-c666-9655d006d6a2"
      },
      "source": [
        "import nltk\n",
        "nltk.download('stopwords')"
      ],
      "execution_count": null,
      "outputs": [
        {
          "output_type": "stream",
          "text": [
            "[nltk_data] Downloading package stopwords to /root/nltk_data...\n",
            "[nltk_data]   Unzipping corpora/stopwords.zip.\n"
          ],
          "name": "stdout"
        },
        {
          "output_type": "execute_result",
          "data": {
            "text/plain": [
              "True"
            ]
          },
          "metadata": {
            "tags": []
          },
          "execution_count": 12
        }
      ]
    },
    {
      "cell_type": "code",
      "metadata": {
        "id": "Z8sWxAQy95Nu"
      },
      "source": [
        "import nltk\n",
        "from nltk.tokenize import RegexpTokenizer\n",
        "from nltk.stem import WordNetLemmatizer,PorterStemmer\n",
        "from nltk.corpus import stopwords\n",
        "import re\n",
        "lemmatizer = WordNetLemmatizer()\n",
        "stemmer = PorterStemmer() \n",
        "\n",
        "def preprocess(sentence):\n",
        "  sentence=str(sentence)\n",
        "  sentence = sentence.lower()\n",
        "  sentence=sentence.replace('{html}',\"\") \n",
        "  cleanr = re.compile('<.*?>#@')\n",
        "  cleantext = re.sub(cleanr, '', sentence)\n",
        "  rem_url=re.sub(r'http\\S+', '',cleantext)\n",
        "  rem_num = re.sub('[0-9]+', '', rem_url)\n",
        "  tokenizer = RegexpTokenizer(r'\\w+')\n",
        "  tokens = tokenizer.tokenize(rem_num)  \n",
        "  filtered_words = [w for w in tokens if len(w) > 2 if not w in stopwords.words('english')]\n",
        "  stem_words=[stemmer.stem(w) for w in filtered_words]\n",
        "  lemma_words=[lemmatizer.lemmatize(w) for w in stem_words]\n",
        "  return \" \".join(filtered_words)\n",
        "\n",
        "\n",
        "train.iloc[:,0]=train.iloc[:,0].map(lambda s:preprocess(s))\n",
        "test.iloc[:,0]=test.iloc[:,0].map(lambda s:preprocess(s))"
      ],
      "execution_count": null,
      "outputs": []
    },
    {
      "cell_type": "code",
      "metadata": {
        "id": "PF-MCljO98_S"
      },
      "source": [
        "X_train=train.iloc[:,0]\n",
        "X_test=test.iloc[:,0]\n",
        "y_train=train.iloc[:,1]\n",
        "y_test=test.iloc[:,1]"
      ],
      "execution_count": null,
      "outputs": []
    },
    {
      "cell_type": "code",
      "metadata": {
        "id": "dY07M9BT99Fm",
        "colab": {
          "base_uri": "https://localhost:8080/",
          "height": 34
        },
        "outputId": "29e501b6-5230-4f8c-fa68-a809c7333d07"
      },
      "source": [
        "from sklearn.preprocessing import LabelEncoder\n",
        "from keras.utils import np_utils\n",
        "encoder = LabelEncoder()\n",
        "encoder.fit(y_train)\n",
        "encoded_Y = encoder.transform(y_train)\n",
        "# convert integers to dummy variables (i.e. one hot encoded)\n",
        "y_train = np_utils.to_categorical(encoded_Y)"
      ],
      "execution_count": null,
      "outputs": [
        {
          "output_type": "stream",
          "text": [
            "Using TensorFlow backend.\n"
          ],
          "name": "stderr"
        }
      ]
    },
    {
      "cell_type": "code",
      "metadata": {
        "id": "36VNWj4-99Dh"
      },
      "source": [
        "from sklearn.preprocessing import LabelEncoder\n",
        "from keras.utils import np_utils\n",
        "encoder = LabelEncoder()\n",
        "encoder.fit(y_test)\n",
        "encoded_Y = encoder.transform(y_test)\n",
        "# convert integers to dummy variables (i.e. one hot encoded)\n",
        "y_test = np_utils.to_categorical(encoded_Y)"
      ],
      "execution_count": null,
      "outputs": []
    },
    {
      "cell_type": "code",
      "metadata": {
        "id": "E40Q58LPjP8Q"
      },
      "source": [
        "X_train=pd.DataFrame(X_train)"
      ],
      "execution_count": null,
      "outputs": []
    },
    {
      "cell_type": "code",
      "metadata": {
        "id": "QJRua8LwjSfi"
      },
      "source": [
        "tokenized = X_train.iloc[:,0].apply((lambda x: tokenizer.encode(str(x), add_special_tokens=True)))"
      ],
      "execution_count": null,
      "outputs": []
    },
    {
      "cell_type": "code",
      "metadata": {
        "id": "TYdLeJnsja4m"
      },
      "source": [
        "\n",
        "max_len = 0\n",
        "for i in tokenized.values:\n",
        "    if len(i) > max_len:\n",
        "        max_len = len(i)\n",
        "\n",
        "padded = np.array([i + [0]*(max_len-len(i)) for i in tokenized.values])"
      ],
      "execution_count": null,
      "outputs": []
    },
    {
      "cell_type": "code",
      "metadata": {
        "id": "ArnWvJFljeki"
      },
      "source": [
        "#for adding paddings\n",
        "input_ids = torch.tensor(np.array(padded))\n"
      ],
      "execution_count": null,
      "outputs": []
    },
    {
      "cell_type": "code",
      "metadata": {
        "id": "QFPkfST8jiSh",
        "colab": {
          "base_uri": "https://localhost:8080/",
          "height": 34
        },
        "outputId": "4c501f17-1bc2-4c37-fc81-205dfcca92bc"
      },
      "source": [
        "#to set the paddings to zero and rest to 1\n",
        "attention_mask = np.where(padded != 0, 1, 0)\n",
        "attention_mask.shape"
      ],
      "execution_count": null,
      "outputs": [
        {
          "output_type": "execute_result",
          "data": {
            "text/plain": [
              "(5000, 44)"
            ]
          },
          "metadata": {
            "tags": []
          },
          "execution_count": 20
        }
      ]
    },
    {
      "cell_type": "code",
      "metadata": {
        "id": "ORfIkuedjl7m"
      },
      "source": [
        "input_ids = (torch.tensor(padded))\n",
        "attention_mask = (torch.tensor(attention_mask))"
      ],
      "execution_count": null,
      "outputs": []
    },
    {
      "cell_type": "code",
      "metadata": {
        "id": "CCwE2IK2jp-H"
      },
      "source": [
        "with torch.no_grad():\n",
        "    last_hidden_states_train = model(input_ids,attention_mask)"
      ],
      "execution_count": null,
      "outputs": []
    },
    {
      "cell_type": "code",
      "metadata": {
        "id": "taDwtBXEdDIh"
      },
      "source": [
        "from sklearn.model_selection import train_test_split\n",
        "X_train, X_eval, y_train, y_eval = train_test_split(last_hidden_states_train[0],y_train, test_size = 0.05, random_state = 0)"
      ],
      "execution_count": null,
      "outputs": []
    },
    {
      "cell_type": "code",
      "metadata": {
        "id": "bs6F1jmPdJ4Z"
      },
      "source": [
        "from keras.callbacks import Callback, EarlyStopping, ModelCheckpoint\n",
        "es = EarlyStopping(monitor='val_loss', mode='min', verbose=1,patience=3) "
      ],
      "execution_count": null,
      "outputs": []
    },
    {
      "cell_type": "code",
      "metadata": {
        "id": "waS9EwwdkgpT"
      },
      "source": [
        "from keras.models import Sequential\n",
        "from keras.layers import Conv1D\n",
        "from keras.layers import MaxPooling1D,AveragePooling1D,Dropout\n",
        "from keras.layers import Flatten\n",
        "from keras.layers import Dense"
      ],
      "execution_count": null,
      "outputs": []
    },
    {
      "cell_type": "code",
      "metadata": {
        "id": "izf101fgmmvT",
        "colab": {
          "base_uri": "https://localhost:8080/",
          "height": 319
        },
        "outputId": "9b50d524-6716-4d43-b96b-369cf323c618"
      },
      "source": [
        "classifier = Sequential()\n",
        "classifier.add(Conv1D(filters=52, kernel_size=3, activation='relu', input_shape=(44,768)))\n",
        "classifier.add(Conv1D(filters=28, kernel_size=3, activation='relu'))\n",
        "#classifier.add(Dropout(0.5))\n",
        "classifier.add(MaxPooling1D(pool_size=4))\n",
        "classifier.add(Flatten())\n",
        "classifier.add(Dense(50, activation='softmax'))\n",
        "classifier.compile(loss='categorical_crossentropy', optimizer='adam', metrics=['accuracy'])\n",
        "classifier.summary()\n"
      ],
      "execution_count": null,
      "outputs": [
        {
          "output_type": "stream",
          "text": [
            "Model: \"sequential_2\"\n",
            "_________________________________________________________________\n",
            "Layer (type)                 Output Shape              Param #   \n",
            "=================================================================\n",
            "conv1d_3 (Conv1D)            (None, 42, 52)            119860    \n",
            "_________________________________________________________________\n",
            "conv1d_4 (Conv1D)            (None, 40, 28)            4396      \n",
            "_________________________________________________________________\n",
            "max_pooling1d_2 (MaxPooling1 (None, 10, 28)            0         \n",
            "_________________________________________________________________\n",
            "flatten_2 (Flatten)          (None, 280)               0         \n",
            "_________________________________________________________________\n",
            "dense_2 (Dense)              (None, 50)                14050     \n",
            "=================================================================\n",
            "Total params: 138,306\n",
            "Trainable params: 138,306\n",
            "Non-trainable params: 0\n",
            "_________________________________________________________________\n"
          ],
          "name": "stdout"
        }
      ]
    },
    {
      "cell_type": "code",
      "metadata": {
        "id": "TUj_2Avnnwyp",
        "colab": {
          "base_uri": "https://localhost:8080/",
          "height": 504
        },
        "outputId": "33d57616-1cae-4960-c2fc-3895c11ca9ad"
      },
      "source": [
        "classifier.fit(np.array(X_train),np.array(y_train),batch_size=128,epochs=25,validation_data=(np.array(X_eval),np.array(y_eval)),verbose=1,callbacks=[es])"
      ],
      "execution_count": null,
      "outputs": [
        {
          "output_type": "stream",
          "text": [
            "Train on 4750 samples, validate on 250 samples\n",
            "Epoch 1/25\n",
            "4750/4750 [==============================] - 5s 1ms/step - loss: 3.1958 - accuracy: 0.2219 - val_loss: 2.3198 - val_accuracy: 0.3640\n",
            "Epoch 2/25\n",
            "4750/4750 [==============================] - 4s 937us/step - loss: 2.1737 - accuracy: 0.4177 - val_loss: 1.9881 - val_accuracy: 0.4280\n",
            "Epoch 3/25\n",
            "4750/4750 [==============================] - 4s 927us/step - loss: 1.8391 - accuracy: 0.4992 - val_loss: 1.8555 - val_accuracy: 0.4680\n",
            "Epoch 4/25\n",
            "4750/4750 [==============================] - 4s 918us/step - loss: 1.6302 - accuracy: 0.5554 - val_loss: 1.8334 - val_accuracy: 0.4800\n",
            "Epoch 5/25\n",
            "4750/4750 [==============================] - 4s 924us/step - loss: 1.4799 - accuracy: 0.5979 - val_loss: 1.7877 - val_accuracy: 0.5160\n",
            "Epoch 6/25\n",
            "4750/4750 [==============================] - 5s 970us/step - loss: 1.3407 - accuracy: 0.6349 - val_loss: 1.8106 - val_accuracy: 0.5200\n",
            "Epoch 7/25\n",
            "4750/4750 [==============================] - 5s 949us/step - loss: 1.2137 - accuracy: 0.6688 - val_loss: 1.7891 - val_accuracy: 0.5280\n",
            "Epoch 8/25\n",
            "4750/4750 [==============================] - 4s 921us/step - loss: 1.1108 - accuracy: 0.6983 - val_loss: 1.7788 - val_accuracy: 0.5400\n",
            "Epoch 9/25\n",
            "4750/4750 [==============================] - 4s 907us/step - loss: 0.9957 - accuracy: 0.7305 - val_loss: 1.8004 - val_accuracy: 0.5160\n",
            "Epoch 10/25\n",
            "4750/4750 [==============================] - 4s 900us/step - loss: 0.9022 - accuracy: 0.7653 - val_loss: 1.7695 - val_accuracy: 0.5440\n",
            "Epoch 11/25\n",
            "4750/4750 [==============================] - 4s 896us/step - loss: 0.8240 - accuracy: 0.7827 - val_loss: 1.8619 - val_accuracy: 0.5280\n",
            "Epoch 12/25\n",
            "4750/4750 [==============================] - 4s 899us/step - loss: 0.7477 - accuracy: 0.8095 - val_loss: 1.8519 - val_accuracy: 0.5320\n",
            "Epoch 13/25\n",
            "4750/4750 [==============================] - 4s 914us/step - loss: 0.6729 - accuracy: 0.8305 - val_loss: 1.8177 - val_accuracy: 0.5520\n",
            "Epoch 00013: early stopping\n"
          ],
          "name": "stdout"
        },
        {
          "output_type": "execute_result",
          "data": {
            "text/plain": [
              "<keras.callbacks.callbacks.History at 0x7fc5c0e29320>"
            ]
          },
          "metadata": {
            "tags": []
          },
          "execution_count": 28
        }
      ]
    },
    {
      "cell_type": "code",
      "metadata": {
        "id": "1aUSFux9qMXI"
      },
      "source": [
        "X_test=pd.DataFrame(X_test)\n",
        "tokenized = X_test.iloc[:,0].apply((lambda x: tokenizer.encode(str(x), add_special_tokens=True)))"
      ],
      "execution_count": null,
      "outputs": []
    },
    {
      "cell_type": "code",
      "metadata": {
        "id": "BlYFpOzytys3"
      },
      "source": [
        "\n",
        "max_len = 0\n",
        "for i in tokenized.values:\n",
        "    if len(i) > max_len:\n",
        "        max_len = len(i)\n",
        "\n",
        "padded = np.array([i + [0]*(36-len(i)) for i in tokenized.values])"
      ],
      "execution_count": null,
      "outputs": []
    },
    {
      "cell_type": "code",
      "metadata": {
        "id": "DUMduX-Lt2OU"
      },
      "source": [
        "input_ids = torch.tensor(np.array(padded))"
      ],
      "execution_count": null,
      "outputs": []
    },
    {
      "cell_type": "code",
      "metadata": {
        "id": "bYt1NpbNt50s",
        "colab": {
          "base_uri": "https://localhost:8080/",
          "height": 34
        },
        "outputId": "fdc81cb6-95f2-4886-f11c-57e768f339e7"
      },
      "source": [
        "#to set the paddings to zero and rest to 1\n",
        "attention_mask = np.where(padded != 0, 1, 0)\n",
        "attention_mask.shape"
      ],
      "execution_count": null,
      "outputs": [
        {
          "output_type": "execute_result",
          "data": {
            "text/plain": [
              "(250, 36)"
            ]
          },
          "metadata": {
            "tags": []
          },
          "execution_count": 32
        }
      ]
    },
    {
      "cell_type": "code",
      "metadata": {
        "id": "3TXEIUAqt8Uh"
      },
      "source": [
        "#To convert the parameters to torch tensors\n",
        "#input_ids = (torch.tensor(padded)).to(device)  \n",
        "#attention_mask = (torch.tensor(attention_mask)).to(device)\n",
        "input_ids = (torch.tensor(padded))\n",
        "attention_mask = (torch.tensor(attention_mask))"
      ],
      "execution_count": null,
      "outputs": []
    },
    {
      "cell_type": "code",
      "metadata": {
        "id": "gfh2rRaWuD8T"
      },
      "source": [
        "with torch.no_grad():\n",
        "    last_hidden_states_test = model(input_ids,attention_mask)"
      ],
      "execution_count": null,
      "outputs": []
    },
    {
      "cell_type": "code",
      "metadata": {
        "id": "MRuaH3rNu4VB"
      },
      "source": [
        "y_pred =  classifier.predict(last_hidden_states_test[0])"
      ],
      "execution_count": null,
      "outputs": []
    },
    {
      "cell_type": "code",
      "metadata": {
        "id": "fd00AurHu9Hk"
      },
      "source": [
        "#TO get maximum value as 1 and rest to zero\n",
        "y_pred=pd.DataFrame(y_pred)\n",
        "y_pred=y_pred.eq(y_pred.where(y_pred != 0).max(1), axis=0).astype(int)\n",
        "y_pred=y_pred.iloc[:,:].values"
      ],
      "execution_count": null,
      "outputs": []
    },
    {
      "cell_type": "code",
      "metadata": {
        "id": "jkh5f124u_sY"
      },
      "source": [
        "y_test=pd.DataFrame(y_test)\n",
        "y_test=y_test.eq(y_test.where(y_test != 0).max(1), axis=0).astype(int)\n",
        "y_test=y_test.iloc[:,:].values"
      ],
      "execution_count": null,
      "outputs": []
    },
    {
      "cell_type": "code",
      "metadata": {
        "id": "FVjtq9aXvzIU"
      },
      "source": [
        "result=[]\n",
        "for i in range(0,len(y_test)):\n",
        "  for j in range(0,len(y_test[0])):\n",
        "    if(y_test[i][j]==1):\n",
        "      result.append(j)\n"
      ],
      "execution_count": null,
      "outputs": []
    },
    {
      "cell_type": "code",
      "metadata": {
        "id": "oCSLi-Ffv3oD"
      },
      "source": [
        "predicted=[]\n",
        "for i in range(0,len(y_pred)):\n",
        "  for j in range(0,len(y_pred[0])):\n",
        "    if(y_pred[i][j]==1):\n",
        "      predicted.append(j)"
      ],
      "execution_count": null,
      "outputs": []
    },
    {
      "cell_type": "code",
      "metadata": {
        "id": "QPyWIxC0v8Jc",
        "colab": {
          "base_uri": "https://localhost:8080/",
          "height": 70
        },
        "outputId": "ecd405f7-b312-421b-d35c-df8e400858de"
      },
      "source": [
        "print(result)\n",
        "print(predicted)"
      ],
      "execution_count": null,
      "outputs": [
        {
          "output_type": "stream",
          "text": [
            "[30, 30, 23, 34, 2, 46, 15, 10, 27, 44, 4, 31, 3, 1, 36, 27, 49, 44, 33, 4, 14, 39, 27, 33, 34, 49, 42, 37, 19, 36, 15, 12, 22, 35, 27, 5, 35, 1, 33, 16, 6, 6, 29, 48, 40, 46, 19, 5, 48, 13, 33, 17, 48, 9, 25, 39, 28, 10, 7, 12, 37, 22, 0, 42, 8, 20, 43, 7, 8, 49, 29, 31, 17, 3, 38, 0, 41, 40, 47, 0, 24, 15, 46, 36, 7, 49, 17, 12, 40, 1, 44, 36, 10, 17, 7, 2, 35, 24, 24, 44, 24, 18, 13, 42, 32, 32, 14, 49, 5, 42, 41, 21, 22, 42, 16, 28, 2, 28, 29, 9, 28, 11, 25, 45, 13, 23, 3, 35, 18, 21, 43, 26, 47, 16, 23, 29, 1, 22, 2, 30, 18, 32, 39, 37, 0, 20, 38, 37, 40, 35, 25, 3, 20, 27, 13, 18, 1, 26, 11, 22, 30, 9, 24, 43, 8, 45, 9, 39, 17, 8, 46, 11, 2, 31, 44, 32, 7, 34, 10, 45, 18, 46, 9, 45, 34, 8, 30, 36, 5, 20, 6, 19, 15, 4, 16, 16, 41, 43, 12, 10, 15, 29, 4, 31, 19, 14, 11, 32, 47, 48, 26, 14, 41, 21, 14, 28, 26, 40, 3, 21, 6, 43, 20, 37, 41, 19, 0, 5, 21, 39, 12, 48, 38, 47, 13, 23, 34, 47, 31, 38, 25, 33, 26, 11, 23, 6, 45, 25, 4, 38]\n",
            "[23, 18, 28, 44, 8, 46, 1, 38, 0, 1, 4, 4, 3, 11, 36, 10, 36, 16, 33, 4, 20, 36, 22, 42, 40, 37, 42, 48, 42, 48, 43, 34, 18, 35, 14, 22, 28, 38, 22, 34, 8, 37, 29, 37, 49, 7, 4, 4, 30, 13, 35, 12, 22, 9, 25, 4, 34, 7, 7, 12, 7, 49, 32, 33, 8, 20, 22, 43, 21, 20, 29, 7, 22, 22, 19, 11, 47, 48, 34, 33, 40, 1, 46, 7, 49, 49, 48, 13, 40, 4, 38, 13, 28, 11, 7, 8, 42, 7, 20, 32, 38, 47, 13, 35, 48, 7, 31, 31, 11, 44, 36, 21, 3, 35, 33, 42, 2, 33, 29, 13, 44, 43, 25, 20, 13, 22, 2, 30, 18, 12, 11, 46, 37, 16, 47, 12, 1, 7, 7, 12, 7, 42, 38, 20, 0, 4, 22, 24, 40, 36, 25, 7, 22, 17, 24, 12, 11, 33, 13, 17, 11, 22, 24, 26, 4, 47, 22, 37, 48, 8, 7, 28, 2, 4, 2, 38, 7, 35, 29, 38, 7, 7, 9, 18, 40, 8, 12, 26, 38, 8, 45, 22, 47, 13, 44, 48, 7, 48, 12, 30, 41, 12, 20, 26, 47, 34, 37, 10, 12, 34, 37, 48, 34, 21, 4, 7, 45, 40, 20, 21, 48, 4, 5, 1, 43, 22, 0, 4, 21, 23, 12, 48, 31, 47, 31, 17, 34, 47, 29, 30, 25, 33, 23, 49, 48, 15, 45, 25, 12, 46]\n"
          ],
          "name": "stdout"
        }
      ]
    },
    {
      "cell_type": "code",
      "metadata": {
        "id": "Bl4Ae37kwAig"
      },
      "source": [
        "from sklearn.metrics import confusion_matrix\n",
        "cm = confusion_matrix(result,predicted)\n"
      ],
      "execution_count": null,
      "outputs": []
    },
    {
      "cell_type": "code",
      "metadata": {
        "id": "geF51swqwGbc",
        "colab": {
          "base_uri": "https://localhost:8080/",
          "height": 1000
        },
        "outputId": "f9aa292b-5ef4-4ba3-cce7-ef75b604e2fc"
      },
      "source": [
        "from sklearn.metrics import accuracy_score \n",
        "from sklearn.metrics import classification_report \n",
        "print('Confusion Matrix :')\n",
        "print(cm) \n",
        "print('Accuracy Score :',accuracy_score(result, predicted)) \n",
        "print('Report : ')\n",
        "print(classification_report(result, predicted)) \n"
      ],
      "execution_count": null,
      "outputs": [
        {
          "output_type": "stream",
          "text": [
            "Confusion Matrix :\n",
            "[[2 0 0 ... 0 0 0]\n",
            " [0 1 0 ... 0 0 0]\n",
            " [0 0 2 ... 0 0 0]\n",
            " ...\n",
            " [0 0 0 ... 2 0 0]\n",
            " [0 0 0 ... 0 1 0]\n",
            " [0 0 0 ... 0 0 1]]\n",
            "Accuracy Score : 0.216\n",
            "Report : \n",
            "              precision    recall  f1-score   support\n",
            "\n",
            "           0       0.67      0.40      0.50         5\n",
            "           1       0.20      0.20      0.20         5\n",
            "           2       0.50      0.40      0.44         5\n",
            "           3       0.50      0.20      0.29         5\n",
            "           4       0.15      0.40      0.22         5\n",
            "           5       0.00      0.00      0.00         5\n",
            "           6       0.00      0.00      0.00         5\n",
            "           7       0.16      0.60      0.25         5\n",
            "           8       0.43      0.60      0.50         5\n",
            "           9       1.00      0.40      0.57         5\n",
            "          10       0.00      0.00      0.00         5\n",
            "          11       0.00      0.00      0.00         5\n",
            "          12       0.25      0.60      0.35         5\n",
            "          13       0.38      0.60      0.46         5\n",
            "          14       0.00      0.00      0.00         5\n",
            "          15       0.00      0.00      0.00         5\n",
            "          16       0.50      0.20      0.29         5\n",
            "          17       0.00      0.00      0.00         5\n",
            "          18       0.25      0.20      0.22         5\n",
            "          19       0.00      0.00      0.00         5\n",
            "          20       0.12      0.20      0.15         5\n",
            "          21       0.80      0.80      0.80         5\n",
            "          22       0.00      0.00      0.00         5\n",
            "          23       0.00      0.00      0.00         5\n",
            "          24       0.33      0.20      0.25         5\n",
            "          25       1.00      1.00      1.00         5\n",
            "          26       0.00      0.00      0.00         5\n",
            "          27       0.00      0.00      0.00         5\n",
            "          28       0.00      0.00      0.00         5\n",
            "          29       0.60      0.60      0.60         5\n",
            "          30       0.00      0.00      0.00         5\n",
            "          31       0.00      0.00      0.00         5\n",
            "          32       0.00      0.00      0.00         5\n",
            "          33       0.29      0.40      0.33         5\n",
            "          34       0.12      0.20      0.15         5\n",
            "          35       0.20      0.20      0.20         5\n",
            "          36       0.20      0.20      0.20         5\n",
            "          37       0.00      0.00      0.00         5\n",
            "          38       0.00      0.00      0.00         5\n",
            "          39       0.00      0.00      0.00         5\n",
            "          40       0.50      0.60      0.55         5\n",
            "          41       0.00      0.00      0.00         5\n",
            "          42       0.17      0.20      0.18         5\n",
            "          43       0.00      0.00      0.00         5\n",
            "          44       0.00      0.00      0.00         5\n",
            "          45       0.33      0.20      0.25         5\n",
            "          46       0.50      0.40      0.44         5\n",
            "          47       0.25      0.40      0.31         5\n",
            "          48       0.08      0.20      0.12         5\n",
            "          49       0.20      0.20      0.20         5\n",
            "\n",
            "    accuracy                           0.22       250\n",
            "   macro avg       0.21      0.22      0.20       250\n",
            "weighted avg       0.21      0.22      0.20       250\n",
            "\n"
          ],
          "name": "stdout"
        },
        {
          "output_type": "stream",
          "text": [
            "/usr/local/lib/python3.6/dist-packages/sklearn/metrics/_classification.py:1272: UndefinedMetricWarning: Precision and F-score are ill-defined and being set to 0.0 in labels with no predicted samples. Use `zero_division` parameter to control this behavior.\n",
            "  _warn_prf(average, modifier, msg_start, len(result))\n"
          ],
          "name": "stderr"
        }
      ]
    },
    {
      "cell_type": "code",
      "metadata": {
        "id": "jPhDeaf2Ipg3"
      },
      "source": [
        "type_here=[]\n",
        "type_here.append('@appetite H1N1 UPDATE: Immunization clinics open doors to high school students - LondonTopic.ca: H1N1 UPDATE: Immunization clini..\\n')\n",
        "typr_here=pd.DataFrame(type_here)"
      ],
      "execution_count": null,
      "outputs": []
    },
    {
      "cell_type": "code",
      "metadata": {
        "id": "GG44654Wgxl0"
      },
      "source": [
        "typr_here.iloc[:,0]=typr_here.iloc[:,0].map(lambda s:preprocess(s))"
      ],
      "execution_count": null,
      "outputs": []
    },
    {
      "cell_type": "code",
      "metadata": {
        "id": "8KR3OpYvWRsw"
      },
      "source": [
        "tokenized = typr_here.iloc[:,0].apply((lambda x: tokenizer.encode(str(x), add_special_tokens=True)))"
      ],
      "execution_count": null,
      "outputs": []
    },
    {
      "cell_type": "code",
      "metadata": {
        "id": "fj1uTe_8W5MN"
      },
      "source": [
        "\n",
        "max_len = 0\n",
        "for i in tokenized.values:\n",
        "    if len(i) > max_len:\n",
        "        max_len = len(i)\n",
        "\n",
        "padded = np.array([i + [0]*(44-len(i)) for i in tokenized.values])"
      ],
      "execution_count": null,
      "outputs": []
    },
    {
      "cell_type": "code",
      "metadata": {
        "id": "NSVp3WrjXB3S"
      },
      "source": [
        "input_ids = torch.tensor(np.array(padded))"
      ],
      "execution_count": null,
      "outputs": []
    },
    {
      "cell_type": "code",
      "metadata": {
        "id": "C4y2qluyXD2T",
        "colab": {
          "base_uri": "https://localhost:8080/",
          "height": 34
        },
        "outputId": "8feb1dc8-188f-4678-985a-0f7f3f2664ca"
      },
      "source": [
        "attention_mask = np.where(padded != 0, 1, 0)\n",
        "attention_mask.shape"
      ],
      "execution_count": null,
      "outputs": [
        {
          "output_type": "execute_result",
          "data": {
            "text/plain": [
              "(1, 44)"
            ]
          },
          "metadata": {
            "tags": []
          },
          "execution_count": 37
        }
      ]
    },
    {
      "cell_type": "code",
      "metadata": {
        "id": "Jj5_I0_hXPxM"
      },
      "source": [
        "input_ids = (torch.tensor(padded))\n",
        "attention_mask = (torch.tensor(attention_mask))"
      ],
      "execution_count": null,
      "outputs": []
    },
    {
      "cell_type": "code",
      "metadata": {
        "id": "1INDbanXXTX6"
      },
      "source": [
        "with torch.no_grad():\n",
        "    last_hidden_states_test = model(input_ids,attention_mask)"
      ],
      "execution_count": null,
      "outputs": []
    },
    {
      "cell_type": "code",
      "metadata": {
        "id": "eLlgVM69XXaK"
      },
      "source": [
        "y_pred = classifier.predict(last_hidden_states_test[0])\n"
      ],
      "execution_count": null,
      "outputs": []
    },
    {
      "cell_type": "code",
      "metadata": {
        "id": "LZfrtZk7Xv8F"
      },
      "source": [
        "Xtst=last_hidden_states_test[0]"
      ],
      "execution_count": null,
      "outputs": []
    },
    {
      "cell_type": "code",
      "metadata": {
        "id": "h2XUbM_eX0l_"
      },
      "source": [
        "class_idx = np.argmax(y_pred[0]) #not needed in this case as only two classes\n",
        "class_output = classifier.output[:, class_idx]\n",
        "last_conv_layer = classifier.get_layer(\"conv1d_3\")"
      ],
      "execution_count": null,
      "outputs": []
    },
    {
      "cell_type": "code",
      "metadata": {
        "id": "5BeuzpEvYisy"
      },
      "source": [
        "grads = K.gradients(class_output, last_conv_layer.output)[0]\n",
        "pooled_grads = K.mean(grads)\n",
        "iterate = K.function([classifier.input], [pooled_grads, last_conv_layer.output[0]])\n",
        "pooled_grads_value, conv_layer_output_value = iterate([Xtst])"
      ],
      "execution_count": null,
      "outputs": []
    },
    {
      "cell_type": "code",
      "metadata": {
        "id": "9DeejJUzY0pm",
        "colab": {
          "base_uri": "https://localhost:8080/",
          "height": 54
        },
        "outputId": "eb6f1aa4-6ea1-447b-bc4f-bef406b46b1b"
      },
      "source": [
        "import os\n",
        "import pandas as pd\n",
        "import numpy as np\n",
        "import matplotlib.pyplot as plt\n",
        "import math\n",
        "from IPython.display import HTML\n",
        "from sklearn.model_selection import train_test_split\n",
        "from numpy import array\n",
        "from numpy import argmax\n",
        "from keras.utils import to_categorical\n",
        "from keras.models import Model\n",
        "from keras import backend as K \n",
        "from keras.models import Sequential\n",
        "from keras import layers\n",
        "from keras.preprocessing.sequence import pad_sequences\n",
        "from keras.preprocessing.text import Tokenizer\n",
        "\n",
        "\n",
        "pd.options.display.max_rows\n",
        "pd.set_option('display.max_colwidth', -1)"
      ],
      "execution_count": null,
      "outputs": [
        {
          "output_type": "stream",
          "text": [
            "/usr/local/lib/python3.6/dist-packages/ipykernel_launcher.py:20: FutureWarning: Passing a negative integer is deprecated in version 1.0 and will not be supported in future version. Instead, use None to not limit the column width.\n"
          ],
          "name": "stderr"
        }
      ]
    },
    {
      "cell_type": "code",
      "metadata": {
        "id": "USfvuXZdY6D8"
      },
      "source": [
        "\n",
        "heatmap = np.mean(conv_layer_output_value, axis=-1)\n",
        "heatmap = np.maximum(heatmap,0)\n",
        "heatmap /= np.max(heatmap)#normalise values in the prediction\n"
      ],
      "execution_count": null,
      "outputs": []
    },
    {
      "cell_type": "code",
      "metadata": {
        "id": "43XkMFPjZAz1"
      },
      "source": [
        "norm_len = 36/last_conv_layer.output_shape[1] "
      ],
      "execution_count": null,
      "outputs": []
    },
    {
      "cell_type": "code",
      "metadata": {
        "id": "FCfdluxuZK6K",
        "colab": {
          "base_uri": "https://localhost:8080/",
          "height": 34
        },
        "outputId": "e39d57b2-decf-4388-e6d6-06ecff166e5d"
      },
      "source": [
        "y_pred"
      ],
      "execution_count": null,
      "outputs": [
        {
          "output_type": "execute_result",
          "data": {
            "text/plain": [
              "array([[0.01182991]], dtype=float32)"
            ]
          },
          "metadata": {
            "tags": []
          },
          "execution_count": 221
        }
      ]
    },
    {
      "cell_type": "code",
      "metadata": {
        "id": "DtlKWus5ZEjZ",
        "colab": {
          "base_uri": "https://localhost:8080/",
          "height": 114
        },
        "outputId": "a74cb049-ee0b-4286-d5ba-b5e098b4cece"
      },
      "source": [
        "html = \"\"\n",
        "#if y_pred[0]>0.5:\n",
        "#  pred = '90078731'\n",
        "#else:\n",
        "pred = '15401533'\n",
        "html += \"<span><h3>Based on the description, the model believes that text belongs to {} author \".format(pred)\n",
        "html += \"<small><br>Confidence: {:.0f}%<br><br></small></h3></span>\".format(abs(((y_pred[0][0]*100)-50)*2))\n",
        "for j,i in enumerate(type_here[0].split()):\n",
        "  html += \"<span style='background-color:rgba({},0,150,{})'>{} </span>\".format(heatmap[math.floor(j/norm_len)]*255,heatmap[math.floor(j/norm_len)]-0.3,i)\n",
        "\n",
        "HTML(html)\n"
      ],
      "execution_count": null,
      "outputs": [
        {
          "output_type": "execute_result",
          "data": {
            "text/html": [
              "<span><h3>Based on the description, the model believes that text belongs to 15401533 author <small><br>Confidence: 100%<br><br></small></h3></span><span style='background-color:rgba(197.29143261909485,0,150,0.4736918926239014)'>@appetite </span><span style='background-color:rgba(196.46496176719666,0,150,0.47045083045959474)'>H1N1 </span><span style='background-color:rgba(219.25481647253036,0,150,0.5598228096961975)'>UPDATE: </span><span style='background-color:rgba(255.0,0,150,0.7)'>Immunization </span><span style='background-color:rgba(224.87514048814774,0,150,0.5818632960319519)'>clinics </span><span style='background-color:rgba(221.23204797506332,0,150,0.5675766587257385)'>open </span><span style='background-color:rgba(226.72240376472473,0,150,0.5891074657440185)'>doors </span><span style='background-color:rgba(197.23919302225113,0,150,0.47348703145980836)'>to </span><span style='background-color:rgba(193.08203369379044,0,150,0.4571844458580017)'>high </span><span style='background-color:rgba(160.0055381655693,0,150,0.3274726986885071)'>school </span><span style='background-color:rgba(141.55184358358383,0,150,0.2551052689552307)'>students </span><span style='background-color:rgba(170.93531727790833,0,150,0.3703345775604248)'>- </span><span style='background-color:rgba(224.5417159795761,0,150,0.5805557489395141)'>LondonTopic.ca: </span><span style='background-color:rgba(214.8105749487877,0,150,0.5423944115638732)'>H1N1 </span><span style='background-color:rgba(244.28791880607605,0,150,0.6579918384552002)'>UPDATE: </span><span style='background-color:rgba(206.87761902809143,0,150,0.5112847805023193)'>Immunization </span><span style='background-color:rgba(173.631774187088,0,150,0.3809089183807373)'>clini.. </span>"
            ],
            "text/plain": [
              "<IPython.core.display.HTML object>"
            ]
          },
          "metadata": {
            "tags": []
          },
          "execution_count": 50
        }
      ]
    }
  ]
}