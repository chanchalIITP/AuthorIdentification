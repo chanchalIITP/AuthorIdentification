{
  "nbformat": 4,
  "nbformat_minor": 0,
  "metadata": {
    "colab": {
      "name": "BERT_Capsules.ipynb",
      "provenance": []
    },
    "kernelspec": {
      "name": "python3",
      "display_name": "Python 3"
    }
  },
  "cells": [
    {
      "cell_type": "code",
      "metadata": {
        "id": "w0ohaXlgQa1E",
        "colab": {
          "base_uri": "https://localhost:8080/",
          "height": 356
        },
        "outputId": "848d1a71-e49f-4d29-ba61-5bf52cbbd5da"
      },
      "source": [
        "pip install transformers"
      ],
      "execution_count": null,
      "outputs": [
        {
          "output_type": "stream",
          "text": [
            "Requirement already satisfied: transformers in /usr/local/lib/python3.6/dist-packages (3.0.2)\n",
            "Requirement already satisfied: sentencepiece!=0.1.92 in /usr/local/lib/python3.6/dist-packages (from transformers) (0.1.91)\n",
            "Requirement already satisfied: regex!=2019.12.17 in /usr/local/lib/python3.6/dist-packages (from transformers) (2019.12.20)\n",
            "Requirement already satisfied: packaging in /usr/local/lib/python3.6/dist-packages (from transformers) (20.4)\n",
            "Requirement already satisfied: filelock in /usr/local/lib/python3.6/dist-packages (from transformers) (3.0.12)\n",
            "Requirement already satisfied: tqdm>=4.27 in /usr/local/lib/python3.6/dist-packages (from transformers) (4.41.1)\n",
            "Requirement already satisfied: sacremoses in /usr/local/lib/python3.6/dist-packages (from transformers) (0.0.43)\n",
            "Requirement already satisfied: requests in /usr/local/lib/python3.6/dist-packages (from transformers) (2.23.0)\n",
            "Requirement already satisfied: dataclasses; python_version < \"3.7\" in /usr/local/lib/python3.6/dist-packages (from transformers) (0.7)\n",
            "Requirement already satisfied: tokenizers==0.8.1.rc1 in /usr/local/lib/python3.6/dist-packages (from transformers) (0.8.1rc1)\n",
            "Requirement already satisfied: numpy in /usr/local/lib/python3.6/dist-packages (from transformers) (1.18.5)\n",
            "Requirement already satisfied: six in /usr/local/lib/python3.6/dist-packages (from packaging->transformers) (1.12.0)\n",
            "Requirement already satisfied: pyparsing>=2.0.2 in /usr/local/lib/python3.6/dist-packages (from packaging->transformers) (2.4.7)\n",
            "Requirement already satisfied: click in /usr/local/lib/python3.6/dist-packages (from sacremoses->transformers) (7.1.2)\n",
            "Requirement already satisfied: joblib in /usr/local/lib/python3.6/dist-packages (from sacremoses->transformers) (0.16.0)\n",
            "Requirement already satisfied: chardet<4,>=3.0.2 in /usr/local/lib/python3.6/dist-packages (from requests->transformers) (3.0.4)\n",
            "Requirement already satisfied: urllib3!=1.25.0,!=1.25.1,<1.26,>=1.21.1 in /usr/local/lib/python3.6/dist-packages (from requests->transformers) (1.24.3)\n",
            "Requirement already satisfied: idna<3,>=2.5 in /usr/local/lib/python3.6/dist-packages (from requests->transformers) (2.10)\n",
            "Requirement already satisfied: certifi>=2017.4.17 in /usr/local/lib/python3.6/dist-packages (from requests->transformers) (2020.6.20)\n"
          ],
          "name": "stdout"
        }
      ]
    },
    {
      "cell_type": "code",
      "metadata": {
        "id": "I9q_AhIDQhl1"
      },
      "source": [
        "import numpy as np\n",
        "import pandas as pd\n",
        "import torch\n",
        "import transformers  as ppb \n",
        "from sklearn.linear_model import LogisticRegression\n",
        "from sklearn.model_selection import cross_val_score\n",
        "from sklearn.model_selection import train_test_split"
      ],
      "execution_count": null,
      "outputs": []
    },
    {
      "cell_type": "code",
      "metadata": {
        "id": "C_1j-XiIRiY_"
      },
      "source": [
        "from keras.callbacks import Callback, EarlyStopping, ModelCheckpoint\n",
        "from keras.engine import Layer\n",
        "from keras.layers import Activation, Add, Bidirectional, Conv1D, Dense, Dropout, Embedding, Flatten\n",
        "from keras.layers import concatenate, GRU, Input, LSTM, MaxPooling1D\n",
        "from keras.layers import GlobalAveragePooling1D,  GlobalMaxPooling1D, SpatialDropout1D\n",
        "from keras.models import Model\n",
        "import keras.backend as k\n",
        "from keras.optimizers import Adam\n",
        "from keras.preprocessing import text, sequence\n",
        "from sklearn.metrics import accuracy_score, roc_auc_score, log_loss\n",
        "from sklearn.model_selection import train_test_split\n",
        "from keras import initializers, regularizers, constraints, optimizers, layers, callbacks"
      ],
      "execution_count": null,
      "outputs": []
    },
    {
      "cell_type": "code",
      "metadata": {
        "id": "SrqSFT4cRZPV"
      },
      "source": [
        "import numpy as np # linear algebra\n",
        "import pandas as pd # data processing, CSV file I/O (e.g. pd.read_csv)\n",
        "from gensim.models import Word2Vec\n",
        "from sklearn.decomposition import PCA\n",
        "from sklearn.feature_extraction.text import TfidfVectorizer\n",
        "from gensim.test.utils import common_texts, get_tmpfile\n",
        "from keras.preprocessing.text import Tokenizer\n",
        "from sklearn.model_selection import train_test_split, StratifiedKFold\n",
        "from sklearn import metrics\n",
        "from keras.layers import *\n",
        "from keras.models import *\n",
        "from keras import initializers, regularizers, constraints, optimizers, layers\n",
        "from keras.initializers import *\n",
        "from keras.optimizers import *\n",
        "import keras.backend as K\n",
        "from keras.callbacks import *\n",
        "import tensorflow as tf\n",
        "from keras.preprocessing.sequence import pad_sequences\n",
        "from smart_open import smart_open\n",
        "import datetime \n",
        "from keras.utils import multi_gpu_model\n",
        "\n",
        "import os\n",
        "import time\n",
        "import gc\n",
        "import re\n",
        "import random"
      ],
      "execution_count": null,
      "outputs": []
    },
    {
      "cell_type": "code",
      "metadata": {
        "id": "lpLaL3FSQkss"
      },
      "source": [
        "model_class, tokenizer_class, pretrained_weights = (ppb.DistilBertModel, ppb.DistilBertTokenizer, 'distilbert-base-uncased')\n",
        "\n",
        "#We can use BERT but here I am using DistillBERT because BERT requires more RAM then available in the colab,but to use BERT just uncomment the next line and comment the previous line\n",
        "#model_class, tokenizer_class, pretrained_weights = (ppb.BertModel, ppb.BertTokenizer, 'bert-base-uncased')\n",
        "\n",
        "# Load pretrained model/tokenizer\n",
        "tokenizer = tokenizer_class.from_pretrained(pretrained_weights)\n",
        "model = model_class.from_pretrained(pretrained_weights)\n",
        "#To run the model on GPU\n",
        "#model.cuda()   "
      ],
      "execution_count": null,
      "outputs": []
    },
    {
      "cell_type": "code",
      "metadata": {
        "id": "Jp3ixJRkRmh3"
      },
      "source": [
        "gru_len = 128\n",
        "Routings = 5\n",
        "Num_capsule = 10\n",
        "Dim_capsule = 16\n",
        "dropout_p = 0.3\n",
        "rate_drop_dense = 0.3"
      ],
      "execution_count": null,
      "outputs": []
    },
    {
      "cell_type": "code",
      "metadata": {
        "id": "efwKwuGSo7gY"
      },
      "source": [
        "def squash(x, axis=-1):\n",
        "    s_squared_norm = K.sum(K.square(x), axis, keepdims=True) + K.epsilon()\n",
        "    scale = K.sqrt(s_squared_norm) / (0.5 + s_squared_norm)\n",
        "    return scale * x\n",
        "\n",
        "\n",
        "# define our own softmax function instead of K.softmax\n",
        "# because K.softmax can not specify axis.\n",
        "def softmax(x, axis=-1):\n",
        "    ex = K.exp(x - K.max(x, axis=axis, keepdims=True))\n",
        "    return ex / K.sum(ex, axis=axis, keepdims=True)\n",
        "\n",
        "\n",
        "# define the margin loss like hinge loss\n",
        "def margin_loss(y_true, y_pred):\n",
        "    lamb, margin = 0.5, 0.1\n",
        "    return K.sum(y_true * K.square(K.relu(1 - margin - y_pred)) + lamb * (\n",
        "        1 - y_true) * K.square(K.relu(y_pred - margin)), axis=-1)\n",
        "\n",
        "\n",
        "class Capsule(Layer):\n",
        "    \"\"\"A Capsule Implement with Pure Keras\n",
        "    There are two vesions of Capsule.\n",
        "    One is like dense layer (for the fixed-shape input),\n",
        "    and the other is like timedistributed dense (for various length input).\n",
        "\n",
        "    The input shape of Capsule must be (batch_size,\n",
        "                                        input_num_capsule,\n",
        "                                        input_dim_capsule\n",
        "                                       )\n",
        "    and the output shape is (batch_size,\n",
        "                             num_capsule,\n",
        "                             dim_capsule\n",
        "                            )\n",
        "\n",
        "    Capsule Implement is from https://github.com/bojone/Capsule/\n",
        "    Capsule Paper: https://arxiv.org/abs/1710.09829\n",
        "    \"\"\"\n",
        "\n",
        "    def __init__(self,\n",
        "                 num_capsule,\n",
        "                 dim_capsule,\n",
        "                 routings=3,\n",
        "                 share_weights=True,\n",
        "                 activation='squash',\n",
        "                 **kwargs):\n",
        "        super(Capsule, self).__init__(**kwargs)\n",
        "        self.num_capsule = num_capsule\n",
        "        self.dim_capsule = dim_capsule\n",
        "        self.routings = routings\n",
        "        self.share_weights = share_weights\n",
        "        if activation == 'squash':\n",
        "            self.activation = squash\n",
        "        else:\n",
        "            self.activation = activations.get(activation)\n",
        "\n",
        "    def build(self, input_shape):\n",
        "        input_dim_capsule = input_shape[-1]\n",
        "        if self.share_weights:\n",
        "            self.kernel = self.add_weight(\n",
        "                name='capsule_kernel',\n",
        "                shape=(1, input_dim_capsule,\n",
        "                       self.num_capsule * self.dim_capsule),\n",
        "                initializer='glorot_uniform',\n",
        "                trainable=True)\n",
        "        else:\n",
        "            input_num_capsule = input_shape[-2]\n",
        "            self.kernel = self.add_weight(\n",
        "                name='capsule_kernel',\n",
        "                shape=(input_num_capsule, input_dim_capsule,\n",
        "                       self.num_capsule * self.dim_capsule),\n",
        "                initializer='glorot_uniform',\n",
        "                trainable=True)\n",
        "\n",
        "    def call(self, inputs):\n",
        "        \"\"\"Following the routing algorithm from Hinton's paper,\n",
        "        but replace b = b + <u,v> with b = <u,v>.\n",
        "\n",
        "        This change can improve the feature representation of Capsule.\n",
        "\n",
        "        However, you can replace\n",
        "            b = K.batch_dot(outputs, hat_inputs, [2, 3])\n",
        "        with\n",
        "            b += K.batch_dot(outputs, hat_inputs, [2, 3])\n",
        "        to realize a standard routing.\n",
        "        \"\"\"\n",
        "\n",
        "        if self.share_weights:\n",
        "            hat_inputs = K.conv1d(inputs, self.kernel)\n",
        "        else:\n",
        "            hat_inputs = K.local_conv1d(inputs, self.kernel, [1], [1])\n",
        "\n",
        "        batch_size = K.shape(inputs)[0]\n",
        "        input_num_capsule = K.shape(inputs)[1]\n",
        "        hat_inputs = K.reshape(hat_inputs,\n",
        "                               (batch_size, input_num_capsule,\n",
        "                                self.num_capsule, self.dim_capsule))\n",
        "        hat_inputs = K.permute_dimensions(hat_inputs, (0, 2, 1, 3))\n",
        "\n",
        "        b = K.zeros_like(hat_inputs[:, :, :, 0])\n",
        "        for i in range(self.routings):\n",
        "            c = softmax(b, 1)\n",
        "            o = self.activation(K.batch_dot(c, hat_inputs, [2, 2]))\n",
        "            if i < self.routings - 1:\n",
        "                b = K.batch_dot(o, hat_inputs, [2, 3])\n",
        "                if K.backend() == 'theano':\n",
        "                    o = K.sum(o, axis=1)\n",
        "\n",
        "        return o\n",
        "\n",
        "    def compute_output_shape(self, input_shape):\n",
        "        return (None, self.num_capsule, self.dim_capsule)\n"
      ],
      "execution_count": null,
      "outputs": []
    },
    {
      "cell_type": "code",
      "metadata": {
        "id": "ADFlfbYXQpvZ"
      },
      "source": [
        "#Importing the dataset\n",
        "import pandas as pd\n",
        " \n",
        "dataset=pd.read_csv('/content/1000_tweets_2_user_new_non-bot.csv')\n",
        "#dataset.iloc[:,0:1].fillna('other', inplace=True)\n",
        "y=dataset.iloc[:,1].values"
      ],
      "execution_count": null,
      "outputs": []
    },
    {
      "cell_type": "code",
      "metadata": {
        "id": "pCb64p3hxIRH"
      },
      "source": [
        ""
      ],
      "execution_count": null,
      "outputs": []
    },
    {
      "cell_type": "code",
      "metadata": {
        "id": "AuQ9tmaUFCTa",
        "colab": {
          "base_uri": "https://localhost:8080/",
          "height": 67
        },
        "outputId": "99d2ca57-abc3-43f3-c930-dc4c7e61bede"
      },
      "source": [
        "import nltk\n",
        "nltk.download('stopwords')"
      ],
      "execution_count": null,
      "outputs": [
        {
          "output_type": "stream",
          "text": [
            "[nltk_data] Downloading package stopwords to /root/nltk_data...\n",
            "[nltk_data]   Unzipping corpora/stopwords.zip.\n"
          ],
          "name": "stdout"
        },
        {
          "output_type": "execute_result",
          "data": {
            "text/plain": [
              "True"
            ]
          },
          "metadata": {
            "tags": []
          },
          "execution_count": 25
        }
      ]
    },
    {
      "cell_type": "code",
      "metadata": {
        "id": "wb-KTgvxOwd_",
        "colab": {
          "base_uri": "https://localhost:8080/",
          "height": 67
        },
        "outputId": "8fc3f607-123b-49c0-c75f-8cb3d444c64f"
      },
      "source": [
        "import nltk\n",
        "nltk.download('wordnet')"
      ],
      "execution_count": null,
      "outputs": [
        {
          "output_type": "stream",
          "text": [
            "[nltk_data] Downloading package wordnet to /root/nltk_data...\n",
            "[nltk_data]   Unzipping corpora/wordnet.zip.\n"
          ],
          "name": "stdout"
        },
        {
          "output_type": "execute_result",
          "data": {
            "text/plain": [
              "True"
            ]
          },
          "metadata": {
            "tags": []
          },
          "execution_count": 176
        }
      ]
    },
    {
      "cell_type": "code",
      "metadata": {
        "id": "SRzWJHAGFCDo"
      },
      "source": [
        "k=0\n",
        "X_train=[]\n",
        "y_train=[]\n",
        "for i in range(0,2):\n",
        "  for j in range(k,k+980):\n",
        "    X_train.append(dataset.iloc[j,0])\n",
        "    y_train.append(dataset.iloc[j,1])\n",
        "  k+=1000"
      ],
      "execution_count": null,
      "outputs": []
    },
    {
      "cell_type": "code",
      "metadata": {
        "id": "_kZx0qU5w3L9"
      },
      "source": [
        "for i in range(0,980):\n",
        "  X_train.append(dataset2.iloc[i,2])\n",
        "  y_train.append(112345)"
      ],
      "execution_count": null,
      "outputs": []
    },
    {
      "cell_type": "code",
      "metadata": {
        "id": "tKIxrfNbxsJF"
      },
      "source": [
        "for i in range(980,1000):\n",
        "  X_test.append(dataset2.iloc[i,2])\n",
        "  y_test.append(112345)"
      ],
      "execution_count": null,
      "outputs": []
    },
    {
      "cell_type": "code",
      "metadata": {
        "id": "czdXySmZ_XXy"
      },
      "source": [
        "k=980\n",
        "X_test=[]\n",
        "y_test=[]\n",
        "for i in range(0,2):\n",
        "  for j in range(k,k+20):\n",
        "    X_test.append(dataset.iloc[j,0])\n",
        "    y_test.append(dataset.iloc[j,1])\n",
        "  k+=1000"
      ],
      "execution_count": null,
      "outputs": []
    },
    {
      "cell_type": "code",
      "metadata": {
        "id": "YjEGhDxRO5ni",
        "colab": {
          "base_uri": "https://localhost:8080/",
          "height": 1000
        },
        "outputId": "e0528d72-fde2-4d79-e4ca-2ad64ef2be33"
      },
      "source": [
        "X_train"
      ],
      "execution_count": null,
      "outputs": [
        {
          "output_type": "execute_result",
          "data": {
            "text/plain": [
              "[\"b'To the lady with free punching bag (Any): Hi  To the lady with the punching bag. Your contact information is undeli... http://bit.ly/5FRzsG\\\\n'\",\n",
              " \"b'free lateral file cabinet: the email does not work and I would like to gett it thanks http://bit.ly/6bMXxa http://bit.ly/6KPOg2\\\\n'\",\n",
              " \"b'Give out some Free toothbrush: I got a bunch of extra toothbrushes at home which I never touch because I use el.. http://bit.ly/3XT9vW\\\\n'\",\n",
              " 'b\"Wood Pallets (45 & West Road): 4 ft x 10 ft wood pallets they have 10 ft long 4x4\\'s on them and 4 ft 1x6\\'s... http://bit.ly/zptAY\\\\n\"',\n",
              " \"b'Free Clothes and purses (cleveland): Free clothes little girls, women, and men plus some purses and shoes....must t... http://bit.ly/5Aqgie\\\\n'\",\n",
              " \"b'curb alert-chest FREEZER-works! (Steeplechase 77065): On the curb at 10414 Jockey Club Drive Houston, Tx. 77065 (en... http://bit.ly/7VSIAz\\\\n'\",\n",
              " \"b'male pit $30 re-homing fee 832-435-6554 (aldine): 14 mo. old male rednose http://bit.ly/8Eaj2t http://bit.ly/6KPOg2\\\\n'\",\n",
              " \"b'** FREE 1hr Fitness Training FREE ** (Northwest/Cy-fair/Katy): I am a 38 year old Fitness Trai... http://bit.ly/7uULO9 http://bit.ly/6KPOg2\\\\n'\",\n",
              " \"b'Camper shell Ford Short Bed (Houston):  I have a ford camper shell that i removed from my ford... http://bit.ly/cYECEV http://bit.ly/6KPOg2\\\\n'\",\n",
              " \"b'Free King matress, frame, box springs (Spring): Free to anyone who can come pick up today, I can not help, stuf.. http://bit.ly/4yXuGt\\\\n'\",\n",
              " \"b'Free Bricks, Bed Frame, TV (Cypress): Pick up today please!   About 300 red tone bricks left over from when our .. http://bit.ly/qy3ps\\\\n'\",\n",
              " \"b'CURB ALERT!! (LEAGUE CITY): BRITTANY BAY SUB.  CASTLE DR. OFF OF HOBBS/LEAGUE CITY PARKWAY.   THERE IS AN ANTIQUE S... http://bit.ly/8peylI\\\\n'\",\n",
              " \"b'FREE RODEO TICKETS POSTING # 1600946873 IS A MISTAKE (HOUSTON): THIS POSTING WAS ONCE AGAIN A ... http://bit.ly/cO7ndA http://bit.ly/6KPOg2\\\\n'\",\n",
              " \"b'free basket ball goal (Lake Jackson): come and get it 979 297 9982 http://bit.ly/CWKzw\\\\n'\",\n",
              " 'b\\'FREE 60\" MITSUBISHI TV (The Woodlands, TX): We have a free 60\" Mitsubishi projection television and a free Mits.. http://bit.ly/4Jcix4\\\\n\\'',\n",
              " \"b'sofa (Sugar Land): I am moving and have a sleeper sofa to give away. It is in good condition. It was not around.. http://bit.ly/1699u8\\\\n'\",\n",
              " \"b'unwanted furniture , misc. items: will pick up unwanted furniture and misc. items emial mutantjoe48@yahoo.com http://bit.ly/FtBXG\\\\n'\",\n",
              " \"b'Some great free things: Get a lot of great things here, it is updated everyday with new free things: http://www.fre... http://bit.ly/5KjMzV\\\\n'\",\n",
              " 'b\\'FREE - 54\" TV - Needs Repair (Pearland/Friendswood): 54\" RCA Projection TV. Has picture but seems to have a pro.. http://bit.ly/iTLUD\\\\n\\'',\n",
              " \"b'HP Officejet 6210 Printer/Scanner/Copier/Fax (West University): I have a FREE HP Officejet 6210 Printer/Scanner.. http://bit.ly/7KneMA\\\\n'\",\n",
              " \"b'I haul your junk (new caney): I will haul away your junk for free. I am in need , I have a 4 w... http://bit.ly/5th57v http://bit.ly/6KPOg2\\\\n'\",\n",
              " \"b'Vintage gas range: This old gas range has been working like a charm. It just came out of my soon to be renovate.. http://bit.ly/iOyYn\\\\n'\",\n",
              " \"b'Christmas is about giving (Katy/Northwest): Donate some time to help a need 2hands .org can help you with your need... http://bit.ly/89wRzU\\\\n'\",\n",
              " \"b'Have metal?Ill pick up alvin & surrounding area (alvin): Please dont flag me im out of work an... http://bit.ly/9bUaXD http://bit.ly/6KPOg2\\\\n'\",\n",
              " \"b'2 free old cars(junk) (deer park): I have two old mustangs that are crapping out my yard and need them gone asa.. http://bit.ly/4DyJ9U\\\\n'\",\n",
              " \"b'motor parts (angleton): call jessi 979-481-1494 http://bit.ly/16tMhq\\\\n'\",\n",
              " 'b\\'Serving Tray and Side Table Top (no legs) (Tomball): Serving tray-3\" x 16\" x 25\", metal frame (looks like bamboo.. http://bit.ly/3zVLvV\\\\n\\'',\n",
              " \"b'FREE WAY TO MAKE MONEY FROM HOME AND THIS IS NOT SPAM (houston ): Clix Sense will pay you. Get... http://bit.ly/crblsk http://bit.ly/6KPOg2\\\\n'\",\n",
              " \"b'Garage Sale Leftovers (Katy): I have a bunch of misc leftovers from my garage sale. Must take all and MUST pick .. http://bit.ly/g3Qsn\\\\n'\",\n",
              " \"b'Free Baby/Toddler stuff to needy family (Spring Tx): I have 3 girls and mountains of clothes. ( sizes from newborn ... http://bit.ly/5BH00r\\\\n'\",\n",
              " 'b\"Free Mattress and Box: I\\'ve got a good condition queen size mattress and box for free. Also got a brand new sti.. http://bit.ly/aXAzA\\\\n\"',\n",
              " \"b'free two big bag of female clothing (SW): Hello,   Free is 2 bags of clothing with jeans/slack, skirts, dress, .. http://bit.ly/2MXbfX\\\\n'\",\n",
              " \"b'wanted a good home (Katy Texas): 9 week old kittens- calico or orange tabby...sweet and playful, ready to be ad.. http://bit.ly/f0Ev9\\\\n'\",\n",
              " \"b'free working washer and dryer (706 rittenhouse 77076): i have a washer and dryer that i dont need anymore becau.. http://bit.ly/E6tRL\\\\n'\",\n",
              " 'b\\'Small boxes (Houston): 13 small, sturdy cardboard boxes 8 inches x 8 inches\" x (5 inches height)   PLEASE READ -.. http://bit.ly/IRUMY\\\\n\\'',\n",
              " \"b'Free House (SW Houston): House is on blocks can be moved 713-208-0514 Jesse http://bit.ly/8RpqFv http://bit.ly/6KPOg2\\\\n'\",\n",
              " 'b\\'free Computer Monitor 13\" crt (works) (Hwy 290 / Fairbanks): It is a gray Envision crt computer monitor and has.. http://bit.ly/6rjzk\\\\n\\'',\n",
              " 'b\"Free Subs (45 and west rd.): i got a kenwood 12\\'\\'?nch sub and a 10 inch kicker L5 they both need minor repair b.. http://bit.ly/82b2D\\\\n\"',\n",
              " \"b'Entertainment Center (Katy): Free to Good Home!! Entertainment center that fits a 32 inch tv, possibly bigger. It i... http://bit.ly/6KB4AN\\\\n'\",\n",
              " \"b'Printer HP ColorLaser Jet-Needs repair (Hitchcock, Texas): HP2605dn HP Color Laser Jet. The print looks like you.. http://bit.ly/2Mu10O\\\\n'\",\n",
              " \"b'WOOD SCREEN DOOR (FRIENDSWOOD): WOOD SCREEN DOOR 32 X 80 NEW NEVER HUNG AND NO TEARS IN SCREEN http://bit.ly/ccBTqd http://bit.ly/6KPOg2\\\\n'\",\n",
              " \"b'FREE 36 in. RCA TV: Free 36 in. 20 year old RCA tv. Very Very heavy and big ,works fine. 832-3... http://bit.ly/bQWnlv http://bit.ly/6KPOg2\\\\n'\",\n",
              " \"b'good stuff free, kitchen, yard, house, appare (N.W. Houston, Hempstead.): Lots of cool stuff! Must take all. Sm.. http://bit.ly/Pa7i\\\\n'\",\n",
              " \"b'frontload washer and tv: defective tv and maytag frontload washer call 2815683496 http://bit.ly/mwgeI\\\\n'\",\n",
              " \"b'Maxim Magazines (Spring): Free stack of Maxim Magazines. Most, if not all are in excellent condition, spanning t.. http://bit.ly/iCOSu\\\\n'\",\n",
              " \"b'blankets bedspreads   conferters (texascity or houston): im looking for blankets bedspread  for king size beds full... http://bit.ly/4QydmK\\\\n'\",\n",
              " \"b'Info needed (Cleveland/North of Houston): Hello - I live North of Houston and my family is in ... http://bit.ly/5mHgqT http://bit.ly/6KPOg2\\\\n'\",\n",
              " 'b\\'Free 36\" Hitachi Table Top TV (Southeast Houston): Free 36\" tv works fine at times and then after a while shuts.. http://bit.ly/JJxA7\\\\n\\'',\n",
              " \"b'FREE COUCH AND CHAISE LOUNGES!  (Katy near I10 and Fry ): FREE COUCH and TWO CHAISE LOUNGES!   We have a small sofa... http://bit.ly/8Zmv2L\\\\n'\",\n",
              " \"b'FREE RAT!!!! (Katy, Tx): This is a domestic rat that is really loving and has the biggest pers... http://bit.ly/ciOT9Z http://bit.ly/6KPOg2\\\\n'\",\n",
              " \"b'Free Furniture  (NW Houston/Tomball): Moving and do not have room for leftover furniture. I wo... http://bit.ly/5jbXVP http://bit.ly/6KPOg2\\\\n'\",\n",
              " 'b\"Couches (Pearland): A love sear and sofa. Not so good condition, but hey, they\\'re free.  Must carry downstairs.  I\\'... http://bit.ly/7gkcXd\\\\n\"',\n",
              " \"b'Sand (Galleria): TODAY ONLY!!!!!!!!!!      Have one yard of sand to be picked up today only.  ... http://bit.ly/6f5HGW http://bit.ly/6KPOg2\\\\n'\",\n",
              " \"b'FREE Baby Formula 3 cans (Dayton, Texas): Nestle Good Start Gentle Plus has about 1/4 left Expires 28 October 2.. http://bit.ly/1I1KuH\\\\n'\",\n",
              " \"b'FREE TORO LAWNMOWER (League City): FREE lawnmower. It does not want to start. Great for someone who can fix it o.. http://bit.ly/teArG\\\\n'\",\n",
              " \"b'Psychic Readings... ONE FREE QUESTION 832 631 0242 (HOUSTON 832 631 0242): Hi, Psychic readings available by Sa.. http://bit.ly/9TmI9\\\\n'\",\n",
              " \"b'FREE Bottle of the most Nutritional Supplement ever made. (Houston & surrounding areas): This has the highe.. http://bit.ly/hmTi6\\\\n'\",\n",
              " 'b\\'tinted mirror 43\" X 111\" (montrose): Darkly tinted mirror over 6 and a half feet in height by... http://bit.ly/c6sZzy  http://bit.ly/6KPOg2\\\\n\\'',\n",
              " \"b'Free Goats (45 North ): I have three goat that i need to give away because i am relocating. Tw... http://bit.ly/7agHHL http://bit.ly/6KPOg2\\\\n'\",\n",
              " \"b'Free six-drawer dresser (mem and gessner): One of the drawer bottoms is missing. Can be cut out of 1/8 in plywo.. http://bit.ly/1OU6te\\\\n'\",\n",
              " \"b'Refrigerator Admiral side by side  (Spring, TX 77388): Please read this ad thoroughly!  Every ... http://bit.ly/cGpGPp http://bit.ly/6KPOg2\\\\n'\",\n",
              " \"b'single mom in need of furniture  (texas city texas): hello if you know of anyone who is gettin... http://bit.ly/7ArUJF http://bit.ly/6KPOg2\\\\n'\",\n",
              " 'b\"GE Gas Stove for parts or repair. (Holcombe and Buffalo Speedway. 77025): We\\'ve used this for years and then th.. http://bit.ly/Yl9Dh\\\\n\"',\n",
              " \"b'Computer Desk (Willowbrook): This is a maple computer desk and hutch in good shape.  There are... http://bit.ly/btdpdY http://bit.ly/6KPOg2\\\\n'\",\n",
              " \"b'Office Chair (Cypress): Come and get it tonight. Please call 7133844224 http://bit.ly/4EyELZ\\\\n'\",\n",
              " \"b'Free TV stand (medical center): I am moving amd want to give away my TV stand. You have to pick it up by yourse.. http://bit.ly/PBlw1\\\\n'\",\n",
              " \"b'Pecan wood is scam!: Guy says he did not posr this! http://bit.ly/4nUGub http://bit.ly/6KPOg2\\\\n'\",\n",
              " \"b'boys uniform pants: im in need of boys uniform pants 6t, khaki or navy blue... plz let me know... http://bit.ly/c1tlUL http://bit.ly/6KPOg2\\\\n'\",\n",
              " \"b'Water Cooler/Dispenser (medical center): Company has an old water cooler/dispenser (for 3-5 gal water jugs) wit.. http://bit.ly/pjpgl\\\\n'\",\n",
              " \"b'Free sofa and loveseat (Baytown): Very comfortable sofa and loveseat for free!!!! They have scratches in the sea.. http://bit.ly/e5Sl4\\\\n'\",\n",
              " \"b'Scrooges of craigslist: I see families reaching out for help for the holidays, and others wanting to help a family.... http://bit.ly/5HTmXO\\\\n'\",\n",
              " 'b\\'Free used lumber. (Missouri City): 20\\\\\\' X 20\\\\\\' gazebo containing 2\"x6\"x 12\\\\\\' flooring and siding,... http://bit.ly/64CI8Z http://bit.ly/6KPOg2\\\\n\\'',\n",
              " \"b'free computer desk (league city): free black computer desk with matching book shelf must come ... http://bit.ly/dlWdHe http://bit.ly/6KPOg2\\\\n'\",\n",
              " \"b'PPU...Free Full Size/Double Mattress, Box Springs (Barker Cypress/W. Little York, west side): PENDING PICKUP..... http://bit.ly/1aFYUJ\\\\n'\",\n",
              " 'b\\'19\" HP CRT Monitor (Kemah Clear Lake): Free working HP CRT 19\" Monitor. . it works great, but i\\\\\\'ve not used it .. http://bit.ly/ZONcp\\\\n\\'',\n",
              " \"b'To Everyone interested in Entertainment Center (La Porte): I am so sorry that I was not able to respond to ever.. http://bit.ly/4k7OdQ\\\\n'\",\n",
              " \"b'Canon S520 printer (Spring): Canon S520 printer. Sort of works... prints several lines OK, then only half print.. http://bit.ly/40CN9r\\\\n'\",\n",
              " \"b'Wipey Warmer (290 @ Hwy. 6): I?m cleaning out my garage, so this has to go. I plugged it in to... http://bit.ly/bYMFce http://bit.ly/6KPOg2\\\\n'\",\n",
              " \"b'I NEED CONTROLLERS FOR GAME SYSTEMS: ANY KIND OF CONTROLLERS  GAMES   GAME SYSTEMS  EMAIL ME A... http://bit.ly/8iP03J http://bit.ly/6KPOg2\\\\n'\",\n",
              " \"b'Free Brick (Beltway & 45 S): I have several bricks up for grabs. some cinder block, some stepping stone conc.. http://bit.ly/h9UXn\\\\n'\",\n",
              " \"b'WHY AREYOU FLAGING ME I NEED SCREEN FOR MY WINDOWS IKE TOOK THEM: PL EASE CALL ME I WILL SHOW YOU MY HOME IT DO.. http://bit.ly/IBvBv\\\\n'\",\n",
              " \"b'Medtronic Carelink Monitor - Cardiac (Willis, TX ): I have a Medtronic Carelink Monitor that I am hoping someone co... http://bit.ly/7SnvH8\\\\n'\",\n",
              " \"b'Free Black Kittens (Houston / Rice Village):   Two cute & cuddly kittens ready to go to a good home - as a pair .. http://bit.ly/17RR5n\\\\n'\",\n",
              " \"b'shelves / tv entertainment (bammel/veteran): Free, I also have a TV entertainment that fit 32 inch TV (not in t.. http://bit.ly/5CBlV9\\\\n'\",\n",
              " 'b\"Air Hockey Table - (The Woodlands): Still works, but the kids don\\'t play anymore.  Will cancel... http://bit.ly/coNqq5 http://bit.ly/6KPOg2\\\\n\"',\n",
              " \"b'Black pleather rocking recliner (spring ): Everything works good condition, could use new upho... http://bit.ly/dmscve http://bit.ly/6KPOg2\\\\n'\",\n",
              " 'b\"Free DESK (59 N / Crosstimbers): Free desk. Please email and I will give directions for pick up.  It\\'s a old des.. http://bit.ly/z3uwX\\\\n\"',\n",
              " 'b\"Free Dresser (Museum District): Free Dresser. In good condition. Just can\\'t find room for it in my new apartment. C... http://bit.ly/7RmH71\\\\n\"',\n",
              " 'b\"Merry Christmas to both of us (League City): Let\\'s help each other out, I have a bunch of items for free...you take... http://bit.ly/92NtqK\\\\n\"',\n",
              " \"b'king size mattress & box springs (highlands 77562): not new but still in good shape , has a few small rips .. http://bit.ly/4sWwzD\\\\n'\",\n",
              " \"b'SleepNumber Bed (As Advertised on TV) (West Houston): SleepNumber Queen-size mattress, boxspring, and frame.  This ... http://bit.ly/4Yba0t\\\\n'\",\n",
              " 'b\"Free Trees (Houston (Spring Branch)): Free Trees for firewood. Must cut them down and haul them off have 100\\'s .. http://bit.ly/26X53R\\\\n\"',\n",
              " 'b\\'FREE 32\" TV _ Please email me!!! (Your post): I tried to call your number and it would not all... http://bit.ly/dh5XwT http://bit.ly/6KPOg2\\\\n\\'',\n",
              " \"b'Bunk Bed with Futon (Willowood-77086): Used Bunk Bed in good condition. This was given to us a... http://bit.ly/9qcOYO http://bit.ly/6KPOg2\\\\n'\",\n",
              " \"b'FREE ITEMS ON CURB (Katy @ Mason/Clay): FREE ITEMS WILL BE OUT ON THE CURB FOR THE 1ST PERSON WHO PICKS THEM UP.. http://bit.ly/3nCG48\\\\n'\",\n",
              " \"b'employee 4 cleaning (houston): 9 per hour   36 hous a week need have transp http://bit.ly/2j45KK\\\\n'\",\n",
              " \"b'~Free Chair and Ottoman~ (Houston, TX.): Most comftorable chair, the only thing is the left arm rest keeps falli.. http://bit.ly/4rYWIO\\\\n'\",\n",
              " \"b'Get free money for college (Houston): Win a scholarship Everyone can sign up the 10k scholarsh... http://bit.ly/9mKJjB http://bit.ly/6KPOg2\\\\n'\",\n",
              " \"b'Free graco stroller, seat and bases (290 nw houston): All in very good condition.  Graco strol... http://bit.ly/67EAmP http://bit.ly/6KPOg2\\\\n'\",\n",
              " \"b'Boxes (Tomball/Spring): We have moved and I have lots of boxes. Many are random sizes like small for books or D.. http://bit.ly/1I9Dud\\\\n'\",\n",
              " \"b'Washer and Dryer (Katy): Both the dryer and washer work. The timer on the dryer does not and the knob on the washer... http://bit.ly/6NqFC0\\\\n'\",\n",
              " \"b'Old Slides ( circa 1955 ) (Katy): i have a bunch of slides  - the old Kodaslide  they were sent to a Wm D Ward in F... http://bit.ly/8Qr71h\\\\n'\",\n",
              " 'b\\'Dresser (Lake Conroe Area): Free to good home: Used dresser.   50\" Long  18\" Deep  30\"High Email if interested http://bit.ly/3DoIx2\\\\n\\'',\n",
              " \"b'Free Queen Palms Must go Moving (Sugarland/Needville): I am moving out of state and cannot tak... http://bit.ly/92C1Pz http://bit.ly/6KPOg2\\\\n'\",\n",
              " \"b'CURB ALERT- Working Lawn Mower (Katy, TX): Lawn Mower works okay as long as the gas tank is full. Come pick it .. http://bit.ly/XamMn\\\\n'\",\n",
              " \"b'Clarification On Free Plasma TV: I just wanted to clarify to all those people that flagged my posting in regards to... http://bit.ly/5hnxUt\\\\n'\",\n",
              " \"b'beautiful kittens (katy, texas): adorable yellow and white kitties...5  weeks old...ready for ... http://bit.ly/bEdxac http://bit.ly/6KPOg2\\\\n'\",\n",
              " \"b'Firewood already cut (290/Barker Cypress): I just had an old tree cut. You must take all of it... http://bit.ly/c7esIB http://bit.ly/6KPOg2\\\\n'\",\n",
              " 'b\\'FREE receiver, vacumn, mirror, sink & countertop,  32\" TV (Spring, TX (near woodlands)): \"F R ... http://bit.ly/7BKBm3 http://bit.ly/6KPOg2\\\\n\\'',\n",
              " \"b'Large Outdoor Dog Kennel (Spring, TX): I have a large dog kennel that I am looking to get rid of. It is made up.. http://bit.ly/138VIg\\\\n'\",\n",
              " \"b'Miniature Pincher / Min Pin Needs Home (Tomball): House trained, great watch dog and companion.  Must depart with m... http://bit.ly/7LfbnL\\\\n'\",\n",
              " \"b'Free chow husky mix (Houston): I have to give away my husky chow mix today.  My job is very he... http://bit.ly/99wyJU http://bit.ly/6KPOg2\\\\n'\",\n",
              " \"b'Puppy needs good home (Atascocita): What we have is a Large breed puppy about six weeks old. t... http://bit.ly/8j2Lb9 http://bit.ly/6KPOg2\\\\n'\",\n",
              " \"b'free couches (Tomball): free couches - not pretty, but not the worst - were our garage hang out couches please .. http://bit.ly/47WqtN\\\\n'\",\n",
              " \"b'tweens formal dreses (clear lake): 4 or 5 formal gowns my daughter used once so there n good c... http://bit.ly/6LByhh http://bit.ly/6KPOg2\\\\n'\",\n",
              " \"b'FREE SWINGSET (CYPRESS): FREE SWINGSET YOU DISASSEMBLE AND HAUL AWAY LOCATED OFF SPRING CYPRESS & LOUETTA 281-6.. http://bit.ly/TMbnR\\\\n'\",\n",
              " 'b\"Free rotweiler: Free rotweiler... House trained and nuetered. We found him and are about to move and can\\'t keep.. http://bit.ly/1yI74A\\\\n\"',\n",
              " 'b\"Offer - Three Boxes of Early Childhood/PK Books (Pasadena): Hi, all. I\\'m cleaning out closets. I have a few box.. http://bit.ly/8MnBg\\\\n\"',\n",
              " \"b'DAVEED DIGGS - THE WASH ------> http://bit.ly/bz8rgF <---------- #nowplaying  #bestfeelingever apple Ipad grammy awards v-day john miller\\\\n'\",\n",
              " \"b'duocal, supersoluable, powdered  (conroe): Super soluble duocal.....powdered energy source containing a blend of ca... http://bit.ly/6vBL4g\\\\n'\",\n",
              " \"b'free windows (Temple between Archer and Cordell): Two forties style windows sitting against a light post near th.. http://bit.ly/132VmW\\\\n'\",\n",
              " 'b\"Copy Machine/Gestener 3502 (Cleveland): Needs to be gone today. Gestener 3502. Hasn\\'t been use... http://bit.ly/4W1sCy [ by @MalcolmDiggs ]\\\\n\"',\n",
              " \"b'Free Dirt (Garden Oaks (North/Central Houston)): Approximately 1 - 1.5 cu yds of fill dirt left over from landsc.. http://bit.ly/15inYh\\\\n'\",\n",
              " \"b'Canopy Bed Frame - Black Metal (Cypress/Katy area): Black Canopy Bed Frame. Not sure if it is for queen or king.. http://bit.ly/6cDjT\\\\n'\",\n",
              " \"b'Packing paper (1811 Hewitt 77018): Tons of packing paper, including heavy packing paper. Yours... http://bit.ly/8feoil http://bit.ly/6KPOg2\\\\n'\",\n",
              " 'b\\'HP 15\" Computer Monitor (Spring Cypress @ 249): I have an HP 15\" Computer Monitor for free.     Please let me k.. http://bit.ly/mon5S\\\\n\\'',\n",
              " \"b'blessing ((wordwide)):  You opened it, so you believe in blessings, too! Something good will h... http://bit.ly/dh6m5X http://bit.ly/6KPOg2\\\\n'\",\n",
              " \"b'Full size punching bag - 150 LBS NEW (Tomball): Bought this for my son for Christmas and realized it is just way to... http://bit.ly/5N1JAz\\\\n'\",\n",
              " \"b'PRAYER (TEXAS): You opened it, so you believe in blessings, too! Something good will happen to... http://bit.ly/7X6YGV http://bit.ly/6KPOg2\\\\n'\",\n",
              " 'b\\'FREE mini blinds (610 & 290 area): FREE mini blinds. Some are approx. 41\" wide x 102\" long. Some are approx... http://bit.ly/r81Pd\\\\n\\'',\n",
              " \"b'big fish tank (houston): hi there  we are giving away our fish tank .. its pretty big, may nee... http://bit.ly/65Ja8W http://bit.ly/6KPOg2\\\\n'\",\n",
              " \"b'Free Landscaping/Curb Alert (Katy/Falcon Ranch): 12 - 5 1/2 foot tall Ligustrum shrubs well es... http://bit.ly/a7J2Bm http://bit.ly/6KPOg2\\\\n'\",\n",
              " 'b\"Ikea Blue Sofa (Montrose): I have a blue ikea sofa that I no longer want. I\\'ll be putting it by the dumpster to.. http://bit.ly/2pWdMp\\\\n\"',\n",
              " \"b'FREE BRICKS (Spring, TX): I have over 200 bricks left over from my house being built.    Reddish Brown in color .. http://bit.ly/35keTX\\\\n'\",\n",
              " \"b'FREE 1998 BUICK CENTURY (Texas City): I am giving away this barely running 1998 buick century. The car was ran h.. http://bit.ly/38a7cQ\\\\n'\",\n",
              " 'b\\'RE: FREE PADDLE BOAT (DAYTON): FREE means FREE you DUMB FUCK. Not...\"I\\\\\\'ll give it to you if yo... http://bit.ly/bwpNCk http://bit.ly/6KPOg2\\\\n\\'',\n",
              " \"b'Come See (Sealy): Freeblack lab blue heeler puppies to good homes.... email me for pic http://bit.ly/igtXV\\\\n'\",\n",
              " \"b'Free Boxes - different sizes (Sunset Heights): Boxes in different sizes.  Used twice, still in... http://bit.ly/ddOxsU http://bit.ly/6KPOg2\\\\n'\",\n",
              " \"b'2 free Coors light kegs (Houston): We have two full kegs left over from last night. We could o... http://bit.ly/9CO9es http://bit.ly/6KPOg2\\\\n'\",\n",
              " \"b'Free Furniture must take all (Dickinson / FM 517 and gulf freeway): Miscellaneous small pieces of furniture, mu.. http://bit.ly/44l7yK\\\\n'\",\n",
              " \"b'FREE tall dresser,shamp/cond,sunglasses,camera case,MORE (KATY franz/99): 23906 Ayscough Lane KAty 77493    Out.. http://bit.ly/4mHLFw\\\\n'\",\n",
              " \"b'Free Sleeper Sofa (Clear Lake): Free used sleeper sofa, decent condition but does show wear an... http://bit.ly/b2o0uz http://bit.ly/6KPOg2\\\\n'\",\n",
              " \"b'Refrigerator  (Spring): Not running, Kenmore. Call 281-773-9583. http://bit.ly/6A0f4Y http://bit.ly/6KPOg2\\\\n'\",\n",
              " \"b'Large Couch.  Fair condition.  You haul.: 1118 Alexander Street in the heights.  Near 11th and Shepherd.  I will de... http://bit.ly/75wo8y\\\\n'\",\n",
              " \"b'Free Harley Battery (far sw houston/ft bend): I changed the starter on my 2001 wide glide saturday and even tho.. http://bit.ly/38K3pB\\\\n'\",\n",
              " \"b'Free Toilet (Outside my house): I have a free toilet for anybody needing a sanitary equipment. http://bit.ly/16MHK\\\\n'\",\n",
              " \"b'Free Notebook Computer!: Thank you for reading my post! Yes you can really get a FREE MacBookP... http://bit.ly/dagbus http://bit.ly/6KPOg2\\\\n'\",\n",
              " \"b'King Size waterbed (Pearland-Dixie Farm Rd.): Would like to have it picked up this weekend. Tried to sell before.. http://bit.ly/25qE6d\\\\n'\",\n",
              " \"b'beige mircofiber couch (northside): i have a couch i need to get rid of. its still a nice couch. we are moving next... http://bit.ly/7poNcU\\\\n'\",\n",
              " \"b'for sale baby hamsters 20 days old $4.00 each (fall-brook & perry rd houston tx 77064): i have... http://bit.ly/bYBi9S http://bit.ly/6KPOg2\\\\n'\",\n",
              " \"b'3 baby blankets - girl: The aqua reversible blanket is quilted and in perfect shape.   the other two are very soft ... http://bit.ly/7a42w3\\\\n'\",\n",
              " \"b'old taupe sectional couch (alvin): Small sized taupe sectional with fully working recliner on one side, and slee.. http://bit.ly/cdZV8\\\\n'\",\n",
              " \"b'Free:  old used tile from the 50s (Meyerland/Astrodome): Free:  old used 4x4 tile from the 195... http://bit.ly/boFCX5 http://bit.ly/6KPOg2\\\\n'\",\n",
              " \"b'Christmas Dinner: My family and I would like to donate a full Christmas dinner to a needy FAMILY.  If you are in tr... http://bit.ly/6pzxvQ\\\\n'\",\n",
              " \"b'FREE BOAT (SOUTH HOUSTON): FREE BOAT    190 AMERICAN    170 MERCUSER INBOARD NO TRAILER NO TITLE I DO NOT KNOW T.. http://bit.ly/1R0jJr\\\\n'\",\n",
              " \"b'Bathroom Vanity Cabinet (Kingwood): We pulled a bathroom vanity out. It was built into the wal... http://bit.ly/cULI3g http://bit.ly/6KPOg2\\\\n'\",\n",
              " \"b'piano free   free stuff (Santa Fe): i have a piano i do not wannt and it is in the way i  need... http://bit.ly/6j3PkA http://bit.ly/6KPOg2\\\\n'\",\n",
              " 'b\"Free Women\\'s Haircut! (Galleria Mall): Due to a last minute cancellation, I am offering a great and FREE haircu.. http://bit.ly/364C1X\\\\n\"',\n",
              " \"b'basketball goal (bellaire): free basketball goal.    currently dismantled and on the sidewalk. the rim is bent, .. http://bit.ly/gf4Xj\\\\n'\",\n",
              " \"b'FREE FRIGIDARE  (West Houston): I have a white fridgidare for free for whoever picks it up fir... http://bit.ly/9P4vce http://bit.ly/6KPOg2\\\\n'\",\n",
              " \"b'!!! Look, Free Admission!!! (Sealy ( West of Katy): Starting Sunday evening at 6 PM The Glory and The Fire will.. http://bit.ly/4labKN\\\\n'\",\n",
              " \"b'Re:Tasco Telescope (Spring): Im Interested in the Telescope Pls Email me I tried emailing you but it didnt work http://bit.ly/3qsUTt\\\\n'\",\n",
              " 'b\"Kids Stuff (Tomball): I have a quantity of 2 children\\'s bicycle helmets and assortment of toys. SH 249 and Zion,.. http://bit.ly/skqbs\\\\n\"',\n",
              " \"b'Queen Size Mattress and Box Spring (Wharton): Pillow Top Queen Size Mattress and Box Springs, ... http://bit.ly/8k9sVU http://bit.ly/6KPOg2\\\\n'\",\n",
              " \"b'Free Diagnostics Test (Humble ): Free diagnostics check done on transmission. www.acetransspecialists.com / cal.. http://bit.ly/1kF3Al\\\\n'\",\n",
              " 'b\"Do you have more than one child and can\\'t pay for Child Support? (Houston): Are you behind on ... http://bit.ly/bjYiAd http://bit.ly/6KPOg2\\\\n\"',\n",
              " \"b'Free Love Seat (Near FM 1960): I need it pick-up right away....Please pick-up now, anytime, an... http://bit.ly/4R52KL http://bit.ly/6KPOg2\\\\n'\",\n",
              " \"b'womens shoes size 8 -9 lotz, framed wall pictures,etc. (conroe): cleaning out closet, lots of womens shoes size 8 -... http://bit.ly/7rSc4x\\\\n'\",\n",
              " \"b'movie starring u in hell with eternal torture-true story-no jesus (houston): jesus i accept u and i repent and .. http://bit.ly/THcxz\\\\n'\",\n",
              " \"b'Can anyone help a family in need (Humble/Houston): I am helping a family starting over in a house I am still in.. http://bit.ly/fYXi3\\\\n'\",\n",
              " \"b'Diapers, clothes and other baby products for f?ee: Huge baby product g?veaway thats right for ... http://bit.ly/5WytF8 http://bit.ly/6KPOg2\\\\n'\",\n",
              " 'b\"free car, i\\'m moving to mexico,: I cant take my car, i gotta leave it behind. I will give this car to somone de.. http://bit.ly/3R12Bq\\\\n\"',\n",
              " \"b'Free Ferrett: ...too a good home. Approx. 3 yrs. old. Kids no longer keep up with it. Comes with 2 cages, food .. http://bit.ly/7h9iVU\\\\n'\",\n",
              " \"b'Please Read (Alvin/281-508-8870): I am a single female, mother of 1 and caregiver over my mentally handicapped .. http://bit.ly/11LdxW\\\\n'\",\n",
              " \"b'Free!!! Good dog to good home (sugar land): She is a 3yr old pit bull mix. Dont let the name scare you this dog is ... http://bit.ly/5boGIa\\\\n'\",\n",
              " \"b'Free Hotdog buns (Conroe): left from party today. brand new not opened. 20 packs http://bit.ly/3RKhZ9\\\\n'\",\n",
              " \"b'Plywood/Lumber Remnant (Houston, NW): Various sizes ranging from 6 inches to 12 inches in width to 8 ft in leng.. http://bit.ly/3vYy5Y\\\\n'\",\n",
              " 'b\"clothes (tomball/pinehurst): I have 2 ( bottom full and top full of banana box) of men\\'s misc ... http://bit.ly/5xgb8B http://bit.ly/6KPOg2\\\\n\"',\n",
              " \"b'RE: Step Up Workout Equipment (Humble Area): It is not letting me send you a e-mail. Would you please e-mail me .. http://bit.ly/2knstl\\\\n'\",\n",
              " 'b\"working refrigerator (Stafford): Works fine, it\\'s dirty and I dont want to clean it up. It has an icemaker but .. http://bit.ly/Jw4ph\\\\n\"',\n",
              " \"b'Free: GAS BBQ GRILL: If you want it, email me and I will give you address. It must be picked up TODAY by 4:00 P.. http://bit.ly/16PzPf\\\\n'\",\n",
              " \"b'Receive 10k for colleg? now (Houston): Get free money for college Everyone can sign up the 10k... http://bit.ly/9ydBMR http://bit.ly/6KPOg2\\\\n'\",\n",
              " \"b'GIRL CLOTHES SZ 5T-6T  (LITTLE YORK AND 59): HAPPY HOLIDAYS TO ALL. ANGELINA HERE, I HAVE SOME GIRL CLOTHES SZ 5T-6... http://bit.ly/5pVfA0\\\\n'\",\n",
              " 'b\\'zippers (290/barker cypress): I have two 7\" zippers if anyone wants them. One is red and the other is hot pink. http://bit.ly/101Yj0\\\\n\\'',\n",
              " \"b'Baseball pants (Friendswood/Webster): I have a variety of baseball pants, belts and socks from... http://bit.ly/bZU6YZ http://bit.ly/6KPOg2\\\\n'\",\n",
              " \"b'Free Kitty to good home (Sugar land): I just cannot care for another animal in my busy househould. Tabby Scotti.. http://bit.ly/IO6h2\\\\n'\",\n",
              " \"b'Free Weight machine (Memorial - Houston): Located in Spring Branch Area Voss/Bingle exit off Katy Freeway This i.. http://bit.ly/LIDSt\\\\n'\",\n",
              " \"b'Going out of business: Here are a few things we have left and will no longer need perhaps someone else can use:.. http://bit.ly/4cfstY\\\\n'\",\n",
              " \"b'Free Green Couch (League City): I have a green cloth couch for pick up today. It is in ok cond... http://bit.ly/aqDx5M http://bit.ly/6KPOg2\\\\n'\",\n",
              " \"b'Coffee table (NW Houston): Decent coffee table for you at 14907 Benfer Road.  Call my cell: 209-484-7955. http://bit.ly/YjqMZ\\\\n'\",\n",
              " \"b'BOXES (Friendswood, TX): Just moved and have 40 or so barely used boxes of various sizes. You break down and they a... http://bit.ly/6LVpKZ\\\\n'\",\n",
              " \"b'Refrig (Houston): Please email a99usa@aol.com or call 713-298-7555  http://bit.ly/5RRY9n\\\\n'\",\n",
              " \"b'Headphones by Telex (Fort Bend County): Odyssey Headphones by Telex. Has adjustable headband and side Volume Con.. http://bit.ly/1dlrmC\\\\n'\",\n",
              " 'b\"FREE King Waterbed, motionless mattress, heater, liner, headboard (Santa Fe): I\\'m giving away ... http://bit.ly/a3XRFY http://bit.ly/6KPOg2\\\\n\"',\n",
              " \"b'Free Wooden Pallets (290 and Jones Rd.): We have about 80-100 wooden pallets on our property t... http://bit.ly/8hy5VN http://bit.ly/6KPOg2\\\\n'\",\n",
              " \"b'Free for the taking (Cypress): I have 4 bags full of great stuffed animals. Some large, some small... 98% in GRE.. http://bit.ly/4YPSq\\\\n'\",\n",
              " \"b'Old side-by-side fridge (Sugar Land): It was woking fine the last time wew had it plugged in. Both sides cool. Free... http://bit.ly/5CPfR8\\\\n'\",\n",
              " \"b'FREE LADY CLOTHES SIZE 14 -16 XL (PASADENA):    Free large tall paper bag with all very clean clothes some new .. http://bit.ly/gE3ss\\\\n'\",\n",
              " \"b'METAL FILE CABINET 4 DRAWER no lock (spring): Metal File Cabinet 4 drawer no key Sp Saver PROFORM TREADMILL 585.. http://bit.ly/2IcpFP\\\\n'\",\n",
              " \"b'I Need Moving Boxes (Spring, Tomball): Looking for moving boxes in the Spring or Tomball area. Thanks! Call 832.. http://bit.ly/28oFmQ\\\\n'\",\n",
              " 'b\\'free tv\\\\\\'s 52\" and 37\" (humble): rca 52\" projection tv and a 37\" tv. both work the 52\" has convergence problems a.. http://bit.ly/2wbaXZ\\\\n\\'',\n",
              " \"b'Re: to Samsung tv (houston): this ad was for a TV i emailed you @ the email given but it was undeliverable i wi.. http://bit.ly/12Qo7C\\\\n'\",\n",
              " \"b'3 ceiling fans (Stafford): I replaced three ceiling fans to match my decor. The old ones worked fine.     1 52 i.. http://bit.ly/wfigM\\\\n'\",\n",
              " \"b'free household items (t c jester/1960 west): MIX OF BUNCH OF BAGS FULL OF CLOTHES,DRAPES .SOME... http://bit.ly/cqKGu8 http://bit.ly/6KPOg2\\\\n'\",\n",
              " \"b'1990 Volvo 240DL (southwest houston ): car works but needs minor work  contact me @ tjt1@ymail... http://bit.ly/8vsAcO http://bit.ly/6KPOg2\\\\n'\",\n",
              " \"b'NORTON FREE (45&249):   I HAVE NORTON INTERNET SECURITY 2009 FOR 3 USER http://bit.ly/17kxIr\\\\n'\",\n",
              " \"b'Kitten starter supplies (Spring, TX): supplies include: one open topped litter box with a couple of plastic lin.. http://bit.ly/5ke8Qd\\\\n'\",\n",
              " \"b'56 inch big screen tv sony (northwest houston): I got a 56 inch big screen that still works bu... http://bit.ly/7Q803Q http://bit.ly/6KPOg2\\\\n'\",\n",
              " \"b'Free Pool 18ft wide-3ft tall Great Condition! (215 Garfield.Ave Pasadena 77506): No more space , Pool is in gre.. http://bit.ly/kXFp2\\\\n'\",\n",
              " \"b'Free Verizon Wireless USB Modem (SW Houston): USB720 Modem.  No CD, no cable. http://bit.ly/6ZXCiU http://bit.ly/6KPOg2\\\\n'\",\n",
              " \"b'Desk (League City, TX): This is an older desk.  It is in decent condition.   Please only serio... http://bit.ly/cTo1V0 http://bit.ly/6KPOg2\\\\n'\",\n",
              " \"b'cloth or disposable diapers (size 3 or 4) (nw houston): I really am in need of some cloth/disposable diapers it doe... http://bit.ly/7SRhyn\\\\n'\",\n",
              " \"b'3M adhesive laminate refill cartridge-AT953 (Tomball, Spring): Back-side permanent adhesive transfer cartridge .. http://bit.ly/3u2kr6\\\\n'\",\n",
              " \"b'Free full size mattress and box spring, must pick up. (Webster, TX): Used full size mattress and box spring. Nor.. http://bit.ly/17h0lJ\\\\n'\",\n",
              " \"b'Partition (PV): 12 Partition  some used some new  936-261-1631 ask for Peggy http://bit.ly/8W2AFs http://bit.ly/6KPOg2\\\\n'\",\n",
              " \"b'Washing machine- (Makes loud noise) (Barker Cypress and I-10.): Whirlpool, ex-large, 7 cycle heavy duty washing.. http://bit.ly/JQWP3\\\\n'\",\n",
              " \"b'Free 4/5 T Boys Clothes (Seabrook/Taylor Lake ): God has been good to me.  We are on a tight budget and God sees us... http://bit.ly/6d8Gkl\\\\n'\",\n",
              " \"b'TWO FREE GERMAN SHEPARDS (Splendora Area): Two German Shepards Free to GOOD HOME!  Female approx. 6yrs Female a.. http://bit.ly/4bdQBw\\\\n'\",\n",
              " \"b'Moving Boxes (Willis): I have about 20 moving boxes of various sizes to give away. They have to go soon, so please ... http://bit.ly/7shfrX\\\\n'\",\n",
              " \"b'FREE WORKING WASHER & ELECTRIC DRYER (HOUSTON): to a good home both in great shape we are moving and dont n.. http://bit.ly/2JzL1J\\\\n'\",\n",
              " \"b'Free Bed: Free Queen Bed and Frame, Good Condition   832-561-6015 http://bit.ly/4zTzxG\\\\n'\",\n",
              " \"b'car for parts or fixer upper I HAVE NO TIME (Texas city): I HAVE THIS OLD CAR  STILL HAS ENGINE BUT I NEED GONE WAS... http://bit.ly/8Y889Z\\\\n'\",\n",
              " \"b'Free: I WILL HOLD AN OPEN HOUSE- -- FRIDAY SEPTEMBER 4TH 2009 FROM 10:00 AM - 1:00 PM 4015 AVE M GALVESTON, 7755.. http://bit.ly/3U9zHC\\\\n'\",\n",
              " \"b'FREE 2- 4 DRAWER FILE CABINETS (4023 Trey 77084): I have (2) 4- drawer file cabinets I am giving away....They c.. http://bit.ly/yA7YX\\\\n'\",\n",
              " \"b'FREE SLEEPER SOFA SECTIONAL (Pasadena): Going to the curb at 5 pm if no one comes for it. Sleeper section is heavy,... http://bit.ly/8M75gZ\\\\n'\",\n",
              " \"b'The heaviest piece of furniture U will ever own and never want 2 move! (Bacliff): Too heavy to... http://bit.ly/aXyBOT http://bit.ly/6KPOg2\\\\n'\",\n",
              " \"b'Desk, computers, 5 gal white paint: NOTICE: PAINT IS GONE,,,,,,,,,,,,,,    And someone has said they will be her.. http://bit.ly/78jF5\\\\n'\",\n",
              " \"b'Leftovers from a Garage Sale!!!! (Stafford): Everything remaining from the yard sale is by the... http://bit.ly/5GNB73 http://bit.ly/6KPOg2\\\\n'\",\n",
              " \"b'Washer (Kemah/Clear Lake Shores): Works sporadically, needs minor repair. 15 years old, includ... http://bit.ly/d4f3Q9 http://bit.ly/6KPOg2\\\\n'\",\n",
              " \"b'Scrap Metal (Conroe): A small amount of scrap. See pic. Combo of swingsets, barb wire, old gate... and whatever.. http://bit.ly/2LH8B7\\\\n'\",\n",
              " \"b'$10,000 worth of college money (Houston): Win a scholarship Everyone can sign up the 10k schol... http://bit.ly/bS4RNF http://bit.ly/6KPOg2\\\\n'\",\n",
              " 'b\\'Great Stuff - Free (SPAM) (Spring):  YET, ANOTHER \"LISTIA\" SPAM LISTING!!!  DON\\\\\\'T RESPOND TO I... http://bit.ly/cDJler http://bit.ly/6KPOg2\\\\n\\'',\n",
              " \"b'need Furnature or kitchen stuff( dishes appliances etc) (huntsville): text or call 832-257-3227 if you have any.. http://bit.ly/1qIlr0\\\\n'\",\n",
              " 'b\\'Lamp & TV - My last post before moving (North Houston): I have a 27\" Advent HDTV in working condition and a .. http://bit.ly/kdDOI\\\\n\\'',\n",
              " 'b\"Outdoor flower pots (Katy): These pots are sitting in our driveway. If you\\'re interested let me know and I\\'ll g.. http://bit.ly/2YAsTl\\\\n\"',\n",
              " \"b'University of Houston College of Education Masters Degree graduation c (Spring Branch): U niversity of Houston .. http://bit.ly/15WVBN\\\\n'\",\n",
              " \"b'Free Bricks for pickup (Katy): I have red bricks available for pickup. Approximately 650-700 bricks. http://bit.ly/3gsmll\\\\n'\",\n",
              " 'b\\'TV set 19\" digital ready (South Houston): Good working TV set.    Call 281-464-0480  Andrew http://bit.ly/3Nlog5\\\\n\\'',\n",
              " \"b'craftsman bushwacker (league city): I have a bushwacker weed trummer. Not working. New carburater, fuel lines. .. http://bit.ly/4das1j\\\\n'\",\n",
              " 'b\"Boxes Various sizes (Clear Lake Shores): We have about 50-100 boxes of various sizes, we\\'ll have these availabl.. http://bit.ly/3S3nl7\\\\n\"',\n",
              " \"b'FREE USED FENCE PANELS STILL IN GOOD CONDTION (713 882 7427): ABOUT 14 OR 15 SECTIONS  SOME 8 ... http://bit.ly/9s15Oh http://bit.ly/6KPOg2\\\\n'\",\n",
              " 'b\"Free samples (show \\'Greatdayhouston\\'): I was watching the show in the morning that Debra Duncan hosts \\'Great Da.. http://bit.ly/2pCbhs\\\\n\"',\n",
              " \"b'Free donut spare (Downtown Houston): I have a donut spare to anyone who will pick it up. It is... http://bit.ly/bhDGma http://bit.ly/6KPOg2\\\\n'\",\n",
              " 'b\"Free Haircuts (I-10 and Campbel Rd.): Need two more model\\'s for Wed at 12:30 and 1:30.  Please... http://bit.ly/bIcvoV http://bit.ly/6KPOg2\\\\n\"',\n",
              " \"b'free puppys (sugar land): i have 4 mixed puppys that are half boxer, quarter pit quarter chow.... http://bit.ly/dwlLbT http://bit.ly/6KPOg2\\\\n'\",\n",
              " \"b'FREE computer monitors (sugar land): 5  CRT monitors   all working   must pick up ASAP today! ... http://bit.ly/akUt3O http://bit.ly/6KPOg2\\\\n'\",\n",
              " \"b'FREE DINING TABLE WITH 8 CHAIRS (katy): IM LEAVING HOUSTON AND I CANT TAKE THIS WITH ME YOU WILL NEED TO PICK I.. http://bit.ly/2noWMj\\\\n'\",\n",
              " \"b'free electricity (Houston): Tired of rising energy cost? Why pay $500 or more for solar panels when you can bui.. http://bit.ly/3VsKk1\\\\n'\",\n",
              " 'b\\'2002 Sony rear projection TV 56\" (Santa Fe): Free, 2002 Sony- Rear Projection TV, one of the crt is out, but still ... http://bit.ly/6vyjpN\\\\n\\'',\n",
              " 'b\"chihuahua needs a good home: Cute small, 3 - 4 pounds, 2 years old, great disposition doesn\\'t shake or bite.  If in... http://bit.ly/4S6NWr\\\\n\"',\n",
              " \"b'CHRISTMAS CRAFT SUPPLIES (inner loop-near Rice): Free. A big assortment of craft items for Christmas projects. .. http://bit.ly/nJqRV\\\\n'\",\n",
              " \"b'Dining Table Set and vacuum (Southwest Houston): Free dining table set with six chairs and vac... http://bit.ly/7aozKE http://bit.ly/6kXiQX\\\\n'\",\n",
              " \"b'Free Murphy bed (west houston (near beltway/I10)): Free Murphy bed. This is the type of bed that you can hide in.. http://bit.ly/1hSREr\\\\n'\",\n",
              " \"b'Cable wires answering machine and phones (Free Stuff): I have a box of old cable wires, telephone equipment, pho.. http://bit.ly/ltlzI\\\\n'\",\n",
              " \"b'Business leftovers (houston): Can anyone use this, I am retiring and have no use. older computer table credi.. http://bit.ly/3PuNM9\\\\n'\",\n",
              " \"b'Free Christmas Tree (Midtown): I picked up this live Christmas tree today and will not have time to use it.  It is ... http://bit.ly/70Fxue\\\\n'\",\n",
              " \"b'golf travel bag and baby swing (kingwood): 1. Golf bag: black, does NOT have wheels. NO PICTURES    2. Red baby.. http://bit.ly/1DGHb0\\\\n'\",\n",
              " \"b'Large Pumpkin (Houston): Free large pumpkin sitting outside, ready to get picked up!    Email me and I will sen.. http://bit.ly/5lqvRs\\\\n'\",\n",
              " \"b'I have a feeling... (Here): that all these people giving away free cars and trucks are probabl... http://bit.ly/6oxeKz http://bit.ly/6kXiQX\\\\n'\",\n",
              " \"b'scrap metal and aluminum (pasadena): call for address. if you come soon we will help you load.... http://bit.ly/4Q3DKv http://bit.ly/6KPOg2\\\\n'\",\n",
              " \"b'FREE ELECTRIC STOVE (Fondren - 77074): The first person to respond to this and who can show up to remove an ele.. http://bit.ly/6UeakL\\\\n'\",\n",
              " \"b'Free Weight set is a lie! (League City): Some asshole put my name and cell number for a free weight bench. Do n.. http://bit.ly/mXggp\\\\n'\",\n",
              " \"b'free entertainment center (Spring, TX): Free entertainment center. Made by Bush. Light oak finish, MDF construc.. http://bit.ly/4BMrpx\\\\n'\",\n",
              " \"b'FREE COMEDY CLUB TICKETS (NW): The Laff Spot Champions has a limited number of free tickets for our Saturday, O.. http://bit.ly/2EzCD\\\\n'\",\n",
              " 'b\\'Burgundy and Gold Placemats, Handpainted Mosaic Mugs (Tomball): 6 burgundy with gold placemats, approx. 13\" x 19.. http://bit.ly/1nUFLt\\\\n\\'',\n",
              " \"b'5 Computer Monitors (Lake Jackson, Richwood, Brazoria): We have 5 computer monitors that need to go! Must take .. http://bit.ly/26lpwT\\\\n'\",\n",
              " \"b'Office desk (great condition) (spring): I have a small office desk that is black metal and wood laminent. It is.. http://bit.ly/9cd4F\\\\n'\",\n",
              " \"b'colts fans (houston): FREE KLEENEX TO DRY YOUR EYES............................ http://bit.ly/aYz5wU http://bit.ly/6KPOg2\\\\n'\",\n",
              " 'b\"Boys Clothes NB-2T (Cypress): Big box of clothes.  They\\'re in good shape, but not fancy stuff.  Some was given to u... http://bit.ly/6Qb4mc\\\\n\"',\n",
              " \"b'FREE COUCH / SOFA (I-45north @610 Heights area): FREE couch, medium green in color.. in decent shape, cats got .. http://bit.ly/2Ma5mt\\\\n'\",\n",
              " \"b'brick pavers (friendswood): about 30 pieces.    red color brick pavers the same as in home depot.  call 713-298-3466 http://bit.ly/7B6YnN\\\\n'\",\n",
              " \"b'Kits of Free Crest Whitening Strips - Untouched (Houston): I received 2 boxes of the Crest Advanced Whitening St.. http://bit.ly/15MAF3\\\\n'\",\n",
              " \"b'ESTATE SALE OVER--HOUSE FULL OF FREE STUFF UNTIL 9PM TONIGHT: CONTRACTORS COMING IN THE MORNING TO HAUL EVERYTH.. http://bit.ly/4C7VcS\\\\n'\",\n",
              " 'b\\'Lawnmower (NW - 249 & Louetta): I have a well used 21\" Murray mulching lawnmower with a Tecumseh 4.0 hp eng.. http://bit.ly/1Rn7Dt\\\\n\\'',\n",
              " \"b'Free King Mattress (Humble): Free King Mattress.  Mattress only, NO Box Spring.  Recently boug... http://bit.ly/atIJlb http://bit.ly/6KPOg2\\\\n'\",\n",
              " 'b\"Wine Refrig (Spring/Champions): Like new condition, powers on, lights work, but doesn\\'t cool. ... http://bit.ly/8lEaZt http://bit.ly/6kXiQX\\\\n\"',\n",
              " \"b'various types of wood and Misc. (Clayton): various sizes and types of wood, 3/4 inch pvc pipe, roll of tar pape.. http://bit.ly/3u9ZMp\\\\n'\",\n",
              " \"b'FREE SPA (249 & springcypress): Come and get it. This is just the spa shell    281-330-7089 http://bit.ly/fCizf\\\\n'\",\n",
              " \"b'FREE PICKUP OF BOXES (HOUSTON & SURROUNDING AREAS): HELLO .HAVE YOU JUST MOVE , UNPACKED AND NEED TO GET RID OF YOU... http://bit.ly/7U0RcX\\\\n'\",\n",
              " \"b'Good Shape Mini Exercise Stepper For Free (Nordictrack) (Houston): The stair stepper has been very lightly used.. http://bit.ly/11egcy\\\\n'\",\n",
              " \"b'free mini fridge refrigerator (Spring, TX): free mini fridge recovered from clean out cleaning. tried to sell n.. http://bit.ly/4isp02\\\\n'\",\n",
              " \"b'Free Bricks! (Atascocita): Lots of uses: line a flowerbed, build a mailbox, small patio or garden path. They ar.. http://bit.ly/3FIl7y\\\\n'\",\n",
              " \"b'Re: Giving a PS3: When I tried to reply to your ad, it came back undeliverable. Please email me so I can talk to yo... http://bit.ly/8COL75\\\\n'\",\n",
              " \"b'Big Yellow Queen Sleeper Sofa (Hockley): Very large, very heavy yellow couch with wheels, and ... http://bit.ly/80fJFI http://bit.ly/6kXiQX\\\\n'\",\n",
              " 'b\"FREE -Oak Firewood - FREE (Sagemont): I have a lot of oak firewood that we got from Ike that I don\\'t need or wa.. http://bit.ly/1cV6fV\\\\n\"',\n",
              " \"b'cardboard boxes (league city): Cardboard boxes multiple sizes for your taking! Throwing out soon! http://bit.ly/6k3xux http://bit.ly/6KPOg2\\\\n'\",\n",
              " \"b'RE-Free amp 200 watt Marshell : I like how people post adds for free or for sale and you go hummm i want that s.. http://bit.ly/13idqe\\\\n'\",\n",
              " \"b'baby girl and toddler boy clothes/ items (hobby): email me with size and i can let you know if... http://bit.ly/8DyQyK http://bit.ly/6KPOg2\\\\n'\",\n",
              " \"b'Re: very nice fridge: I tried to contant you but the email did not go through. Please email me direction because.. http://bit.ly/Rvt92\\\\n'\",\n",
              " \"b'Card board shoe boxes (N. Fry/Katy): I have lots of cardboard(up to 50!) shoe boxes from shoes that i sell and .. http://bit.ly/eUXCX\\\\n'\",\n",
              " \"b'treadmill (north west): free treadmill that wont stop running maybe you can fix it http://bit.ly/Gmcj2\\\\n'\",\n",
              " \"b'FLAGGED...2000 DISH NETWORK REMOTE CONTROLS ( (NW HOUSTON)): ALREADY PICKED UP...THANKS  STOP FLAGGING MY STUFF PATRICK http://bit.ly/5gqNf4\\\\n'\",\n",
              " 'b\"Non-Working Vacuum &  Steam Mop (near Heights/ 77018): Don\\'t know what it wrong with the items... http://bit.ly/9TJ2gd http://bit.ly/6KPOg2\\\\n\"',\n",
              " 'b\\'\\\\\\'SOMEONE PLEASE HELP \"GAMES\" GAME CUBE\\\\\\'  (n houston):  HI I KNOW THAT THERE IS SOMEONE KIND OU... http://bit.ly/4POgRf [ by @MalcolmDiggs ]\\\\n\\'',\n",
              " \"b'free cats (nw houston 290& toll rd.): free cats, 1 orange, 1 orange & white, 1 solid black w/green eyes, 1 calico l... http://bit.ly/7VZHUM\\\\n'\",\n",
              " \"b'Computer stuff, games, misc (North of Rosenberg): A lot of FREE stuff, take what you want,  Bo... http://bit.ly/8rZDBa http://bit.ly/6KPOg2\\\\n'\",\n",
              " \"b'FREE baby bassinet (HOUSTON TX): I AM GIVING AWAY A BABY BASSINET FOR MALE OR FEMALE ,MY BABY ... http://bit.ly/7rpQsd http://bit.ly/6KPOg2\\\\n'\",\n",
              " \"b'FREE Baby kitten (Woodlands, Tx(242 area)): FREE Baby kitten!!!! My daughter found her at our local neighborhood.. http://bit.ly/w5xdK\\\\n'\",\n",
              " \"b'Free Truck (Conroe, TX): I have a 1997 Chevy Silverado I want hauled out of my yard... if you ... http://bit.ly/91Htfb http://bit.ly/6kXiQX\\\\n'\",\n",
              " \"b'FREE FENCE (HOUSTON): I AM BUILDING A FENCE IN HOUSTON.  I HAVE TORN DOWN THE PREVIOUS FENCE A... http://bit.ly/db1Cbu http://bit.ly/6KPOg2\\\\n'\",\n",
              " 'b\"Free CRICKET Motorola Razor V-3x (Fairfield - Cypress): I got a new cell phone as a gift so i won\\'t use this Cri.. http://bit.ly/7oMHc\\\\n\"',\n",
              " \"b'King Mattress (Katy): matteress and box spring. 281-389-3630 http://bit.ly/3OPTYm\\\\n'\",\n",
              " 'b\"NEED GAMECUBE & GAMES (ASAP): I\\'M LOOKING FOR A GAMECUBE AND GAMES. IF YOU HAVE ONE AND YOU WA... http://bit.ly/7UTDQJ http://bit.ly/6kXiQX\\\\n\"',\n",
              " 'b\\'I have Free Boxes (Heights): Just moved here. I have many boxes, mainly the strong \"dish pack\" and wardrobe size.. http://bit.ly/3uwDI0\\\\n\\'',\n",
              " \"b'Big Screen TV and Foose Ball Table (Clear Lake / Pine Loch and Space Center): Free Big Screen TV works but need.. http://bit.ly/Gk2k1\\\\n'\",\n",
              " \"b'Free Haircuts (SuperCuts Training Studio): Free haircuts offered at the SuperCuts Training Studio by licensed s.. http://bit.ly/eYuD9\\\\n'\",\n",
              " \"b'Canning jars, porch pick up (Pecan Grove (77406)): 18 mason regular mouth pint jars with lids,... http://bit.ly/5C3jTh http://bit.ly/6KPOg2\\\\n'\",\n",
              " \"b'Moving Boxes - Free (Katy, Texas): Free moving boxes - out by curb next to mail box. 1010 Grand Junction Dr., K.. http://bit.ly/2JFsDd\\\\n'\",\n",
              " \"b'College classes for free with free scholarships (Houston): Get money for college Anyone can si... http://bit.ly/cW54ym http://bit.ly/6KPOg2\\\\n'\",\n",
              " \"b'Receive 10k for college ?ow (Latexo): Win a scholarship Everyone can sto receive the 10k scholarship scholarship w... http://bit.ly/4wU3Dv\\\\n'\",\n",
              " \"b'common courtesy (all): it would be nice if all you posters would drop a bulk email to those who respond to your.. http://bit.ly/aswPc\\\\n'\",\n",
              " 'b\"old stove for free..it\\'s junk (East Houston): Old stove out in back yard...It\\'s junk! U want it you can have it...C... http://bit.ly/8Q1WFP\\\\n\"',\n",
              " 'b\"fence section (Pearland): I have approximately (10) 8\\' sections fence panels. I had a new fence put up and need the... http://bit.ly/5M72bC\\\\n\"',\n",
              " \"b'free ready to load hot tub (downtown houston): come get it its out in the yard, pull right up and load it. your.. http://bit.ly/vbihP\\\\n'\",\n",
              " \"b'Free Crates (West Houston): Large glass crates and oversized pallets.    Easy to take apart, lower grade lumber.. http://bit.ly/4jJWqj\\\\n'\",\n",
              " 'b\\'Microwave (Chateau Woods): Small white Hotpoint microwave, all functions work as they should, but it \"beeps\" whe.. http://bit.ly/3RR7Pu\\\\n\\'',\n",
              " \"b'A lot of stuff for free,..tvs,sofa,fax,guitar,dvd garden tools..etc.. (houston): We have for f... http://bit.ly/bayQm9 http://bit.ly/6KPOg2\\\\n'\",\n",
              " \"b'Glass Jars (Spring Branch): I have a box of random glass jars & misc. lids that may or may not match.    Some ca.. http://bit.ly/ok9RI\\\\n'\",\n",
              " \"b'Banana Suit etc (Houston, Tx): I work for a theater company run by a local church and we are t... http://bit.ly/cCIdOB http://bit.ly/6KPOg2\\\\n'\",\n",
              " \"b'35 packs of minipretzels 1.5oz/pack (West Houston): Got a big lot of 35 packs of minipretzels ... http://bit.ly/bHDH1g http://bit.ly/6KPOg2\\\\n'\",\n",
              " \"b'Toilet - Pink (West Houston): Pink colored toilet, replaced with new one, still works, need only to replace a p.. http://bit.ly/bnTAj\\\\n'\",\n",
              " \"b'FREE STARTER FOR 95 MUSTANG 3.8 V6 (TEXAS CITY): FREE STARTER FOR 95 MUSTANG 3.8L. SOLD THE MUSTANG, DONT NEED THIS... http://bit.ly/5FA31M\\\\n'\",\n",
              " \"b'Free Work Desk (77084 (Keith Harrow/Barker Cypress): We have the work desk pictured below for whoever wants it... http://bit.ly/2alji3\\\\n'\",\n",
              " \"b'Taking donations of garage sale leftovers: If you had a garage sale and have leftovers you dont want to put bac.. http://bit.ly/rMUdg\\\\n'\",\n",
              " 'b\"Defiant Locks / Deadbolts (3) (Heights): I can\\'t remember if the passage knobs are included, but I know I have .. http://bit.ly/3OL2iN\\\\n\"',\n",
              " \"b'small covered boxes for moving (N.Richmond,TX near Travis HS ): Copy paper boxes. They were used to moved, so mo.. http://bit.ly/6wlPF\\\\n'\",\n",
              " \"b'free new born diapers 9 of them ( LA MARQUE): 9 NEW BORN DIAPERS FREE TO A GOOD HOME http://bit.ly/AmDSh\\\\n'\",\n",
              " \"b'Free Kittens (Spring, TX): Free Kittens, 5 weeks old, will be ready to go home the week of the 19th. Two males .. http://bit.ly/19Ht3N\\\\n'\",\n",
              " 'b\"Chandelier (Neartown): I just took this down. It\\'s in working order, bulbs included. Needs a minor cleaning but.. http://bit.ly/gXCKQ\\\\n\"',\n",
              " \"b'Bakers Rack and Bar Stools (290/Barker Cypress): Bakers Rack and Bar Stools to be given away for free! We also h.. http://bit.ly/1zhnV\\\\n'\",\n",
              " 'b\\'FULL SIZE ATARI \"kangaroo\" ARCADE GAME (NORTH HOUSTON I-45 AND 1960): \"LOCATED IN NORTH HOUSTO... http://bit.ly/b00qON http://bit.ly/6KPOg2\\\\n\\'',\n",
              " \"b'DONATING TREES TO NEEDY FAMILIES (249-1960): WE HAVE A FEW TREES WE ARE DONATING TO NEEDY FAMILIES- IF YOU KNOW.. http://bit.ly/5VbGXO\\\\n'\",\n",
              " \"b'Solid bricks & Landscaping Stones (Memorial/Beltway 8): Tons of solid bricks and various landscaping stones,.. http://bit.ly/G7a0L\\\\n'\",\n",
              " \"b'Free Twin Size Mattress Set (houston): Free twin size mattress set (mattress & box). Barely us... http://bit.ly/5ywCbQ http://bit.ly/6KPOg2\\\\n'\",\n",
              " \"b'free haband dental water jet - new (Houston): Want to find a person that wants my unopened dental water jet. A f.. http://bit.ly/3w4ZLU\\\\n'\",\n",
              " \"b'I NEED BOXES PLEASE (NW HOUSTON): HI I AM MOVING IN THREE DAYS AND I STILL HAVENT FOUND ANY BOXES TO PACK MY THINGS... http://bit.ly/8h4sr4\\\\n'\",\n",
              " \"b'couch (humble): 281-570-7644 free first one to come get it. http://bit.ly/xNwzH\\\\n'\",\n",
              " \"b'Blessings (Austin): You opened it,so you believe in blessing,too!Something good will happen to... http://bit.ly/b8JtSp http://bit.ly/6KPOg2\\\\n'\",\n",
              " \"b'Need assistance with Child Support because your behind? (Houston): TEXAS CHILD SUPPORT ADVOCAT... http://bit.ly/cuVlxh http://bit.ly/6KPOg2\\\\n'\",\n",
              " \"b'Free video games [xbox360] (Houston): Ok, so theres a little catch to this. Basically, all you have to do is si.. http://bit.ly/163pZZ\\\\n'\",\n",
              " 'b\\'To the person with the \"free boxer\" (Deer Park): I work with a boxer rescue and we have a woman that contacted .. http://bit.ly/Asd8m\\\\n\\'',\n",
              " 'b\\'FREE WOOD - 1\"x2\"x77-79\" (BELLAIRE INSIDE THE LOOP): Was used for a privacy fence which was about 20 feet long. .. http://bit.ly/3LPNuc\\\\n\\'',\n",
              " \"b'Mens cut (Houston galleria): i am looking for a man with hair atleast 5 inches or longer willing to go a little.. http://bit.ly/a752q\\\\n'\",\n",
              " \"b'55 gal. containers: we have roughly ten old 55 gal drums some are plastic and some are metal they are mostly em.. http://bit.ly/ynAKd\\\\n'\",\n",
              " \"b'Subway Scrabble.. (Dayton, Texas): Hello. I am currently playing the Subway Scrabble for my mother.. (she lives.. http://bit.ly/TpxyP\\\\n'\",\n",
              " \"b'FREE PALLETS (HOBBY AREA): Free pallets . Must take all Located at 8720 Tavenor lane , Houston Between hours of .. http://bit.ly/26u9jn\\\\n'\",\n",
              " \"b'Free Twin Mattress (Katy): I have two twin mattress available for FREE. They are good twin mattress with very li.. http://bit.ly/RSa65\\\\n'\",\n",
              " \"b'Craftsman saw and garage stuff (West Houston): Old craftsman radial arm saw, works. shop cart, shop lights. http://bit.ly/46yZsn\\\\n'\",\n",
              " \"b'FREE PIANO (3045 BUISNESS CENTER DR PEARLAND TX 7758): FREE PIANO. COME AND GET IT LOCATED AT ... http://bit.ly/5BbF97 [ by @MalcolmDiggs ]\\\\n'\",\n",
              " \"b'sliding glass doors (magnolia/woodlands): I have 3 set with frames & glass and one extra glass door.     frame .. http://bit.ly/12h2La\\\\n'\",\n",
              " \"b'Labrador Free To Good Home: 3 year old Lab FREE to good loving home. Very friendly, playful, obedient to commands a... http://bit.ly/6GCGq9\\\\n'\",\n",
              " \"b'TOYS & STUFF ANIMALS (PEARLAND ): WOULD LIKE TO GIVE THESE TOYS & STUFF ANIMALS TO WHOMEVER MAY WANT THEM T.. http://bit.ly/UF8Og\\\\n'\",\n",
              " 'b\\'Software, Dos 6.22  (249 at SH Tollway): On Floppy disks, \"old\" but brand new with manual http://bit.ly/9bzcen http://bit.ly/6KPOg2\\\\n\\'',\n",
              " \"b'Free large desk - clear lake (Clear lake): Free sturdy computer desk.  First come first serve.  Call 832-217-4015 http://bit.ly/8tIYtr\\\\n'\",\n",
              " 'b\\'Cardio Glide (Katy): To see pics search for \"cardio glide\" I had a listing asking $40.00, I need it out of my g.. http://bit.ly/zpokg\\\\n\\'',\n",
              " \"b'14x56 trailer free to be moved (kenney texas): Sheet metal roof over,Recently lived in,steveski2@peoplepc.com f.. http://bit.ly/2p7sPW\\\\n'\",\n",
              " \"b'Compost Bin (Beltway &45 S): I made this after Ike to recycle my old fence, but i dont produce enough compost to.. http://bit.ly/4zoaII\\\\n'\",\n",
              " \"b'Little Tike Parts (cypress/near katy): i have two pieces of a little tike table set.... http://bit.ly/3sIUz1\\\\n'\",\n",
              " \"b'FREE OAK FIREWOOD: Free Oak Firewood ... tree already cut down. Wood stacked but not split.  Location:  Old Anderso... http://bit.ly/4IEQM8\\\\n'\",\n",
              " \"b'Styrofoam Coolers and Ice Packs (Beltway & Briar Forest): I have seven styrofoam coolers plus a couple dozen ice pa... http://bit.ly/8y9szG\\\\n'\",\n",
              " \"b'Mirror  (Spring ): Piece of Mirror, Approx. 5 feet by 3 feet. 3 finished edges. Call 281-773-9583. http://bit.ly/4wEMqq http://bit.ly/6KPOg2\\\\n'\",\n",
              " \"b'Old School Maps and projector screens (Pearland): I have 5 maps -2 US, 2 Texas, 1 South America and 2 projector.. http://bit.ly/4rCvp8\\\\n'\",\n",
              " \"b'fire wood about one truck load (missouri city): it is free come get it. call 239 349 5184  rod... http://bit.ly/9okV6C http://bit.ly/6KPOg2\\\\n'\",\n",
              " \"b'Old whirlpool oven (SW/Meyerland): Worked until the lower element burned out. Good for parts or could work agai.. http://bit.ly/3nXe7\\\\n'\",\n",
              " \"b'FREE LEXMARK PRINTER OPTRA M412  (MISSOURI CITY(HW90&GESSNER)): PRINTER NOT TESTED   CAN BE US... http://bit.ly/8G2pGj http://bit.ly/6KPOg2\\\\n'\",\n",
              " \"b'free: Large woodend swing frame (SW Houston 77083): In our backyard, we built a large, wooden swing frame. We w.. http://bit.ly/4oYzOF\\\\n'\",\n",
              " \"b'To: Puppy- Cute, black, smart and sweet - (Clear Lake: this puppy was seen in a lost&found ad.... http://bit.ly/6dazgN http://bit.ly/6KPOg2\\\\n'\",\n",
              " \"b'Landscaping Rocks: Landscaping rocks all sizes , just bring a friend and a truck and pick them up out of my yard http://bit.ly/4WQSC\\\\n'\",\n",
              " \"b'FREE DJ SERVICES (ANYWHERE AROUND HOUSTON): RECIEVE 1 FREE HOUR OF DJ SERVICES WITH PURCHASE OF 4 HOURS OF SERV.. http://bit.ly/1afn3k\\\\n'\",\n",
              " \"b'Free Vanilla Bath Set (Houston-area): Free Vanilla Bath Set (Brand New in Package)  A Gift for You!    I need 10 mo... http://bit.ly/4RLofl\\\\n'\",\n",
              " \"b'Couch and Love seat (2506 Roy Cir. 77007): these were in storage for a long time, but you can remove the seat a.. http://bit.ly/TUCqH\\\\n'\",\n",
              " \"b'Car Storage/Carrier (Katy): Sears car top carrier http://bit.ly/4vAgk5\\\\n'\",\n",
              " \"b'UFC 109 - Randy Couture v Mark Coleman (Houston/Katy): Whats up!  My name is Steve and I have ... http://bit.ly/bz4sZN http://bit.ly/6KPOg2\\\\n'\",\n",
              " 'b\\'RCA 31\" TELEVISION (SOUTH BELT): This TV is not working. We have no idea what\\\\\\'s wrong with it, but it\\\\\\'s fairly .. http://bit.ly/tbjTq\\\\n\\'',\n",
              " \"b'dog cat pet ramp - FREE (Katy): Looking to give away a heavy-duty home-made pet ramp that I made for our older cats... http://bit.ly/5C1pZp\\\\n'\",\n",
              " \"b'Interior Doors (Spring): I have 10 interior doors with all hardware and the frames. They came from a 50 year ol.. http://bit.ly/X3vw6\\\\n'\",\n",
              " \"b'Yard Machines Lawn Mower (works too) (Spring by Splashtown)): I finally decided to buy a new o... http://bit.ly/bQZCaw http://bit.ly/6KPOg2\\\\n'\",\n",
              " \"b'bench/couch and tv stand (spring): I have had a few no shows so i am gonna give these items to whoever can get .. http://bit.ly/1dCJrB\\\\n'\",\n",
              " \"b'toddler 9-2t girl lot clothes (spring): Completely free in ok-new condition some is new some worn not sure one .. http://bit.ly/2nRCUZ\\\\n'\",\n",
              " \"b'lots of trinkets in vacant house (friendswood): lots of dishes, trinkets and all kinds of stuff. People moved o.. http://bit.ly/tEjHI\\\\n'\",\n",
              " 'b\"free crutches: free aluminum crutches. don\\'t have a car to deliver.   (adult size) great condition.  call 281 706 1... http://bit.ly/7UGqs5\\\\n\"',\n",
              " \"b'playstation 3 (spring): I HAVE THREE YOUNG CHILDREN THAT WOULD LOVE THAT AS A GIFT.  YOU ARE WELCOME TO GIVE IT TO ... http://bit.ly/5i0Lq5\\\\n'\",\n",
              " \"b'MORE WAYS TO MAKE MONEY ONLINE (HOUSTON): CLICK THIS TO BEGIN AND THANKS FOR LOOKING. http://bit.ly/1QfzgA\\\\n'\",\n",
              " \"b'Pre-Sale Passcodes for 2010 Rodeo (Houston): Does anyone have any pre-sale codes for this year... http://bit.ly/8yYazF http://bit.ly/6KPOg2\\\\n'\",\n",
              " \"b'dog (Magnolia): I have a part cholcolate that we just do not have the time for. We are having ... http://bit.ly/9OsuXW http://bit.ly/6KPOg2\\\\n'\",\n",
              " \"b'http://houston.craigslist.org/zip/1463701349.html:   to: Pending Pick up: Filing cabinets and hanging racks (Ka.. http://bit.ly/3tBrP2\\\\n'\",\n",
              " \"b'FREE DELIVERY ON FIRE WOOD (East Houston area): We now have free delivery on fire or BBQ wood. Mixed oak. Seasoned ... http://bit.ly/6CPD6G\\\\n'\",\n",
              " \"b'elephant ear plants (webster): i have more elephant ear plants. u dig them up and u can have them. 281-486-1937.. http://bit.ly/2twjcg\\\\n'\",\n",
              " 'b\\'Tile: ~36 pieces of ~14\" white/tan slate looking tile. Available for pickup before 3pm Saturday or after 2pm Su.. http://bit.ly/3rtx9e\\\\n\\'',\n",
              " \"b'Body Magic size 40 (NW Houston): Body magic gently used has been washed. Was used for clients to try on. If you.. http://bit.ly/Nen3v\\\\n'\",\n",
              " \"b'baby boy stuff (tomball): I am 7 months pregnant and am in deprate need of help hand me downs ... http://bit.ly/9k4RLP http://bit.ly/6KPOg2\\\\n'\",\n",
              " \"b'halloween sleeper- sz 6 mths (southeast houston): Babys First halooween one pc sleeper.      . This is a size 6.. http://bit.ly/3WOr0l\\\\n'\",\n",
              " \"b'FREE LAB well trained, very sweet (webster tx): I have a very sweet older labrador retreiver. She is well train.. http://bit.ly/3plTDR\\\\n'\",\n",
              " \"b'FREE baby/ toddler toys (Louetta/249): I have some leftover stuff from my garage sale that I thought I would see.. http://bit.ly/GzDlc\\\\n'\",\n",
              " \"b'Anything!!! (45 South/77061): If you see anything in this photo or any of the others that you can use, let me k.. http://bit.ly/1YX9Uc\\\\n'\",\n",
              " \"b'Used Tan Carpet and Pad 189 sq.ft. (14x13.5ft) (Dickinson ): the carpet (2 years old) is located off I-45 south.. http://bit.ly/OryIH\\\\n'\",\n",
              " \"b'Baby Jars (Cypress): I have a small box of stage one jars along with around five stage two jars. http://bit.ly/8d7V5v http://bit.ly/6KPOg2\\\\n'\",\n",
              " 'b\\'free dell monitor (westchase district): i have a 14\" dell CRT monitor thats doing nothing but taking up room on .. http://bit.ly/3sgR9O\\\\n\\'',\n",
              " \"b'P90X Workout Free (houston): I HAVE THE P90X PROGRAM AVAILABLE FOR FREE! PLEASE EMAIL ME FOR D... http://bit.ly/dvMhWl http://bit.ly/6KPOg2\\\\n'\",\n",
              " \"b'Table/Display thick heavy wood (Katy/Richmond): We are giving this table away. It originally came from a closeo.. http://bit.ly/rnwDR\\\\n'\",\n",
              " \"b'Curb Alert -- Hampster Cage & Bedding (Katy): Plastic hampster cage with some accessories (whe... http://bit.ly/dugTk8 http://bit.ly/6KPOg2\\\\n'\",\n",
              " \"b'Large Entertainment Center (249 & Spring Cypress): Just moved back to Houston from California and have no ro.. http://bit.ly/9rOP3\\\\n'\",\n",
              " 'b\\'My trash just may be your treasure! (4814 Glenmont Bellaire 77401): Moving out of our house. Setting all \"heavy.. http://bit.ly/2nuoCF\\\\n\\'',\n",
              " 'b\\'Five Piece Sectional Sofa w/Recliners (Oak Forest): This is a 5 pc. sofa that in its current \"L-shape\" takes up 12.... http://bit.ly/4yKyEo\\\\n\\'',\n",
              " \"b'basket ball  hoop (Atascosita): heavy duty basket ball hoop made to be sunk into the ground. The cement needs to be... http://bit.ly/69HY9h\\\\n'\",\n",
              " \"b'garage sale help (pearland/houston): hi i am trying to raise money for school and i am having ... http://bit.ly/dqlJcU http://bit.ly/6KPOg2\\\\n'\",\n",
              " \"b'Hitachi 60 inch big screen (249/Tomball): Working condition...sort of...if you know how to fix the tuning of the tv... http://bit.ly/8uzteR\\\\n'\",\n",
              " \"b'Huge baby product giveaway: Baby products given away for absolutely free thats right for absol... http://bit.ly/4OmVSF http://bit.ly/6KPOg2\\\\n'\",\n",
              " \"b'Moving/remodeling leftovers: I have some leftover boxes of good clean free stuff. Miscellaneou... http://bit.ly/5ajtCl http://bit.ly/6KPOg2\\\\n'\",\n",
              " \"b'Rick the Dick Perry FREE Ride to Austin (Houston): Hello,  I have been laid off since January by no fault of my own... http://bit.ly/6D117z\\\\n'\",\n",
              " \"b'College classe? for free with free scholarship? (Kennard): Get a scholarship now..apply for fr... http://bit.ly/7RUvtq http://bit.ly/6KPOg2\\\\n'\",\n",
              " \"b'Free clothes (Greenspoint ): 11911 swords Creek rd 77067  the bags are black on the side of my house please do .. http://bit.ly/IIu59\\\\n'\",\n",
              " \"b'free old ibm laptop, works low battery charge (s houston): free old ibm laptop, works great, includes charger, .. http://bit.ly/CHTbV\\\\n'\",\n",
              " \"b'B?by products given away for absolutely free: Baby products given away for absolutely free tha... http://bit.ly/5UTiiA http://bit.ly/6KPOg2\\\\n'\",\n",
              " \"b'Free* womens/juniors clothes*FREE (Alvin 77511): I have 2 bags of womens or juniors clothes. F... http://bit.ly/60qCRh [ by @MalcolmDiggs ]\\\\n'\",\n",
              " \"b'WORKING LAPTOP -NEEDS A BATTERY (HOUSTON ): WORKING DELL LAPTOP WORKS GREAT NEEDS A BATTERY BUT WORKS IF PLUG IN.. http://bit.ly/kUt9x\\\\n'\",\n",
              " \"b'Free 1977 Red Ford F-100 (South Houston): need this tank gone by the weekend. still runs great... http://bit.ly/dnBMbw http://bit.ly/6KPOg2\\\\n'\",\n",
              " \"b'List of Stuff (Clear Lake): Good stuff please come take it soon.   -household things -craft items -silverware -.. http://bit.ly/7MwQLP\\\\n'\",\n",
              " \"b'free non working dishwasher (pearland): first come first serve email for address http://bit.ly/7GVUkP\\\\n'\",\n",
              " \"b'Ladies Ski Boots (Pearland): Ladies ski boots. Used. Good condition. About 20 years old but look a lot newer. S.. http://bit.ly/4Utfw\\\\n'\",\n",
              " \"b'Bird Dog (Crosby tx): Lady is a beautiful blue, white and black dog. she is very loving and needs to go to  a good ... http://bit.ly/6lKNGH\\\\n'\",\n",
              " \"b'WOODEN PALLETS WITH WOOD DECKING (MAGNOLIA): FREE TO WHOEVER CAN USE THEM.    Have to be gone by end of this lab.. http://bit.ly/Uhj00\\\\n'\",\n",
              " \"b'free honda atv is a scammmm.... (stupid ville): go to hell scammers http://bit.ly/8lDddS\\\\n'\",\n",
              " \"b'Shoes,clothes,make up bag, and cup (Houston): Just need to get rid of. If anyone wants to pick it up call me at 832... http://bit.ly/5QHJXw\\\\n'\",\n",
              " \"b'Gas BBQ (BW8 - 290): Free Charmglow gas grill, ignition does not work and weels are broken http://bit.ly/lKabJ\\\\n'\",\n",
              " \"b'Free Hauling Service (Humble): I offer a free hauling service to individuals that need the following items (but.. http://bit.ly/ukTlN\\\\n'\",\n",
              " \"b'FREE COMEDY CLUB TICKETS (NW Houston): The Laff Spot Comedy Club Champions has a limited numbe... http://bit.ly/cBlZ1E http://bit.ly/6KPOg2\\\\n'\",\n",
              " \"b'Free full size mattress&box springs (Katy): Full size mattress and box springs. Inherited from inlaws smells lik.. http://bit.ly/2eVXCn\\\\n'\",\n",
              " \"b'FREE FIRE WOOD (COLDSPRING/SHEPHERD AREA): we have some trees that need to be removed, if you can cut them and .. http://bit.ly/ueCtO\\\\n'\",\n",
              " 'b\\'3 non working tv\\\\\\'s  (se houston/pearland): 2 combo 20\" tv\\\\\\'s and one 32 inch tv. all three have a power issue. only ... http://bit.ly/4P5S97\\\\n\\'',\n",
              " \"b'____FREE diagnostics on your car or truck____ (West Houston): Is your check engine light on? I will scan it for .. http://bit.ly/10VFLX\\\\n'\",\n",
              " \"b'Free Piano (Montgomery): I have a free Waddington piano that works but needs tuned. The keys l... http://bit.ly/92edlk http://bit.ly/6KPOg2\\\\n'\",\n",
              " \"b'PALLETS/WOOD FOR FREE (south austin): about 20 pallets are sitting outside our warehouse. They are totally free,.. http://bit.ly/4dytD7\\\\n'\",\n",
              " 'b\"FREE 16\\'\\' AND 17\\'\\' TIRES (NW OR SURROUNDING): THEY WERE ON A 2001 CHEVY PICK UP 1000+ TREAD ON 3 OR 4 TIRES ON BOTH... http://bit.ly/66V6XD\\\\n\"',\n",
              " \"b'Stove (I-45 North/Richey Rd): Have a stove, which was working great at one time, until renters threw outside bec.. http://bit.ly/rhI0w\\\\n'\",\n",
              " \"b'Baby Crib Mattress (standard)  (Spring, TX): Standard baby crib mattress in good condition.   ... http://bit.ly/4Rgwtl http://bit.ly/6kXiQX\\\\n'\",\n",
              " 'b\\'To \"Free TV Sofa Loveseat Jack Ass (Houston): I am really not sure why this upsets so much tha... http://bit.ly/6i3iFg http://bit.ly/6KPOg2\\\\n\\'',\n",
              " \"b'still unopened tubs of prolab isolate protien - FREE (Houston): Offering 3 containers of coffee whey protein. I.. http://bit.ly/UxAkE\\\\n'\",\n",
              " \"b'free toshiba not working tv (1960 north): come and take bring helper with you huge tv with remote need little w.. http://bit.ly/3gSZIp\\\\n'\",\n",
              " \"b'Opened Baby Formulas (HWY 6 and W. Little York): My son went through a few types of formulas before we found one.. http://bit.ly/gcUWL\\\\n'\",\n",
              " \"b'Free Spa Retreat (Spring): I am looking for a couple of ladies to go to a spa retreat with me on Sunday. It will in... http://bit.ly/7MnW8O\\\\n'\",\n",
              " \"b'Free Black Lab To Good Home (59&Gessner): I have a 7 month old black lab to give away for free. He is house broken.... http://bit.ly/4TVILk\\\\n'\",\n",
              " \"b'Countertop/sink/faucet (Missouri City): I have a countertop with built in sink and older faucet that we pulled o.. http://bit.ly/OJnpC\\\\n'\",\n",
              " \"b'FREE- KITTENS (SPRING, TX): Adorable 6 week old kittens, house-broken.. 4 black, grey and white with tiger like .. http://bit.ly/dkhgg\\\\n'\",\n",
              " \"b'Craftsman Lawn mower and weed eater (77385 Conroe Woodlands): NOT WORKING  May be profit oppor... http://bit.ly/5ZC5Hm http://bit.ly/6KPOg2\\\\n'\",\n",
              " \"b'LOT OF FREE ASSORTED TILES and DISPLAY CASES (DOWNTOWN): Lot of free assorted tiles and their display cases from.. http://bit.ly/LPd8M\\\\n'\",\n",
              " \"b'Re: tons of name brand baby clothes: Hello, I saw your ad on craigslist for the baby clothes, It said to just g.. http://bit.ly/40dCxb\\\\n'\",\n",
              " \"b'Free windows! (Kingwood, TX): Free Windows!  Free to the first person to pick up. Must take al... http://bit.ly/akxJiD http://bit.ly/6KPOg2\\\\n'\",\n",
              " \"b'New-butcher and tissue paper sheets (Beltway 8-249 area): Several thousand sheets of white but... http://bit.ly/7htH6a http://bit.ly/6KPOg2\\\\n'\",\n",
              " \"b'Free maroon couch (Hitchcock, TX): Free couch in mediocre shape.  Sitting outside.  205 Cedar ... http://bit.ly/9Mmim2 http://bit.ly/6KPOg2\\\\n'\",\n",
              " 'b\\'Big Screen TV (Bay City, Texas): I have a 52\" big screen tv that is about 8 years old. It is a Sony. I am not s.. http://bit.ly/2ZiH1W\\\\n\\'',\n",
              " \"b'Soft Leather Couch (Montrose): The wood is broken on the bottom but some nails and wood glue w... http://bit.ly/csYDLS http://bit.ly/6KPOg2\\\\n'\",\n",
              " \"b'Free Pictures (katy): I am an amature Photgrapher looking to build a portfolio. I am looking to take pictures f.. http://bit.ly/2Lnw88\\\\n'\",\n",
              " \"b'Bench Swing Must Go (pending Pickup now) (Jersey Village - BW8 by Racetrack): Hello I have a bench swing, the f.. http://bit.ly/11fM3W\\\\n'\",\n",
              " \"b'Free twin size bed (77530 channelview area): i got a free twin size bed with mattress, so to much of a great con.. http://bit.ly/3TjWCS\\\\n'\",\n",
              " 'b\"Sturday Wood Desk (Conroe): Wooden Desk with an Extension that can be configured either in \\'L\\' shape or long-n-.. http://bit.ly/q0lDb\\\\n\"',\n",
              " \"b'Couch and love seat microfiber (Spring): Call for pics of couch and love seat. Couch is broken on one arm but c.. http://bit.ly/2nb4kU\\\\n'\",\n",
              " \"b'Pioneer 60 in pojection TV w/ built in speakers (Museum District): OK, so I tried to get rid o... http://bit.ly/5X0DGg http://bit.ly/6KPOg2\\\\n'\",\n",
              " \"b'two boats for free! (conroe/gragerland area): i have two boats that are for free! TRAILER IS NOT INCLUDED! must .. http://bit.ly/IooUs\\\\n'\",\n",
              " 'b\"Natural Wood Armoir Hold 32\\' TV (Reduced price) (Oak Forest TC Jester): Look At picture call me for Dimensions i.. http://bit.ly/1C2Rho\\\\n\"',\n",
              " \"b'Free large blue couch (tomball): needs some repair on the cushions, but is otherwise a very comfy couch. My dog.. http://bit.ly/GzRxw\\\\n'\",\n",
              " \"b'Desk Chairs (Prairie View): Older Desk and Chairs, also some rolling desk chairs  any donation... http://bit.ly/8rYVNv http://bit.ly/6KPOg2\\\\n'\",\n",
              " 'b\\'2 CRT Monitors Free (Deer Park / Pasadena): 2 - 17\" CRT Monitors free for pickup.  Both have a  loose connection bu... http://bit.ly/5YWBaw\\\\n\\'',\n",
              " \"b'2 boxes of toys (Conroe): Just cleaned out my sons room and I have to small boxes of toys to g... http://bit.ly/b54g22 http://bit.ly/6KPOg2\\\\n'\",\n",
              " \"b'Artifical Christmas Tree 7 1/2 foot Blue Ridge Spruce (Katy, TX): 7 1/2 ft. blue spruce artifi... http://bit.ly/4DkHr1 http://bit.ly/6KPOg2\\\\n'\",\n",
              " 'b\"Free Cat (Alvin,TX): Just looking to give this cat a good home. He\\'s about 7 months old. His name is Chuki. He\\'.. http://bit.ly/5tJGhC\\\\n\"',\n",
              " \"b'Free BBQ Pit for Scrap (South of Reliant Stadium): Free BBQ Pit for scrap metal or for restoration... You must .. http://bit.ly/4yxupk\\\\n'\",\n",
              " \"b'Konica Printer B&W FREEEE!!!!! (South Houston): Were moving and need to get rid of excess equi... http://bit.ly/8iKcW0 http://bit.ly/6KPOg2\\\\n'\",\n",
              " \"b'Sweet Dog to Good Home (Houston): We have a Cute little dog named Samy we are finding a new ho... http://bit.ly/5vV1QZ http://bit.ly/6KPOg2\\\\n'\",\n",
              " 'b\\'36\" RCA Television TV (290 @ 1960): I have a 36\" RCA television to give away. The TV was working intermittently.. http://bit.ly/3CON5R\\\\n\\'',\n",
              " \"b'dryer needs power cord, car seat and other misc. items (katy/west houston): Electric dryer needs power cord, and.. http://bit.ly/21o7g\\\\n'\",\n",
              " \"b'TV or Microwave Cart (Spring Branch 77041): Very functional tv or microwave cart. One warped edge by wheel. http://bit.ly/zXnGC\\\\n'\",\n",
              " \"b'Free Furniture (Conroe, TX): Bring a HUGE truck, lots of various furniture items, divorce situ... http://bit.ly/6nNu7a http://bit.ly/6kXiQX\\\\n'\",\n",
              " \"b'BASKETBALL GOAL - FREE (ATASCOCITA/HUMBLE/77346): Free basketball goal.    Please call Stefan on 713-826-5641 http://bit.ly/18gmRn\\\\n'\",\n",
              " \"b'looking for free garage - chairs / tables / cabinets /etc (houston): Let me know if you have anything to give a.. http://bit.ly/1tQbdE\\\\n'\",\n",
              " \"b'large tv (pasadena): The TV the stand and DVD/VHS player all work great. the TV is color blind... http://bit.ly/cTnkeG http://bit.ly/6KPOg2\\\\n'\",\n",
              " \"b'FREE FREE FREE TODAY (SPRING): TWO FORMAL CHAIRS ( THE ARMS ARE A LITTLE SHAKEY)  BRING A TRUC... http://bit.ly/dekCeP http://bit.ly/6KPOg2\\\\n'\",\n",
              " \"b'187 free greeting card envelopes (conroe): 187 free greeting card envelopes. My business was throwing them away,.. http://bit.ly/Kxthw\\\\n'\",\n",
              " \"b'Free Moving Boxes (Aldine): I used these boxes to move, they are just banana boxes from Fiesta... http://bit.ly/9aigdT http://bit.ly/6KPOg2\\\\n'\",\n",
              " \"b'Bag of free clothes (Humble): I have a bag with some maternity shirts (I think there are 5) an... http://bit.ly/alj9cE http://bit.ly/6KPOg2\\\\n'\",\n",
              " \"b'Mixed Breed: She is about 8 months to a year-- She is a good out side-- she looks like she is ... http://bit.ly/bPEzWr http://bit.ly/6KPOg2\\\\n'\",\n",
              " 'b\\'53\" projection tv and/or exercise equipment (katy): powers source problem, turns on sometimes and stays on for 2 mi... http://bit.ly/7LR1Xd\\\\n\\'',\n",
              " \"b'Free Moving Boxes (Cypress - Fry Rd/290): Free Moving boxes. Small, Medium, Large, X-Large and Wardrobe boxes. .. http://bit.ly/fTf29\\\\n'\",\n",
              " \"b'Showcase (Magnolia/the Woodlands): Showcase, needs some TLC glass front with sliding back, locks also. Just com.. http://bit.ly/IyhYq\\\\n'\",\n",
              " \"b'Cleaned Out the Shed ( Lots of misc.) (Pasadena 215 Garfeild.Ave): Cleaned Out the Shed ( Lots of misc.) 215-Ga.. http://bit.ly/18mnIQ\\\\n'\",\n",
              " 'b\"free!! Encyclopedia\\'s (east houston): Free set of encyclopedia\\'s World Book 1995 vol.9 super g... http://bit.ly/9hxKR5 http://bit.ly/6KPOg2\\\\n\"',\n",
              " \"b'seats (highlands): i came home one day to a pair of bucket seats sitting at my gate. I guess somebody thought w.. http://bit.ly/4s5fqk\\\\n'\",\n",
              " \"b'Santa fe style chair (KEMAH): Great for a MAN CAVE :) 832 561 0813 http://bit.ly/9Y4qVk http://bit.ly/6KPOg2\\\\n'\",\n",
              " 'b\\'60\" Mitsibishi Big Screan (Houston~Sagemont): The tv works but the screan has lines on the top... http://bit.ly/7ddvKQ http://bit.ly/6KPOg2\\\\n\\'',\n",
              " \"b'FREE HAULING OF  BOXES (HOUSTON & SURROUNDING AREAS): HELLO.   HAVE YOU JUST MOVED , UNPACKED AND NEED TO GET RID O... http://bit.ly/6xvMmM\\\\n'\",\n",
              " \"b'YOU CALL... AND WE HAUL (free) (Houston): Got scrap metal you want removed from your property? One call does it.. http://bit.ly/15eKgI\\\\n'\",\n",
              " \"b'AQUARIUM GRAVEL (FRIENDSWOOD): 5 gal bucket full of aquarium gravel green and black. here toda... http://bit.ly/aOUSYM http://bit.ly/6KPOg2\\\\n'\",\n",
              " \"b'Free facials and makeovers: I need to build my portfolio. You will receive a free facial and makeover in exchan.. http://bit.ly/Wu7qI\\\\n'\",\n",
              " \"b'Looking for (Huffman Tx): I am looking for free dirt in the huffman area or with in a 10 mile ... http://bit.ly/4DnKEk [ by @MalcolmDiggs ]\\\\n'\",\n",
              " \"b'Free red couch (Richmond / Sugar Land): Used for two years than kept in storge for two. Still lots of life left. La... http://bit.ly/7zNK99\\\\n'\",\n",
              " \"b'Free metal shed, must pickup Sunday (Cypress): Free metal shed pictured below. You take it apart (just a few sc.. http://bit.ly/1KC74j\\\\n'\",\n",
              " \"b'Girly headboard, throw pillow/bedskirt (Katy): Very cute, frilly custom made girly headboard, bedskirt and matc.. http://bit.ly/15aH9D\\\\n'\",\n",
              " \"b'Free Business Card (Houston, TX): Free 100 Business cards Call Erick 832-216-4178    With the purchase of a web.. http://bit.ly/1m6B9s\\\\n'\",\n",
              " \"b'Yellow LAB Needs TLC (Santa Fe): We have a very nice yellow lab that showed up very thin and m... http://bit.ly/5v9TFW http://bit.ly/6KPOg2\\\\n'\",\n",
              " \"b'4 Free outside plastic patio chairs (Tomball/77375/Hooks Air port): I got these for someone asking for free plastic... http://bit.ly/92Wu3S\\\\n'\",\n",
              " \"b'boxes (rosharon): i have about 30 boxes different sizes for directions call me at 832-298-9819 rey http://bit.ly/9V3g2N http://bit.ly/6KPOg2\\\\n'\",\n",
              " \"b'2 Free cans of Similac (Hiriam Clark & W Airport): 2 brand new, sealed cans    - 1 Advance Infant Formula (e.. http://bit.ly/wzjM4\\\\n'\",\n",
              " \"b'moving boxes (Spring - off Rayford Rd.): I have a pickup load of good heavy clean boxes if any... http://bit.ly/aFdnH9 http://bit.ly/6KPOg2\\\\n'\",\n",
              " 'b\\'52\" Mitsubishi Projection TV Broken (Pearland/Dixie Farm 77581): This is 15 years old and has worked perfectly .. http://bit.ly/3eOyDL\\\\n\\'',\n",
              " \"b'To the person with the free Nintendo: To the person with the free Nintendo, Please contact me ... http://bit.ly/4M7DmW [ by @MalcolmDiggs ]\\\\n'\",\n",
              " \"b'free (cleveland tx.): i have a washer NOT working, good for parts or scrap metal,   also a BBQ pit, if interested p... http://bit.ly/7zKcVj\\\\n'\",\n",
              " \"b'RE:Firewood ads (Houston): Its not firewood if you have to cut it down. You need trees removed. Jeez people just be... http://bit.ly/5MMZu2\\\\n'\",\n",
              " \"b'cleaning job (houston): necessito de persona p limpiar oficina das 8 ate as 17   mon, tues,thurs, friday   9 po.. http://bit.ly/4ycMUW\\\\n'\",\n",
              " 'b\\'Metal \"gym\" type locker (Bltwy 8 & 45 S): Double metal gym type locker.  Looks as though two l... http://bit.ly/4y1T0S http://bit.ly/6KPOg2\\\\n\\'',\n",
              " \"b'China Cabinet (Garden Oaks): Beautiful China cabinet - has been in outbuilding so needs some minor clean-up and.. http://bit.ly/7awKUc\\\\n'\",\n",
              " 'b\"Free Electronic Stuff! (Lake Conroe): Some work, lots of wires, caller id\\'s, switches, computer stuff, answerin.. http://bit.ly/3CZ8ZN\\\\n\"',\n",
              " \"b'Free Queen Sized Headboard with cabinets (Central Houston): Hello, If you come and get it, you... http://bit.ly/cqLn49 http://bit.ly/6KPOg2\\\\n'\",\n",
              " \"b'Dishwasher: Have Whirlpool Dishwasher, works fine. reason for getting rid of it is we have upgraded to a newer .. http://bit.ly/4zmSSv\\\\n'\",\n",
              " \"b'** FREE BAG OF TOYS ** MUST GO TOADAY ** (PORTER- MARTIN RD): TODDLER TOYS , SOME NEED BATTERIES,1 IS MISSING A.. http://bit.ly/2q7W5x\\\\n'\",\n",
              " \"b'2 light wood end tables (Richmond,TX): 2 of the legs are loose & need to be screwed in better.... http://bit.ly/a8icwB http://bit.ly/6KPOg2\\\\n'\",\n",
              " \"b'free coins : I have around 30 or moer coinsf rom israel,europe and others.good fr someone that travels..around .. http://bit.ly/3zpzRd\\\\n'\",\n",
              " \"b'hvac/duct stuff ? (77091): i have a COUPLE pieces of metal duct pieces, 3 blue bags that say flexible duct pleas.. http://bit.ly/4FTKIE\\\\n'\",\n",
              " \"b'clothes for baby boy,girl(8t),or boy(10t) (south west houston tx): If you have baby boy (0-12m... http://bit.ly/aTx3N1 http://bit.ly/6KPOg2\\\\n'\",\n",
              " \"b'Buffet/dresser (cypress): I have a very old buffet/dresser that has severe damage to the veneer. It could proba.. http://bit.ly/2b4uRG\\\\n'\",\n",
              " \"b'compaq 2500 monitor (STAFFORD): -i have this compaq 2500 computer monitor.    -needs to qo!!    -if intrested p.. http://bit.ly/3Mg7Jk\\\\n'\",\n",
              " 'b\\'22\" Color TV (Richey Rd/Imperial Valley): Have a 22\" color tv that works for a while then quits working - do not wa... http://bit.ly/6i9kaO\\\\n\\'',\n",
              " \"b'Blue Paint (Montrose): I have about a pint...its a small can of blue paint...maybe like a dark teal. i never use.. http://bit.ly/19YPEP\\\\n'\",\n",
              " \"b'Black Desk (Spring): Black Desk, Good Condition. One leg came loose on drawer side. My husband epoxyed it and e.. http://bit.ly/RQjGH\\\\n'\",\n",
              " \"b'FOUND 2 DOGS IN WILLIS AREA (WILLIS, TX): I FOUND 2 DOGS IN THE WILLIS AREA, VERY WELL TAKEN CARE OF DOGS, IF Y.. http://bit.ly/Uh89P\\\\n'\",\n",
              " \"b'Directv HD DVR (I-45 & SH-242): Directv says this unit is obsolete.  It still picks up their s... http://bit.ly/br8BOv http://bit.ly/6KPOg2\\\\n'\",\n",
              " \"b'Free patio furniture (pearland): Free patio furniture  chair, 2 person couch, table and small ... http://bit.ly/c5hZR7 http://bit.ly/6KPOg2\\\\n'\",\n",
              " \"b'Free Loveseat & Chair (Galleria Area, Houston): I have a cream colored love seat, and a red slip cover from Ikea. I... http://bit.ly/8J4SdC\\\\n'\",\n",
              " \"b'gas weedeater and 19 inches tv (barker cipress 77084): i have a weedeater non working bout if ... http://bit.ly/7Qfv5V http://bit.ly/6KPOg2\\\\n'\",\n",
              " \"b'Found Boxer (Katy): Found boxer in katy.  Female and noone seems to call from the pics..have h... http://bit.ly/aaZpap http://bit.ly/6KPOg2\\\\n'\",\n",
              " \"b'MP3 Player (Galleria):  Does anyone have a MP3 player (in working order) they no longer use? M... http://bit.ly/cbVgR3 http://bit.ly/6KPOg2\\\\n'\",\n",
              " \"b'Wanted..Computers running or not (Sulphur and Sourrounding areas): I am in search of computers... http://bit.ly/6YmSTI http://bit.ly/6KPOg2\\\\n'\",\n",
              " \"b'FREE Pampered Chef Products!!! (Houston and surrounding areas): Host a cooking show in the comfort of your own .. http://bit.ly/47ZKPJ\\\\n'\",\n",
              " \"b'RE- Free Goldens: You have posted the wrong phone number.. http://bit.ly/4KShr8\\\\n'\",\n",
              " \"b'Ladies Cut (Galleria): Hi,  I am looking to give some lucky lady a new Haircut and Style ,this... http://bit.ly/cZPkAx http://bit.ly/6KPOg2\\\\n'\",\n",
              " \"b'Comics and Toys (Galleria/Meyerland Area): Hey everyone I have alot  of comics mostly spiderma... http://bit.ly/dazJ1M http://bit.ly/6KPOg2\\\\n'\",\n",
              " \"b'kittens (brazoria): I have 3 tiger kittens. Free to good home. 2 of them black with white feet/belly and striped.. http://bit.ly/WFRbS\\\\n'\",\n",
              " 'b\"tons of name brand baby clothes: Don\\'t want any more, tons of name brand baby clothes ,hit me back http://bit.ly/wzcrR\\\\n\"',\n",
              " 'b\\'Ceramic tile (On the curb): 13 boxes of ceramic tile made in the USA; 12x12; \"Colonial Tan\" color, which is just.. http://bit.ly/A63t6\\\\n\\'',\n",
              " \"b'free wrought iron fencing (nw houston): 32 feet of black wrought iron fencing with 4 ft swinging gate in good co.. http://bit.ly/26WLs\\\\n'\",\n",
              " \"b'PS2 games (1960 Kuykendahl): Moving and found some old play station 2 games, includes john madden football, grand t... http://bit.ly/630DHy\\\\n'\",\n",
              " \"b'Free mismatch linen (Montgomery tx): Free garbage bag sized full of mismatched linen http://bit.ly/5aqMsy\\\\n'\",\n",
              " \"b'FREE ROLAND EP7 KEYBOARD (Tomball): I am giving away a Roland EP7 electronic keyboard. It turns on, but for som.. http://bit.ly/1ommiq\\\\n'\",\n",
              " 'b\\'2 30\" christmas wreaths decorated (memorial): Free to earliest pick up time after 8:30 beautiful. http://bit.ly/hCdir\\\\n\\'',\n",
              " \"b'Free king Spring Air BackSupporter mattress (Sugar Land): Just purchased new mattress and want to give away 5 y.. http://bit.ly/E9IVv\\\\n'\",\n",
              " \"b'More paint remnants (Kingwood): Lots of remnants of white paint.   REmnant of light blue paint.  Remnant of conc.. http://bit.ly/zNwes\\\\n'\",\n",
              " 'b\"Barbie bike & Boy\\'s bike (Pearland): Both bikes are used Barbie bike is for a 4-6 y/o Barbie bike needs a ne.. http://bit.ly/Cm1nD\\\\n\"',\n",
              " \"b'Moving Boxes (Richmond, TX): We recently moved and have a good amount of boxes, they are all i... http://bit.ly/7J0aGZ http://bit.ly/6kXiQX\\\\n'\",\n",
              " 'b\\'24\" Thermador Double wall oven (77059 Clear lake): This oven worked when I bought the house, n... http://bit.ly/7Zwhhk http://bit.ly/6kXiQX\\\\n\\'',\n",
              " \"b'free lab/boxer puppy (houston): FREE PUPPY TO A GOOD HOME!!!    I have a 3 month old, fully trained, house brok.. http://bit.ly/bu8cQ\\\\n'\",\n",
              " 'b\\'PLYWOOD 3/4\" 4\\\\\\'X4\\\\\\' (PEARLAND): I have 12 4 ft by 4 ft 3/4 inch plywood squares. They are painted black and some .. http://bit.ly/mInPl\\\\n\\'',\n",
              " \"b'queen mattress needed : pls give me a call if you have a queen mattress u wanta get rid of 832 744 7320 http://bit.ly/fPmq\\\\n'\",\n",
              " \"b'New Balance Recumbant Bike (Meyerland/SW Houston): First one takes it, but must pick up today.... http://bit.ly/cd1Yp6 http://bit.ly/6KPOg2\\\\n'\",\n",
              " \"b'Re:picture Frames: I cant E-mail you for some reason pls call me...832-641-0116 http://bit.ly/1348BK\\\\n'\",\n",
              " \"b'FREE Sleeper Sofa (Sugar Land): FREE sleeper sofa. Light blue cloth, see pictures for pattern.    There is some.. http://bit.ly/v2B37\\\\n'\",\n",
              " \"b'Free Partitions (West): Free partitions...Grey.. They came out of an office building I have about 50 in two dif.. http://bit.ly/5PLAA\\\\n'\",\n",
              " \"b'Need boy items (Willis/Conroe, TX): I am expecting my baby boy in April and would love anythin... http://bit.ly/5rwfR5 http://bit.ly/6KPOg2\\\\n'\",\n",
              " \"b'Get ? sc?olarship now..apply for free (Houston): College classes for free with free scholarshi... http://bit.ly/duGxnj http://bit.ly/6KPOg2\\\\n'\",\n",
              " \"b'Free nice ping pong table (Pearland): Originally $499.99!    First one to call can come pick it up!    Cristina.. http://bit.ly/2AxJwj\\\\n'\",\n",
              " \"b'few big pine trees to be removed (Shenandoah): I have a few big pine trees in my backyard, to be removed. Approx.. http://bit.ly/mptHY\\\\n'\",\n",
              " \"b'Entertainment Center: Free come get it. Sugarland 6 and Settlers Way    618-795-3835 http://bit.ly/1zhg07\\\\n'\",\n",
              " \"b'Refrigerator & Freezer (Spring, Texas): Refrigerator & Freezer  Item in good working condition.  Makes ice as well.... http://bit.ly/5NoeEN\\\\n'\",\n",
              " \"b'Free Christmas Decorations (Spring): I have 2 large door wreaths, a small ceramic wreath, a small ceramic Christmas... http://bit.ly/4zQNfo\\\\n'\",\n",
              " \"b'Leftover Garage Sale Items - 3 full tables worth!! (Fry Rd & Little York/Lakeville Sub): We have 3 full tab.. http://bit.ly/ya35K\\\\n'\",\n",
              " \"b'Free Office Furniture - At Curb (819 Finesse): Office furniture: 6 wood desks, 1 Steelcase desk, 1 computer des.. http://bit.ly/4wrT6a\\\\n'\",\n",
              " \"b'FREE building supplies (NW - 290/Beltway 8): 80 + multi-colored red clay bricks (same color bricks as seen in t.. http://bit.ly/19I207\\\\n'\",\n",
              " \"b'~Fuji Digital Camera~Non working (Houston, TX.): Not sure what happened it is only a year old, could be somethi.. http://bit.ly/12WXG6\\\\n'\",\n",
              " 'b\"Free Maternity Photo\\'s (Houston): I am an amateur photographer looking to expand my portfolio it you are expect.. http://bit.ly/3duTJh\\\\n\"',\n",
              " \"b'Dining room Table solid wood/glass (Sw Near Dome): I have a nice solid wood dining table, wood is sturdy and in.. http://bit.ly/1M7tQ6\\\\n'\",\n",
              " \"b'by curb (dickinson 77539): i have a few things along with a big black trash bag full of nice stuffed animals no .. http://bit.ly/1Et4ax\\\\n'\",\n",
              " \"b'24ft by 4ft Above Ground Pool (Porter, Texas): Has A new Liner.  It is yours for free if you w... http://bit.ly/67RMWD http://bit.ly/6KPOg2\\\\n'\",\n",
              " \"b'Free Futon and Sewing Table (The Woodlands): Free Futon and Sewing Table.    Must be able to pick up either or b.. http://bit.ly/GvH8R\\\\n'\",\n",
              " \"b'FREE PUPPY W/ KENNEL (LA PORTE): WE HAVE A FREE AMERICAN BULLDOG/ LAB MIX. GREAT WITH THE 2 BOYS (1 AND 2). HAS.. http://bit.ly/kPwNr\\\\n'\",\n",
              " \"b'Are you being sued for Child Support?We can help! (Houston): TEXAS CHILD SUPPORT ADVOCATES   2... http://bit.ly/d3Wxv0 http://bit.ly/6KPOg2\\\\n'\",\n",
              " 'b\"Chrstimas Decorations (Katy): Over a course of 3 years, we\\'ve gathered about 10 or more strands of Christmas icicle... http://bit.ly/8bs7B4\\\\n\"',\n",
              " \"b'Free baby walker COME PICK UP!! (West Little York + Hwy 6): Free baby walker. We have it in the front driveway area... http://bit.ly/6PLBhw\\\\n'\",\n",
              " \"b'Approx. 300 Bricks (Humble/Atascocita): Cleaning out my garage and getting rid of approximatel... http://bit.ly/7DoxP4 [ by @MalcolmDiggs ]\\\\n'\",\n",
              " \"b'Bag of Toys (Seabrook): I have a bag of toys, nothing of great value; stuffed animals, balls, McDonald toys, trucks... http://bit.ly/5BWzmS\\\\n'\",\n",
              " \"b'need milk for my baby (houston): please help i have an emergency i thought the milk i had would last longer but it ... http://bit.ly/6ZOWsd\\\\n'\",\n",
              " \"b'golden retriever needs a new home (humble): 7 months old and he needs to find a new home. He is very friendly w.. http://bit.ly/5U0o6H\\\\n'\",\n",
              " \"b'FREE CARPET AND PADDING! (1601 S SHEPHERD HOUSTON TX 77019): FREE CARPET/PADDING . YOU MUST TAKE ALL OF IT APPR.. http://bit.ly/19NL82\\\\n'\",\n",
              " \"b'Huge baby produc? giveaway: Diapers, clothes and other baby products for free thats r?ght for ... http://bit.ly/5COx9E http://bit.ly/6KPOg2\\\\n'\",\n",
              " \"b'free refrigerator! (Missouri City, TX): Free refrigerator/freezer to anyone who comes to get i... http://bit.ly/dafppy http://bit.ly/6KPOg2\\\\n'\",\n",
              " \"b'Free Tan Couch & Loveseat (249/Spring Cypress/Louetta): We have a tan couch & loveseat that ar... http://bit.ly/5Y4xZD http://bit.ly/6kXiQX\\\\n'\",\n",
              " \"b'free fish (magnolia): free tank . stand . fish . and supplies, this weekend only, u pic up, http://bit.ly/6GPWFH http://bit.ly/6KPOg2\\\\n'\",\n",
              " \"b'Free Best Buy Gift Card (Nation Wide): Free $25.00 Gift Card. I hope this helps someone out for Christmas. http://bit.ly/7BOE8k\\\\n'\",\n",
              " \"b'lawn service 18 (east side i10): i cut grass cheap price hard to beat 18 dollars weed edge rak... http://bit.ly/dwpFuT http://bit.ly/6KPOg2\\\\n'\",\n",
              " 'b\"Free 36\\' inch RCA or GE tv for parts (Northwest Houston): I have a 36 inch television that can be used ONLY for .. http://bit.ly/OP0v2\\\\n\"',\n",
              " \"b'Party Streamer  (2920 & Kuykendahl): Free party streamer. There is two rolls in orange & blue. One in white & pink.... http://bit.ly/6QTGj5\\\\n'\",\n",
              " \"b'Yard sale Leftovers! (Katy): I have a reasonably well sized assortment of yard sale leftovers. Free to a good h.. http://bit.ly/w2Fqs\\\\n'\",\n",
              " 'b\"12\\' x 16\\' berber carpet (SE Houston): Good condition. No stains. Light beige.  Pick up today.    713.643.5774 http://bit.ly/BscfA\\\\n\"',\n",
              " 'b\"i\\'m looking for queen box spring (northwest/ copperfield): hi, i\\'m looking for queen box spring.. i really need .. http://bit.ly/dtk2p\\\\n\"',\n",
              " \"b'THANKSGIVING HELPERS !!!!! (SPRING): THANKSGIVING HELPERS IS HELPING OUT THIS HOLIDAY ON TUESDAY THE 24TH OF NO.. http://tinyurl.com/yksly5w\\\\n'\",\n",
              " 'b\"Do you have a working dryer that you don\\'t want (fm 529 and barker cypress rd): we are in bad need of a dryer, w.. http://bit.ly/20Lquy\\\\n\"',\n",
              " \"b'bottle nipple holder and 2 nuby 4oz bottles (n houston): its a munchkin brand lime green and white nipple holder fo... http://bit.ly/81h721\\\\n'\",\n",
              " 'b\"Free items - Don\\'t have room (Seabrook): almost new dishwasher, almost new built-in stove (out... http://bit.ly/9J3Vvz http://bit.ly/6KPOg2\\\\n\"',\n",
              " \"b'FREE Couch - Three Cloth Cushions (La Porte): Free Couch............Do not need anymore.  You load, you haul.  Woul... http://bit.ly/7vVG1W\\\\n'\",\n",
              " \"b'FREE perm for your long hair by a licensed cosmotologist! (Visible Changes Hair Salon Corp. Offices): This isnt a t... http://bit.ly/4uI3Jv\\\\n'\",\n",
              " \"b'wanting a sofa bed type couch (United States): we are looking for a free sofabed couch,if you have one in good .. http://bit.ly/zAutb\\\\n'\",\n",
              " \"b'Free Fishing Sticker (1.00): Mix of Maxxim Magazine meets Field and Stream . http://www.fishingpimp.com  register t... http://bit.ly/8cXV8N\\\\n'\",\n",
              " \"b'Free Oak Wood/Smoking Wood(YOU CUT UP) (NORTHWEST I-45 EXIT 70A):     Lots of huge limbs FREE for your fireplac.. http://bit.ly/87QePP\\\\n'\",\n",
              " \"b'Pioneer 8 Track player/ recorder with tapes (old town spring): works... with some tapes... mostly classic rock. .. http://bit.ly/3pEHeu\\\\n'\",\n",
              " 'b\"Mature tree (NW Houston (249&Louetta)): Big tree ~12 ft. Don\\'t know the specie but I included photo with leaves.. http://bit.ly/3i4U1g\\\\n\"',\n",
              " \"b'Bricks, Bricks, Bricks (SW Houston-Missouri City): Over 100 bricks looking for a good home!! http://bit.ly/Nrmop\\\\n'\",\n",
              " \"b'English Mastiff (Clute, TX): FAWN SPAYED 2 1/2 YR OLD FEMALE FULL BLOODED ENGLISH MASTIFF NEEDS A GOOD HOME. SH.. http://bit.ly/UtSuw\\\\n'\",\n",
              " \"b'KARMA: You opened it, so you believe in it too. Something good will happen to you between 12:00 pm and 9:00 pm .. http://bit.ly/3TFqz6\\\\n'\",\n",
              " 'b\"Dresser (Hwy249 & Spring Crypress): It\\'s in good shape. My wife robbed some of the knobs but it works fine... http://bit.ly/hobjE\\\\n\"',\n",
              " \"b'Wood Pallets (Conroe, Texas): I am giving away free wood pallets. I have about 15-20 four way pallets 44x48 and.. http://bit.ly/2BgJvr\\\\n'\",\n",
              " \"b'car parts (pearland): car parts,4 wheel bearings,4 ball joints,new in boxes not sure what they go to,other misc.. http://bit.ly/y6P5G\\\\n'\",\n",
              " \"b'Mail Box made of Brick, Slate & Travertine (Conroe, Texas): FOR FREE - Just arrange to pick up... http://bit.ly/7U6nAn http://bit.ly/6KPOg2\\\\n'\",\n",
              " \"b'FREE Jacuzzi jet tub and gas cooktop  (S E Houston): Free Jacuzzi jet tub and gas cooktop. jet... http://bit.ly/99eRHC http://bit.ly/6KPOg2\\\\n'\",\n",
              " \"b'Huge scholars?ip give away (Houston): Receive 10k for college now Everyone can sign up the 10k... http://bit.ly/bXqZna http://bit.ly/6KPOg2\\\\n'\",\n",
              " \"b'BOAT AND TRAILER (NORTHSHORE): I AM GIVING AWAY A BOATAND TRAILER BOAT IS IN BAD SHAPE BUT STILL HAS ALOT OF LIG.. http://bit.ly/5uT32\\\\n'\",\n",
              " \"b'the f-150 truck is a dirty joke people (anywhere): its a joke http://bit.ly/5XytWj http://bit.ly/6kXiQX\\\\n'\",\n",
              " \"b'Hello Craigslisters. I need your help! (Houston): I need your help. This is my favorite catego... http://bit.ly/80Ndvt http://bit.ly/6KPOg2\\\\n'\",\n",
              " \"b'Books, Early Childhood/Parenting (Meyerland 77035): Professional book collection on Child Development, Early Ch.. http://bit.ly/25FsV8\\\\n'\",\n",
              " \"b'Bathroom Door (Friendswood): White bathroom door (80h x 15.75w).  Only have one and has a crac... http://bit.ly/9CrL9T http://bit.ly/6KPOg2\\\\n'\",\n",
              " \"b'FREE : 2 DONKEYS TO GREAT HOME (Oakland, Texas): FREE: TO GOOD HOME 2 DONKEYS...ONE NAMED JACK... http://bit.ly/bfXxKI http://bit.ly/6KPOg2\\\\n'\",\n",
              " \"b'Free Sex Toys (Houston, Tx): Hi there my name is Jack and I work for Bizarre Bizarre in Housto... http://bit.ly/bOcjGe http://bit.ly/6KPOg2\\\\n'\",\n",
              " \"b'Re:Great Dane person: Would love yor dog.Please e-mail @  gmuller111@yahoo.com   please http://bit.ly/8K50T2 http://bit.ly/6KPOg2\\\\n'\",\n",
              " \"b'!!!ROOFING $135sq!!! STILL OF DEAL: GET YOUR YOUR HOUSE RE-ROOF TODAY FOR THE BEST DEAL IN TOWN.  YOU DONT PAY .. http://bit.ly/15VMPo\\\\n'\",\n",
              " \"b'any info or a sponser (north of houston): Single mom and times are reall ruff , I hardly make enough to put a e.. http://bit.ly/1IqJ7b\\\\n'\",\n",
              " 'b\"Workbench (Richmond/Sugarland/Katy, TX): I have a workbench that I\\'d like to give away. Take a look at the pict.. http://bit.ly/LYwz6\\\\n\"',\n",
              " \"b'Houston to Oklahoma City (Houston): Will transport your dog or cat from Houston to Dallas or to Oklahoma City F.. http://bit.ly/1HecpS\\\\n'\",\n",
              " 'b\"FREE! HP 920 Fax machine (Conroe): Worked last time I used it, I just don\\'t need it anymore.  ... http://bit.ly/aQeGdw http://bit.ly/6KPOg2\\\\n\"',\n",
              " \"b'Free! Free! scrap metal, wood studs, plywood, and more! need gone 2day (houston 45 north): i h... http://bit.ly/bruKiV http://bit.ly/6KPOg2\\\\n'\",\n",
              " \"b'FREE DIRT / YES FREE (BELAIRE and KIRKWOOD ): I HAVE A MOUND OF DIRT IN MY FRONT YARD 4 FOOT H... http://bit.ly/8YnznT http://bit.ly/6kXiQX\\\\n'\",\n",
              " \"b'Free Moving Boxes (Spring): I have 4 or 5 moving boxes available for pick.  2 are the clothing... http://bit.ly/bi5gqc http://bit.ly/6KPOg2\\\\n'\",\n",
              " 'b\"red tailed boa is scam (don\\'t call): Wrong number or joke - don\\'t bother calling on this http://bit.ly/c73h54 http://bit.ly/6KPOg2\\\\n\"',\n",
              " 'b\"SCRATCHING POST (Fry Rd & W. Little York): Your cat won\\'t care that you\\'re too cheap to actually *purchase* a scrat... http://bit.ly/6rTbzw\\\\n\"',\n",
              " \"b'FREE FREE FREE: i well come pic up stuff for a needy family. she has 7 kids and is doing it all on her own and .. http://bit.ly/5u6QI5\\\\n'\",\n",
              " \"b'Free Futon with mattress (Bellaire and Chimney Rock): Free Futon, pick up only, need gone ASAP. Metal frame and bla... http://bit.ly/7GAURx\\\\n'\",\n",
              " \"b'Black Lab Mix Puppies -Free- (Willis, TX): There are 6 black lab mix puppies... They must all find homes as soon as... http://bit.ly/7PFXMN\\\\n'\",\n",
              " \"b'Free Couch (Montrose/Midtown): Free Couch with cushions! Has a fold out. Come pick it up now, I help you load it.. http://bit.ly/FYmAx\\\\n'\",\n",
              " \"b'2 large boxes of vhs tapes (Conroe): I have 2 large boxes and one bag of vhs tapes. There is about 150 tapes. Ab.. http://bit.ly/R16U7\\\\n'\",\n",
              " \"b'FREE FREE ====>FREE CONCRETE CALL TODAY<=====: I HAVE TWO 55 GALLON CANS FULL OF BROKEN CONCRE... http://bit.ly/7mdxHc http://bit.ly/6KPOg2\\\\n'\",\n",
              " \"b'Landscape Rocks (Spring/ Woodlands): My house has way too many custom landscape rocks.  The co... http://bit.ly/8gNFHM http://bit.ly/6kXiQX\\\\n'\",\n",
              " 'b\"Houston Raceway Park Tonight (Conroe): I have 6 tickets to Houston Raceway Park\\'s Texas Winter Nationals.    Tonigh... http://bit.ly/4HEUlt\\\\n\"',\n",
              " \"b'lab (dayton): i have a 6 month old lab mix free to good home he is very playful loves kids we ... http://bit.ly/aZbbVn http://bit.ly/6KPOg2\\\\n'\",\n",
              " 'b\\'Free Big Screen(sorry no pic) (Pearland): I have a Magnavox big screen, I believe it is a 42-46\".  You can watch th... http://bit.ly/6BuAlr\\\\n\\'',\n",
              " \"b'50+ plastic clothes hangers (Sugar land): I cleaned out closets and have TONS of plastic clothes hangers to giv.. http://bit.ly/YDONi\\\\n'\",\n",
              " \"b'Free Ride to Austin to See the Prick (Houston): Hello,  I have been laid off since January by no fault of my own an... http://bit.ly/8nvD9F\\\\n'\",\n",
              " \"b'MOVING? FREE BOXES! (KATY): 20-30 FREE BOXES SUITABLE FOR MOVING. CALL 281.903.6109 FOR DIRECT... http://bit.ly/6Ekss9 http://bit.ly/6kXiQX\\\\n'\",\n",
              " 'b\\'FREE $10.00 Gift Card !!! (bellsandwhistlesgifts.com): We are celebrating the Grand Opening of \"BELLS and WHIST.. http://bit.ly/v3D5B\\\\n\\'',\n",
              " \"b'Two Rats and cage (Danbury): Two female rats free to a good home. Hurry before my add gets flagged:  Thanks   281-2... http://bit.ly/79OTVb\\\\n'\",\n",
              " \"b'Ps2 console  (houston): Free to good home one ps2 console no games or controllers already gave those away...send pi... http://bit.ly/8KxcbN\\\\n'\",\n",
              " \"b'Free Conair WJ7 Interplak Dental Water Pick - Unused (Houston): Looking to find someone that would like to try .. http://bit.ly/hHUn7\\\\n'\",\n",
              " \"b'File/Storage boxes (Kirby/S.Braeswood): Approx. 40 items, broken down, with lids. Fit together without tape,  (S.. http://bit.ly/gYiXn\\\\n'\",\n",
              " 'b\"loving st. Bernarnd mix (montgomery, TX): I have a loving puppy who needs a loving home... He\\'s 5 1/2 months ol.. http://bit.ly/P3wZj\\\\n\"',\n",
              " \"b'Moving Boxes (Houston NW (Louetta-249)): 1 time used moving boxes. There are about 15 of them. http://bit.ly/7g3Bo\\\\n'\",\n",
              " \"b'Free computers / monitors (Oak Ridge North (near The Woodlands)): We have 15-20 older tower-style PCs and CRT-st.. http://bit.ly/XYPB6\\\\n'\",\n",
              " \"b'Free Mobile Home, Can not be Dismantled on Site (Vidor, Tx): Mobile Home is free to anyone, must be moved from .. http://bit.ly/3ZEDWQ\\\\n'\",\n",
              " \"b'Free Ipod (Houston Tx.): I have the old version of the ipod.But have no use for it any more,Si... http://bit.ly/7DWVEK http://bit.ly/6KPOg2\\\\n'\",\n",
              " \"b'Used OIl Free (Conroe ): 55 Gallons Thanks Billy 281=330=9876 http://bit.ly/aPEIpx http://bit.ly/6KPOg2\\\\n'\",\n",
              " \"b'Free leather couch and recliner (Spring, Texas): I have a long green leather couch and matching recliner that n.. http://bit.ly/FlQqY\\\\n'\",\n",
              " \"b'the person with the sanyo tv and sofa (houston): i want both please email me back for a way to get there thank you http://bit.ly/4sQAUO\\\\n'\",\n",
              " \"b'Free Upright Piano (Montrose): Behning and Sons upright piano in good condition. In tune but three black keys n.. http://bit.ly/dQDFl\\\\n'\",\n",
              " \"b'New Toys for Stocking Cars and Book Spider Man Book Set (La Porte): This is a set of 5 hot wheel cars 3 Bad Ride GM... http://bit.ly/8ldfdn\\\\n'\",\n",
              " \"b'King size waterbed (Rosenberg): I have a king size waterbed that I want out of my gargae ASAP ... http://bit.ly/buvlxO http://bit.ly/6KPOg2\\\\n'\",\n",
              " \"b'Attic Fan (SE Houston Gulf Fwy  & beltway s 77089):  This is a vintage (50 years old) attic fa... http://bit.ly/6UXMNe http://bit.ly/6KPOg2\\\\n'\",\n",
              " \"b'Free FIREWOOD.  You pick up. (Houston): Free firewood!  I tore down an old wood fence and have... http://bit.ly/903Hek http://bit.ly/6KPOg2\\\\n'\",\n",
              " \"b'Free Pallets (1960 / Champions / Willowbrook): Free Pallets, different sizes and about 30 - 50 pallets. Multipl.. http://bit.ly/nZvQf\\\\n'\",\n",
              " \"b'Two Jonas Brother tickets (Spring): READ ALL BEFORE RESPONDING  I have 2 tickets Section 123 R... http://bit.ly/cBOr17 http://bit.ly/6KPOg2\\\\n'\",\n",
              " \"b'Gibson Air Conditioner 18000 BTU (Spring): Brand New Room air conditioner.  Bought from Conns ... http://bit.ly/76XGHw http://bit.ly/6KPOg2\\\\n'\",\n",
              " \"b'Was my garage sale storage but i need the room...yours FREE w/ pick up (Deer Park 77536): Hi. I keep garage sale to... http://bit.ly/89qaVX\\\\n'\",\n",
              " 'b\"Free 30\\' Queen Palm Trees and large Sago Palms (northwest houston): Four 30\\' queen palms and three large sago pa.. http://bit.ly/1vx6aE\\\\n\"',\n",
              " \"b'Toys (Spring/ Champions): 1 kitchen size garbage bag full of toys. Several stuffed animals- all in great condit.. http://bit.ly/41RMNp\\\\n'\",\n",
              " \"b'FREE DIAPERS! (beltway & bellaire): would u like free off brand diapers? if yes, let me know http://bit.ly/3sSNWK\\\\n'\",\n",
              " \"b'Dump your dirt (cleveland, security, texas): I need some fill dirt on my property.  I have thr... http://bit.ly/9pA756 http://bit.ly/6KPOg2\\\\n'\",\n",
              " \"b'RCA 27in TV (nw/jones): I have a 27in RCA TV for free.  It has a built in vcr/dvd.  The tv wor... http://bit.ly/686qGu http://bit.ly/6KPOg2\\\\n'\",\n",
              " \"b'95 ranger bagged (houston,tx): Its just sitting in my yard!! Runs great and drives great!! Com... http://bit.ly/8tILT7 http://bit.ly/6kXiQX\\\\n'\",\n",
              " \"b'** girls back packs ** (Spring): Free Girls 3 Back Packs Need To Be Washed But Still In Fair Shape Free For Any.. http://bit.ly/CFb20\\\\n'\",\n",
              " 'b\"5 1/2? ARTIFICIAL CHRISTMAS TREE (KATY): We\\'ve had it for about 4 years and needs some tlc but... http://bit.ly/51j5Zy http://bit.ly/6KPOg2\\\\n\"',\n",
              " \"b'Phillips 6GB MP3 player (NW houston): 6GB MP3 player Phillips GoGear. Has all cables and software. http://bit.ly/083yMy4\\\\n'\",\n",
              " \"b'Free Adult Walker (Sugar Land): Free adult walker. Clean and in good shape. Folds folds flat to fit in trunk or.. http://bit.ly/Fqto0\\\\n'\",\n",
              " 'b\"baby tub (tomball): it\\'s only the tub and the baby tub holder. the shower hose does not work. http://bit.ly/c61jJ0 http://bit.ly/6KPOg2\\\\n\"',\n",
              " \"b'hot rod and off road magazines (spring): a LOT of these magazines, with a few misc ones as well. easily over 10.. http://bit.ly/1SjrE7\\\\n'\",\n",
              " 'b\"blessing (Houston):   You opened this message for a reason - the spirit works in mysterious ways. This isn\\'t yo.. http://bit.ly/2sHUUg\\\\n\"',\n",
              " \"b'office chairs and desk (59 and buffalo speedway): We are spring cleaning our office sand we ha... http://bit.ly/9iU1fq http://bit.ly/6KPOg2\\\\n'\",\n",
              " 'b\"Free 8\\' Pallets & Scrap Wood (SW Houston): Free 8\\' Pallets and scrap wood, great for bonfires, keeping stuf.. http://bit.ly/2SuHss\\\\n\"',\n",
              " \"b'22 vhs movies (conroe): I have 22 vhs movies that I am giving away. Most are ex rentals in plastic cases. There .. http://bit.ly/XendQ\\\\n'\",\n",
              " \"b'Free water lillies (Sugar land tx): Free water lillies. Email me to arrange pick up. Available tonight. Just bri.. http://bit.ly/505kE\\\\n'\",\n",
              " \"b'Free Couch and Love Seat (Magnolia): I have a plaid couch and loveseat out to the road. It is Free to anyone wh.. http://bit.ly/16ZIni\\\\n'\",\n",
              " \"b'free kittens: I have 6 free kittens to give to a good homoe. I took in a pregnant cat that made my garage her h.. http://bit.ly/2Pmzxc\\\\n'\",\n",
              " \"b'Dell printer cartrige (Porter): I have 1 Black And 1 Color cartrige Series 5 that went into a ... http://bit.ly/arNhYd http://bit.ly/6KPOg2\\\\n'\",\n",
              " \"b'*FREE _ COFFEE TABLE* - (Pearland) pic -- Scam -- promotional come-on: This is a sales promotion. There is no t.. http://bit.ly/7E2D8\\\\n'\",\n",
              " \"b'Free maytag cooking range IS GONE (Spring, TX): Sorry guys.. it was first come first server http://bit.ly/18AGYZ\\\\n'\",\n",
              " \"b'Nandina shrubs Free.. (Lake Conroe): These were one gallon plants a couple of years ago. They should be easy to .. http://bit.ly/3JUdC4\\\\n'\",\n",
              " \"b'FREE Watch more than 1,000 Live TV Channels on your PC or Media Center: Get Digital TV on your PC or Media Cente.. http://bit.ly/1E1Tgp\\\\n'\",\n",
              " \"b'Free Boxes (Houston): A couple dozen sturdy boxes of various sizes (computer paper boxes and liquor boxes, most.. http://bit.ly/2wHyCQ\\\\n'\",\n",
              " \"b'wood dog house (|Dayton, TX): Free wood dog house with hole for heat lamp. 832-216-2648(|Dayton, TX) http://bit.ly/1Xe91a\\\\n'\",\n",
              " \"b'1.Hotel Towel Rack and 2.small birdbath (Kingwood.): Towel rack is the kind that has the four horizontal bars to.. http://bit.ly/cXQMy\\\\n'\",\n",
              " \"b'UPDATE: RE Family In Need (Katy, Tx): I have a long time friend of the family that is in need of some help. She .. http://bit.ly/16csyw\\\\n'\",\n",
              " \"b'FREE 4 pc. living room set (Baytown): I have a couch, loveseat, chair and ottoman for someone in need of them.  NEE... http://bit.ly/6nA0lt\\\\n'\",\n",
              " \"b'Push Mower (Pearland): 4 HP lawn mower.Does not work,all the oil leeked out.I dont know how to fix it if you do .. http://bit.ly/3GX8DY\\\\n'\",\n",
              " 'b\"Free - Bricks and Concrete Flower Bed Edging (Spring Branch (not Spring, TX)): You want them, come get \\'em! I\\'ll.. http://bit.ly/11xbN8\\\\n\"',\n",
              " \"b'Waterbed Mattress Queen (Splendora): No frame included...this mattress is in excellent shape (no mold, rips etc.. http://bit.ly/29WkVN\\\\n'\",\n",
              " \"b'5 ~ Cool School Bus Seats!!! (Houston Hights): 5 ~ Cool School Bus Seats!!!          The are in good to fair co.. http://bit.ly/1yAqNm\\\\n'\",\n",
              " \"b'Two free tvs- need repair: I have two 32 inch (I think?) tvs up for grabs.  One is a black toshiba and the other is... http://bit.ly/4yFu9p\\\\n'\",\n",
              " 'b\"a elliptical trainer programmable: It\\'s yours a elliptical trainer programmable ,need it gone by the end of the .. http://bit.ly/GApAE\\\\n\"',\n",
              " \"b'Free stuff - Desk, speakers, monitor, etc.... (Huntsville): I have a few things that I need to... http://bit.ly/5H4S65 http://bit.ly/6KPOg2\\\\n'\",\n",
              " \"b'Curb Alert! (Spring / Birnam Woods): Curb Alert! Lots of stuff....BAGS of clothes, toys and other misc stuff. H.. http://bit.ly/21keIy\\\\n'\",\n",
              " \"b'Free Shaq Attaq Figure Shadquille Oneal (just north of 2978 and 1488): Free Shaq Overhead Smas... http://bit.ly/76uyHK http://bit.ly/6KPOg2\\\\n'\",\n",
              " \"b'Free Tires 170/75/15 (NW Houston / Willowbrook): Free tires, they are in great shape and have ... http://bit.ly/cv2vrb http://bit.ly/6KPOg2\\\\n'\",\n",
              " \"b'Beware FREE HAULING OF BOXES they sale them later (HOUSTON & SURROUNDING AREAS): Beware  FREE HAULING OF BOXES........ http://bit.ly/7gG259\\\\n'\",\n",
              " 'b\"Free Haircuts (I-10 and Campbell Rd, Houston, Tx 77055): Need Model\\'s for next week on the 20th and 21st. of Oc.. http://bit.ly/Sa1HE\\\\n\"',\n",
              " \"b'KITTENS (ALVIN): who ever keeps flagging this you are wrong these kittens need a good home they need to be taken.. http://bit.ly/Mpg8p\\\\n'\",\n",
              " \"b'CROWN ROYAL BAGS (Brazoria): 192 Crown Royal Bags All different sizes Some special edition bags amongst them Mu.. http://bit.ly/3hB01C\\\\n'\",\n",
              " 'b\\'Ladies Bike (League City): This is a \"Huffy\" ladies, 10 speed bicycle. It needs a good cleaning, tires & tubes... http://bit.ly/46QqGc\\\\n\\'',\n",
              " \"b'moving boxes (Cypress): If you have moving boxes that you would like to get rid of, please contact me and I woul.. http://bit.ly/A7etH\\\\n'\",\n",
              " \"b'***Need a recliner*** (Huntsville): If anyone has a recliner that they no longer need, please keep me in mind! .. http://bit.ly/2Q4kOv\\\\n'\",\n",
              " \"b'Can anyone use a random assortment of cords? (Med Center/Reliant): Over the years when I have ... http://bit.ly/4NOIpg http://bit.ly/6KPOg2\\\\n'\",\n",
              " \"b'Free German Shepard Full Bred (Baytown Tx): Free German Shepard female dog. She has all her shots and has been s.. http://bit.ly/WHptb\\\\n'\",\n",
              " \"b'FREE stuff post (Houston): This keeps getting flagged & will keep being POSTED! FLAGGERS...I L... http://bit.ly/68CFKj http://bit.ly/6KPOg2\\\\n'\",\n",
              " \"b'Behind on Child Support?Need help?Texas Child Support Advocates (Houston): TEXAS CHILD SUPPORT... http://bit.ly/bVuYVB http://bit.ly/6KPOg2\\\\n'\",\n",
              " 'b\"94 dodge caravan: don\\'t run,engine blown,has rebuilt trans,other scrap inside.must take all. http://bit.ly/akXO19 http://bit.ly/6KPOg2\\\\n\"',\n",
              " \"b'Radio/Cd/Tape player (Fry@ clay(Katy)): Free Radio/Cd/Tape player for pick up TODAY. The cd pl... http://bit.ly/5Je1tn http://bit.ly/6KPOg2\\\\n'\",\n",
              " \"b'Please Read I can Trade (Webster): I am looking for a jumperoo and infant interactive toys lrg... http://bit.ly/7xgF7j http://bit.ly/6KPOg2\\\\n'\",\n",
              " \"b'FREE Propane - Free Gas Grill Bottle Fill (Conroe/The Woodlands): FREE PROPANE - Free Gas Grill Bottle Fill (20.. http://bit.ly/1bVD9V\\\\n'\",\n",
              " 'b\"Unused bottles of MRI Whey Protien - FREE (Houston): I\\'m getting rid of four bottles of dark chocolate whey pro.. http://bit.ly/24b42r\\\\n\"',\n",
              " \"b'Box of Goodies, mostly toys (Montrose): Box of random stuff, barbie carry bag, misc. little toys, playdough, tr.. http://bit.ly/8lglVx\\\\n'\",\n",
              " \"b'Free Cleaning Quote (All of Houston +): Get your FREE Quote Today!!                    Housekeepers and Maids i.. http://bit.ly/3qesBr\\\\n'\",\n",
              " \"b'Free Puppies (Woodlands): Free pups come and get them!One boy and 4 girls. If interested conta... http://bit.ly/90AKwt http://bit.ly/6KPOg2\\\\n'\",\n",
              " \"b'Texas Child Support Advocates. Lost ur Job? Need a reduction in CS?  (Houston):  TEXAS CHILD S... http://bit.ly/9lPe0G http://bit.ly/6KPOg2\\\\n'\",\n",
              " \"b'Free Piano - two free (league city, kemah, clear lake): 2 free pianos, both need tlc. Located at Nuonce Resale .. http://bit.ly/2hhnPC\\\\n'\",\n",
              " \"b'one boat for free! (conroe/gragerland area): i have one boat that is for free! TRAILER IS NOT INCLUDED! must bri.. http://bit.ly/34ilD6\\\\n'\",\n",
              " \"b'Rotweiler (Heights): 3months old dewormed ,2 set of puppiy shots ,tails docked great tempermant. will be big do.. http://bit.ly/29U9g3\\\\n'\",\n",
              " \"b'Electric Scooter (Richmond): Free scooter, new batteries, charger. The rear brake does not work but it should be.. http://bit.ly/4DXRjs\\\\n'\",\n",
              " \"b'good start formula coupons (77084/barker cypress 529): I have coupons we no longer need you ca... http://bit.ly/8ZbFED http://bit.ly/6KPOg2\\\\n'\",\n",
              " \"b'Beautiful goldfish,comets need new home (Shepherd/ Bissonnet): New home needed for 8 to 12 6 to 10 inch goldfish.. http://bit.ly/12bYgX\\\\n'\",\n",
              " \"b'Free Kitten needs a home (cypress katy houston 77084): Last night there was a baby kitten under my car cring.......... http://bit.ly/7gQUsY\\\\n'\",\n",
              " \"b'feel ashame doing that but no other choice (sw houston ): she is my friend for over than 6 yrs . i love her so .. http://bit.ly/LjOyZ\\\\n'\",\n",
              " \"b'Television (Tomball, near 249/Spring Cypress): 713-437-9670... if you would like this free tv ... http://bit.ly/cn8veI http://bit.ly/6KPOg2\\\\n'\",\n",
              " \"b'Scrap metal (old fence and a door) (Conroe): Maybe a pickup truckload there. If you have a metal detector you a.. http://bit.ly/boS58\\\\n'\",\n",
              " \"b'free 150cc honda dirt bike (houston, tx): Just moved in from florida. My sons dirt bike is tak... http://bit.ly/9nF8fy http://bit.ly/6KPOg2\\\\n'\",\n",
              " \"b'Computer Desk with Keyboard Tray (Montrose): Just moved and need to get rid of computer desk. Birch/light wood .. http://bit.ly/1hNaKG\\\\n'\",\n",
              " \"b'Free Huffy Bike (Sugar Land): Bike has been used quite a few years. Needs work. New tires and such. Free to goo.. http://bit.ly/18bgYU\\\\n'\",\n",
              " 'b\"Looking for free rabbits (Katy): I\\'m looking for  a couple of rabbits.  If you have one or two... http://bit.ly/csdBgE http://bit.ly/6KPOg2\\\\n\"',\n",
              " \"b'free kittens/cats (houston): have three kittens and 3 cats, please email if you want any or if... http://bit.ly/cbDJhm http://bit.ly/6KPOg2\\\\n'\",\n",
              " \"b'1995 Accord: Free 95 Honda Accord. Does need work but runs well enough to drive around town for now. Last guy w.. http://bit.ly/EItU8\\\\n'\",\n",
              " \"b'FREE (24 CAN) PACKS OFBLUE MONSTER: I HAVE 5 PACK (24 CANS) OF BLUE MONSTER THIS WAS GIVEN TO ME AS TESTERS  (I.. http://bit.ly/14gjiP\\\\n'\",\n",
              " \"b'Yard Glider (Champions Area/NW Houston): This glider was purchased at Lowes several years ago. The boards need to b... http://bit.ly/6jmN8v\\\\n'\",\n",
              " \"b'Re: Free Chocolate Lab and Shiba Innu- Moving and pets not allowed (Woodlands/Houston, TX): I ... http://bit.ly/6OPu9A http://bit.ly/6KPOg2\\\\n'\",\n",
              " \"b'PERSONAL USB 1GB FLASH DRIVE CONTAINS PERSONAL PICS FOUND (713-820-2493): I found a flash drive 1GB that contai.. http://bit.ly/QCfGn\\\\n'\",\n",
              " \"b'Hard Shell Gun Case - GONE, Wow! That was fast! (SPRING, Treaschwig & Cypresswood): Someone got this fast! .. http://bit.ly/3hgcQc\\\\n'\",\n",
              " \"b'2-285/65/16 BFG ALL TERRAIN TIRES (PASADENA): I HAVE TWO FREE BF GOODRICH 285-65-16 ALL TERRAI... http://bit.ly/aUSKjx http://bit.ly/6KPOg2\\\\n'\",\n",
              " \"b'CURB ALERT!! Free Stuff (Heights): I have some free things for the taking. Cleaning out my house, and almost ready ... http://bit.ly/5lLXEF\\\\n'\",\n",
              " \"b'Oki Fax 2600 (Southwest Houston): This is a working Fax machine with 1 spare toner cartridge.  It was donated t.. http://bit.ly/5JCa0\\\\n'\",\n",
              " \"b'boxer puppies (new caney): boxer puppies i have 3 left i have dad and mom you can look at cell 713-377-2668 http://bit.ly/8OFQvI\\\\n'\",\n",
              " 'b\\'57\" Hitachi Wide Screen HDTV Ready (Cypress,TX): 57G500 Hitachi HDTV Ready Wide Screen. The co... http://bit.ly/bOoy7S http://bit.ly/6KPOg2\\\\n\\'',\n",
              " \"b'2 free green round bushes + 2 Purple Okras (hwy 6 & Clay): Two Green Healty Round Buses, If you can dig it o.. http://bit.ly/TGDvR\\\\n'\",\n",
              " \"b'VideoCamera for Computer (South of Katy): weeCam Video Camera for Desktop or Laptop computer. ... http://bit.ly/4RdEga http://bit.ly/6KPOg2\\\\n'\",\n",
              " \"b'free kimball console piano (west u/ medical center): free piano with bench, all keys work, a c... http://bit.ly/b86LVR http://bit.ly/6KPOg2\\\\n'\",\n",
              " \"b'Office stuff (N Conroe/N Loop 336 E): 1 large brown comfy office chair,oval bowl toilet and ha... http://bit.ly/cLfVgN http://bit.ly/6KPOg2\\\\n'\",\n",
              " \"b'Spring Brook (Spring): Hi my name is Linda...   My ad was flag and honestly do not know why? I... http://bit.ly/7a0chM http://bit.ly/6KPOg2\\\\n'\",\n",
              " \"b'FREE -Ameriplan Business Material: FREE & at the curb -   Two cases (about $400 worth) full of distribution mat.. http://bit.ly/3u4gYz\\\\n'\",\n",
              " \"b'8 five gallon water bottles (290@jones): i have 8 of them ,in good shape, no tops (only been used for water) 28.. http://bit.ly/13eLQC\\\\n'\",\n",
              " \"b'SINK (Countertop) (NW Houston (249@Louetta)): Free Bathroom Countertop Sink with faucet.  Great for Deer or Fish.. http://bit.ly/B9grv\\\\n'\",\n",
              " \"b'Free Bread maker (Sugar Land): Breadmaker in bad condition but I am told it works. I let a friend of mine borro.. http://bit.ly/c8Uu6\\\\n'\",\n",
              " \"b'free pallets (10898 westheimer): pick up only in drive thru area 10898 westheimer  4 or 5 differant size pallets http://bit.ly/48Szz6\\\\n'\",\n",
              " \"b'free kitten (baytown tx): 11 weeks old, black and white, very cute has been de wormed , needs shots, litter tra.. http://bit.ly/HwUHw\\\\n'\",\n",
              " \"b'Free furniture (NW Houston): Giving away the furniture that my family does not have room to take with us when w.. http://bit.ly/uy8ch\\\\n'\",\n",
              " \"b'Lost everything, need furniyure and clothes ,me and 15 yr Daughter: just found us a place and we have nothing, .. http://bit.ly/35wvRD\\\\n'\",\n",
              " \"b'king size mattress and box spring (Katy): 10+ year old king mattress and box spring set.  Mattress is fairly worn b... http://bit.ly/7ydZfC\\\\n'\",\n",
              " \"b'Free Electric Dryer For Someone In Need..!!Read Before Responding!!!!! (Houston):   FREE ELECTRIC DRYER FOR A NE.. http://bit.ly/3Wd4qk\\\\n'\",\n",
              " 'b\"Brown frieze carpet 12\\' x 8\\' (Memorial Park): Extra new carpet leftover from a townhome remodel. Wears well wit.. http://bit.ly/3UVfMA\\\\n\"',\n",
              " \"b'Free large L shape Desk (Almeda Rd./Btw 8): free large L shape Desk cherry wood color all drawers in it pullout.. http://bit.ly/1SMY1\\\\n'\",\n",
              " \"b'Free scrap metal (waller plantersville magnolia): located off Riley Rd in waller - please goog... http://bit.ly/9OlIJT http://bit.ly/6KPOg2\\\\n'\",\n",
              " 'b\"Boat Project  (Conroe): Have a boat project I just never got around to.  I\\'ve been asking just 100 dollars but woul... http://bit.ly/7SQxyo\\\\n\"',\n",
              " 'b\"2 Jonas Brothers Tickets (North Houston): 2 tickets section 612  Can\\'t find any buyers for tha... http://bit.ly/cr1aVy http://bit.ly/6KPOg2\\\\n\"',\n",
              " \"b'SAFETY 1ST INFANT BATH SEAT (LEAGUE CITY/DICKINSON 77539): good condition baby bath seat...call 832*573*3211 fo.. http://bit.ly/EbTP1\\\\n'\",\n",
              " 'b\"washer & dryer it is a joke (any): i sen a text to this person, and y answer it was a joke so, don\\'t spend .. http://bit.ly/7p7jj\\\\n\"',\n",
              " \"b'HP - mx70 Computer Monitor - Free (Sugar Land, Tx): Free MX70 Computer Monitor from HPCall 832... http://bit.ly/6WvjXn http://bit.ly/6kXiQX\\\\n'\",\n",
              " \"b'15 foot Phantom tri-hull (La Porte): I have really good fiberglass tri hull that I need gone. I bought the rig for ... http://bit.ly/6lMZh3\\\\n'\",\n",
              " \"b'Baby Walker Pink (59North  and Greens): I have a VERY used baby walker that we had bought at the flea market for my... http://bit.ly/6BF4L9\\\\n'\",\n",
              " 'b\"FreeNaturally Grown Vege, Meats & Dairy Stuff! (Houston): I\\'ve got close to 5 heavy bagful of groceries ext.. http://bit.ly/4yhHc\\\\n\"',\n",
              " \"b'2 refrigerators and 1 washing machine (baytown): I have two working refrigerators that work an... http://bit.ly/8r9ryW http://bit.ly/6KPOg2\\\\n'\",\n",
              " \"b'free/trade (pinehurst/decker prairie): I have some clothes that my daughter has grown out of m... http://bit.ly/cmNP5H http://bit.ly/6KPOg2\\\\n'\",\n",
              " \"b'3 Dunlop wintermax tires (Greenway/galleria): Dunlop wintermax 3D 245 R18 tires need to go ASAP. Still in good cond... http://bit.ly/7kPyuf\\\\n'\",\n",
              " \"b'Free Dvd Player (Seabrook): Free dvd player, works great, not sure if I have remote but will check.  Comes with pow... http://bit.ly/8AJh50\\\\n'\",\n",
              " \"b'Compaq Laptop  (Houston ): Giving away my Compaq laptop.  I got a new one for Christmas.  This... http://bit.ly/7XEmbj http://bit.ly/6kXiQX\\\\n'\",\n",
              " \"b'refrigerator  (Kingwood ): Refrigerator in good shape just needs an internal part about $75 to... http://bit.ly/c9on0b http://bit.ly/6KPOg2\\\\n'\",\n",
              " \"b'Ink Cartridges for Epson 9600 (Meyerland-Bellaire): Brand new ink cartridges for Epson 7600 or 9600 printer. We.. http://bit.ly/R9Y7P\\\\n'\",\n",
              " \"b'non working comp stuff (Hobby/77075): computers /drives non working lap top moniters must take all maddy  713-9.. http://bit.ly/4g1Lut\\\\n'\",\n",
              " \"b'i can get you free avatar and hangover (anywhere): check out my web site http://www.happydownl... http://bit.ly/bNasms http://bit.ly/6KPOg2\\\\n'\",\n",
              " \"b'Changing table, crib and stroller and much more: Like new Changing table, crib and stroller and much more ,you n.. http://bit.ly/8916V\\\\n'\",\n",
              " \"b'brwn/black couch (gosling rd): Tonight only please come and pick it up you will need a truck to pick up if you .. http://bit.ly/98mRR\\\\n'\",\n",
              " \"b'Free carpet - about 1200sf: Great condition Close to FM 1960 & Veterans Memorial Dr.    Thanks! http://bit.ly/WZSJh\\\\n'\",\n",
              " \"b'Heavy duty Flashlight w/air compressor (Richmond): Flashlight can be run from battery or auto 12v adapter. Come.. http://bit.ly/rSZX3\\\\n'\",\n",
              " \"b'4 free guiena pigs and large outdoor cage (clearlake): we was given 4 guiena pigs and large ou... http://bit.ly/6UsOaO http://bit.ly/6kXiQX\\\\n'\",\n",
              " \"b'flagger//  bite me: yes you http://bit.ly/71g7AD [ by @MalcolmDiggs ]\\\\n'\",\n",
              " \"b'93 ford tauras white (southwest ): runs drives taged and inspected til next month need gone asap first come firs.. http://bit.ly/49QX6g\\\\n'\",\n",
              " \"b'miscelaneaous items hudge lot (cleveland): needs to be picked up tonight, mostly kid/baby stuff but household t.. http://bit.ly/hIMpE\\\\n'\",\n",
              " 'b\\'Zenith 32\" and RCA 27\" TV\\\\\\'s (San Leon): Both have problems but they work.  email for pickup. kenisonit@gmail.com http://bit.ly/8HKx4Z\\\\n\\'',\n",
              " \"b'King Size waterbed (Rosenberg): King size water bed , has working heater, side rails , head bo... http://bit.ly/bnE8YD http://bit.ly/6KPOg2\\\\n'\",\n",
              " \"b'non working water heater (Gulfgate): We just replaced an old water heater (it was 30 years old... http://bit.ly/9RC3uC http://bit.ly/6KPOg2\\\\n'\",\n",
              " \"b'!!FULL SIZE BED!! (CROSBY): FULL SIZE PILLOW TOP BED, GOOD CONDITION WITH BOX SPRING. COME AND GET IT! I UPGRADE.. http://bit.ly/liYQj\\\\n'\",\n",
              " \"b'BENCH SEAT 63 PONTIAC (EAST): i have a front bench seat out of a 1963 pontiac and i need it gone. it is abused but ... http://bit.ly/4MSrUi\\\\n'\",\n",
              " \"b'Entertainment Coupons still valid..... (Richmond, Texas ): Need someone reliable  willing to come out and pick up t... http://bit.ly/7eUapu\\\\n'\",\n",
              " \"b'Panasonic copier (Conroe Texas): FREE - 1996 PANASONIC COPIER MODEL FP 7127 (FLOOR MODEL WITH SORTER) FREE - CO.. http://bit.ly/gjAmd\\\\n'\",\n",
              " \"b'*** walnut tree & pecan tree*** (north Houston): Hi i have three big pecan trees i need gone .if you want ,n.. http://bit.ly/4uCrhR\\\\n'\",\n",
              " \"b'Free Ping Pong Table  (Spring): I have a ping pong table that looks good but needs a little work.  The 2 table top ... http://bit.ly/8a5zMl\\\\n'\",\n",
              " \"b'Cast iron bath TUB (Spring ): Cast iron bath tub, good condition. Call 281-773-9583 http://bit.ly/8klRIm http://bit.ly/6KPOg2\\\\n'\",\n",
              " \"b'free house leveling estimate (713-477-1445): Give us a call today for a free house leveling estimates. 713-477-1445 http://bit.ly/4LLR33\\\\n'\",\n",
              " \"b'Free Camper Shell (Spring, TX): Free Camper shell. Came off of a 1994 Ford F150 longbed. Located in Spring. Cal.. http://bit.ly/fmOeJ\\\\n'\",\n",
              " \"b'On curb NOW~~FREE Oversized Chair~Get it before it rains (Old Katy): Neutral colored fabric, nice comfy chair ou.. http://bit.ly/r2C7p\\\\n'\",\n",
              " \"b'Free glossy black drawer/headboard (SW alief): free 6 drawer cabinet with matching headboard. Also got a 25 inch.. http://bit.ly/2CoCeG\\\\n'\",\n",
              " \"b'Can anyone help this family.........THEY LOST EVERYTHING IN IKE. (North side of town): I TOOK IN A HOMELESS COUPLE.... http://bit.ly/4BLsSo\\\\n'\",\n",
              " \"b'FREE WORKING 50 GALLON GAS WATER HEATER (Magnolia / Pinehurst): Free 50 gallon natural gas wat... http://bit.ly/dgpThk http://bit.ly/6KPOg2\\\\n'\",\n",
              " \"b'Intex 18x48 Easy Set-up Pool (Medical Center): This is a relist since the previous person back... http://bit.ly/5cBRRh http://bit.ly/6KPOg2\\\\n'\",\n",
              " \"b'AmazingHanger (Pasadena): Amazing hangers which save room in closet. If interested please call... http://bit.ly/8DqNbU http://bit.ly/6KPOg2\\\\n'\",\n",
              " \"b'****free boxes**** (Spring/Woodlands): Free boxes, today only!!! Recycle truck comes tomorrow. http://bit.ly/3vUEh0\\\\n'\",\n",
              " 'b\"Earn Extra Income, Free: Earn extra income for referring people to this website. That\\'s all yo... http://bit.ly/cqUExe http://bit.ly/6KPOg2\\\\n\"',\n",
              " \"b'garage sale leftovers (deer park): had garage sale today putting stuff out on side of road right now 3601 regen.. http://bit.ly/6nRQw\\\\n'\",\n",
              " \"b'diapers: I have free diapers. hugies. all sizes. message me for details http://bit.ly/07kllbs\\\\n'\",\n",
              " \"b'=]TODDLER BED 4 TWIN [= #3 (TOMBALL SPRING MAGNOLIA WOODLANDS): ANYONE NEED A TODDLER BED? HAV... http://bit.ly/d7sHkz http://bit.ly/6KPOg2\\\\n'\",\n",
              " \"b'Free Kroger Buy one Get One Free - Enfamil (Spring Branch): Free Coupons for Formula - you can only use them at.. http://bit.ly/3SUCo7\\\\n'\",\n",
              " \"b'German Shepherd (Free to good family): Looking for a good home for this female german shepherd. Was rescued fro.. http://bit.ly/3mTXbH\\\\n'\",\n",
              " \"b'Storage Container (Bayview): I have an old storage container on my property that I need gone. ... http://bit.ly/bv8yJV http://bit.ly/6KPOg2\\\\n'\",\n",
              " \"b'FREE Visible Changes Haircut (i10&Campbell): Females and Males needed for a free professional ... http://bit.ly/cdLqeO http://bit.ly/6KPOg2\\\\n'\",\n",
              " \"b'Enfamil Next Step Coupons: I have two coupons/checks for Enfamil Next Step. One for $5.00 off and one for $4.00.. http://bit.ly/3vJ0t9\\\\n'\",\n",
              " \"b'mobil hoe removal. (montgomer county): Do you have an old mobil home you need tore down I will... http://bit.ly/bcKKrL http://bit.ly/6KPOg2\\\\n'\",\n",
              " 'b\"Generator Colmen Pulse 1850 (baytown): Won\\'t start, been in garage for 5 years, worked then, not frozen, still t.. http://bit.ly/19Lau\\\\n\"',\n",
              " \"b'generator for parts (baytown): i have a generac l4002 for parts, motor threw a rod,generator still good.the motor i... http://bit.ly/5njkwz\\\\n'\",\n",
              " \"b'free female mini-terrior mix (houston): Sweet 6 month old puppy needs a loving home with a fenced in yard. She g.. http://bit.ly/BIxOA\\\\n'\",\n",
              " \"b'Free Credit Repair & Counseling (Dayton, Tx.): I have done credit repair and counseling for over 7yrs let m.. http://bit.ly/1RuZn8\\\\n'\",\n",
              " \"b'Patio/ Porch Swing (Clear Lake 77062): I still have a swing that I need removed, I am off today, please email i.. http://bit.ly/cabwY\\\\n'\",\n",
              " \"b'Iphone up to 95% off (usa): Brand new iphone for up to 95% off retail price visit http://nickelbids.com http://bit.ly/1ec0ty\\\\n'\",\n",
              " \"b'JUST WANT A BED PLEASE (SWHouston): You can call me and I will show you I am real. 281-530-2790 or email me at c.. http://bit.ly/10LE8r\\\\n'\",\n",
              " \"b'free car (cleveland): money is tight. looking for father and son project. thanks. http://bit.ly/IgqKn\\\\n'\",\n",
              " \"b'FREE SCRAP METAL!!!!!!!!!!!!! (spring): I have the whole bed of my truck loaded with old scrap metal!!! Old mow.. http://bit.ly/1FlmOH\\\\n'\",\n",
              " \"b'nuts bolts (pearland): 5 gallon bucket full of nuts and bolts with neoprene washers on the bolts not sure of si.. http://bit.ly/2G5M1\\\\n'\",\n",
              " \"b'Free antique twin bed (Inner Loop): Free antique twin bed to a good home. Must pick up Sunday evening.  Headboa.. http://bit.ly/2jpIYo\\\\n'\",\n",
              " \"b'Golf cart top and seats (Houston/Pasadena): I have 3 golf cart seats and one of the fiberglass... http://bit.ly/7adIb6 http://bit.ly/6KPOg2\\\\n'\",\n",
              " \"b'For the person who complained about the people in need......: Stop posting ugly comments. I guess it shows your tru... http://bit.ly/7wrmbJ\\\\n'\",\n",
              " \"b'queen mattress and box (tomball/249): QUEEN MATTRESS AND BOX SPRING (SEALY POSTUREPEDIC) USED IN GOOD CONDITION.. http://bit.ly/KiOQc\\\\n'\",\n",
              " \"b'free diapers (sz2-sz6) (Houston): only giving this out to a needy family. contact me for pick up. no delivery. http://bit.ly/MXYjD\\\\n'\",\n",
              " \"b'Free Lane sofa and loveseat (Galleria): I have a beige sofa and loveseat I need to get rid of. My dog has done d.. http://bit.ly/3HWgCJ\\\\n'\",\n",
              " \"b'Computer Moniter (North Houston): Small computer moniter http://bit.ly/3BC11b\\\\n'\",\n",
              " \"b'its not much... (Spring): ...but if you want it before it gets broken in my garage come get it. http://bit.ly/cUimM\\\\n'\",\n",
              " \"b'Kohls card: I have a gift card with a balance of 3.63 . I have no use for it as I have done al... http://bit.ly/d65mCM http://bit.ly/6KPOg2\\\\n'\",\n",
              " \"b'7  Monitors   (houston ): 7  Monitors (   Plz  E mail  If you intersted with your contact number Thanks http://bit.ly/6yezhq\\\\n'\",\n",
              " \"b'www.player1videogames.com (friendswood): player 1 will be giving away a free game system.  Ple... http://bit.ly/9VxSDG http://bit.ly/6KPOg2\\\\n'\",\n",
              " 'b\"Two sets of blinds approx. 47 in. wide x 74 in. (Huntsville): They\\'re white, aluminum, used but still usable. O.. http://bit.ly/16hxM7\\\\n\"',\n",
              " \"b'Broken refrigerator (Conroe): I have an old frig that I believe the freezer motor went out. It has been cooling.. http://bit.ly/3sTniW\\\\n'\",\n",
              " \"b'Free wenie dog needs loving home (Mont belview): This 8year old wenie dog needs a loving home she is fixed, hous.. http://bit.ly/Fdv0u\\\\n'\",\n",
              " \"b'** FREE 1hr Fitness Training ** (Northwest/Cy-fair/Katy): I am a 38 year old Fitness Trainer, ... http://bit.ly/8jFqRL http://bit.ly/6KPOg2\\\\n'\",\n",
              " \"b'2 mirrors (The Woodlands): 2 free mirrors one is a bathroom mirror 3 ft. x 3 ft.  one is a closet mirror 16 in... http://bit.ly/31YoOq\\\\n'\",\n",
              " \"b'FREE HOT TUB (Spring/Woodlands): Free 6 man hot tub, green- jets worked when dismantled, heate... http://bit.ly/5TjBCM http://bit.ly/6KPOg2\\\\n'\",\n",
              " \"b'Re-homing 1yr old min pin/westie mix (Northwest): rehoming to a good home, kid friendly, big p... http://bit.ly/9kqi9b http://bit.ly/6KPOg2\\\\n'\",\n",
              " \"b'dresser (Katy): Need to pick up Saturday afternoon in Katy near 99 @ I-10. 281-395-3393 http://bit.ly/3Qhk9Q\\\\n'\",\n",
              " \"b'Free sofa and love seat (Katy, TX): Free only 4 years old, non-smoking, no children environment.  Light brown woven... http://bit.ly/8x3jCh\\\\n'\",\n",
              " \"b'Free blessing!!!! Come and get it!!!! Free (Everywhere you make it): You opened it, so you believe in Blessings too... http://bit.ly/87oppu\\\\n'\",\n",
              " \"b'free moving boxes (Kingwood): Free moving boxes (20 or more various sizes), the sooner you can take them away th.. http://bit.ly/kpCaw\\\\n'\",\n",
              " \"b'Brake shoes/ 2003 Taurus (Hobby / 77075): Have a set of rear break shoes for 2003 Ford taurus. I had them chang.. http://bit.ly/1FJdW8\\\\n'\",\n",
              " \"b'FREE - MUST GO - REFRIGERATOR (OAK FOREST): FREE FROST FREE REFRIGERATOR, ICE MAKER DOES NOT WORK, OLDIE BUT GO.. http://bit.ly/nvv4B\\\\n'\",\n",
              " \"b'FREE INFORMATION!: To find out if what you are looking for is for sale in a certain city on Cr... http://bit.ly/anY0G4 http://bit.ly/6KPOg2\\\\n'\",\n",
              " \"b'Loose Landscape Rocks, Free for the Moving! (Katy/Nottingham Country): I have about one cubic ... http://bit.ly/aXlvxg http://bit.ly/6KPOg2\\\\n'\",\n",
              " \"b'Nursing Bra Pads (Memorial & Dairy Ashford): I have about 20 of them. Call 832-329-7600 if interested. http://bit.ly/2gKapA\\\\n'\",\n",
              " \"b'Queen Mattress, box spring, and frame (Spring, TX): This is a queen mattress set with frame. The frame does not .. http://bit.ly/qNRDv\\\\n'\",\n",
              " \"b'womans cut (Houston Galleria): I have a few different cuts to choose from so anybody thats int... http://bit.ly/9kOkcb http://bit.ly/6KPOg2\\\\n'\",\n",
              " \"b'Metal clothes hanger (N.Fry@clay(Katy)): I have 30(or more) metal hangers from drycleaning clo... http://bit.ly/4uui6D http://bit.ly/6KPOg2\\\\n'\",\n",
              " \"b'vw van (cendy): Just a note to the asshole that flaged my last post like this one if you want ... http://bit.ly/9IMe58 http://bit.ly/6KPOg2\\\\n'\",\n",
              " 'b\"Free Wood (Fence & Pool Cover: Most of the wood is in good shape. I\\'ve cut the fence mostly in sections. Poo.. http://bit.ly/13eGn2\\\\n\"',\n",
              " \"b'Old Ping Pong Table (West University area):   Full size ping pong table with a bit of water damage. The surface .. http://bit.ly/11u8PL\\\\n'\",\n",
              " \"b'3 crt monitors... (houston): 3 crt monitor, a compaq, dell, sony... http://bit.ly/3Y9Odu\\\\n'\",\n",
              " \"b'Used Couch - sleeper (I45/Gulfbank): I have a well used sofa. My son had a throw over it and i... http://bit.ly/7fU7fK http://bit.ly/6KPOg2\\\\n'\",\n",
              " \"b'Free hardwood floors (77027): I have 3/4 inch real hardwood floors in 2 small bedrooms (probab... http://bit.ly/anIBUC http://bit.ly/6KPOg2\\\\n'\",\n",
              " \"b'6 Precare Prenatal Vitamins (Ridgemont/W.Houston77053): Hello, i wanna help a mom to be. I have 2 preacare prem.. http://bit.ly/tApGZ\\\\n'\",\n",
              " 'b\\'Free Dog & Puppy to good home (Spring - Aldine Westfield & Bellchase): We have a \"terrier mix\" dog, tha.. http://bit.ly/2VnGhi\\\\n\\'',\n",
              " \"b'VCR and 2 DirecTV boxes (Spring): Sharp VCR. Has been in closet for a long time... worked when it was last hook.. http://bit.ly/3rChrj\\\\n'\",\n",
              " \"b'Fujitsu 42  Plasma television: Fujitsu plasma 42 inch television for free. Tries to power on t... http://bit.ly/acTd55 http://bit.ly/6KPOg2\\\\n'\",\n",
              " \"b'Free Upright Piano (Kingwood): I have an old upright piano and bench that needs refinishing and a good tune up. .. http://bit.ly/Cx4MF\\\\n'\",\n",
              " \"b'I can haul away your junk metal and junk machines for free (humble):       i will haul off your junk if its jus.. http://bit.ly/4lHmpV\\\\n'\",\n",
              " 'b\"FREE BRICKS - LOTS OF \\'EM (THE HEIGHTS): We have around 4 to 5 hundred bricks. In good shape. Dark Red. Could be.. http://bit.ly/3R2n35\\\\n\"',\n",
              " \"b'FREE AIR HOCKEY TABLE. (HARDY AND BELTWAY 8 ): COMES WITH THE ACCESSORIES. http://bit.ly/StTaY\\\\n'\",\n",
              " \"b'KING SZ MATTRESS SET-Box Springs & Mattress-No Frame (RICHMOND, Tx): King Size Mattress Set w/o frame. Some.. http://bit.ly/4CZvo7\\\\n'\",\n",
              " 'b\\'PANASONIC 20\" TELEVISION (77084): If interested, please email or call Krissy at (512) 709-1516. This is located in ... http://bit.ly/5FZq4L\\\\n\\'',\n",
              " \"b'Free Select Fill Dirt (Downtown-Heights): FREE SELECT FILL DIRT IN DOWNTOWN-HEIGHTS CALL 832-203-6635        FR.. http://bit.ly/3ybMeN\\\\n'\",\n",
              " \"b'Table Top Vending Machines (Sugar Land - Greatwood ): FREE FREE  FREE   Four table top vending... http://bit.ly/aOMOek http://bit.ly/6KPOg2\\\\n'\",\n",
              " \"b'FREE PALLETS (3514 DURHILL 77025): FREE PALLETS IN DRIVEWAY. http://bit.ly/rzpE\\\\n'\",\n",
              " \"b'Men and womans cut (houston galleria): i am looking for a woman that would be interested in a trendy bon with l.. http://bit.ly/2VQqYu\\\\n'\",\n",
              " \"b'FREE MOVING BOXES (Beltway 8 and 288): We have a bunch of great moving boxes, all broken down.... http://bit.ly/9yxB1N http://bit.ly/6KPOg2\\\\n'\",\n",
              " \"b'FREE SWINGSET (SPRING): FREE!! GOOD CONDITION, LOCATED IN THE BRIDGESTONE SUB. OFF 2920/GOSLING AREA CALL 281-61.. http://bit.ly/Y0RcJ\\\\n'\",\n",
              " 'b\"mabi mini stairclimber in excellent shape - free (Houston): It hasn\\'t really been used much. The whole thing wo.. http://bit.ly/i7Glr\\\\n\"',\n",
              " \"b'KING mattress and box spring (Galleria area): FREE king size mattress and box spring.  Good condition.  Come Take! ... http://bit.ly/6TvNL2\\\\n'\",\n",
              " \"b'Free Sheets of Pegboard!!! (Cypress,Tx): Free Sheets of Pegboard Bring a friend , and a truck to move.  Bring a .. http://bit.ly/B4iOm\\\\n'\",\n",
              " \"b'THANKSGIVING HELPERS (SPRING): THANKGSGIVING HELPERS IS NEEDED TO HELP WOMEN AND MEN THAT ARE HOMELESS, WE DEDI.. http://bit.ly/63kORn\\\\n'\",\n",
              " \"b'Desk/Table/Workstation (Katy): Desk - still in good shape except for a couple of discolorations in the finish. .. http://bit.ly/LxYed\\\\n'\",\n",
              " \"b'Madden NFL 10: If you would like a free copy of this game, email me New and upcoming company giving away the ga.. http://bit.ly/MgP5j\\\\n'\",\n",
              " \"b'3 Y.O. King firm mattress free (La Porte): Im replacing my 3 y.o. mattress because the wife say it isnt firm en.. http://bit.ly/2nCYqF\\\\n'\",\n",
              " \"b'Free Misc scrap Metal (New Caney): All over three yards,you come carry off...337-517-0977,,,jo... http://bit.ly/aR8axF http://bit.ly/6KPOg2\\\\n'\",\n",
              " \"b'sauder desk hutch (friendswood/clear lake): This was a hutch to a sauder desk. If you want it, contact me for d.. http://bit.ly/5ZXk5m\\\\n'\",\n",
              " \"b'Need baby produc?s..we have them for free: Baby products given away for absolutely free thats ... http://bit.ly/5JvXcH http://bit.ly/6KPOg2\\\\n'\",\n",
              " \"b'Free sugar gliders (Alvin): I have 4 sugar gliders that i need to give away to a good home. I do not have the ti.. http://bit.ly/1LGzP7\\\\n'\",\n",
              " \"b'Free e-ci g arette kit (Houston): My wife recently learned that she is pregnant so she is quitting smoking and drin... http://bit.ly/5JYP8t\\\\n'\",\n",
              " \"b'Curb Alert- free stuff-exercise equipment, lamps, etc... (NW Houston): Everything left over from the yard sale .. http://bit.ly/07rCaDp\\\\n'\",\n",
              " \"b'Size 22W Rider Jeans (Channelview): Hello, my name is Sharon. I have a pair of size 22W jeans I would like to b.. http://bit.ly/l4DvB\\\\n'\",\n",
              " 'b\"Gentlemen\\'s Cut (Galleria): hey guys,  Tired of having long hair? Tired of not knowing what to... http://bit.ly/9035j1 http://bit.ly/6KPOg2\\\\n\"',\n",
              " \"b'Keep Flagging the Waterpic Ads - LIES (Houston): The Waterpic ads are lies. No one received gifts and are giving.. http://bit.ly/qK48T\\\\n'\",\n",
              " \"b'clothes hangers (Alvin): I have approx 100 clothes hangers, they are next to the dumpster located at 201 oakpar.. http://bit.ly/2EYi2J\\\\n'\",\n",
              " 'b\"((**FREE Advertising For Business, Get Result!*)) (Houston): Hello,         My name is Donnell Joyner. I\\'m a re.. http://bit.ly/HvDuA\\\\n\"',\n",
              " \"b'Free Rodeo Tickets (Houston): I still have 9 sets of rodeo tickets left that i am giving away ... http://bit.ly/9eDsJM http://bit.ly/6KPOg2\\\\n'\",\n",
              " \"b'FREE MIRROR / DOOR (West Rd. / Veterans Memorial): 42 1/2 in wide by 92 in tall. This was part of a sliding clo.. http://bit.ly/13yck9\\\\n'\",\n",
              " \"b'Free travel trailer (Fresno, Sargeant): Free travel trailer to be moved, everything worked las... http://bit.ly/6AbjNX http://bit.ly/6KPOg2\\\\n'\",\n",
              " \"b'Baby bottles (The Woodlands): These bottles were all used for breastmilk storage only, except the Nuk which was.. http://bit.ly/1Sf5K6\\\\n'\",\n",
              " \"b'Straight Pine Tree  (Crosby): We just cut down a very tall pine tree this morning and we need ... http://bit.ly/8euBl7 http://bit.ly/6KPOg2\\\\n'\",\n",
              " \"b'Free Carpet remnants and pad (Pearland (shadow creek ranch)): Bought new construction house. Instantly tore up .. http://bit.ly/3o85H1\\\\n'\",\n",
              " \"b'Infant Car seats (Porter): I have 2 infant car seats. one is graco and one evenflo, these are not on the recall.. http://bit.ly/2hu640\\\\n'\",\n",
              " \"b'Washer and Dryer: Help!! (Southeast): Hello to All -- I recently purchased a washer and dryer from a posting on CL.... http://bit.ly/90TjQi\\\\n'\",\n",
              " \"b'College classes for free with free ?cholar?hips (Kennard): Receive 10k for college now Everyon... http://bit.ly/4ZUscZ http://bit.ly/6KPOg2\\\\n'\",\n",
              " \"b'Sharp Copier (Conroe): This copier was working when it was donated. We have no use for it now. Load it and its .. http://bit.ly/2JecZ2\\\\n'\",\n",
              " \"b'mid size bag of baby girl clothes :) (610/stella link 77026): Text, will remove once gone 2818... http://bit.ly/ayrwOT http://bit.ly/6KPOg2\\\\n'\",\n",
              " \"b'K5 blazer top (stafford): top off my 82 k5 blazer. i dont want it and im tired of looking at it. if you want it cal... http://bit.ly/8Eow8a\\\\n'\",\n",
              " \"b'Working GE Commercial Dryer (Woodlands/Conroe): I have an older GE commercial Dryer. It works well but is very .. http://bit.ly/3oUbRp\\\\n'\",\n",
              " \"b'Kodak Carousel Slide Trays (Galleria): Maybe 15 of the suckers. Could be less. Could be more. ... http://bit.ly/bKqxLF http://bit.ly/6KPOg2\\\\n'\",\n",
              " \"b'My Kids christmas wish: My family is having a hard time this year, as are alot of people. I have an 8 year old daug... http://bit.ly/6mWvLP\\\\n'\",\n",
              " \"b'For a mother in need (Conroe): I am a mother of now 2 beautiful little girls.  I know how hard it is to get the thi... http://bit.ly/7fJgJg\\\\n'\",\n",
              " 'b\"Kodak color paper for printing (woodlands): This stuff has been in storage for about 10 years, so I\\'m not sure .. http://bit.ly/B6oAR\\\\n\"',\n",
              " \"b'Huggies, g?rber and Pampe products for free: Need baby products..we have them for free thats r... http://bit.ly/4IbgBU http://bit.ly/6KPOg2\\\\n'\",\n",
              " \"b'Satellite Dish FREE (Northwest Houston): FREE Large Satellite Dish - You move  FIRST COME FIRS... http://bit.ly/9B3mw1 http://bit.ly/6KPOg2\\\\n'\",\n",
              " \"b'IKEA Full-Sized Mattress (Friendswood): FREE IKEA Full-Sized Mattress--Sultan Hagalid. Used but in good conditi.. http://bit.ly/08f7DuU\\\\n'\",\n",
              " \"b'** FREE 1hr FITNESS TRAINING FREE **  (Northwest/Katy/Cy-fair): I am a 38 year old Fitness Tra... http://bit.ly/76GFKa http://bit.ly/6KPOg2\\\\n'\",\n",
              " \"b'drafting board and tons of drafting equipment: You must pick up drafting board and tons of drafting equipment ,d.. http://bit.ly/Px6cI\\\\n'\",\n",
              " \"b'Free Furniture (Spring,Texas): I have a couch and two recliners out in my front yard that hopefully will be gon.. http://bit.ly/K6Tot\\\\n'\",\n",
              " \"b'Direct TV Satallite (briar forest / dairy ashford): I am moving and need the satallite removed from the roof of.. http://bit.ly/bucix\\\\n'\",\n",
              " \"b'Cardboard box to make coffin (Heights): Perfect for a Halloween decoration - cardboard box that could be made i.. http://bit.ly/24AfHE\\\\n'\",\n",
              " 'b\"Free men and women\\'s clothes (Clear Lake): I have two trash bags full of men and women\\'s clothes in good condit.. http://bit.ly/18eFYT\\\\n\"',\n",
              " \"b'Moving Boxes (Montrose / Mid Town): Free Moving Boxes on Front Porch at 504 West Bell, 77019. ... http://bit.ly/bstSxr http://bit.ly/6KPOg2\\\\n'\",\n",
              " \"b'Free queen mattress and box spring (Copperfield): Free mattress and box spring in copperfield.     7506 Hickory.. http://bit.ly/QGxLs\\\\n'\",\n",
              " \"b'4 Free Houston Music Fest Tickets @ Fitzgeralds 23 & 24 (Manvel/Pearland): 4 Free Houston Music Fest Ticket.. http://bit.ly/24Q5d3\\\\n'\",\n",
              " \"b'Free Toys for Christmas! To a Needing Family (Deer Park): I have to say My family is so blessed as for my children.... http://bit.ly/8NmRj6\\\\n'\",\n",
              " \"b'Free Cabinet (Sw Houston (Near Galleria)): Free cabinet available. It has a broken leg but is still fully funct.. http://bit.ly/DIHfI\\\\n'\",\n",
              " \"b'FREE Dresser and nightstand (8015 Vista del sol): We still have a 6 drawer short dresser and a nightstand from o.. http://bit.ly/2kSw4a\\\\n'\",\n",
              " \"b'FREE full size Mattress and Box (77082): I have a full size mattress and a full size box sitti... http://bit.ly/b0jU5I http://bit.ly/6KPOg2\\\\n'\",\n",
              " \"b'working refrigeration, dryer (missouri city, tx): FREE! FREE! FREE! FREE!    ALL 3 items are GE (General Electr.. http://bit.ly/2r4Hci\\\\n'\",\n",
              " \"b'Free Entertainment Center (Sugar Land, TX): Free Entertainment Center.  Just need to free up s... http://bit.ly/cEBtQz http://bit.ly/6KPOg2\\\\n'\",\n",
              " 'b\"Soccer Goal (Clear Lake): Soccer Goal.  It\\'s on the curb if you want it.  15707 Seaside Lane Houston TX 77062 http://bit.ly/4JDAzu\\\\n\"',\n",
              " \"b'Free Plants (610 and Ella): Free plants - three small shrubs and one medium agave plant. 1434 Woodcrest Dr. http://bit.ly/czW7i\\\\n'\",\n",
              " \"b'Free Lane Sofa (Spring 77379): Free Lane sofa about 7 years old. Recliner sofa still works. Brown and tan sofa w.. http://bit.ly/ifwgT\\\\n'\",\n",
              " \"b'BusinessWeek Magazines (Houston SE): I have a lot of BusinessWeek magazines (2008-2009) and wa... http://bit.ly/7hHam6 http://bit.ly/6KPOg2\\\\n'\",\n",
              " \"b'Take 1 take all ( GONE): ALL GONE. http://bit.ly/bKG3J6 http://bit.ly/6KPOg2\\\\n'\",\n",
              " \"b'Free:   Border (Pasadena   77506): Sun, moon and stars border.  Two rolls- one has never been ... http://bit.ly/4qHU87 http://bit.ly/6KPOg2\\\\n'\",\n",
              " \"b'Baby Stroller (Houston,Tx): I have 6 months old baby stroller from Evenflo Its in a good condition Can be used .. http://bit.ly/xo8Ue\\\\n'\",\n",
              " \"b'Recliner (NW - TOMBALL): We are moving!!! This recliner needs a new home.     Recliner is greyish blue & super c.. http://bit.ly/18abUK\\\\n'\",\n",
              " \"b'Gorilla Suit (Manvel, Tx): Bought a full gorilla suit 2 halloweens ago for $250. It is taking ... http://bit.ly/drvXK9 http://bit.ly/6KPOg2\\\\n'\",\n",
              " 'b\\'sony kp-41t65 Rear Projection TV (Alvin): This is a 41\" Rear Projection, non-hd, TV. It is in complete working orde... http://bit.ly/90Ocjd\\\\n\\'',\n",
              " \"b'Rick the Dick Perry FREE ride to Austin (Houston): Hello,  I have been laid off since January by no fault of my own... http://bit.ly/5uVqcN\\\\n'\",\n",
              " \"b'washer and dryer-PENDING (Walden on Lake Conroe): washer and dryer- Washer is a Roper brand an... http://bit.ly/cRmLgA http://bit.ly/6KPOg2\\\\n'\",\n",
              " \"b'Get money ?or college (Houston): Get free money for college Everyone can sign up the 10k schol... http://bit.ly/afT8Rl http://bit.ly/6KPOg2\\\\n'\",\n",
              " \"b'College classes for free with free scholarships (Grapeland): Win a scholarship Everyone can st... http://bit.ly/7jIbsC http://bit.ly/6KPOg2\\\\n'\",\n",
              " \"b'FREE Rabbit hutch (montrose/ west u): free rabbit hutch suitable for outside Quite large. Two sides - one side .. http://bit.ly/ZrTr9\\\\n'\",\n",
              " \"b'Ge? fre? money for college (Houston): Get money for college Anyone can sisign up the 10k schol... http://bit.ly/9p9pjm http://bit.ly/6KPOg2\\\\n'\",\n",
              " \"b'Packing boxes (Midtown, houston): Nice overseas packing boxes. Some paper and bubblewrap as well. Mostly Dishpa.. http://bit.ly/N8ibn\\\\n'\",\n",
              " \"b'New hilarious commercials uploaded to www.HireLeslie.com Also available at www.youtube.com/hireleslie Check them out! #hireleslie.com\\\\n'\",\n",
              " 'b\\'\\\\\\'SOMEONE PLEASE HELP \"GAMES\" GAME CUBE\\\\\\': KNOW THAT THERE IS SOMEONE KIND OUT THERE THAT CAN HE... http://bit.ly/6EZEul http://bit.ly/6KPOg2\\\\n\\'',\n",
              " \"b'Free I will Haul your metal scrap or appliances (North and Northwest Houston): I will Haul you... http://bit.ly/9Xe42j http://bit.ly/6KPOg2\\\\n'\",\n",
              " \"b'***Horse Trough, Grill, Fence Panels*You can sell it for scrap metal!! (Spring/Woodlands 77384... http://bit.ly/9WCxkx http://bit.ly/6KPOg2\\\\n'\",\n",
              " \"b'FREE BOX SPRING (Sugar Land 77478): Free box spring. No more use for it. Come pick it up. http://bit.ly/3EjLgr\\\\n'\",\n",
              " \"b'free metal haul off free (magnolia tomball): i come get any type for free battires copper tin ... http://bit.ly/biyRLb http://bit.ly/6KPOg2\\\\n'\",\n",
              " \"b'Free Site (Montgomery County, texas): Check put this brand new site. You can post anything u want, even advertis.. http://bit.ly/Xw46L\\\\n'\",\n",
              " \"b'I need moving boxes!!!!!  (Conroe/Woodlands): Please let me pick up your moving boxes if you a... http://bit.ly/a9u9YV http://bit.ly/6KPOg2\\\\n'\",\n",
              " \"b'moving boxes (Atascocita): I have got alot of moving boxes of all different sizes. Please come get them today. http://bit.ly/7l9UsE\\\\n'\",\n",
              " 'b\"~~ WANT TILE ~~ (SPRING BRANCH): If you have tile and don\\'t want it ~~ I DO ~~  I have a project that requires .. http://bit.ly/1aW1kr\\\\n\"',\n",
              " \"b'street hockey equipment (sw  alief/sugar land): several used street hockey items free to any kid who can use them http://bit.ly/6iQsNm\\\\n'\",\n",
              " \"b'COMPAQ RECOVERY CD FOR 2285V MODEL (SANTA FE/ALVIN): Our computer crashed, so maybe someone else could use the orig... http://bit.ly/84wOEN\\\\n'\",\n",
              " \"b'FREE FENCE (WEBSTER AREA): FREE FENCE ALL OR NONE, Can Deliver! (FOR A FEE)                        Approx. 65lf .. http://bit.ly/kNbZo\\\\n'\",\n",
              " \"b'FREE HAMSTERS (Hwy 249 @ Louetta): Free hamsters.  Take one or all. http://bit.ly/5rMxYs\\\\n'\",\n",
              " \"b'Free snow (Katy): Okay all this is a 1 time 1 day event my back yard is flurried with snow so someone come take it ... http://bit.ly/5jiczA\\\\n'\",\n",
              " \"b'RE PINK PURSE IN KATY-SCAM- DO NOT MAIL HIM YOUR PICTURE: LADIES, this guy is a weirdo, do not send him your pi.. http://bit.ly/3fjn5q\\\\n'\",\n",
              " \"b're-free washer&dryer (it is a spamer): This a spamer fishing email addresses I replayed to one of his so called .. http://bit.ly/H5fZI\\\\n'\",\n",
              " \"b'Little Tykes Toddler Swing (clear lake): Little Tykes Toddler Swing. Good Condition. http://bit.ly/6RIn8\\\\n'\",\n",
              " \"b'Free Art Prints (Houston): Do you enjoy being involved in the arts? I have an upcoming art solo show I am putting t... http://bit.ly/5CTTHh\\\\n'\",\n",
              " \"b'somas cets handlebars (SL/Houston): Blues green yellows Deca/dbol/winnie http://bit.ly/1V3dUj\\\\n'\",\n",
              " \"b'Queen Mattress/Box Springs/Frame (Spring Branch): Good used Waterbury Comfort Balance III Plush Queen Mattress .. http://bit.ly/1yFEc9\\\\n'\",\n",
              " 'b\\'Infant car seat and two bases (Tomball): Graco infant car seat plus two bases so that it can easily be \"snapped.. http://bit.ly/2oxqh4\\\\n\\'',\n",
              " \"b'Free scrapbooking paper storage (Richmond TX): Store 12x12 scrapbook paper, wife paid $20 for ... http://bit.ly/4ACmRR http://bit.ly/6KPOg2\\\\n'\",\n",
              " \"b'Free Sofa must pickup by 10/29/09 (East Houston): Must pickup in great condition just needs shampooing!!!! Call.. http://bit.ly/11REBf\\\\n'\",\n",
              " \"b'free non working dryer electric (spring \\\\\\\\ n houston): 832-851-4002  http://bit.ly/c1IcFk http://bit.ly/6KPOg2\\\\n'\",\n",
              " \"b're: bookcase, no shelves : What the????  What use is this with no shelves.  Same thing with the Six drawer ches.. http://bit.ly/4w9Tn6\\\\n'\",\n",
              " 'b\\'65\" Mitsubishi Big Screen (Magnolia, Tx): 65\" Mitsubishi 1080 Series big screen tv. Tv starting acting up and pictu... http://bit.ly/7oFRlz\\\\n\\'',\n",
              " 'RT @NSUIGujarat: Scientists of over 30 countries said it is possible that COVID-19 can also spread through Air. In india students are force',\n",
              " 'RT @TribalArmy: Raped in Chitrakoot: Minor girls forced to trade bodies for Rs 150-200 daily during lockdown - @IndiaToday https://t.co/FkR',\n",
              " \"RT @NSUIAndhra: Are exams important than lives? Imagine the consequences, if a student comes out Covid +ve. seeing the population of India'\",\n",
              " '@ZeeNews All indian news channels of India had stop showing the news of covid 19..only t.r.p matters ..china..than https://t.co/CSIszD7cbn',\n",
              " 'RT @NaushadNsui: India is having daily 20k Covid-19 cases and presently 3rd worst hit Country in world. Without thinking about the conseque',\n",
              " 'RT @GaurNsui: Scientists of over 30 countries said it is possible that COVID-19 can also spread through Air. In india students are forced t',\n",
              " 'RT @Zebaism: In other important news: India recorded its highest single day jump in COVID cases. \\n\\nOver 26500 new COVID cases reported in a',\n",
              " 'RT @DrHVoffice: #Watch Deferred Live!! Union Minister for Health &amp; Family Welfare, S&amp;T and Earth Sciences Dr Harsh Vardhan releasing @TIFAC',\n",
              " 'See the sharp rise in number of deaths in #India and #Brazil\\nDue to #covid19 https://t.co/GJDcuZ3uT6',\n",
              " 'RT @ShamikaRavi: This article was written last summer as a guiding note for the new govt. Now with the entire world in the grip of #COVID19',\n",
              " 'RT @NSUIUPWest: India is having daily 20k Covid-19 cases and presently 3rd worst hit Country in world. Without thinking about the consequen',\n",
              " 'RT @GaurNsui: Scientists of over 30 countries said it is possible that COVID-19 can also spread through Air. In india students are forced t',\n",
              " 'Scientists of over 30 countries said it is possible that COVID-19 can also spread through Air. In india students ar https://t.co/piBD1YFApb',\n",
              " 'The #Madras High Court has questioned the state and central governments on why they have not analysed the medicine https://t.co/rOt40ry3D9',\n",
              " \"RT @brijdutt: It seems that lives of students of India also the future of India doesn't matter to Govt. Of India. GoI pressing its decision\",\n",
              " 'RT @Outlookindia: The #Madras High Court has questioned the state and central governments on why they have not analysed the medicine claime',\n",
              " 'RT @ajplus: India now has more COVID-19 cases than any country besides the United States and Brazil. On Sunday, the country recorded a reco',\n",
              " \"RT @Poorvika_Mobile: A silver lining amidst the chaos!\\nWe at #Poorvika_Mobiles thank &amp; salute the heroes behind #India's First indigenous #\",\n",
              " 'RT @MyVadodara: After UP govt announced 3 days of lockdown, Now Pune authorities announce 15 days long lockdown amid increasing corona case',\n",
              " 'RT @NSUIUPWest: India is having daily 20k Covid-19 cases and presently 3rd worst hit Country in world. Without thinking about the consequen',\n",
              " ...]"
            ]
          },
          "metadata": {
            "tags": []
          },
          "execution_count": 95
        }
      ]
    },
    {
      "cell_type": "code",
      "metadata": {
        "id": "S_Q77pP7_Xgb"
      },
      "source": [
        "X_train=pd.DataFrame(X_train)\n",
        "X_test=pd.DataFrame(X_test)\n",
        "y_train=pd.DataFrame(y_train)\n",
        "y_test=pd.DataFrame(y_test)\n",
        "X_train=X_train.iloc[:,:].values\n",
        "X_test=X_test.iloc[:,:].values\n",
        "y_train=y_train.iloc[:,:].values\n",
        "y_test=y_test.iloc[:,:].values"
      ],
      "execution_count": null,
      "outputs": []
    },
    {
      "cell_type": "code",
      "metadata": {
        "id": "FKnoCLy-_Xe1"
      },
      "source": [
        "train=np.concatenate((X_train,y_train),axis=1)\n",
        "test=np.concatenate((X_test,y_test),axis=1)"
      ],
      "execution_count": null,
      "outputs": []
    },
    {
      "cell_type": "code",
      "metadata": {
        "id": "IaaoOea5_Xbt"
      },
      "source": [
        "np.random.shuffle(train)\n",
        "np.random.shuffle(test)"
      ],
      "execution_count": null,
      "outputs": []
    },
    {
      "cell_type": "code",
      "metadata": {
        "id": "PXHpgBKb_XVc"
      },
      "source": [
        "train=pd.DataFrame(train)\n",
        "test=pd.DataFrame(test)"
      ],
      "execution_count": null,
      "outputs": []
    },
    {
      "cell_type": "code",
      "metadata": {
        "id": "_w-XLn_3_nBQ"
      },
      "source": [
        "import nltk\n",
        "from nltk.tokenize import RegexpTokenizer\n",
        "from nltk.stem import WordNetLemmatizer,PorterStemmer\n",
        "from nltk.corpus import stopwords\n",
        "import re\n",
        "lemmatizer = WordNetLemmatizer()\n",
        "stemmer = PorterStemmer() \n",
        "\n",
        "def preprocess(sentence):\n",
        "  sentence=str(sentence)\n",
        "  sentence = sentence.lower()\n",
        "  return sentence\n",
        "  '''\n",
        "  sentence=sentence.replace('{html}',\"\") \n",
        "  cleanr = re.compile('<.*?>#@')\n",
        "  cleantext = re.sub(cleanr, '', sentence)\n",
        "  rem_url=re.sub(r'http\\S+', '',cleantext)\n",
        "  rem_num = re.sub('[0-9]+', '', rem_url)\n",
        "  tokenizer = RegexpTokenizer(r'\\w+')\n",
        "  tokens = tokenizer.tokenize(rem_num)  \n",
        "  filtered_words = [w for w in tokens if len(w) > 2 if not w in stopwords.words('english')]\n",
        "  stem_words=[stemmer.stem(w) for w in filtered_words]\n",
        "  lemma_words=[lemmatizer.lemmatize(w) for w in stem_words]\n",
        "  return \" \".join(filtered_words)\n",
        "'''\n",
        "\n",
        "train.iloc[:,0]=train.iloc[:,0].map(lambda s:preprocess(s))\n",
        "test.iloc[:,0]=test.iloc[:,0].map(lambda s:preprocess(s))"
      ],
      "execution_count": null,
      "outputs": []
    },
    {
      "cell_type": "code",
      "metadata": {
        "id": "UDA0qgSkjUpP"
      },
      "source": [
        "REPLACE_BY_SPACE_RE = re.compile('[/(){}\\[\\]\\|@,;]')\n",
        "BAD_SYMBOLS_RE = re.compile('[^0-9a-z #+_]')\n",
        "STOPWORDS = list((stopwords.words('english')))\n",
        "\n",
        "def text_prepare(text,join_sumbol):\n",
        "    \"\"\"\n",
        "        text: a string\n",
        "        \n",
        "        return: modified initial string\n",
        "    \"\"\"\n",
        "    # lowercase text\n",
        "    text = text.lower() \n",
        "\n",
        "    # replace REPLACE_BY_SPACE_RE symbols by space in text\n",
        "    text = re.sub(REPLACE_BY_SPACE_RE,\" \",text,)\n",
        "\n",
        "    # delete symbols which are in BAD_SYMBOLS_RE from text\n",
        "    text = re.sub(BAD_SYMBOLS_RE,\"\",text)\n",
        "    text = re.sub(r'\\s+',\" \",text)\n",
        "\n",
        "    # delete stopwords from text\n",
        "    text = f'{join_sumbol}'.join([i for i in text.split() if i not in STOPWORDS])\n",
        "    \n",
        "    return text"
      ],
      "execution_count": null,
      "outputs": []
    },
    {
      "cell_type": "code",
      "metadata": {
        "id": "W6gXDZoOiGcZ"
      },
      "source": [
        "l=preprocess(train.iloc[0,0])\n"
      ],
      "execution_count": null,
      "outputs": []
    },
    {
      "cell_type": "code",
      "metadata": {
        "id": "5h6vw2MQiV2u",
        "colab": {
          "base_uri": "https://localhost:8080/",
          "height": 50
        },
        "outputId": "e6691553-77d2-4cd7-ca80-0340de06861a"
      },
      "source": [
        "print(train.iloc[0,0])\n",
        "print(l)"
      ],
      "execution_count": null,
      "outputs": [
        {
          "output_type": "stream",
          "text": [
            "b'Now playing: Mr. President - 4 On The Floor. Tune in: http://stream.laut.fm/eurodance.m3u\\n'\n",
            "playing president floor tune\n"
          ],
          "name": "stdout"
        }
      ]
    },
    {
      "cell_type": "code",
      "metadata": {
        "id": "NQ37sz-n_XTC"
      },
      "source": [
        "X_train=train.iloc[:,0]\n",
        "X_test=test.iloc[:,0]\n",
        "y_train=train.iloc[:,1]\n",
        "y_test=test.iloc[:,1]"
      ],
      "execution_count": null,
      "outputs": []
    },
    {
      "cell_type": "code",
      "metadata": {
        "id": "NBtVgKvR_XQe"
      },
      "source": [
        "from sklearn.preprocessing import LabelEncoder\n",
        "from keras.utils import np_utils\n",
        "encoder = LabelEncoder()\n",
        "encoder.fit(y_train)\n",
        "encoded_Y = encoder.transform(y_train)\n",
        "# convert integers to dummy variables (i.e. one hot encoded)\n",
        "y_train = np_utils.to_categorical(encoded_Y)"
      ],
      "execution_count": null,
      "outputs": []
    },
    {
      "cell_type": "code",
      "metadata": {
        "id": "ujMj3PNO_XOC"
      },
      "source": [
        "from sklearn.preprocessing import LabelEncoder\n",
        "from keras.utils import np_utils\n",
        "encoder = LabelEncoder()\n",
        "encoder.fit(y_test)\n",
        "encoded_Y = encoder.transform(y_test)\n",
        "# convert integers to dummy variables (i.e. one hot encoded)\n",
        "y_test = np_utils.to_categorical(encoded_Y)"
      ],
      "execution_count": null,
      "outputs": []
    },
    {
      "cell_type": "code",
      "metadata": {
        "id": "cb6YSHf0GFgx",
        "colab": {
          "base_uri": "https://localhost:8080/",
          "height": 34
        },
        "outputId": "bb3360b9-a402-41df-f8b7-3d001c8203d7"
      },
      "source": [
        "y_test.shape"
      ],
      "execution_count": null,
      "outputs": [
        {
          "output_type": "execute_result",
          "data": {
            "text/plain": [
              "(40, 2)"
            ]
          },
          "metadata": {
            "tags": []
          },
          "execution_count": 37
        }
      ]
    },
    {
      "cell_type": "code",
      "metadata": {
        "id": "nEgD06lpQ8V2"
      },
      "source": [
        "X_train=pd.DataFrame(X_train)"
      ],
      "execution_count": null,
      "outputs": []
    },
    {
      "cell_type": "code",
      "metadata": {
        "id": "xMGE72C1SFR8",
        "colab": {
          "base_uri": "https://localhost:8080/",
          "height": 402
        },
        "outputId": "5e1ff2c2-9141-485a-dfab-07c368661cf9"
      },
      "source": [
        "\n",
        "X_train"
      ],
      "execution_count": null,
      "outputs": [
        {
          "output_type": "execute_result",
          "data": {
            "text/html": [
              "<div>\n",
              "<style scoped>\n",
              "    .dataframe tbody tr th:only-of-type {\n",
              "        vertical-align: middle;\n",
              "    }\n",
              "\n",
              "    .dataframe tbody tr th {\n",
              "        vertical-align: top;\n",
              "    }\n",
              "\n",
              "    .dataframe thead th {\n",
              "        text-align: right;\n",
              "    }\n",
              "</style>\n",
              "<table border=\"1\" class=\"dataframe\">\n",
              "  <thead>\n",
              "    <tr style=\"text-align: right;\">\n",
              "      <th></th>\n",
              "      <th>0</th>\n",
              "    </tr>\n",
              "  </thead>\n",
              "  <tbody>\n",
              "    <tr>\n",
              "      <th>0</th>\n",
              "      <td>b'a tribute to #switzerland  http://ow.ly/1gpe...</td>\n",
              "    </tr>\n",
              "    <tr>\n",
              "      <th>1</th>\n",
              "      <td>b'haridwar in india, call \"the getaway to god ...</td>\n",
              "    </tr>\n",
              "    <tr>\n",
              "      <th>2</th>\n",
              "      <td>b'working ge commercial dryer (woodlands/conro...</td>\n",
              "    </tr>\n",
              "    <tr>\n",
              "      <th>3</th>\n",
              "      <td>b'#prambanan ?the most amazing collection of m...</td>\n",
              "    </tr>\n",
              "    <tr>\n",
              "      <th>4</th>\n",
              "      <td>b'#batalha monastery it is one of the best and...</td>\n",
              "    </tr>\n",
              "    <tr>\n",
              "      <th>...</th>\n",
              "      <td>...</td>\n",
              "    </tr>\n",
              "    <tr>\n",
              "      <th>1955</th>\n",
              "      <td>b'beige mircofiber couch (northside): i have a...</td>\n",
              "    </tr>\n",
              "    <tr>\n",
              "      <th>1956</th>\n",
              "      <td>b'tips for those traveling to san francisco, c...</td>\n",
              "    </tr>\n",
              "    <tr>\n",
              "      <th>1957</th>\n",
              "      <td>b'm?laga fair, probably the biggest party of t...</td>\n",
              "    </tr>\n",
              "    <tr>\n",
              "      <th>1958</th>\n",
              "      <td>b'free kitten (baytown tx): 11 weeks old, blac...</td>\n",
              "    </tr>\n",
              "    <tr>\n",
              "      <th>1959</th>\n",
              "      <td>b'****free boxes**** (spring/woodlands): free ...</td>\n",
              "    </tr>\n",
              "  </tbody>\n",
              "</table>\n",
              "<p>1960 rows × 1 columns</p>\n",
              "</div>"
            ],
            "text/plain": [
              "                                                      0\n",
              "0     b'a tribute to #switzerland  http://ow.ly/1gpe...\n",
              "1     b'haridwar in india, call \"the getaway to god ...\n",
              "2     b'working ge commercial dryer (woodlands/conro...\n",
              "3     b'#prambanan ?the most amazing collection of m...\n",
              "4     b'#batalha monastery it is one of the best and...\n",
              "...                                                 ...\n",
              "1955  b'beige mircofiber couch (northside): i have a...\n",
              "1956  b'tips for those traveling to san francisco, c...\n",
              "1957  b'm?laga fair, probably the biggest party of t...\n",
              "1958  b'free kitten (baytown tx): 11 weeks old, blac...\n",
              "1959  b'****free boxes**** (spring/woodlands): free ...\n",
              "\n",
              "[1960 rows x 1 columns]"
            ]
          },
          "metadata": {
            "tags": []
          },
          "execution_count": 39
        }
      ]
    },
    {
      "cell_type": "code",
      "metadata": {
        "id": "eNmtpGGbQ_c8"
      },
      "source": [
        "\n",
        "tokenized = X_train.apply((lambda x: tokenizer.encode(str(X_train[0]), add_special_tokens=True)))"
      ],
      "execution_count": null,
      "outputs": []
    },
    {
      "cell_type": "code",
      "metadata": {
        "id": "edufHXkCR8fw"
      },
      "source": [
        "tokenized = X_train.iloc[:,0].apply((lambda x: tokenizer.encode(str(x), add_special_tokens=True)))"
      ],
      "execution_count": null,
      "outputs": []
    },
    {
      "cell_type": "code",
      "metadata": {
        "id": "ANSSTACfRCfl"
      },
      "source": [
        "\n",
        "max_len = 0\n",
        "for i in tokenized.values:\n",
        "    if len(i) > max_len:\n",
        "        max_len = len(i)\n",
        "\n",
        "padded = np.array([i + [0]*(max_len-len(i)) for i in tokenized.values])"
      ],
      "execution_count": null,
      "outputs": []
    },
    {
      "cell_type": "code",
      "metadata": {
        "id": "gYC_h6vLRGXq"
      },
      "source": [
        "#for adding paddings\n",
        "input_ids = torch.tensor(np.array(padded))\n"
      ],
      "execution_count": null,
      "outputs": []
    },
    {
      "cell_type": "code",
      "metadata": {
        "id": "G8T-zcRnRJSo",
        "colab": {
          "base_uri": "https://localhost:8080/",
          "height": 34
        },
        "outputId": "ff345388-368b-455f-d993-56758879e6fd"
      },
      "source": [
        "#to set the paddings to zero and rest to 1\n",
        "attention_mask = np.where(padded != 0, 1, 0)\n",
        "attention_mask.shape"
      ],
      "execution_count": null,
      "outputs": [
        {
          "output_type": "execute_result",
          "data": {
            "text/plain": [
              "(1960, 77)"
            ]
          },
          "metadata": {
            "tags": []
          },
          "execution_count": 44
        }
      ]
    },
    {
      "cell_type": "code",
      "metadata": {
        "id": "dAVcz5VoRMTy"
      },
      "source": [
        "input_ids = (torch.tensor(padded))\n",
        "attention_mask = (torch.tensor(attention_mask))"
      ],
      "execution_count": null,
      "outputs": []
    },
    {
      "cell_type": "code",
      "metadata": {
        "id": "j25onsnxRQvt"
      },
      "source": [
        "with torch.no_grad():\n",
        "    last_hidden_states_train= model(input_ids,attention_mask)\n",
        "    "
      ],
      "execution_count": null,
      "outputs": []
    },
    {
      "cell_type": "code",
      "metadata": {
        "id": "I_mbEGXPVfiD"
      },
      "source": [
        "from sklearn.model_selection import train_test_split\n",
        "X_train, X_eval, y_train, y_eval = train_test_split(last_hidden_states_train[0],y_train, test_size = 0.25, random_state = 0)"
      ],
      "execution_count": null,
      "outputs": []
    },
    {
      "cell_type": "code",
      "metadata": {
        "id": "DpYJsbF6WkHy"
      },
      "source": [
        " \n",
        "es = EarlyStopping(monitor='val_loss', mode='min', verbose=1,patience=3)  "
      ],
      "execution_count": null,
      "outputs": []
    },
    {
      "cell_type": "code",
      "metadata": {
        "id": "B_1oL27wR8Qq"
      },
      "source": [
        "from keras.models import Sequential\n",
        "from keras.layers import Conv1D\n",
        "from keras.layers import AveragePooling1D\n",
        "from keras.layers import Flatten\n",
        "from keras.layers import Dense\n"
      ],
      "execution_count": null,
      "outputs": []
    },
    {
      "cell_type": "code",
      "metadata": {
        "id": "NzFhvxz0D2-P"
      },
      "source": [
        "def model2(filter_kernels, dense_outputs, maxlen, vocab_size, nb_filter,cat_output):                                                  # For Character Embedding use this model instead of above model\n",
        "    d = 300                                                             #Embedding Size\n",
        "    Embedding_layer  = Embedding(vocab_size+1, d, input_length=maxlen)\n",
        "    inputs = Input(shape=(maxlen,), name='input', dtype='float32')\n",
        "    embed = Embedding_layer(inputs)\n",
        "    z = Dropout(0.25)(Dense(dense_outputs, activation='relu')(embed))\n",
        "    conv = Convolution1D(nb_filter=nb_filter, filter_length=filter_kernels[0],\n",
        "                             border_mode='valid', activation='relu',\n",
        "                             input_shape=(maxlen, d))(z)\n",
        "    conv = MaxPooling1D(pool_length=3)(conv)\n",
        "\n",
        "    conv1 = Convolution1D(nb_filter=nb_filter, filter_length=filter_kernels[1],\n",
        "                          border_mode='valid', activation='relu')(conv)\n",
        "    conv1 = MaxPooling1D(pool_length=3)(conv1)\n",
        "\n",
        "    conv2 = Convolution1D(nb_filter=nb_filter, filter_length=filter_kernels[2],\n",
        "                          border_mode='valid', activation='relu')(conv1)\n",
        "    conv5 = MaxPooling1D(pool_length=3)(conv2)\n",
        "    conv6= Capsule(num_capsule=1 ,dim_capsule=72, routings=1,share_weights=True)(conv5)\n",
        "    conv = Flatten()(conv6)\n",
        "\n",
        "    #Two dense layers with dropout of .5\n",
        "    #z = Dropout(0.5)(Dense(dense_outputs, activation='relu')(conv))\n",
        "    # z = Dropout(0.5)(Dense(dense_outputs, activation='relu')(z))\n",
        "\n",
        "    pred = Dense(cat_output, activation='softmax', name='output')(conv)\n",
        "\n",
        "    model = Model(input=inputs, output=pred)\n",
        "\n",
        "    #sgd = SGD(lr=0.001, momentum=0.9)\n",
        "    #model.compile(loss='categorical_crossentropy', optimizer=sgd, metrics=['accuracy'])\n",
        "\n",
        "    return model"
      ],
      "execution_count": null,
      "outputs": []
    },
    {
      "cell_type": "code",
      "metadata": {
        "id": "kru8aOG0D304"
      },
      "source": [
        ""
      ],
      "execution_count": null,
      "outputs": []
    },
    {
      "cell_type": "code",
      "metadata": {
        "id": "MkMrgnmnSFBf",
        "colab": {
          "base_uri": "https://localhost:8080/",
          "height": 286
        },
        "outputId": "a7e086fd-6ba3-4618-ac60-996331af9221"
      },
      "source": [
        "classifier = Sequential()\n",
        "classifier.add(Conv1D(filters=64, kernel_size=3, activation='relu', input_shape=(77,768)))\n",
        "#classifier.add(Conv1D(filters=64, kernel_size=3, activation='relu'))\n",
        "#classifier.add(Dropout(0.5))\n",
        "#classifier.add(AveragePooling1D(3))\n",
        "#classifier.add(Bidirectional(GRU(64, activation='sigmoid', dropout=dropout_p, recurrent_dropout=dropout_p, return_sequences=True)))\n",
        "classifier.add(Capsule(num_capsule=1 ,dim_capsule=72, routings=1,share_weights=True))\n",
        "#classifier.add(Reshape(-1,100))\n",
        "classifier.add(Flatten())\n",
        "#classifier.add(Dense(100, activation='relu'))\n",
        "classifier.add(Dense(2, activation='softmax'))\n",
        "classifier.compile(loss='categorical_crossentropy', optimizer='adam', metrics=['accuracy'])\n",
        "classifier.summary()"
      ],
      "execution_count": null,
      "outputs": [
        {
          "output_type": "stream",
          "text": [
            "Model: \"sequential_1\"\n",
            "_________________________________________________________________\n",
            "Layer (type)                 Output Shape              Param #   \n",
            "=================================================================\n",
            "conv1d_1 (Conv1D)            (None, 75, 64)            147520    \n",
            "_________________________________________________________________\n",
            "capsule_1 (Capsule)          (None, 1, 72)             4608      \n",
            "_________________________________________________________________\n",
            "flatten_1 (Flatten)          (None, 72)                0         \n",
            "_________________________________________________________________\n",
            "dense_1 (Dense)              (None, 2)                 146       \n",
            "=================================================================\n",
            "Total params: 152,274\n",
            "Trainable params: 152,274\n",
            "Non-trainable params: 0\n",
            "_________________________________________________________________\n"
          ],
          "name": "stdout"
        }
      ]
    },
    {
      "cell_type": "code",
      "metadata": {
        "id": "25j1KDIKl744",
        "colab": {
          "base_uri": "https://localhost:8080/",
          "height": 1000
        },
        "outputId": "ede5732f-31b1-42a3-c9bd-9a0a659b8450"
      },
      "source": [
        "classifier.fit(np.array(X_train),np.array(y_train),batch_size=128,epochs=30,validation_data=(np.array(X_eval),np.array(y_eval)),verbose=1,callbacks=[es])"
      ],
      "execution_count": null,
      "outputs": [
        {
          "output_type": "stream",
          "text": [
            "Train on 1470 samples, validate on 490 samples\n",
            "Epoch 1/30\n",
            "1470/1470 [==============================] - 3s 2ms/step - loss: 0.4551 - accuracy: 0.8401 - val_loss: 0.2276 - val_accuracy: 0.9857\n",
            "Epoch 2/30\n",
            "1470/1470 [==============================] - 2s 2ms/step - loss: 0.1675 - accuracy: 0.9946 - val_loss: 0.1301 - val_accuracy: 0.9939\n",
            "Epoch 3/30\n",
            "1470/1470 [==============================] - 2s 2ms/step - loss: 0.1085 - accuracy: 0.9952 - val_loss: 0.0967 - val_accuracy: 0.9959\n",
            "Epoch 4/30\n",
            "1470/1470 [==============================] - 2s 2ms/step - loss: 0.0832 - accuracy: 0.9980 - val_loss: 0.0824 - val_accuracy: 0.9939\n",
            "Epoch 5/30\n",
            "1470/1470 [==============================] - 2s 2ms/step - loss: 0.0687 - accuracy: 0.9980 - val_loss: 0.0717 - val_accuracy: 0.9939\n",
            "Epoch 6/30\n",
            "1470/1470 [==============================] - 2s 2ms/step - loss: 0.0590 - accuracy: 0.9980 - val_loss: 0.0642 - val_accuracy: 0.9959\n",
            "Epoch 7/30\n",
            "1470/1470 [==============================] - 2s 2ms/step - loss: 0.0519 - accuracy: 0.9986 - val_loss: 0.0613 - val_accuracy: 0.9939\n",
            "Epoch 8/30\n",
            "1470/1470 [==============================] - 2s 2ms/step - loss: 0.0459 - accuracy: 0.9993 - val_loss: 0.0554 - val_accuracy: 0.9939\n",
            "Epoch 9/30\n",
            "1470/1470 [==============================] - 2s 2ms/step - loss: 0.0408 - accuracy: 0.9993 - val_loss: 0.0526 - val_accuracy: 0.9939\n",
            "Epoch 10/30\n",
            "1470/1470 [==============================] - 2s 2ms/step - loss: 0.0363 - accuracy: 1.0000 - val_loss: 0.0492 - val_accuracy: 0.9939\n",
            "Epoch 11/30\n",
            "1470/1470 [==============================] - 2s 2ms/step - loss: 0.0329 - accuracy: 1.0000 - val_loss: 0.0459 - val_accuracy: 0.9939\n",
            "Epoch 12/30\n",
            "1470/1470 [==============================] - 2s 2ms/step - loss: 0.0299 - accuracy: 1.0000 - val_loss: 0.0432 - val_accuracy: 0.9959\n",
            "Epoch 13/30\n",
            "1470/1470 [==============================] - 2s 2ms/step - loss: 0.0274 - accuracy: 1.0000 - val_loss: 0.0416 - val_accuracy: 0.9939\n",
            "Epoch 14/30\n",
            "1470/1470 [==============================] - 2s 2ms/step - loss: 0.0252 - accuracy: 1.0000 - val_loss: 0.0395 - val_accuracy: 0.9959\n",
            "Epoch 15/30\n",
            "1470/1470 [==============================] - 2s 2ms/step - loss: 0.0232 - accuracy: 1.0000 - val_loss: 0.0376 - val_accuracy: 0.9959\n",
            "Epoch 16/30\n",
            "1470/1470 [==============================] - 2s 2ms/step - loss: 0.0215 - accuracy: 1.0000 - val_loss: 0.0364 - val_accuracy: 0.9959\n",
            "Epoch 17/30\n",
            "1470/1470 [==============================] - 2s 2ms/step - loss: 0.0200 - accuracy: 1.0000 - val_loss: 0.0352 - val_accuracy: 0.9959\n",
            "Epoch 18/30\n",
            "1470/1470 [==============================] - 2s 2ms/step - loss: 0.0186 - accuracy: 1.0000 - val_loss: 0.0340 - val_accuracy: 0.9959\n",
            "Epoch 19/30\n",
            "1470/1470 [==============================] - 2s 2ms/step - loss: 0.0174 - accuracy: 1.0000 - val_loss: 0.0331 - val_accuracy: 0.9959\n",
            "Epoch 20/30\n",
            "1470/1470 [==============================] - 2s 2ms/step - loss: 0.0162 - accuracy: 1.0000 - val_loss: 0.0322 - val_accuracy: 0.9959\n",
            "Epoch 21/30\n",
            "1470/1470 [==============================] - 3s 2ms/step - loss: 0.0152 - accuracy: 1.0000 - val_loss: 0.0315 - val_accuracy: 0.9959\n",
            "Epoch 22/30\n",
            "1470/1470 [==============================] - 3s 2ms/step - loss: 0.0143 - accuracy: 1.0000 - val_loss: 0.0306 - val_accuracy: 0.9959\n",
            "Epoch 23/30\n",
            "1470/1470 [==============================] - 3s 2ms/step - loss: 0.0135 - accuracy: 1.0000 - val_loss: 0.0301 - val_accuracy: 0.9959\n",
            "Epoch 24/30\n",
            "1470/1470 [==============================] - 2s 2ms/step - loss: 0.0127 - accuracy: 1.0000 - val_loss: 0.0296 - val_accuracy: 0.9959\n",
            "Epoch 25/30\n",
            "1470/1470 [==============================] - 2s 2ms/step - loss: 0.0120 - accuracy: 1.0000 - val_loss: 0.0292 - val_accuracy: 0.9959\n",
            "Epoch 26/30\n",
            "1470/1470 [==============================] - 2s 2ms/step - loss: 0.0114 - accuracy: 1.0000 - val_loss: 0.0287 - val_accuracy: 0.9959\n",
            "Epoch 27/30\n",
            "1470/1470 [==============================] - 2s 2ms/step - loss: 0.0108 - accuracy: 1.0000 - val_loss: 0.0284 - val_accuracy: 0.9959\n",
            "Epoch 28/30\n",
            "1470/1470 [==============================] - 2s 2ms/step - loss: 0.0103 - accuracy: 1.0000 - val_loss: 0.0280 - val_accuracy: 0.9959\n",
            "Epoch 29/30\n",
            "1470/1470 [==============================] - 2s 2ms/step - loss: 0.0097 - accuracy: 1.0000 - val_loss: 0.0278 - val_accuracy: 0.9959\n",
            "Epoch 30/30\n",
            "1470/1470 [==============================] - 2s 2ms/step - loss: 0.0093 - accuracy: 1.0000 - val_loss: 0.0275 - val_accuracy: 0.9959\n"
          ],
          "name": "stdout"
        },
        {
          "output_type": "execute_result",
          "data": {
            "text/plain": [
              "<keras.callbacks.callbacks.History at 0x7f299ee50630>"
            ]
          },
          "metadata": {
            "tags": []
          },
          "execution_count": 51
        }
      ]
    },
    {
      "cell_type": "code",
      "metadata": {
        "id": "nmN_5bLJu26u"
      },
      "source": [
        "X_test=pd.DataFrame(X_test)\n",
        "tokenized = X_test.iloc[:,0].apply((lambda x: tokenizer.encode(str(x), add_special_tokens=True)))"
      ],
      "execution_count": null,
      "outputs": []
    },
    {
      "cell_type": "code",
      "metadata": {
        "id": "_mO-Dwrzy079"
      },
      "source": [
        "\n",
        "max_len = 0\n",
        "for i in tokenized.values:\n",
        "    if len(i) > max_len:\n",
        "        max_len = len(i)\n",
        "\n",
        "padded = np.array([i + [0]*(77-len(i)) for i in tokenized.values])"
      ],
      "execution_count": null,
      "outputs": []
    },
    {
      "cell_type": "code",
      "metadata": {
        "id": "C-GCIhNQy1YK"
      },
      "source": [
        "#for adding paddings\n",
        "input_ids = torch.tensor(np.array(padded))"
      ],
      "execution_count": null,
      "outputs": []
    },
    {
      "cell_type": "code",
      "metadata": {
        "id": "1JuOGV-gy1dq"
      },
      "source": [
        "#for adding paddings\n",
        "input_ids = torch.tensor(np.array(padded))"
      ],
      "execution_count": null,
      "outputs": []
    },
    {
      "cell_type": "code",
      "metadata": {
        "id": "G37AEHTQy1Wo",
        "colab": {
          "base_uri": "https://localhost:8080/",
          "height": 34
        },
        "outputId": "c8bc7f52-f311-47c8-8d23-dd68fbea26a4"
      },
      "source": [
        "#to set the paddings to zero and rest to 1\n",
        "attention_mask = np.where(padded != 0, 1, 0)\n",
        "attention_mask.shape"
      ],
      "execution_count": null,
      "outputs": [
        {
          "output_type": "execute_result",
          "data": {
            "text/plain": [
              "(40, 77)"
            ]
          },
          "metadata": {
            "tags": []
          },
          "execution_count": 123
        }
      ]
    },
    {
      "cell_type": "code",
      "metadata": {
        "id": "xj3Zversy1Tv"
      },
      "source": [
        "input_ids = (torch.tensor(padded))\n",
        "attention_mask = (torch.tensor(attention_mask))"
      ],
      "execution_count": null,
      "outputs": []
    },
    {
      "cell_type": "code",
      "metadata": {
        "id": "bdZ29j2ry1SG"
      },
      "source": [
        "with torch.no_grad():\n",
        "    last_hidden_states_test = model(input_ids,attention_mask)"
      ],
      "execution_count": null,
      "outputs": []
    },
    {
      "cell_type": "code",
      "metadata": {
        "id": "wJ17pNmBy1Ql"
      },
      "source": [
        "y_pred =  classifier.predict(last_hidden_states_test[0])"
      ],
      "execution_count": null,
      "outputs": []
    },
    {
      "cell_type": "code",
      "metadata": {
        "id": "cX5x1yOnTJfb",
        "colab": {
          "base_uri": "https://localhost:8080/",
          "height": 34
        },
        "outputId": "55740131-95dc-45f0-9a47-f562e06ddbfe"
      },
      "source": [
        "last_hidden_states_test[0].shape"
      ],
      "execution_count": null,
      "outputs": [
        {
          "output_type": "execute_result",
          "data": {
            "text/plain": [
              "torch.Size([40, 77, 768])"
            ]
          },
          "metadata": {
            "tags": []
          },
          "execution_count": 127
        }
      ]
    },
    {
      "cell_type": "code",
      "metadata": {
        "id": "aeU5IDGuy1O1",
        "colab": {
          "base_uri": "https://localhost:8080/",
          "height": 34
        },
        "outputId": "b7f6f51c-861a-43cc-8d2b-b0685c6e39bc"
      },
      "source": [
        "\n",
        "y_pred.shape"
      ],
      "execution_count": null,
      "outputs": [
        {
          "output_type": "execute_result",
          "data": {
            "text/plain": [
              "(40, 2)"
            ]
          },
          "metadata": {
            "tags": []
          },
          "execution_count": 128
        }
      ]
    },
    {
      "cell_type": "code",
      "metadata": {
        "id": "CBIW1n52TaB4",
        "colab": {
          "base_uri": "https://localhost:8080/",
          "height": 34
        },
        "outputId": "1fb9dc37-0c30-410b-f24d-72e1f671e92e"
      },
      "source": [
        "X_test.shape"
      ],
      "execution_count": null,
      "outputs": [
        {
          "output_type": "execute_result",
          "data": {
            "text/plain": [
              "(40, 1)"
            ]
          },
          "metadata": {
            "tags": []
          },
          "execution_count": 129
        }
      ]
    },
    {
      "cell_type": "code",
      "metadata": {
        "id": "IgkMjOIiy1LS"
      },
      "source": [
        "\n",
        "#TO get maximum value as 1 and rest to zero\n",
        "y_pred=pd.DataFrame(y_pred)\n",
        "y_pred=y_pred.eq(y_pred.where(y_pred != 0).max(1), axis=0).astype(int)\n",
        "y_pred=y_pred.iloc[:,:].values"
      ],
      "execution_count": null,
      "outputs": []
    },
    {
      "cell_type": "code",
      "metadata": {
        "id": "jsA5fuq_y1It"
      },
      "source": [
        "y_test=pd.DataFrame(y_test)\n",
        "y_test=y_test.eq(y_test.where(y_test != 0).max(1), axis=0).astype(int)\n",
        "y_test=y_test.iloc[:,:].values"
      ],
      "execution_count": null,
      "outputs": []
    },
    {
      "cell_type": "code",
      "metadata": {
        "id": "7DjXszY9y1Fc"
      },
      "source": [
        "\n",
        "result=[]\n",
        "for i in range(0,len(y_test)):\n",
        "  for j in range(0,len(y_test[0])):\n",
        "    if(y_test[i][j]==1):\n",
        "      result.append(j)\n"
      ],
      "execution_count": null,
      "outputs": []
    },
    {
      "cell_type": "code",
      "metadata": {
        "id": "Jgf7AWjSy1Cs"
      },
      "source": [
        "predicted=[]\n",
        "for i in range(0,len(y_pred)):\n",
        "  for j in range(0,len(y_pred[0])):\n",
        "    if(y_pred[i][j]==1):\n",
        "      predicted.append(j)\n",
        "\n"
      ],
      "execution_count": null,
      "outputs": []
    },
    {
      "cell_type": "code",
      "metadata": {
        "id": "al0irC_Ly1Ac",
        "colab": {
          "base_uri": "https://localhost:8080/",
          "height": 50
        },
        "outputId": "7cfa5870-e765-430a-fe07-66f3733be2d3"
      },
      "source": [
        "\n",
        "\n",
        "print(result)\n",
        "print(predicted)"
      ],
      "execution_count": null,
      "outputs": [
        {
          "output_type": "stream",
          "text": [
            "[0, 1, 1, 1, 1, 0, 0, 1, 1, 0, 0, 0, 1, 0, 1, 0, 1, 0, 0, 0, 1, 1, 1, 1, 1, 0, 0, 1, 0, 0, 0, 1, 1, 0, 0, 0, 0, 1, 1, 1]\n",
            "[0, 1, 1, 1, 1, 0, 0, 1, 1, 0, 0, 0, 1, 0, 1, 0, 1, 0, 0, 0, 1, 1, 1, 1, 1, 0, 0, 1, 0, 0, 0, 1, 1, 0, 0, 0, 0, 1, 1, 1]\n"
          ],
          "name": "stdout"
        }
      ]
    },
    {
      "cell_type": "code",
      "metadata": {
        "id": "eczXWcx2y05b",
        "colab": {
          "base_uri": "https://localhost:8080/",
          "height": 50
        },
        "outputId": "3b397689-495a-4b79-f479-4cedbeeec59b"
      },
      "source": [
        "from sklearn.metrics import confusion_matrix\n",
        "cm = confusion_matrix(result,predicted)\n",
        "\n",
        "cm"
      ],
      "execution_count": null,
      "outputs": [
        {
          "output_type": "execute_result",
          "data": {
            "text/plain": [
              "array([[20,  0],\n",
              "       [ 0, 20]])"
            ]
          },
          "metadata": {
            "tags": []
          },
          "execution_count": 135
        }
      ]
    },
    {
      "cell_type": "code",
      "metadata": {
        "id": "n3qbAdkty03l",
        "colab": {
          "base_uri": "https://localhost:8080/",
          "height": 252
        },
        "outputId": "47ebee01-478d-4062-c810-6d44802c1098"
      },
      "source": [
        "\n",
        "from sklearn.metrics import accuracy_score \n",
        "from sklearn.metrics import classification_report \n",
        "print('Confusion Matrix :')\n",
        "print(cm) \n",
        "print('Accuracy Score :',accuracy_score(result, predicted)) \n",
        "print('Report : ')\n",
        "print(classification_report(result, predicted)) \n"
      ],
      "execution_count": null,
      "outputs": [
        {
          "output_type": "stream",
          "text": [
            "Confusion Matrix :\n",
            "[[20  0]\n",
            " [ 0 20]]\n",
            "Accuracy Score : 1.0\n",
            "Report : \n",
            "              precision    recall  f1-score   support\n",
            "\n",
            "           0       1.00      1.00      1.00        20\n",
            "           1       1.00      1.00      1.00        20\n",
            "\n",
            "    accuracy                           1.00        40\n",
            "   macro avg       1.00      1.00      1.00        40\n",
            "weighted avg       1.00      1.00      1.00        40\n",
            "\n"
          ],
          "name": "stdout"
        }
      ]
    },
    {
      "cell_type": "code",
      "metadata": {
        "id": "H-vCNFzSy013"
      },
      "source": [
        "class_idx = np.argmax(y_pred[0])"
      ],
      "execution_count": null,
      "outputs": []
    },
    {
      "cell_type": "code",
      "metadata": {
        "id": "0YMEAGViy00C"
      },
      "source": [
        "class_output = classifier.output[:, class_idx]"
      ],
      "execution_count": null,
      "outputs": []
    },
    {
      "cell_type": "code",
      "metadata": {
        "id": "iBIEFGo5y0yb",
        "colab": {
          "base_uri": "https://localhost:8080/",
          "height": 34
        },
        "outputId": "beea96a4-449f-4293-b23b-2337c75ea7a3"
      },
      "source": [
        "class_output.shape"
      ],
      "execution_count": null,
      "outputs": [
        {
          "output_type": "execute_result",
          "data": {
            "text/plain": [
              "TensorShape([None])"
            ]
          },
          "metadata": {
            "tags": []
          },
          "execution_count": 49
        }
      ]
    },
    {
      "cell_type": "code",
      "metadata": {
        "id": "wX3-1hPXOny3",
        "colab": {
          "base_uri": "https://localhost:8080/",
          "height": 402
        },
        "outputId": "601db8d8-4f85-4480-ef81-0a0c97bdd832"
      },
      "source": [
        "X_train"
      ],
      "execution_count": null,
      "outputs": [
        {
          "output_type": "execute_result",
          "data": {
            "text/html": [
              "<div>\n",
              "<style scoped>\n",
              "    .dataframe tbody tr th:only-of-type {\n",
              "        vertical-align: middle;\n",
              "    }\n",
              "\n",
              "    .dataframe tbody tr th {\n",
              "        vertical-align: top;\n",
              "    }\n",
              "\n",
              "    .dataframe thead th {\n",
              "        text-align: right;\n",
              "    }\n",
              "</style>\n",
              "<table border=\"1\" class=\"dataframe\">\n",
              "  <thead>\n",
              "    <tr style=\"text-align: right;\">\n",
              "      <th></th>\n",
              "      <th>0</th>\n",
              "    </tr>\n",
              "  </thead>\n",
              "  <tbody>\n",
              "    <tr>\n",
              "      <th>0</th>\n",
              "      <td>swear bout platinum new hot song shoe strings ...</td>\n",
              "    </tr>\n",
              "    <tr>\n",
              "      <th>1</th>\n",
              "      <td>darrenbeast nigga</td>\n",
              "    </tr>\n",
              "    <tr>\n",
              "      <th>2</th>\n",
              "      <td>bmrbauty feelin like back sleep ill night</td>\n",
              "    </tr>\n",
              "    <tr>\n",
              "      <th>3</th>\n",
              "      <td>see something walk like wait minute see</td>\n",
              "    </tr>\n",
              "    <tr>\n",
              "      <th>4</th>\n",
              "      <td>nagasaki remembered usc gathering</td>\n",
              "    </tr>\n",
              "    <tr>\n",
              "      <th>...</th>\n",
              "      <td>...</td>\n",
              "    </tr>\n",
              "    <tr>\n",
              "      <th>2245</th>\n",
              "      <td>please check new cover taylor swift fearless o...</td>\n",
              "    </tr>\n",
              "    <tr>\n",
              "      <th>2246</th>\n",
              "      <td>boop alert one veiny cock</td>\n",
              "    </tr>\n",
              "    <tr>\n",
              "      <th>2247</th>\n",
              "      <td>gone younger speaker clearly appeal teenage girls</td>\n",
              "    </tr>\n",
              "    <tr>\n",
              "      <th>2248</th>\n",
              "      <td>ashwinpande watched last night still love</td>\n",
              "    </tr>\n",
              "    <tr>\n",
              "      <th>2249</th>\n",
              "      <td>pastor preached today things work together cal...</td>\n",
              "    </tr>\n",
              "  </tbody>\n",
              "</table>\n",
              "<p>2250 rows × 1 columns</p>\n",
              "</div>"
            ],
            "text/plain": [
              "                                                      0\n",
              "0     swear bout platinum new hot song shoe strings ...\n",
              "1                                     darrenbeast nigga\n",
              "2             bmrbauty feelin like back sleep ill night\n",
              "3               see something walk like wait minute see\n",
              "4                     nagasaki remembered usc gathering\n",
              "...                                                 ...\n",
              "2245  please check new cover taylor swift fearless o...\n",
              "2246                          boop alert one veiny cock\n",
              "2247  gone younger speaker clearly appeal teenage girls\n",
              "2248          ashwinpande watched last night still love\n",
              "2249  pastor preached today things work together cal...\n",
              "\n",
              "[2250 rows x 1 columns]"
            ]
          },
          "metadata": {
            "tags": []
          },
          "execution_count": 32
        }
      ]
    },
    {
      "cell_type": "code",
      "metadata": {
        "id": "lb5uUo-Xy0xA",
        "colab": {
          "base_uri": "https://localhost:8080/",
          "height": 229
        },
        "outputId": "b98d57a2-7536-4ef4-b74d-dbddc02391c5"
      },
      "source": [
        "tokenizer = Tokenizer(num_words=4000)\n",
        "tokenizer.fit_on_texts(X_train)\n",
        "X_train = tokenizer.texts_to_sequences(X_train)\n",
        "vocab_size = len(tokenizer.word_index) + 1  # Adding 1 because of reserved 0 index\n",
        "maxlen = 40\n",
        "embedding_dim = 50\n",
        "X_train = pad_sequences(X_train, padding='post', maxlen=maxlen)\n"
      ],
      "execution_count": null,
      "outputs": [
        {
          "output_type": "error",
          "ename": "NameError",
          "evalue": "ignored",
          "traceback": [
            "\u001b[0;31m---------------------------------------------------------------------------\u001b[0m",
            "\u001b[0;31mNameError\u001b[0m                                 Traceback (most recent call last)",
            "\u001b[0;32m<ipython-input-9-5e1adb84bc0e>\u001b[0m in \u001b[0;36m<module>\u001b[0;34m()\u001b[0m\n\u001b[0;32m----> 1\u001b[0;31m \u001b[0mtokenizer\u001b[0m \u001b[0;34m=\u001b[0m \u001b[0mTokenizer\u001b[0m\u001b[0;34m(\u001b[0m\u001b[0mnum_words\u001b[0m\u001b[0;34m=\u001b[0m\u001b[0;36m4000\u001b[0m\u001b[0;34m)\u001b[0m\u001b[0;34m\u001b[0m\u001b[0;34m\u001b[0m\u001b[0m\n\u001b[0m\u001b[1;32m      2\u001b[0m \u001b[0mtokenizer\u001b[0m\u001b[0;34m.\u001b[0m\u001b[0mfit_on_texts\u001b[0m\u001b[0;34m(\u001b[0m\u001b[0mX_train\u001b[0m\u001b[0;34m)\u001b[0m\u001b[0;34m\u001b[0m\u001b[0;34m\u001b[0m\u001b[0m\n\u001b[1;32m      3\u001b[0m \u001b[0mX_train\u001b[0m \u001b[0;34m=\u001b[0m \u001b[0mtokenizer\u001b[0m\u001b[0;34m.\u001b[0m\u001b[0mtexts_to_sequences\u001b[0m\u001b[0;34m(\u001b[0m\u001b[0mX_train\u001b[0m\u001b[0;34m)\u001b[0m\u001b[0;34m\u001b[0m\u001b[0;34m\u001b[0m\u001b[0m\n\u001b[1;32m      4\u001b[0m \u001b[0mvocab_size\u001b[0m \u001b[0;34m=\u001b[0m \u001b[0mlen\u001b[0m\u001b[0;34m(\u001b[0m\u001b[0mtokenizer\u001b[0m\u001b[0;34m.\u001b[0m\u001b[0mword_index\u001b[0m\u001b[0;34m)\u001b[0m \u001b[0;34m+\u001b[0m \u001b[0;36m1\u001b[0m  \u001b[0;31m# Adding 1 because of reserved 0 index\u001b[0m\u001b[0;34m\u001b[0m\u001b[0;34m\u001b[0m\u001b[0m\n\u001b[1;32m      5\u001b[0m \u001b[0mmaxlen\u001b[0m \u001b[0;34m=\u001b[0m \u001b[0;36m40\u001b[0m\u001b[0;34m\u001b[0m\u001b[0;34m\u001b[0m\u001b[0m\n",
            "\u001b[0;31mNameError\u001b[0m: name 'Tokenizer' is not defined"
          ]
        }
      ]
    },
    {
      "cell_type": "code",
      "metadata": {
        "id": "4a_Go0rsOUsK",
        "colab": {
          "base_uri": "https://localhost:8080/",
          "height": 421
        },
        "outputId": "f4534cd8-a6f5-4ddd-c2a6-ac03d1aeaeed"
      },
      "source": [
        "sequence_input = layers.Input(shape=(maxlen,), dtype='tf.float32')\n",
        "embedded_sequences = layers.Embedding(vocab_size, embedding_dim, input_length=maxlen)(sequence_input)\n",
        "l_cov1  = layers.Conv1D(317, 3, activation='relu')(embedded_sequences)\n",
        "l_pool1 = layers.MaxPooling1D(2)(l_cov1)\n",
        "l_cov2  = layers.Conv1D(317, 1, activation='relu')(l_pool1)\n",
        "l_cov3  = layers.Conv1D(317, 2, activation='relu')(l_cov2)\n",
        "l_pool3 = layers.GlobalMaxPooling1D()(l_cov3)  # global max pooling\n",
        "l_bnorm = layers.BatchNormalization()(l_pool3)\n",
        "l_dense = layers.Dense(128, activation='relu')(l_pool3)\n",
        "preds   = layers.Dense(50, activation='sigmoid',name='preds')(l_dense)\n",
        "model = Model(sequence_input, outputs=preds)\n",
        "model.compile(optimizer='adam',\n",
        "              loss='binary_crossentropy',\n",
        "              metrics=['accuracy'])\n",
        "model.summary()\n",
        "model.fit(X_train, y_train, epochs=3, validation_split=0.1, batch_size=10)"
      ],
      "execution_count": null,
      "outputs": [
        {
          "output_type": "error",
          "ename": "TypeError",
          "evalue": "ignored",
          "traceback": [
            "\u001b[0;31m---------------------------------------------------------------------------\u001b[0m",
            "\u001b[0;31mTypeError\u001b[0m                                 Traceback (most recent call last)",
            "\u001b[0;32m/usr/local/lib/python3.6/dist-packages/tensorflow/python/eager/execute.py\u001b[0m in \u001b[0;36mmake_type\u001b[0;34m(v, arg_name)\u001b[0m\n\u001b[1;32m    192\u001b[0m   \u001b[0;32mtry\u001b[0m\u001b[0;34m:\u001b[0m\u001b[0;34m\u001b[0m\u001b[0;34m\u001b[0m\u001b[0m\n\u001b[0;32m--> 193\u001b[0;31m     \u001b[0mv\u001b[0m \u001b[0;34m=\u001b[0m \u001b[0mdtypes\u001b[0m\u001b[0;34m.\u001b[0m\u001b[0mas_dtype\u001b[0m\u001b[0;34m(\u001b[0m\u001b[0mv\u001b[0m\u001b[0;34m)\u001b[0m\u001b[0;34m.\u001b[0m\u001b[0mbase_dtype\u001b[0m\u001b[0;34m\u001b[0m\u001b[0;34m\u001b[0m\u001b[0m\n\u001b[0m\u001b[1;32m    194\u001b[0m   \u001b[0;32mexcept\u001b[0m \u001b[0mTypeError\u001b[0m\u001b[0;34m:\u001b[0m\u001b[0;34m\u001b[0m\u001b[0;34m\u001b[0m\u001b[0m\n",
            "\u001b[0;32m/usr/local/lib/python3.6/dist-packages/tensorflow/python/framework/dtypes.py\u001b[0m in \u001b[0;36mas_dtype\u001b[0;34m(type_value)\u001b[0m\n\u001b[1;32m    642\u001b[0m   raise TypeError(\"Cannot convert value %r to a TensorFlow DType.\" %\n\u001b[0;32m--> 643\u001b[0;31m                   (type_value,))\n\u001b[0m",
            "\u001b[0;31mTypeError\u001b[0m: Cannot convert value 'tf.float32' to a TensorFlow DType.",
            "\nDuring handling of the above exception, another exception occurred:\n",
            "\u001b[0;31mTypeError\u001b[0m                                 Traceback (most recent call last)",
            "\u001b[0;32m<ipython-input-86-b9e1195606a5>\u001b[0m in \u001b[0;36m<module>\u001b[0;34m()\u001b[0m\n\u001b[0;32m----> 1\u001b[0;31m \u001b[0msequence_input\u001b[0m \u001b[0;34m=\u001b[0m \u001b[0mlayers\u001b[0m\u001b[0;34m.\u001b[0m\u001b[0mInput\u001b[0m\u001b[0;34m(\u001b[0m\u001b[0mshape\u001b[0m\u001b[0;34m=\u001b[0m\u001b[0;34m(\u001b[0m\u001b[0mmaxlen\u001b[0m\u001b[0;34m,\u001b[0m\u001b[0;34m)\u001b[0m\u001b[0;34m,\u001b[0m \u001b[0mdtype\u001b[0m\u001b[0;34m=\u001b[0m\u001b[0;34m'tf.float32'\u001b[0m\u001b[0;34m)\u001b[0m\u001b[0;34m\u001b[0m\u001b[0;34m\u001b[0m\u001b[0m\n\u001b[0m\u001b[1;32m      2\u001b[0m \u001b[0membedded_sequences\u001b[0m \u001b[0;34m=\u001b[0m \u001b[0mlayers\u001b[0m\u001b[0;34m.\u001b[0m\u001b[0mEmbedding\u001b[0m\u001b[0;34m(\u001b[0m\u001b[0mvocab_size\u001b[0m\u001b[0;34m,\u001b[0m \u001b[0membedding_dim\u001b[0m\u001b[0;34m,\u001b[0m \u001b[0minput_length\u001b[0m\u001b[0;34m=\u001b[0m\u001b[0mmaxlen\u001b[0m\u001b[0;34m)\u001b[0m\u001b[0;34m(\u001b[0m\u001b[0msequence_input\u001b[0m\u001b[0;34m)\u001b[0m\u001b[0;34m\u001b[0m\u001b[0;34m\u001b[0m\u001b[0m\n\u001b[1;32m      3\u001b[0m \u001b[0ml_cov1\u001b[0m  \u001b[0;34m=\u001b[0m \u001b[0mlayers\u001b[0m\u001b[0;34m.\u001b[0m\u001b[0mConv1D\u001b[0m\u001b[0;34m(\u001b[0m\u001b[0;36m317\u001b[0m\u001b[0;34m,\u001b[0m \u001b[0;36m3\u001b[0m\u001b[0;34m,\u001b[0m \u001b[0mactivation\u001b[0m\u001b[0;34m=\u001b[0m\u001b[0;34m'relu'\u001b[0m\u001b[0;34m)\u001b[0m\u001b[0;34m(\u001b[0m\u001b[0membedded_sequences\u001b[0m\u001b[0;34m)\u001b[0m\u001b[0;34m\u001b[0m\u001b[0;34m\u001b[0m\u001b[0m\n\u001b[1;32m      4\u001b[0m \u001b[0ml_pool1\u001b[0m \u001b[0;34m=\u001b[0m \u001b[0mlayers\u001b[0m\u001b[0;34m.\u001b[0m\u001b[0mMaxPooling1D\u001b[0m\u001b[0;34m(\u001b[0m\u001b[0;36m2\u001b[0m\u001b[0;34m)\u001b[0m\u001b[0;34m(\u001b[0m\u001b[0ml_cov1\u001b[0m\u001b[0;34m)\u001b[0m\u001b[0;34m\u001b[0m\u001b[0;34m\u001b[0m\u001b[0m\n\u001b[1;32m      5\u001b[0m \u001b[0ml_cov2\u001b[0m  \u001b[0;34m=\u001b[0m \u001b[0mlayers\u001b[0m\u001b[0;34m.\u001b[0m\u001b[0mConv1D\u001b[0m\u001b[0;34m(\u001b[0m\u001b[0;36m317\u001b[0m\u001b[0;34m,\u001b[0m \u001b[0;36m1\u001b[0m\u001b[0;34m,\u001b[0m \u001b[0mactivation\u001b[0m\u001b[0;34m=\u001b[0m\u001b[0;34m'relu'\u001b[0m\u001b[0;34m)\u001b[0m\u001b[0;34m(\u001b[0m\u001b[0ml_pool1\u001b[0m\u001b[0;34m)\u001b[0m\u001b[0;34m\u001b[0m\u001b[0;34m\u001b[0m\u001b[0m\n",
            "\u001b[0;32m/usr/local/lib/python3.6/dist-packages/keras/engine/input_layer.py\u001b[0m in \u001b[0;36mInput\u001b[0;34m(shape, batch_shape, name, dtype, sparse, tensor)\u001b[0m\n\u001b[1;32m    176\u001b[0m                              \u001b[0mname\u001b[0m\u001b[0;34m=\u001b[0m\u001b[0mname\u001b[0m\u001b[0;34m,\u001b[0m \u001b[0mdtype\u001b[0m\u001b[0;34m=\u001b[0m\u001b[0mdtype\u001b[0m\u001b[0;34m,\u001b[0m\u001b[0;34m\u001b[0m\u001b[0;34m\u001b[0m\u001b[0m\n\u001b[1;32m    177\u001b[0m                              \u001b[0msparse\u001b[0m\u001b[0;34m=\u001b[0m\u001b[0msparse\u001b[0m\u001b[0;34m,\u001b[0m\u001b[0;34m\u001b[0m\u001b[0;34m\u001b[0m\u001b[0m\n\u001b[0;32m--> 178\u001b[0;31m                              input_tensor=tensor)\n\u001b[0m\u001b[1;32m    179\u001b[0m     \u001b[0;31m# Return tensor including _keras_shape and _keras_history.\u001b[0m\u001b[0;34m\u001b[0m\u001b[0;34m\u001b[0m\u001b[0;34m\u001b[0m\u001b[0m\n\u001b[1;32m    180\u001b[0m     \u001b[0;31m# Note that in this case train_output and test_output are the same pointer.\u001b[0m\u001b[0;34m\u001b[0m\u001b[0;34m\u001b[0m\u001b[0;34m\u001b[0m\u001b[0m\n",
            "\u001b[0;32m/usr/local/lib/python3.6/dist-packages/keras/legacy/interfaces.py\u001b[0m in \u001b[0;36mwrapper\u001b[0;34m(*args, **kwargs)\u001b[0m\n\u001b[1;32m     89\u001b[0m                 warnings.warn('Update your `' + object_name + '` call to the ' +\n\u001b[1;32m     90\u001b[0m                               'Keras 2 API: ' + signature, stacklevel=2)\n\u001b[0;32m---> 91\u001b[0;31m             \u001b[0;32mreturn\u001b[0m \u001b[0mfunc\u001b[0m\u001b[0;34m(\u001b[0m\u001b[0;34m*\u001b[0m\u001b[0margs\u001b[0m\u001b[0;34m,\u001b[0m \u001b[0;34m**\u001b[0m\u001b[0mkwargs\u001b[0m\u001b[0;34m)\u001b[0m\u001b[0;34m\u001b[0m\u001b[0;34m\u001b[0m\u001b[0m\n\u001b[0m\u001b[1;32m     92\u001b[0m         \u001b[0mwrapper\u001b[0m\u001b[0;34m.\u001b[0m\u001b[0m_original_function\u001b[0m \u001b[0;34m=\u001b[0m \u001b[0mfunc\u001b[0m\u001b[0;34m\u001b[0m\u001b[0;34m\u001b[0m\u001b[0m\n\u001b[1;32m     93\u001b[0m         \u001b[0;32mreturn\u001b[0m \u001b[0mwrapper\u001b[0m\u001b[0;34m\u001b[0m\u001b[0;34m\u001b[0m\u001b[0m\n",
            "\u001b[0;32m/usr/local/lib/python3.6/dist-packages/keras/engine/input_layer.py\u001b[0m in \u001b[0;36m__init__\u001b[0;34m(self, input_shape, batch_size, batch_input_shape, dtype, input_tensor, sparse, name)\u001b[0m\n\u001b[1;32m     85\u001b[0m                                          \u001b[0mdtype\u001b[0m\u001b[0;34m=\u001b[0m\u001b[0mdtype\u001b[0m\u001b[0;34m,\u001b[0m\u001b[0;34m\u001b[0m\u001b[0;34m\u001b[0m\u001b[0m\n\u001b[1;32m     86\u001b[0m                                          \u001b[0msparse\u001b[0m\u001b[0;34m=\u001b[0m\u001b[0mself\u001b[0m\u001b[0;34m.\u001b[0m\u001b[0msparse\u001b[0m\u001b[0;34m,\u001b[0m\u001b[0;34m\u001b[0m\u001b[0;34m\u001b[0m\u001b[0m\n\u001b[0;32m---> 87\u001b[0;31m                                          name=self.name)\n\u001b[0m\u001b[1;32m     88\u001b[0m         \u001b[0;32melse\u001b[0m\u001b[0;34m:\u001b[0m\u001b[0;34m\u001b[0m\u001b[0;34m\u001b[0m\u001b[0m\n\u001b[1;32m     89\u001b[0m             \u001b[0mself\u001b[0m\u001b[0;34m.\u001b[0m\u001b[0mis_placeholder\u001b[0m \u001b[0;34m=\u001b[0m \u001b[0;32mFalse\u001b[0m\u001b[0;34m\u001b[0m\u001b[0;34m\u001b[0m\u001b[0m\n",
            "\u001b[0;32m/usr/local/lib/python3.6/dist-packages/keras/backend/tensorflow_backend.py\u001b[0m in \u001b[0;36msymbolic_fn_wrapper\u001b[0;34m(*args, **kwargs)\u001b[0m\n\u001b[1;32m     73\u001b[0m         \u001b[0;32mif\u001b[0m \u001b[0m_SYMBOLIC_SCOPE\u001b[0m\u001b[0;34m.\u001b[0m\u001b[0mvalue\u001b[0m\u001b[0;34m:\u001b[0m\u001b[0;34m\u001b[0m\u001b[0;34m\u001b[0m\u001b[0m\n\u001b[1;32m     74\u001b[0m             \u001b[0;32mwith\u001b[0m \u001b[0mget_graph\u001b[0m\u001b[0;34m(\u001b[0m\u001b[0;34m)\u001b[0m\u001b[0;34m.\u001b[0m\u001b[0mas_default\u001b[0m\u001b[0;34m(\u001b[0m\u001b[0;34m)\u001b[0m\u001b[0;34m:\u001b[0m\u001b[0;34m\u001b[0m\u001b[0;34m\u001b[0m\u001b[0m\n\u001b[0;32m---> 75\u001b[0;31m                 \u001b[0;32mreturn\u001b[0m \u001b[0mfunc\u001b[0m\u001b[0;34m(\u001b[0m\u001b[0;34m*\u001b[0m\u001b[0margs\u001b[0m\u001b[0;34m,\u001b[0m \u001b[0;34m**\u001b[0m\u001b[0mkwargs\u001b[0m\u001b[0;34m)\u001b[0m\u001b[0;34m\u001b[0m\u001b[0;34m\u001b[0m\u001b[0m\n\u001b[0m\u001b[1;32m     76\u001b[0m         \u001b[0;32melse\u001b[0m\u001b[0;34m:\u001b[0m\u001b[0;34m\u001b[0m\u001b[0;34m\u001b[0m\u001b[0m\n\u001b[1;32m     77\u001b[0m             \u001b[0;32mreturn\u001b[0m \u001b[0mfunc\u001b[0m\u001b[0;34m(\u001b[0m\u001b[0;34m*\u001b[0m\u001b[0margs\u001b[0m\u001b[0;34m,\u001b[0m \u001b[0;34m**\u001b[0m\u001b[0mkwargs\u001b[0m\u001b[0;34m)\u001b[0m\u001b[0;34m\u001b[0m\u001b[0;34m\u001b[0m\u001b[0m\n",
            "\u001b[0;32m/usr/local/lib/python3.6/dist-packages/keras/backend/tensorflow_backend.py\u001b[0m in \u001b[0;36mplaceholder\u001b[0;34m(shape, ndim, dtype, sparse, name)\u001b[0m\n\u001b[1;32m    734\u001b[0m         \u001b[0mdtype\u001b[0m \u001b[0;34m=\u001b[0m \u001b[0mfloatx\u001b[0m\u001b[0;34m(\u001b[0m\u001b[0;34m)\u001b[0m\u001b[0;34m\u001b[0m\u001b[0;34m\u001b[0m\u001b[0m\n\u001b[1;32m    735\u001b[0m     x = tf_keras_backend.placeholder(\n\u001b[0;32m--> 736\u001b[0;31m         shape=shape, ndim=ndim, dtype=dtype, sparse=sparse, name=name)\n\u001b[0m\u001b[1;32m    737\u001b[0m     \u001b[0;32mif\u001b[0m \u001b[0mshape\u001b[0m \u001b[0;32mis\u001b[0m \u001b[0;32mNone\u001b[0m\u001b[0;34m:\u001b[0m\u001b[0;34m\u001b[0m\u001b[0;34m\u001b[0m\u001b[0m\n\u001b[1;32m    738\u001b[0m         \u001b[0;32mif\u001b[0m \u001b[0mndim\u001b[0m \u001b[0;32mis\u001b[0m \u001b[0;32mnot\u001b[0m \u001b[0;32mNone\u001b[0m\u001b[0;34m:\u001b[0m\u001b[0;34m\u001b[0m\u001b[0;34m\u001b[0m\u001b[0m\n",
            "\u001b[0;32m/usr/local/lib/python3.6/dist-packages/tensorflow/python/keras/backend.py\u001b[0m in \u001b[0;36mplaceholder\u001b[0;34m(shape, ndim, dtype, sparse, name, ragged)\u001b[0m\n\u001b[1;32m   1085\u001b[0m                              expand_composites=True)\n\u001b[1;32m   1086\u001b[0m     \u001b[0;32melse\u001b[0m\u001b[0;34m:\u001b[0m\u001b[0;34m\u001b[0m\u001b[0;34m\u001b[0m\u001b[0m\n\u001b[0;32m-> 1087\u001b[0;31m       \u001b[0mx\u001b[0m \u001b[0;34m=\u001b[0m \u001b[0marray_ops\u001b[0m\u001b[0;34m.\u001b[0m\u001b[0mplaceholder\u001b[0m\u001b[0;34m(\u001b[0m\u001b[0mdtype\u001b[0m\u001b[0;34m,\u001b[0m \u001b[0mshape\u001b[0m\u001b[0;34m=\u001b[0m\u001b[0mshape\u001b[0m\u001b[0;34m,\u001b[0m \u001b[0mname\u001b[0m\u001b[0;34m=\u001b[0m\u001b[0mname\u001b[0m\u001b[0;34m)\u001b[0m\u001b[0;34m\u001b[0m\u001b[0;34m\u001b[0m\u001b[0m\n\u001b[0m\u001b[1;32m   1088\u001b[0m   \u001b[0;32mreturn\u001b[0m \u001b[0mx\u001b[0m\u001b[0;34m\u001b[0m\u001b[0;34m\u001b[0m\u001b[0m\n\u001b[1;32m   1089\u001b[0m \u001b[0;34m\u001b[0m\u001b[0m\n",
            "\u001b[0;32m/usr/local/lib/python3.6/dist-packages/tensorflow/python/ops/array_ops.py\u001b[0m in \u001b[0;36mplaceholder\u001b[0;34m(dtype, shape, name)\u001b[0m\n\u001b[1;32m   3024\u001b[0m                        \"eager execution.\")\n\u001b[1;32m   3025\u001b[0m \u001b[0;34m\u001b[0m\u001b[0m\n\u001b[0;32m-> 3026\u001b[0;31m   \u001b[0;32mreturn\u001b[0m \u001b[0mgen_array_ops\u001b[0m\u001b[0;34m.\u001b[0m\u001b[0mplaceholder\u001b[0m\u001b[0;34m(\u001b[0m\u001b[0mdtype\u001b[0m\u001b[0;34m=\u001b[0m\u001b[0mdtype\u001b[0m\u001b[0;34m,\u001b[0m \u001b[0mshape\u001b[0m\u001b[0;34m=\u001b[0m\u001b[0mshape\u001b[0m\u001b[0;34m,\u001b[0m \u001b[0mname\u001b[0m\u001b[0;34m=\u001b[0m\u001b[0mname\u001b[0m\u001b[0;34m)\u001b[0m\u001b[0;34m\u001b[0m\u001b[0;34m\u001b[0m\u001b[0m\n\u001b[0m\u001b[1;32m   3027\u001b[0m \u001b[0;34m\u001b[0m\u001b[0m\n\u001b[1;32m   3028\u001b[0m \u001b[0;34m\u001b[0m\u001b[0m\n",
            "\u001b[0;32m/usr/local/lib/python3.6/dist-packages/tensorflow/python/ops/gen_array_ops.py\u001b[0m in \u001b[0;36mplaceholder\u001b[0;34m(dtype, shape, name)\u001b[0m\n\u001b[1;32m   6669\u001b[0m       \u001b[0m_ops\u001b[0m\u001b[0;34m.\u001b[0m\u001b[0mraise_from_not_ok_status\u001b[0m\u001b[0;34m(\u001b[0m\u001b[0me\u001b[0m\u001b[0;34m,\u001b[0m \u001b[0mname\u001b[0m\u001b[0;34m)\u001b[0m\u001b[0;34m\u001b[0m\u001b[0;34m\u001b[0m\u001b[0m\n\u001b[1;32m   6670\u001b[0m   \u001b[0;31m# Add nodes to the TensorFlow graph.\u001b[0m\u001b[0;34m\u001b[0m\u001b[0;34m\u001b[0m\u001b[0;34m\u001b[0m\u001b[0m\n\u001b[0;32m-> 6671\u001b[0;31m   \u001b[0mdtype\u001b[0m \u001b[0;34m=\u001b[0m \u001b[0m_execute\u001b[0m\u001b[0;34m.\u001b[0m\u001b[0mmake_type\u001b[0m\u001b[0;34m(\u001b[0m\u001b[0mdtype\u001b[0m\u001b[0;34m,\u001b[0m \u001b[0;34m\"dtype\"\u001b[0m\u001b[0;34m)\u001b[0m\u001b[0;34m\u001b[0m\u001b[0;34m\u001b[0m\u001b[0m\n\u001b[0m\u001b[1;32m   6672\u001b[0m   \u001b[0;32mif\u001b[0m \u001b[0mshape\u001b[0m \u001b[0;32mis\u001b[0m \u001b[0;32mNone\u001b[0m\u001b[0;34m:\u001b[0m\u001b[0;34m\u001b[0m\u001b[0;34m\u001b[0m\u001b[0m\n\u001b[1;32m   6673\u001b[0m     \u001b[0mshape\u001b[0m \u001b[0;34m=\u001b[0m \u001b[0;32mNone\u001b[0m\u001b[0;34m\u001b[0m\u001b[0;34m\u001b[0m\u001b[0m\n",
            "\u001b[0;32m/usr/local/lib/python3.6/dist-packages/tensorflow/python/eager/execute.py\u001b[0m in \u001b[0;36mmake_type\u001b[0;34m(v, arg_name)\u001b[0m\n\u001b[1;32m    194\u001b[0m   \u001b[0;32mexcept\u001b[0m \u001b[0mTypeError\u001b[0m\u001b[0;34m:\u001b[0m\u001b[0;34m\u001b[0m\u001b[0;34m\u001b[0m\u001b[0m\n\u001b[1;32m    195\u001b[0m     raise TypeError(\"Expected DataType for argument '%s' not %s.\" %\n\u001b[0;32m--> 196\u001b[0;31m                     (arg_name, repr(v)))\n\u001b[0m\u001b[1;32m    197\u001b[0m   \u001b[0mi\u001b[0m \u001b[0;34m=\u001b[0m \u001b[0mv\u001b[0m\u001b[0;34m.\u001b[0m\u001b[0mas_datatype_enum\u001b[0m\u001b[0;34m\u001b[0m\u001b[0;34m\u001b[0m\u001b[0m\n\u001b[1;32m    198\u001b[0m   \u001b[0;32mreturn\u001b[0m \u001b[0mi\u001b[0m\u001b[0;34m\u001b[0m\u001b[0;34m\u001b[0m\u001b[0m\n",
            "\u001b[0;31mTypeError\u001b[0m: Expected DataType for argument 'dtype' not 'tf.float32'."
          ]
        }
      ]
    },
    {
      "cell_type": "code",
      "metadata": {
        "id": "99nR7E43QC5F",
        "colab": {
          "base_uri": "https://localhost:8080/",
          "height": 323
        },
        "outputId": "f0f9dc13-ae8c-45a3-f162-c7c1af70014c"
      },
      "source": [
        "y_pred=model.predict(X_test)"
      ],
      "execution_count": null,
      "outputs": [
        {
          "output_type": "error",
          "ename": "ValueError",
          "evalue": "ignored",
          "traceback": [
            "\u001b[0;31m---------------------------------------------------------------------------\u001b[0m",
            "\u001b[0;31mValueError\u001b[0m                                Traceback (most recent call last)",
            "\u001b[0;32m<ipython-input-67-1cb6d76b1f2f>\u001b[0m in \u001b[0;36m<module>\u001b[0;34m()\u001b[0m\n\u001b[0;32m----> 1\u001b[0;31m \u001b[0my_pred\u001b[0m\u001b[0;34m=\u001b[0m\u001b[0mmodel\u001b[0m\u001b[0;34m.\u001b[0m\u001b[0mpredict\u001b[0m\u001b[0;34m(\u001b[0m\u001b[0mX_test\u001b[0m\u001b[0;34m)\u001b[0m\u001b[0;34m\u001b[0m\u001b[0;34m\u001b[0m\u001b[0m\n\u001b[0m",
            "\u001b[0;32m/usr/local/lib/python3.6/dist-packages/keras/engine/training.py\u001b[0m in \u001b[0;36mpredict\u001b[0;34m(self, x, batch_size, verbose, steps, callbacks, max_queue_size, workers, use_multiprocessing)\u001b[0m\n\u001b[1;32m   1439\u001b[0m \u001b[0;34m\u001b[0m\u001b[0m\n\u001b[1;32m   1440\u001b[0m         \u001b[0;31m# Case 2: Symbolic tensors or Numpy array-like.\u001b[0m\u001b[0;34m\u001b[0m\u001b[0;34m\u001b[0m\u001b[0;34m\u001b[0m\u001b[0m\n\u001b[0;32m-> 1441\u001b[0;31m         \u001b[0mx\u001b[0m\u001b[0;34m,\u001b[0m \u001b[0m_\u001b[0m\u001b[0;34m,\u001b[0m \u001b[0m_\u001b[0m \u001b[0;34m=\u001b[0m \u001b[0mself\u001b[0m\u001b[0;34m.\u001b[0m\u001b[0m_standardize_user_data\u001b[0m\u001b[0;34m(\u001b[0m\u001b[0mx\u001b[0m\u001b[0;34m)\u001b[0m\u001b[0;34m\u001b[0m\u001b[0;34m\u001b[0m\u001b[0m\n\u001b[0m\u001b[1;32m   1442\u001b[0m         \u001b[0;32mif\u001b[0m \u001b[0mself\u001b[0m\u001b[0;34m.\u001b[0m\u001b[0mstateful\u001b[0m\u001b[0;34m:\u001b[0m\u001b[0;34m\u001b[0m\u001b[0;34m\u001b[0m\u001b[0m\n\u001b[1;32m   1443\u001b[0m             \u001b[0;32mif\u001b[0m \u001b[0mx\u001b[0m\u001b[0;34m[\u001b[0m\u001b[0;36m0\u001b[0m\u001b[0;34m]\u001b[0m\u001b[0;34m.\u001b[0m\u001b[0mshape\u001b[0m\u001b[0;34m[\u001b[0m\u001b[0;36m0\u001b[0m\u001b[0;34m]\u001b[0m \u001b[0;34m>\u001b[0m \u001b[0mbatch_size\u001b[0m \u001b[0;32mand\u001b[0m \u001b[0mx\u001b[0m\u001b[0;34m[\u001b[0m\u001b[0;36m0\u001b[0m\u001b[0;34m]\u001b[0m\u001b[0;34m.\u001b[0m\u001b[0mshape\u001b[0m\u001b[0;34m[\u001b[0m\u001b[0;36m0\u001b[0m\u001b[0;34m]\u001b[0m \u001b[0;34m%\u001b[0m \u001b[0mbatch_size\u001b[0m \u001b[0;34m!=\u001b[0m \u001b[0;36m0\u001b[0m\u001b[0;34m:\u001b[0m\u001b[0;34m\u001b[0m\u001b[0;34m\u001b[0m\u001b[0m\n",
            "\u001b[0;32m/usr/local/lib/python3.6/dist-packages/keras/engine/training.py\u001b[0m in \u001b[0;36m_standardize_user_data\u001b[0;34m(self, x, y, sample_weight, class_weight, check_array_lengths, batch_size)\u001b[0m\n\u001b[1;32m    577\u001b[0m             \u001b[0mfeed_input_shapes\u001b[0m\u001b[0;34m,\u001b[0m\u001b[0;34m\u001b[0m\u001b[0;34m\u001b[0m\u001b[0m\n\u001b[1;32m    578\u001b[0m             \u001b[0mcheck_batch_axis\u001b[0m\u001b[0;34m=\u001b[0m\u001b[0;32mFalse\u001b[0m\u001b[0;34m,\u001b[0m  \u001b[0;31m# Don't enforce the batch size.\u001b[0m\u001b[0;34m\u001b[0m\u001b[0;34m\u001b[0m\u001b[0m\n\u001b[0;32m--> 579\u001b[0;31m             exception_prefix='input')\n\u001b[0m\u001b[1;32m    580\u001b[0m \u001b[0;34m\u001b[0m\u001b[0m\n\u001b[1;32m    581\u001b[0m         \u001b[0;32mif\u001b[0m \u001b[0my\u001b[0m \u001b[0;32mis\u001b[0m \u001b[0;32mnot\u001b[0m \u001b[0;32mNone\u001b[0m\u001b[0;34m:\u001b[0m\u001b[0;34m\u001b[0m\u001b[0;34m\u001b[0m\u001b[0m\n",
            "\u001b[0;32m/usr/local/lib/python3.6/dist-packages/keras/engine/training_utils.py\u001b[0m in \u001b[0;36mstandardize_input_data\u001b[0;34m(data, names, shapes, check_batch_axis, exception_prefix)\u001b[0m\n\u001b[1;32m    143\u001b[0m                             \u001b[0;34m': expected '\u001b[0m \u001b[0;34m+\u001b[0m \u001b[0mnames\u001b[0m\u001b[0;34m[\u001b[0m\u001b[0mi\u001b[0m\u001b[0;34m]\u001b[0m \u001b[0;34m+\u001b[0m \u001b[0;34m' to have shape '\u001b[0m \u001b[0;34m+\u001b[0m\u001b[0;34m\u001b[0m\u001b[0;34m\u001b[0m\u001b[0m\n\u001b[1;32m    144\u001b[0m                             \u001b[0mstr\u001b[0m\u001b[0;34m(\u001b[0m\u001b[0mshape\u001b[0m\u001b[0;34m)\u001b[0m \u001b[0;34m+\u001b[0m \u001b[0;34m' but got array with shape '\u001b[0m \u001b[0;34m+\u001b[0m\u001b[0;34m\u001b[0m\u001b[0;34m\u001b[0m\u001b[0m\n\u001b[0;32m--> 145\u001b[0;31m                             str(data_shape))\n\u001b[0m\u001b[1;32m    146\u001b[0m     \u001b[0;32mreturn\u001b[0m \u001b[0mdata\u001b[0m\u001b[0;34m\u001b[0m\u001b[0;34m\u001b[0m\u001b[0m\n\u001b[1;32m    147\u001b[0m \u001b[0;34m\u001b[0m\u001b[0m\n",
            "\u001b[0;31mValueError\u001b[0m: Error when checking input: expected input_4 to have shape (40,) but got array with shape (1,)"
          ]
        }
      ]
    },
    {
      "cell_type": "code",
      "metadata": {
        "id": "fuqX8PO0QNuN",
        "colab": {
          "base_uri": "https://localhost:8080/",
          "height": 1000
        },
        "outputId": "b7384a09-6069-4c28-edff-47a431ef33d0"
      },
      "source": [
        "X_test"
      ],
      "execution_count": null,
      "outputs": [
        {
          "output_type": "execute_result",
          "data": {
            "text/plain": [
              "[\"b'@FlocoTorres I will sir. Have you seen it? Sorry about the angle... I was in the back wit the cam above my head & my gf in my arms\\\\n'\",\n",
              " 'b\"Heard the first few tracks of Gucci & @DjDrama \\'s Burrprint 3-D... BURR!\\\\n\"',\n",
              " \"b'@elise5000 No problemo. I love the promotion of good product.\\\\n'\",\n",
              " 'b\"My brain races miles ahead of what I\\'m sayin sometimes. Its the only time I ever stutter. Don\\'t mistake it for nervousness.\\\\n\"',\n",
              " \"b'Props to @ALKINGyouworms to being patient while @beat_geeks perfects their craft!\\\\n'\",\n",
              " \"b'DeMint escalates attacks on Obama plan http://bit.ly/Uired\\\\n'\",\n",
              " 'b\"Court\\'s ruling protects S.C. wetlands; conservationists applaud long-awaited decision. http://bit.ly/do78qg\\\\n\"',\n",
              " \"b'Columbia city lawyer recommends delaying election to replace councilman Cromartie: http://bit.ly/daqDBN\\\\n'\",\n",
              " \"b'Did you snap pics at Swansea chemical spill? Send to online@thestate.com and thanks. Also, just updated story: http://bit.ly/bi84Z\\\\n'\",\n",
              " \"b'Tuesday | First USC practice open to public http://snipurl.com/oersu\\\\n'\",\n",
              " \"b'@EricRatcliffe the non tie-in issues were great.\\\\n'\",\n",
              " 'b\"@elcinco for the record I\\'ve never seen a photo of you with bad hair.\\\\n\"',\n",
              " \"b'@DeweyVsMegalon oh God, what have I done?!\\\\n'\",\n",
              " \"b'@jennieofcourse they sell out pretty fast. I recommend you call and access the site simultaneously.\\\\n'\",\n",
              " \"b'Photo: Batman?s woman repellant spray. retconpunch: http://tumblr.com/xax634mr0\\\\n'\",\n",
              " \"b'.....in that brief moment when the coin is in air, you suddenly know what you are hoping for\\\\n'\",\n",
              " \"b'What is a Browser? 50 random people of different ages and backgrounds in the Times Square in New York. http://tinyurl.com/lsynkp\\\\n'\",\n",
              " \"b'@bookslifenmore r u reading two books at same time?\\\\n'\",\n",
              " 'b\"@aveshsharma yes but it is kept on silent. But now i\\'m in my room. External has not arrived yet.\\\\n\"',\n",
              " \"b'@djhealey1 my vehicle had stopped as water entered engine. so reached late.\\\\n'\",\n",
              " \"b'@manan i meant something more like this :P http://lin.cr/0geb theres tweets by ppl even on 11th!\\\\n'\",\n",
              " 'b\\'@LordAndrew It has become \"the usual stuff\" for most I guess. But quite sentimental. Makes me want to never write there, anything, ever :S\\\\n\\'',\n",
              " \"b'Wah, what a mast dialogue. The characters are quite different.\\\\n'\",\n",
              " \"b'what d you think of Motion controllers and other stuff? [ http://iu7o4.tk ] Click\\\\n'\",\n",
              " \"b'Now whats this HD+? [ http://is.gd/2ccUU ] So many places putting their own spin on stuff and confusing people :/\\\\n'\",\n",
              " \"b'@irishgirl75 what do you have to do to get tix?\\\\n'\",\n",
              " \"b'@MissG_NKOTB print out all the possibles, throw them all on the ground, mess them up and pick one - then you can blame fate ;D\\\\n'\",\n",
              " \"b'@TheSelli The leHigh Valley article that people were RTing said ti was ONLY an electronic release except for the 3000 MacPac copies\\\\n'\",\n",
              " \"b'@mom2boy  I can deal with devils for 6 or 7 hours. I know at the end of the night, I get to walk away.\\\\n'\",\n",
              " \"b'@jordansVA_lover Very loud. I was like what the heck are they doing up there. And then it got dark as the snow fell.\\\\n'\",\n",
              " \"b'Woot!! I finally hit 400 followers! Until tomorrow when some of them are gone:(\\\\n'\",\n",
              " 'b\"I am taking yet 3 more tylenol & laying down for nappie night. Headache headache go away and don\\'t come back another day. I\\'ve lost my mind\\\\n\"',\n",
              " \"b'Enter to win a Dali Decals giveaway @http://bit.ly/14q6uW\\\\n'\",\n",
              " \"b'I love to have the daycare kiddos make placemats and cover them clear contact paper\\\\n'\",\n",
              " 'b\"HOSTESS? Cupcakes celebrates 90 years as America\\'s Favorite Cupcake! http://bit.ly/iK8jb @Hostess_Snacks\\\\n\"',\n",
              " 'b\"@johncabell @BarackObama He\\'s our commander in cheif. Letting history recognize our efforts of progress & diplomacy is cheery & holy!\\\\n\"',\n",
              " \"b'@USATODAYtech Like this one. neurological weapons http://bit.ly/198Hs8 bbl peace planet!\\\\n'\",\n",
              " \"b'@FAScientists @smallwars the impossibility of communication in the jungle regions is a thing of the past. http://bit.ly/3E8AtA\\\\n'\",\n",
              " \"b'@attackerman It may seem to be good policy to disable MDS in Poland to deter Russian arms sales & nuclear reactor parts to Venezuella...\\\\n'\",\n",
              " 'b\"@headlinenews Both. gasoline sanctions won\\'t work\\\\n\"',\n",
              " \"b'Diamonds International RSS feed http://ff.im/-3taFO\\\\n'\",\n",
              " \"b'$5 off on Lawn and Garden orders of $50 or more Coupon Code: SEARS5OFF50 http://ff.im/-6VhyZ\\\\n'\",\n",
              " \"b'xx (Bonus Track Version) - The xx http://ff.im/-7jiCx\\\\n'\",\n",
              " \"b'Best Sellers at The All New CompUSA.com http://ff.im/-6jQL8\\\\n'\",\n",
              " \"b'ChildrensDesks.com:       Read and post comments |   Send to a friend http://bit.ly/FNfoI\\\\n'\",\n",
              " \"b'Oh god. Bedtime finally. Wet hair, which means tomorrow my hair will be terrible. I feel old. Good night.\\\\n'\",\n",
              " 'b\"@Harrisonfan How\\'s your day off going? Lots of schools around here are closed as well.\\\\n\"',\n",
              " \"b'@stephenfry what is it? What happened?\\\\n'\",\n",
              " 'b\\'Watching last night\\\\\\'s LLS... \"I  like doing to them what their ancestors did to my country.\" xD HAHAHA!\\\\n\\'',\n",
              " 'b\"@freeasabird_3 Dude idk about that... I got my cat from a shelter, and got her the day she got fixed and she still acts like she\\'s on crack!\\\\n\"',\n",
              " \"b'noticed they didnt have voting for Shima lol\\\\n'\",\n",
              " \"b'@hotgamermom yeah I have too many RRoDs and am getting sick of it. I bought a ps3, so far so good, but if I lose the 2 xboxs no more with it\\\\n'\",\n",
              " \"b'got platinum on Play That Funky Music\\\\n'\",\n",
              " \"b'wtf why isnt any site updating the NFL game?\\\\n'\",\n",
              " 'b\"@INFECTEDPB503 dude I still have both QB\\'s and 2 WR still to play, you wasted your QBs\\\\n\"',\n",
              " 'b\"@kahenya @saitonne he\\'s already been bought out? They said the negos with the PE firm are ongoing.Cool.\\\\n\"',\n",
              " \"b'@TheMacharia errr.... ok. lets run with your story for now ;)\\\\n'\",\n",
              " 'b\"Guys guys! Don\\'t complain about our govt websites. Try getting info on the Burundi economy. .ke websites are information heaven\\\\n\"',\n",
              " 'b\"@nzembi tehehe! I\\'m inhaling vegeterian pilau, beans and steamed cabbage.Chicken wings aren\\'t healthy for women btw. :)\\\\n\"',\n",
              " 'b\"Defamation? @nzembi we\\'re the same height even when I\\'m barefoot.@maximilus & @njorogekui are in a league of their own #height @milonare\\\\n\"',\n",
              " \"b'Fed Advice to AIG Scrutinized - New York Times (blog) http://is.gd/5UfKA\\\\n'\",\n",
              " \"b'What you get by achieving your goals is not as important as what you become by achieving your goals. (Zig Ziglar)\\\\n'\",\n",
              " \"b'Optimize Your Vacation Time in 2010 - Chicago Tribune http://is.gd/5P7dL\\\\n'\",\n",
              " \"b'r/t Discussion: Is it Ethical to Harvest Public Twitter Accounts without Consent? http://j.mp/90cjhr http://is.gd/8rmUa\\\\n'\",\n",
              " 'b\"Racecar driver Danica Patrick stands out in a man\\'s sport by playing up her ... - Washington Post http://is.gd/7NRJt\\\\n\"',\n",
              " \"b'I feel like this much pop is a definite kidney killer. #BringIt  http://twitpic.com/xa93i\\\\n'\",\n",
              " 'b\"I LOVE Footloose. Kevin Bacon is hardly dancing, but the routines are so Pleasure Principle that I can\\'t help but feel his angst.\\\\n\"',\n",
              " 'b\\'\"And I want you to love me (like I never left)\"\\\\n\\'',\n",
              " \"b'Never have your friends massage you...it changes things.\\\\n'\",\n",
              " 'b\"Why do Chinese places always offer a chicken wing deal? Eh, doesn\\'t matter...I\\'m bout to get my 5 wings for 2 dollars.\\\\n\"',\n",
              " \"b'Van Morrison ? When That Evening Sun Goes Down: http://www.last.fm/music/Van+Morrison http://bit.ly/JqmAq\\\\n'\",\n",
              " \"b'Iggy Pop & James Williamson ? No Sense of Crime: http://bit.ly/35Xsaw\\\\n'\",\n",
              " \"b'Sting ? Come Again: http://www.last.fm/music/Sting\\\\n'\",\n",
              " \"b'DJ Jazzy Jeff & The Fresh Prince ? Special Ennounement: http://bit.ly/M5kxb\\\\n'\",\n",
              " 'b\"Sting ? \\'...And Accordinge As I Desired Ther Cam a Letter...\\': http://www.last.fm/music/Sting\\\\n\"',\n",
              " \"b'Left the stu just got to the nail salon. Her eyes always light up when I walk in because I always let her experiment on my nails\\\\n'\",\n",
              " 'b\"@bigbossemusic the mixtape you\\'re featured on: Tawag Promotions & Coast 2 Coast DJs Present Hip Hop Masterminds Vol 2 - http://bit.ly/69csQ2\\\\n\"',\n",
              " 'b\"@JoSTunnAH we didn\\'t get to partake in our munchies session! Lol, but yeah I\\'ll be in the A\\\\n\"',\n",
              " \"b'@TraxxOnDekk what up\\\\n'\",\n",
              " 'b\"@timosho2000 yeah they\\'re strong in NC\\\\n\"',\n",
              " \"b'@Dev413 I may just do that!!\\\\n'\",\n",
              " \"b'@restnpieces oh will I?!!!\\\\n'\",\n",
              " \"b'@_WendySue that sucks\\\\n'\",\n",
              " 'b\\'#4 - \"Do you think she\\\\\\'s pretty?\" That\\\\\\'s a lose lose ok\\\\n\\'',\n",
              " 'b\"@benSKYwlkn i\\'m gonna try to make it down your way and get that storm this weekend for sure. i just got the tax return today\\\\n\"',\n",
              " 'b\"@missystark I can gush in the bath!!  Can\\'t squirt, sadly!!\\\\n\"',\n",
              " \"b'@lumberjack38 hey there Mr!\\\\n'\",\n",
              " \"b'@Newbloodfan Just a cold!!  YEAH O>K>\\\\n'\",\n",
              " \"b'@hunterhunting FEELS FUCKIN WONDERFUL!!  And @TK2 is following me!!  YEAH!!!\\\\n'\",\n",
              " 'b\"@nerdboner I thought everyone knew that!!  WTF man!!  What else don\\'t you know...I can help!!\\\\n\"',\n",
              " \"b'That was my favourite skit of ALL TIME. Queen Latifah is my life!!!\\\\n'\",\n",
              " \"b'@thisisjoej Shoutout to one fan? I love you so much and it would make my day :)\\\\n'\",\n",
              " \"b'Centennial Idol round 1 today! Wish me luck :)\\\\n'\",\n",
              " 'b\"@margaretbaker ahahahahaha that\\'s sooo bad ! nahh, i still like him but there\\'s another one i have my eye on :o\\\\n\"',\n",
              " \"b'is really hungry. Anybody wanna get me some cheese cappelletti from East Sides? That would be wonderful. Thanks!\\\\n'\",\n",
              " 'b\\'@thepinkpoppet Yup. Fondue forks are long and skinny and give good \"stab\". heh. kajiras scare me!\\\\n\\'',\n",
              " 'b\\'@newme21 Yeah, I\\\\\\'m not super fond of \"earthy\" coffees.\\\\n\\'',\n",
              " 'b\"@mivox Aw man!  I\\'ll have to be extra careful with the lid, then.  I wonder if you can buy replacements?\\\\n\"',\n",
              " 'b\"@insatiabldesire Oooh.  That\\'s even better!\\\\n\"',\n",
              " \"b'Tuesdays with Nina: Sex Advice Books and Partners with MS by Nina Hartley http://bit.ly/bXw9nJ\\\\n'\",\n",
              " \"b'@jamesecook Start working on that Jamie Oliver material.\\\\n'\",\n",
              " 'b\"Goodnight. If you don\\'t have an audiobook, why not try falling asleep to the gentle whispers coming from your garden?\\\\n\"',\n",
              " \"b'@aschernathan I saw them on the Meat is Murder tour :)\\\\n'\",\n",
              " \"b'@JFoundation The excellent Once Were Warriors might just about fit the bill - Jake the Muss is pretty booze-fueled.\\\\n'\",\n",
              " 'b\"@aschernathan He\\'s the final boss. Switch to the double-barrelled shitgun to take him out.\\\\n\"',\n",
              " \"b'Pet owners need to be vigilant ahead of Diwali celebrations http://is.gd/4nJNH\\\\n'\",\n",
              " \"b'Australia considers easing Zimbabwe sanctions http://is.gd/3iEqx\\\\n'\",\n",
              " \"b'Another Jo?burg store robbed http://is.gd/4sNdY\\\\n'\",\n",
              " \"b'TV industry worried about budget cut http://is.gd/2Dp2z\\\\n'\",\n",
              " \"b'?School safety is everyone?s responsibility? http://is.gd/2cXOR\\\\n'\",\n",
              " \"b'@TaliyAllTimeLow Oh god. My deepest condolences to you and your family\\\\n'\",\n",
              " \"b'@xattabych how did u get the entire thing in one screen shot?\\\\n'\",\n",
              " 'b\"@b0nkers strawberry, just a small one. next time i\\'ll get that \\'big max\\' thing\\\\n\"',\n",
              " 'b\"@Maandy_Jazz Not any particular song, their songs are typical annoying \\'whitey\\' songs. Catchy but annoying sometimes\\\\n\"',\n",
              " 'b\"No, ALL the playlists order themselves by name. Why? Why can\\'t it be perfect like I want it to??!\\\\n\"',\n",
              " \"b'@moonseer09 you need to upload a picture... the Twitter bird is not you.\\\\n'\",\n",
              " \"b'@SHiPSHAPEROOLZ when is the new stuff rolling out?!?! i already own everything you have on there now!\\\\n'\",\n",
              " 'b\\'\"sorry, I didn\\\\\\'t mean to out-black you.\" -@theshowgram // hahaha!!!\\\\n\\'',\n",
              " 'b\"@TimmyBurns was that a jab? ...I can\\'t tell.\\\\n\"',\n",
              " \"b'@docreid7 well that got a few retweets... lol\\\\n'\",\n",
              " 'b\"@vpaige Well, if it means anything, I feel honored to be followed by someone who\\'s as selective as u in your following...if that make sense?\\\\n\"',\n",
              " \"b'My mom and aunt are in the kitchen throwing down. This is why I love Sundays, I always eat good.\\\\n'\",\n",
              " 'b\"I think @marilynkj is the only vegan, christian (goes to Liberty), democrat I know. That\\'s enough for a #followfriday in my book\\\\n\"',\n",
              " \"b'@SeanHolihan Muahaha, touche my friend, touche.\\\\n'\",\n",
              " \"b'I just made some banging Salmon. Someone needed to give me a cooking show like yesterday.\\\\n'\",\n",
              " \"b'#Lodging News: Iconic Las Vegas Hotel Closes:             http://bit.ly/7NUe46 #hotel #Tourism\\\\n'\",\n",
              " \"b'#Hotel News Now(STR) 5 things to know: 9 June 2009: From the desks of the HotelNewsNow.com editor... http://bit.ly/9iPtCy #Tourism #Lodging\\\\n'\",\n",
              " \"b'#Hotel News Now(STR) ALIS: Hotel deals remain in flux: ALIS panelists examining the transactions ... http://bit.ly/98N97i #Tourism #Lodging\\\\n'\",\n",
              " \"b'#Hotel News Now(STR) PKF: Worsening economy delays U.S. hotel recovery: PKF Hospitality Research ... http://bit.ly/ccMdpB #Tourism #Lodging\\\\n'\",\n",
              " \"b'#Hotel News Now(STR) ABVI experiences record growth: Americas Best Value Inn, a nine-year-old bra... http://bit.ly/daBQoe #Tourism #Lodging\\\\n'\",\n",
              " 'b\"@izzynew it\\'s really OK and HEY WHAT JOY\\\\n\"',\n",
              " 'b\"@Beatminerz when is #BobMarley\\'s Birthday?\\\\n\"',\n",
              " 'b\"@Agony718 @djwayneski @CrazydjBazarro @Dj_Skinny @DJEVILDEE @Beatminerz @djscratch @delasoulsdugout I will defend y\\'all to the grave.\\\\n\"',\n",
              " \"b'@tinchystryder B, I played one a your joints on my station and it still get forward!\\\\n'\",\n",
              " 'b\"@jrocc You\\'re welcome\\\\n\"',\n",
              " \"b'Steve Hayes is on my TV.  Praise the Lord.\\\\n'\",\n",
              " 'b\"@Nitwhit19 - I know, just when you think it can\\'t get worse!\\\\n\"',\n",
              " \"b'Fellow gun enthusiasts. . . this is definitely on my wish list:  http://twitpic.com/g4mq0  @Ron1881\\\\n'\",\n",
              " \"b'@eastonj - Thanks, I can die now!\\\\n'\",\n",
              " 'b\"@ericinva - I use ~ all the time. It\\'s more girly than a plain old dash. What am I talking about? COFFEE!!!\\\\n\"',\n",
              " \"b'I dont understand this shit! ive been at my new job for three days and my desk is already a fucking mess! WTH!!!\\\\n'\",\n",
              " \"b'@biancacerise harry potter is the shyt! sometimes i sit at home and have harry potter movie fests...shhh dont tell nobody though. LOL\\\\n'\",\n",
              " \"b'First Question: #friday4play What was the most times you have ever had sex in one night with one person? LETS GO!!!!!!!!\\\\n'\",\n",
              " \"b'@writeinink @Belchin_Bitch yeah cuz i really dont think i wanna miss that...\\\\n'\",\n",
              " \"b'@writeinink lol...thats what im talkin bout!!!\\\\n'\",\n",
              " \"b'@laurapamela sounds nice ;) how was work/lift home?? :)\\\\n'\",\n",
              " \"b'coooooooool for caaaaaaaaaats!\\\\n'\",\n",
              " 'b\"wasn\\'t in melbourne so i couldn\\'t go see @joshthomas87 - compensated by watching \\'go girls\\' & eating rhubarb crumble :) or at least tried to\\\\n\"',\n",
              " 'b\"@MrJoshEarl i was so saying yes, then i remembered i don\\'t actually live in melbourne. fail.\\\\n\"',\n",
              " \"b'@micknicholls haha i loved when they stole the coffin. chris was hilarious. just an awesome character i loved his personality :)\\\\n'\",\n",
              " 'b\"@MissKikaLee i\\'ve been to america twice, hopefully again soon. (yn)\\\\n\"',\n",
              " 'b\"My Facebook has just updated.  I don\\'t mind it ;D\\\\n\"',\n",
              " 'b\"I just realised I have my ear phones in and I\\'m not listening to anything.  Haha.  Fail!\\\\n\"',\n",
              " 'b\"@gaviscon79 Nice!! I\\'d love to see the camo bird.  Bored of grey, grey, grey.\\\\n\"',\n",
              " \"b'@RebeccaAlxander sameees, you going into 5th year?\\\\n'\",\n",
              " \"b'Back to second crib.. Sleepy... *curled*\\\\n'\",\n",
              " \"b'@IamYeTe hehe.. PMS say.. makanya so blue.... tp udah much better koq me rite now :D cm klo lg di rmh aja kumat XD\\\\n'\",\n",
              " \"b'non stop chat of story telling with #supirtaxi. more like me telling him stories. -.-; he asked questions that need long explanation\\\\n'\",\n",
              " \"b'Good morning! Hello buffet breakfast, hello 80 male users, hello issues! XD\\\\n'\",\n",
              " \"b'@Silverlines wow... But maybe things like that do exist.. If we believe.. Hehe..\\\\n'\",\n",
              " \"b'@JuicyRican702 someone hatin on ya?? thats just jealousy! Tampa got ya back\\\\n'\",\n",
              " \"b'my goal for 2010 is to work for a company not run but Monkees\\\\n'\",\n",
              " \"b'@JessiG88 trying to add u on myspace but I need ur email..wanna DM me the address?\\\\n'\",\n",
              " 'b\\'listening to \"Diamond D & The Psychotic Neurotics - Sally Got A One Track Mind\" ? http://blip.fm/~c5n1t\\\\n\\'',\n",
              " \"b'Accept who your are - completely; the good and the bad - and make changes as YOU see fit - not for anyone else, but yourself. One Love\\\\n'\",\n",
              " \"b'@MQIMagesInc nah man /// too many people callin for irrelevant shit\\\\n'\",\n",
              " \"b'@MsRoyston cause you rollin ya eyes n shit\\\\n'\",\n",
              " \"b'@KJULA_HR dats what it is // you when you and prince gon be free to do dat collab?\\\\n'\",\n",
              " 'b\"#worldsthinnestbook i\\'m about to stop dancin by Omarion\\\\n\"',\n",
              " \"b'@sexitae_mmm nun much....chillin lookin 4 a new auto and on this music shit..you?\\\\n'\",\n",
              " \"b'WOAH another duststorm tomorrow?\\\\n'\",\n",
              " \"b'@fcukyouhoe wats with u and lalalalalallalalalalallalalala?\\\\n'\",\n",
              " \"b'its like -13 degrees in Chicago! I wanna move there LOL\\\\n'\",\n",
              " \"b'Had a super fun night with berny, luc and benj! TGIF woot\\\\n'\",\n",
              " \"b'@ISnortSugar :O that is SO not fairr i have to watch twilight once a day\\\\n'\",\n",
              " 'b\"@brittmoney37 that\\'s good that yall tryna get finish tho...I wish I was done last year\\\\n\"',\n",
              " \"b'@AKAPELLA04 just came thru in the clutch\\\\n'\",\n",
              " \"b'@PoiZzen ur indoor picnic sound like  u bout to put niggas in the bathroom lol\\\\n'\",\n",
              " \"b'me and@iamBMAC kickin ass in tha spades who next?\\\\n'\",\n",
              " \"b'@missjeffries hahahaha HATER\\\\n'\",\n",
              " \"b'Where are my folks that do custom shirts n kicks? Help me out tweethearts!\\\\n'\",\n",
              " 'b\"@4FinalDraft have a great show guys! I know you\\'ll kill it\\\\n\"',\n",
              " \"b'dusted off the webcam to hop on ustream (Broadcasting live at http://ustre.am/601E)\\\\n'\",\n",
              " \"b'@sk8brdjad3 yes girl that was a good convo!\\\\n'\",\n",
              " \"b'@GoldsbyBeatz whaaat? *gasp* lol you want me to stay ^_^\\\\n'\",\n",
              " \"b'Pregame tweetup at 12:30 outside Suite 8, over section 106 by the Jack Daniels bar #rebels\\\\n'\",\n",
              " \"b'@EastCoastGamblr I cannot believe how cheap the rooms are in LV right now. And @southwestair is always having specials. Come to Vegas!!\\\\n'\",\n",
              " 'b\"@tonyhawk http://pic.gd/61ab1b who doesn\\'t have a camera phone anymore? Geez!\\\\n\"',\n",
              " 'b\"@PeterArceo @PhotoDivaLV I agree. Tough but rewarding. I usually give up fried food& candy. But I\\'ve done bread, soda & other various things\\\\n\"',\n",
              " 'b\\'Gotta love #Vegas where u can \"get your hair did\" on Sunday!\\\\n\\'',\n",
              " \"b'@handmadelion who told you i was a rollercoaster fan\\\\n'\",\n",
              " 'b\"My partner won\\'t get me a glass of champagne! He\\'s MEAN!\\\\n\"',\n",
              " 'b\"@WriteinBK well at least you know it\\'s not worth it. woo woo woo for a bit then suck it up and get over it #whatsagirltodo\\\\n\"',\n",
              " \"b'Yesterday was tough...\\\\n'\",\n",
              " \"b'I cannot with the news :(\\\\n'\",\n",
              " 'b\"OK so it\\'s 85 degrees in here now .... were is my A/C guy?  I\\'m kind of getting used to the heat though...\\\\n\"',\n",
              " \"b'@ceohockley I just saw your messages LOL.  Awwww.... Yea it rained cats and dogs here this afternoon.  When you coming back to Tampa??\\\\n'\",\n",
              " 'b\"It\\'s cold in ATL so bought 3 sweater dresses. and some boots... probably never wear them again after this weekend LOL\\\\n\"',\n",
              " 'b\\'Listening to \"It\\\\\\'s my Time\" by Fabolous\\\\n\\'',\n",
              " \"b'@DehFamSincere I just dropped her off.  I have to get ready for my trip to Iowa today (leaving early in the morning\\\\n'\",\n",
              " \"b'@Thisiswelshy they better b wrong\\\\n'\",\n",
              " \"b'@xjhkw on phone. Good then really good\\\\n'\",\n",
              " \"b'@XJHKW im still worried. Its worth 20% of my grade in that class\\\\n'\",\n",
              " \"b'@XJHKW what the fooook?\\\\n'\",\n",
              " \"b'@WelshVeronica lmaoooo. Make them eat your dust, welshy ;) cuz unfortunately, i cant be there to race you and have an epic crash. Lmao\\\\n'\",\n",
              " \"b'@FlewAlready Nada.. About To Get Off Work\\\\n'\",\n",
              " 'b\"@jblakkslapps Chillin At The House Hun... What\\'s Going On?\\\\n\"',\n",
              " \"b'Apperantly All You Need To Be A Dancer Des Days Is Leggings Weaves&A Butt! What Is Up With These Dancers Now? Dey Uncessary B***ches Suck\\\\n'\",\n",
              " \"b'@Cuteassness Well It Lasted A Day LOL\\\\n'\",\n",
              " \"b'@Honey_Biscuit Oh Fa Sho... When Is It?\\\\n'\",\n",
              " 'b\"Just cause he thought she was his when the blood test came and it said he wasn\\'t the dad he never changed now that\\'s my nigga 4 life\\\\n\"',\n",
              " 'b\"#basicrevruntweet there\\'s #tebowtears in everyone let them out GOD is love\\\\n\"',\n",
              " \"b'@kjhinshaw she lookin out for us makin sure we play it safe LMAO tell her thank you\\\\n'\",\n",
              " \"b'@CODE_BLUE2U u never turn on the homie P.Manning\\\\n'\",\n",
              " \"b'my attitude was fuck it cause muthafuckas loved it #thuglife\\\\n'\",\n",
              " 'b\"#musicmonday trae * this can\\'t be life\\\\n\"',\n",
              " \"b'@KiNDALiKECRACK ayyye when we gone have some drinks gal..\\\\n'\",\n",
              " \"b'Dayumm all 4 one droppin an album... after how many years gone.. lal..\\\\n'\",\n",
              " \"b'played Call of Duty 4: Modern Warfare (360) and Bejeweled 2 (XBLA) in the last 24 hours. http://raptr.com/Re4lity\\\\n'\",\n",
              " 'b\"I know a hoax is just to decieve but what\\'s the point if the hoax doesn\\'t make u no money lal..\\\\n\"',\n",
              " \"b'Five years in the bond today. Damn! Shout out to the Krimson Mile & Lambda Que! K-A-Psi til the day I die.\\\\n'\",\n",
              " 'b\"@SimplyATL I\\'ve been good...how bout u?\\\\n\"',\n",
              " 'b\\'\"You gotta know the difference between the FBI, the police, & a top flight security!\\\\n\\'',\n",
              " 'b\\'Wilding at the bowling alley w/ @DiplomaZ jamming to \"Return of the Mack\" over the loud speakers\\\\n\\'',\n",
              " \"b'@MsAshley12 Ha ha real funny......i know u would feel like shit something actually happen to me\\\\n'\",\n",
              " 'b\"Why is it mood levelers are legal but mood elevators aren\\'t? I want to feel good, not just quit wishing I was dead.\\\\n\"',\n",
              " 'b\"I got through the dash of lemon. That\\'s always the uhhh, hardest part, as it were.  :)\\\\n\"',\n",
              " 'b\"This and more I sat divining, with my head at ease reclining On the cushion\\'s velvet lining that the lamplight gloated o\\'er,\\\\n\"',\n",
              " \"b'@smfogleman Perhaps we could declare a laundry hour? Then we could go back and forth.  :)\\\\n'\",\n",
              " 'b\"@chicklette_ LOVE, LOVE cruises! I\\'ve been on several and never had a bad experience!\\\\n\"',\n",
              " 'b\"@aepfelchen Why? What\\'s so special about it? ;)\\\\n\"',\n",
              " 'b\"I\\'m eating a little cupcake and a banana and I\\'m watching a bit of a The Nanny episode. ;)\\\\n\"',\n",
              " 'b\"I\\'m off for lunch at my grandma\\'s house across the street. ;)\\\\n\"',\n",
              " 'b\"I don\\'t want to do my math homework.. -.-\\\\n\"',\n",
              " 'b\"I did not meet an old friend. She didn\\'t answer my calls..\\\\n\"',\n",
              " \"b'@iNELLEqohardd idky tho lmao,  and @kiahhohhx ohh cornbread !\\\\n'\",\n",
              " \"b'@DM_79 thanks! im wearin those to the party @WestSideLadyy yep! and thanks girl! =]\\\\n'\",\n",
              " \"b'#SupportSunday @liftedresearch @luxirieLRG @LRGsports and @LRGskate. visit their sites www.l-r-g.com and www.luxirie.com, nowww!\\\\n'\",\n",
              " \"b'@Neika_Pagasa ohh alrightayy lol but try the strawberry lemon twist. so good lol\\\\n'\",\n",
              " \"b'@kiki_babi but theirs no girl clothes there so if you like sneakers they got some hot ones\\\\n'\",\n",
              " \"b'@heyshelby21 idk how to use email on my phone haha my phone sucks :[\\\\n'\",\n",
              " \"b'Goodnight. Stilll gotta sleep on the couch so goodnight\\\\n'\",\n",
              " \"b'lol Lady Gaga hit her head with that spinny thingy xD\\\\n'\",\n",
              " \"b'@seankingston FOLLOW ME PLEASE! I AM A HUGE FAN! #kingstonfollows 77\\\\n'\",\n",
              " \"b'#whentwitterwasdown i couldnt tweet\\\\n'\",\n",
              " \"b'i think i got the timing right.......... spammage at 5am hawaii time?\\\\n'\",\n",
              " 'b\"I\\'ve always loved siberian huskies, and when i found out you own one, im more motivated to get one!!! :) #happybdayYOONHO\\\\n\"',\n",
              " \"b'@XiarrDBSK omgg- around that time, i think i was JUST introduced to 2pm, =/\\\\n'\",\n",
              " 'b\"In this situation, i\\'ve never thought about what will happen in the future,\\\\n\"',\n",
              " \"b'Busssin out my ukulele that i havent touched since 6th grade!\\\\n'\"]"
            ]
          },
          "metadata": {
            "tags": []
          },
          "execution_count": 51
        }
      ]
    },
    {
      "cell_type": "code",
      "metadata": {
        "id": "8jhNVF2sy0sb"
      },
      "source": [
        "class_idx = np.argmax(y_train[0]) #not needed in this case as only two classes\n",
        "class_output = model.output[:, class_idx]\n",
        "last_conv_layer = model.get_layer(\"conv1d_12\")"
      ],
      "execution_count": null,
      "outputs": []
    },
    {
      "cell_type": "code",
      "metadata": {
        "id": "5hIQDV_Vy0oi",
        "colab": {
          "base_uri": "https://localhost:8080/",
          "height": 337
        },
        "outputId": "8c856ff9-4e27-4011-a19d-32a17e7f238e"
      },
      "source": [
        "grads = K.gradients(class_output, last_conv_layer.output)[0]\n",
        "pooled_grads = K.mean(grads)\n",
        "iterate = K.function([model.input], [pooled_grads, last_conv_layer.output[0]])\n",
        "pooled_grads_value, conv_layer_output_value = iterate([\"Xtst\"])"
      ],
      "execution_count": null,
      "outputs": [
        {
          "output_type": "error",
          "ename": "TypeError",
          "evalue": "ignored",
          "traceback": [
            "\u001b[0;31m---------------------------------------------------------------------------\u001b[0m",
            "\u001b[0;31mTypeError\u001b[0m                                 Traceback (most recent call last)",
            "\u001b[0;32m<ipython-input-81-f334a90a7dbc>\u001b[0m in \u001b[0;36m<module>\u001b[0;34m()\u001b[0m\n\u001b[1;32m      2\u001b[0m \u001b[0mpooled_grads\u001b[0m \u001b[0;34m=\u001b[0m \u001b[0mK\u001b[0m\u001b[0;34m.\u001b[0m\u001b[0mmean\u001b[0m\u001b[0;34m(\u001b[0m\u001b[0mgrads\u001b[0m\u001b[0;34m)\u001b[0m\u001b[0;34m\u001b[0m\u001b[0;34m\u001b[0m\u001b[0m\n\u001b[1;32m      3\u001b[0m \u001b[0miterate\u001b[0m \u001b[0;34m=\u001b[0m \u001b[0mK\u001b[0m\u001b[0;34m.\u001b[0m\u001b[0mfunction\u001b[0m\u001b[0;34m(\u001b[0m\u001b[0;34m[\u001b[0m\u001b[0mmodel\u001b[0m\u001b[0;34m.\u001b[0m\u001b[0minput\u001b[0m\u001b[0;34m]\u001b[0m\u001b[0;34m,\u001b[0m \u001b[0;34m[\u001b[0m\u001b[0mpooled_grads\u001b[0m\u001b[0;34m,\u001b[0m \u001b[0mlast_conv_layer\u001b[0m\u001b[0;34m.\u001b[0m\u001b[0moutput\u001b[0m\u001b[0;34m[\u001b[0m\u001b[0;36m0\u001b[0m\u001b[0;34m]\u001b[0m\u001b[0;34m]\u001b[0m\u001b[0;34m)\u001b[0m\u001b[0;34m\u001b[0m\u001b[0;34m\u001b[0m\u001b[0m\n\u001b[0;32m----> 4\u001b[0;31m \u001b[0mpooled_grads_value\u001b[0m\u001b[0;34m,\u001b[0m \u001b[0mconv_layer_output_value\u001b[0m \u001b[0;34m=\u001b[0m \u001b[0miterate\u001b[0m\u001b[0;34m(\u001b[0m\u001b[0;34m[\u001b[0m\u001b[0;34m\"Xtst\"\u001b[0m\u001b[0;34m]\u001b[0m\u001b[0;34m)\u001b[0m\u001b[0;34m\u001b[0m\u001b[0;34m\u001b[0m\u001b[0m\n\u001b[0m",
            "\u001b[0;32m/usr/local/lib/python3.6/dist-packages/tensorflow/python/keras/backend.py\u001b[0m in \u001b[0;36m__call__\u001b[0;34m(self, inputs)\u001b[0m\n\u001b[1;32m   3784\u001b[0m               'You must feed a value for placeholder %s' % (tensor,))\n\u001b[1;32m   3785\u001b[0m       \u001b[0;32mif\u001b[0m \u001b[0;32mnot\u001b[0m \u001b[0misinstance\u001b[0m\u001b[0;34m(\u001b[0m\u001b[0mvalue\u001b[0m\u001b[0;34m,\u001b[0m \u001b[0mops\u001b[0m\u001b[0;34m.\u001b[0m\u001b[0mTensor\u001b[0m\u001b[0;34m)\u001b[0m\u001b[0;34m:\u001b[0m\u001b[0;34m\u001b[0m\u001b[0;34m\u001b[0m\u001b[0m\n\u001b[0;32m-> 3786\u001b[0;31m         \u001b[0mvalue\u001b[0m \u001b[0;34m=\u001b[0m \u001b[0mops\u001b[0m\u001b[0;34m.\u001b[0m\u001b[0mconvert_to_tensor_v2\u001b[0m\u001b[0;34m(\u001b[0m\u001b[0mvalue\u001b[0m\u001b[0;34m,\u001b[0m \u001b[0mdtype\u001b[0m\u001b[0;34m=\u001b[0m\u001b[0mtensor\u001b[0m\u001b[0;34m.\u001b[0m\u001b[0mdtype\u001b[0m\u001b[0;34m)\u001b[0m\u001b[0;34m\u001b[0m\u001b[0;34m\u001b[0m\u001b[0m\n\u001b[0m\u001b[1;32m   3787\u001b[0m       \u001b[0;32mif\u001b[0m \u001b[0mvalue\u001b[0m\u001b[0;34m.\u001b[0m\u001b[0mdtype\u001b[0m \u001b[0;34m!=\u001b[0m \u001b[0mtensor\u001b[0m\u001b[0;34m.\u001b[0m\u001b[0mdtype\u001b[0m\u001b[0;34m:\u001b[0m\u001b[0;34m\u001b[0m\u001b[0;34m\u001b[0m\u001b[0m\n\u001b[1;32m   3788\u001b[0m         \u001b[0;31m# Temporary workaround due to `convert_to_tensor` not casting floats.\u001b[0m\u001b[0;34m\u001b[0m\u001b[0;34m\u001b[0m\u001b[0;34m\u001b[0m\u001b[0m\n",
            "\u001b[0;32m/usr/local/lib/python3.6/dist-packages/tensorflow/python/framework/ops.py\u001b[0m in \u001b[0;36mconvert_to_tensor_v2\u001b[0;34m(value, dtype, dtype_hint, name)\u001b[0m\n\u001b[1;32m   1281\u001b[0m       \u001b[0mname\u001b[0m\u001b[0;34m=\u001b[0m\u001b[0mname\u001b[0m\u001b[0;34m,\u001b[0m\u001b[0;34m\u001b[0m\u001b[0;34m\u001b[0m\u001b[0m\n\u001b[1;32m   1282\u001b[0m       \u001b[0mpreferred_dtype\u001b[0m\u001b[0;34m=\u001b[0m\u001b[0mdtype_hint\u001b[0m\u001b[0;34m,\u001b[0m\u001b[0;34m\u001b[0m\u001b[0;34m\u001b[0m\u001b[0m\n\u001b[0;32m-> 1283\u001b[0;31m       as_ref=False)\n\u001b[0m\u001b[1;32m   1284\u001b[0m \u001b[0;34m\u001b[0m\u001b[0m\n\u001b[1;32m   1285\u001b[0m \u001b[0;34m\u001b[0m\u001b[0m\n",
            "\u001b[0;32m/usr/local/lib/python3.6/dist-packages/tensorflow/python/framework/ops.py\u001b[0m in \u001b[0;36mconvert_to_tensor\u001b[0;34m(value, dtype, name, as_ref, preferred_dtype, dtype_hint, ctx, accepted_result_types)\u001b[0m\n\u001b[1;32m   1339\u001b[0m \u001b[0;34m\u001b[0m\u001b[0m\n\u001b[1;32m   1340\u001b[0m     \u001b[0;32mif\u001b[0m \u001b[0mret\u001b[0m \u001b[0;32mis\u001b[0m \u001b[0;32mNone\u001b[0m\u001b[0;34m:\u001b[0m\u001b[0;34m\u001b[0m\u001b[0;34m\u001b[0m\u001b[0m\n\u001b[0;32m-> 1341\u001b[0;31m       \u001b[0mret\u001b[0m \u001b[0;34m=\u001b[0m \u001b[0mconversion_func\u001b[0m\u001b[0;34m(\u001b[0m\u001b[0mvalue\u001b[0m\u001b[0;34m,\u001b[0m \u001b[0mdtype\u001b[0m\u001b[0;34m=\u001b[0m\u001b[0mdtype\u001b[0m\u001b[0;34m,\u001b[0m \u001b[0mname\u001b[0m\u001b[0;34m=\u001b[0m\u001b[0mname\u001b[0m\u001b[0;34m,\u001b[0m \u001b[0mas_ref\u001b[0m\u001b[0;34m=\u001b[0m\u001b[0mas_ref\u001b[0m\u001b[0;34m)\u001b[0m\u001b[0;34m\u001b[0m\u001b[0;34m\u001b[0m\u001b[0m\n\u001b[0m\u001b[1;32m   1342\u001b[0m \u001b[0;34m\u001b[0m\u001b[0m\n\u001b[1;32m   1343\u001b[0m     \u001b[0;32mif\u001b[0m \u001b[0mret\u001b[0m \u001b[0;32mis\u001b[0m \u001b[0mNotImplemented\u001b[0m\u001b[0;34m:\u001b[0m\u001b[0;34m\u001b[0m\u001b[0;34m\u001b[0m\u001b[0m\n",
            "\u001b[0;32m/usr/local/lib/python3.6/dist-packages/tensorflow/python/framework/constant_op.py\u001b[0m in \u001b[0;36m_constant_tensor_conversion_function\u001b[0;34m(v, dtype, name, as_ref)\u001b[0m\n\u001b[1;32m    319\u001b[0m                                          as_ref=False):\n\u001b[1;32m    320\u001b[0m   \u001b[0m_\u001b[0m \u001b[0;34m=\u001b[0m \u001b[0mas_ref\u001b[0m\u001b[0;34m\u001b[0m\u001b[0;34m\u001b[0m\u001b[0m\n\u001b[0;32m--> 321\u001b[0;31m   \u001b[0;32mreturn\u001b[0m \u001b[0mconstant\u001b[0m\u001b[0;34m(\u001b[0m\u001b[0mv\u001b[0m\u001b[0;34m,\u001b[0m \u001b[0mdtype\u001b[0m\u001b[0;34m=\u001b[0m\u001b[0mdtype\u001b[0m\u001b[0;34m,\u001b[0m \u001b[0mname\u001b[0m\u001b[0;34m=\u001b[0m\u001b[0mname\u001b[0m\u001b[0;34m)\u001b[0m\u001b[0;34m\u001b[0m\u001b[0;34m\u001b[0m\u001b[0m\n\u001b[0m\u001b[1;32m    322\u001b[0m \u001b[0;34m\u001b[0m\u001b[0m\n\u001b[1;32m    323\u001b[0m \u001b[0;34m\u001b[0m\u001b[0m\n",
            "\u001b[0;32m/usr/local/lib/python3.6/dist-packages/tensorflow/python/framework/constant_op.py\u001b[0m in \u001b[0;36mconstant\u001b[0;34m(value, dtype, shape, name)\u001b[0m\n\u001b[1;32m    260\u001b[0m   \"\"\"\n\u001b[1;32m    261\u001b[0m   return _constant_impl(value, dtype, shape, name, verify_shape=False,\n\u001b[0;32m--> 262\u001b[0;31m                         allow_broadcast=True)\n\u001b[0m\u001b[1;32m    263\u001b[0m \u001b[0;34m\u001b[0m\u001b[0m\n\u001b[1;32m    264\u001b[0m \u001b[0;34m\u001b[0m\u001b[0m\n",
            "\u001b[0;32m/usr/local/lib/python3.6/dist-packages/tensorflow/python/framework/constant_op.py\u001b[0m in \u001b[0;36m_constant_impl\u001b[0;34m(value, dtype, shape, name, verify_shape, allow_broadcast)\u001b[0m\n\u001b[1;32m    268\u001b[0m   \u001b[0mctx\u001b[0m \u001b[0;34m=\u001b[0m \u001b[0mcontext\u001b[0m\u001b[0;34m.\u001b[0m\u001b[0mcontext\u001b[0m\u001b[0;34m(\u001b[0m\u001b[0;34m)\u001b[0m\u001b[0;34m\u001b[0m\u001b[0;34m\u001b[0m\u001b[0m\n\u001b[1;32m    269\u001b[0m   \u001b[0;32mif\u001b[0m \u001b[0mctx\u001b[0m\u001b[0;34m.\u001b[0m\u001b[0mexecuting_eagerly\u001b[0m\u001b[0;34m(\u001b[0m\u001b[0;34m)\u001b[0m\u001b[0;34m:\u001b[0m\u001b[0;34m\u001b[0m\u001b[0;34m\u001b[0m\u001b[0m\n\u001b[0;32m--> 270\u001b[0;31m     \u001b[0mt\u001b[0m \u001b[0;34m=\u001b[0m \u001b[0mconvert_to_eager_tensor\u001b[0m\u001b[0;34m(\u001b[0m\u001b[0mvalue\u001b[0m\u001b[0;34m,\u001b[0m \u001b[0mctx\u001b[0m\u001b[0;34m,\u001b[0m \u001b[0mdtype\u001b[0m\u001b[0;34m)\u001b[0m\u001b[0;34m\u001b[0m\u001b[0;34m\u001b[0m\u001b[0m\n\u001b[0m\u001b[1;32m    271\u001b[0m     \u001b[0;32mif\u001b[0m \u001b[0mshape\u001b[0m \u001b[0;32mis\u001b[0m \u001b[0;32mNone\u001b[0m\u001b[0;34m:\u001b[0m\u001b[0;34m\u001b[0m\u001b[0;34m\u001b[0m\u001b[0m\n\u001b[1;32m    272\u001b[0m       \u001b[0;32mreturn\u001b[0m \u001b[0mt\u001b[0m\u001b[0;34m\u001b[0m\u001b[0;34m\u001b[0m\u001b[0m\n",
            "\u001b[0;32m/usr/local/lib/python3.6/dist-packages/tensorflow/python/framework/constant_op.py\u001b[0m in \u001b[0;36mconvert_to_eager_tensor\u001b[0;34m(value, ctx, dtype)\u001b[0m\n\u001b[1;32m     94\u001b[0m       \u001b[0mdtype\u001b[0m \u001b[0;34m=\u001b[0m \u001b[0mdtypes\u001b[0m\u001b[0;34m.\u001b[0m\u001b[0mas_dtype\u001b[0m\u001b[0;34m(\u001b[0m\u001b[0mdtype\u001b[0m\u001b[0;34m)\u001b[0m\u001b[0;34m.\u001b[0m\u001b[0mas_datatype_enum\u001b[0m\u001b[0;34m\u001b[0m\u001b[0;34m\u001b[0m\u001b[0m\n\u001b[1;32m     95\u001b[0m   \u001b[0mctx\u001b[0m\u001b[0;34m.\u001b[0m\u001b[0mensure_initialized\u001b[0m\u001b[0;34m(\u001b[0m\u001b[0;34m)\u001b[0m\u001b[0;34m\u001b[0m\u001b[0;34m\u001b[0m\u001b[0m\n\u001b[0;32m---> 96\u001b[0;31m   \u001b[0;32mreturn\u001b[0m \u001b[0mops\u001b[0m\u001b[0;34m.\u001b[0m\u001b[0mEagerTensor\u001b[0m\u001b[0;34m(\u001b[0m\u001b[0mvalue\u001b[0m\u001b[0;34m,\u001b[0m \u001b[0mctx\u001b[0m\u001b[0;34m.\u001b[0m\u001b[0mdevice_name\u001b[0m\u001b[0;34m,\u001b[0m \u001b[0mdtype\u001b[0m\u001b[0;34m)\u001b[0m\u001b[0;34m\u001b[0m\u001b[0;34m\u001b[0m\u001b[0m\n\u001b[0m\u001b[1;32m     97\u001b[0m \u001b[0;34m\u001b[0m\u001b[0m\n\u001b[1;32m     98\u001b[0m \u001b[0;34m\u001b[0m\u001b[0m\n",
            "\u001b[0;31mTypeError\u001b[0m: Cannot convert 'Xtst' to EagerTensor of dtype int32"
          ]
        }
      ]
    },
    {
      "cell_type": "code",
      "metadata": {
        "id": "veaiGYHvc9St",
        "colab": {
          "base_uri": "https://localhost:8080/",
          "height": 533
        },
        "outputId": "94d18d8b-a622-4e20-ea50-f1fab2455a94"
      },
      "source": [
        "tf.keras.utils.plot_model(\n",
        "    classifier,\n",
        "    to_file=\"classifier1.png\",\n",
        "    show_shapes=True,\n",
        "    show_layer_names=True,\n",
        "    rankdir=\"TB\",\n",
        "    expand_nested=False,\n",
        "    dpi=96,\n",
        ")"
      ],
      "execution_count": null,
      "outputs": [
        {
          "output_type": "execute_result",
          "data": {
            "image/png": "[encoded data removed]",
            "text/plain": [
              "<IPython.core.display.Image object>"
            ]
          },
          "metadata": {
            "tags": []
          },
          "execution_count": 96
        }
      ]
    },
    {
      "cell_type": "code",
      "metadata": {
        "id": "ckXswZlBeqmS",
        "colab": {
          "base_uri": "https://localhost:8080/",
          "height": 337
        },
        "outputId": "2fda9125-9d41-4b8e-bb16-e42283bd8f20"
      },
      "source": [
        "import matplotlib.pyplot as plt\n",
        "top_layer = classifier.layers[1]\n",
        "plt.imshow(top_layer.get_weights()[0][:, :, 0].squeeze(), cmap='gray')"
      ],
      "execution_count": null,
      "outputs": [
        {
          "output_type": "error",
          "ename": "ValueError",
          "evalue": "ignored",
          "traceback": [
            "\u001b[0;31m---------------------------------------------------------------------------\u001b[0m",
            "\u001b[0;31mValueError\u001b[0m                                Traceback (most recent call last)",
            "\u001b[0;32m<ipython-input-107-c7f159398d4e>\u001b[0m in \u001b[0;36m<module>\u001b[0;34m()\u001b[0m\n\u001b[1;32m      1\u001b[0m \u001b[0;32mimport\u001b[0m \u001b[0mmatplotlib\u001b[0m\u001b[0;34m.\u001b[0m\u001b[0mpyplot\u001b[0m \u001b[0;32mas\u001b[0m \u001b[0mplt\u001b[0m\u001b[0;34m\u001b[0m\u001b[0;34m\u001b[0m\u001b[0m\n\u001b[1;32m      2\u001b[0m \u001b[0mtop_layer\u001b[0m \u001b[0;34m=\u001b[0m \u001b[0mclassifier\u001b[0m\u001b[0;34m.\u001b[0m\u001b[0mlayers\u001b[0m\u001b[0;34m[\u001b[0m\u001b[0;36m0\u001b[0m\u001b[0;34m]\u001b[0m\u001b[0;34m\u001b[0m\u001b[0;34m\u001b[0m\u001b[0m\n\u001b[0;32m----> 3\u001b[0;31m \u001b[0mplt\u001b[0m\u001b[0;34m.\u001b[0m\u001b[0mshow\u001b[0m\u001b[0;34m(\u001b[0m\u001b[0mtop_layer\u001b[0m\u001b[0;34m.\u001b[0m\u001b[0mget_weights\u001b[0m\u001b[0;34m(\u001b[0m\u001b[0;34m)\u001b[0m\u001b[0;34m[\u001b[0m\u001b[0;36m0\u001b[0m\u001b[0;34m]\u001b[0m\u001b[0;34m[\u001b[0m\u001b[0;34m:\u001b[0m\u001b[0;34m,\u001b[0m \u001b[0;34m:\u001b[0m\u001b[0;34m,\u001b[0m \u001b[0;36m0\u001b[0m\u001b[0;34m]\u001b[0m\u001b[0;34m.\u001b[0m\u001b[0msqueeze\u001b[0m\u001b[0;34m(\u001b[0m\u001b[0;34m)\u001b[0m\u001b[0;34m)\u001b[0m\u001b[0;34m\u001b[0m\u001b[0;34m\u001b[0m\u001b[0m\n\u001b[0m",
            "\u001b[0;32m/usr/local/lib/python3.6/dist-packages/matplotlib/pyplot.py\u001b[0m in \u001b[0;36mshow\u001b[0;34m(*args, **kw)\u001b[0m\n\u001b[1;32m    270\u001b[0m     \"\"\"\n\u001b[1;32m    271\u001b[0m     \u001b[0;32mglobal\u001b[0m \u001b[0m_show\u001b[0m\u001b[0;34m\u001b[0m\u001b[0;34m\u001b[0m\u001b[0m\n\u001b[0;32m--> 272\u001b[0;31m     \u001b[0;32mreturn\u001b[0m \u001b[0m_show\u001b[0m\u001b[0;34m(\u001b[0m\u001b[0;34m*\u001b[0m\u001b[0margs\u001b[0m\u001b[0;34m,\u001b[0m \u001b[0;34m**\u001b[0m\u001b[0mkw\u001b[0m\u001b[0;34m)\u001b[0m\u001b[0;34m\u001b[0m\u001b[0;34m\u001b[0m\u001b[0m\n\u001b[0m\u001b[1;32m    273\u001b[0m \u001b[0;34m\u001b[0m\u001b[0m\n\u001b[1;32m    274\u001b[0m \u001b[0;34m\u001b[0m\u001b[0m\n",
            "\u001b[0;32m/usr/local/lib/python3.6/dist-packages/ipykernel/pylab/backend_inline.py\u001b[0m in \u001b[0;36mshow\u001b[0;34m(close, block)\u001b[0m\n\u001b[1;32m     43\u001b[0m         \u001b[0;31m# only call close('all') if any to close\u001b[0m\u001b[0;34m\u001b[0m\u001b[0;34m\u001b[0m\u001b[0;34m\u001b[0m\u001b[0m\n\u001b[1;32m     44\u001b[0m         \u001b[0;31m# close triggers gc.collect, which can be slow\u001b[0m\u001b[0;34m\u001b[0m\u001b[0;34m\u001b[0m\u001b[0;34m\u001b[0m\u001b[0m\n\u001b[0;32m---> 45\u001b[0;31m         \u001b[0;32mif\u001b[0m \u001b[0mclose\u001b[0m \u001b[0;32mand\u001b[0m \u001b[0mGcf\u001b[0m\u001b[0;34m.\u001b[0m\u001b[0mget_all_fig_managers\u001b[0m\u001b[0;34m(\u001b[0m\u001b[0;34m)\u001b[0m\u001b[0;34m:\u001b[0m\u001b[0;34m\u001b[0m\u001b[0;34m\u001b[0m\u001b[0m\n\u001b[0m\u001b[1;32m     46\u001b[0m             \u001b[0mmatplotlib\u001b[0m\u001b[0;34m.\u001b[0m\u001b[0mpyplot\u001b[0m\u001b[0;34m.\u001b[0m\u001b[0mclose\u001b[0m\u001b[0;34m(\u001b[0m\u001b[0;34m'all'\u001b[0m\u001b[0;34m)\u001b[0m\u001b[0;34m\u001b[0m\u001b[0;34m\u001b[0m\u001b[0m\n\u001b[1;32m     47\u001b[0m \u001b[0;34m\u001b[0m\u001b[0m\n",
            "\u001b[0;31mValueError\u001b[0m: The truth value of an array with more than one element is ambiguous. Use a.any() or a.all()"
          ]
        }
      ]
    },
    {
      "cell_type": "code",
      "metadata": {
        "id": "pB43-9IRjSHm",
        "colab": {
          "base_uri": "https://localhost:8080/",
          "height": 698
        },
        "outputId": "87a3d582-49de-4ec7-efb2-6dd3cdfee7a0"
      },
      "source": [
        "from matplotlib import pyplot as plt\n",
        "%matplotlib inline\n",
        "plt.rcParams['figure.figsize'] = (18, 6)\n",
        "\n",
        "plt.imshow(X_train[0])"
      ],
      "execution_count": null,
      "outputs": [
        {
          "output_type": "error",
          "ename": "TypeError",
          "evalue": "ignored",
          "traceback": [
            "\u001b[0;31m---------------------------------------------------------------------------\u001b[0m",
            "\u001b[0;31mTypeError\u001b[0m                                 Traceback (most recent call last)",
            "\u001b[0;32m<ipython-input-111-07c9423b3e8a>\u001b[0m in \u001b[0;36m<module>\u001b[0;34m()\u001b[0m\n\u001b[1;32m      3\u001b[0m \u001b[0mplt\u001b[0m\u001b[0;34m.\u001b[0m\u001b[0mrcParams\u001b[0m\u001b[0;34m[\u001b[0m\u001b[0;34m'figure.figsize'\u001b[0m\u001b[0;34m]\u001b[0m \u001b[0;34m=\u001b[0m \u001b[0;34m(\u001b[0m\u001b[0;36m18\u001b[0m\u001b[0;34m,\u001b[0m \u001b[0;36m6\u001b[0m\u001b[0;34m)\u001b[0m\u001b[0;34m\u001b[0m\u001b[0;34m\u001b[0m\u001b[0m\n\u001b[1;32m      4\u001b[0m \u001b[0;34m\u001b[0m\u001b[0m\n\u001b[0;32m----> 5\u001b[0;31m \u001b[0mplt\u001b[0m\u001b[0;34m.\u001b[0m\u001b[0mimshow\u001b[0m\u001b[0;34m(\u001b[0m\u001b[0mX_train\u001b[0m\u001b[0;34m[\u001b[0m\u001b[0;36m0\u001b[0m\u001b[0;34m]\u001b[0m\u001b[0;34m)\u001b[0m\u001b[0;34m\u001b[0m\u001b[0;34m\u001b[0m\u001b[0m\n\u001b[0m",
            "\u001b[0;32m/usr/local/lib/python3.6/dist-packages/matplotlib/pyplot.py\u001b[0m in \u001b[0;36mimshow\u001b[0;34m(X, cmap, norm, aspect, interpolation, alpha, vmin, vmax, origin, extent, shape, filternorm, filterrad, imlim, resample, url, data, **kwargs)\u001b[0m\n\u001b[1;32m   2649\u001b[0m         \u001b[0mfilternorm\u001b[0m\u001b[0;34m=\u001b[0m\u001b[0mfilternorm\u001b[0m\u001b[0;34m,\u001b[0m \u001b[0mfilterrad\u001b[0m\u001b[0;34m=\u001b[0m\u001b[0mfilterrad\u001b[0m\u001b[0;34m,\u001b[0m \u001b[0mimlim\u001b[0m\u001b[0;34m=\u001b[0m\u001b[0mimlim\u001b[0m\u001b[0;34m,\u001b[0m\u001b[0;34m\u001b[0m\u001b[0;34m\u001b[0m\u001b[0m\n\u001b[1;32m   2650\u001b[0m         resample=resample, url=url, **({\"data\": data} if data is not\n\u001b[0;32m-> 2651\u001b[0;31m         None else {}), **kwargs)\n\u001b[0m\u001b[1;32m   2652\u001b[0m     \u001b[0msci\u001b[0m\u001b[0;34m(\u001b[0m\u001b[0m__ret\u001b[0m\u001b[0;34m)\u001b[0m\u001b[0;34m\u001b[0m\u001b[0;34m\u001b[0m\u001b[0m\n\u001b[1;32m   2653\u001b[0m     \u001b[0;32mreturn\u001b[0m \u001b[0m__ret\u001b[0m\u001b[0;34m\u001b[0m\u001b[0;34m\u001b[0m\u001b[0m\n",
            "\u001b[0;32m/usr/local/lib/python3.6/dist-packages/matplotlib/__init__.py\u001b[0m in \u001b[0;36minner\u001b[0;34m(ax, data, *args, **kwargs)\u001b[0m\n\u001b[1;32m   1563\u001b[0m     \u001b[0;32mdef\u001b[0m \u001b[0minner\u001b[0m\u001b[0;34m(\u001b[0m\u001b[0max\u001b[0m\u001b[0;34m,\u001b[0m \u001b[0;34m*\u001b[0m\u001b[0margs\u001b[0m\u001b[0;34m,\u001b[0m \u001b[0mdata\u001b[0m\u001b[0;34m=\u001b[0m\u001b[0;32mNone\u001b[0m\u001b[0;34m,\u001b[0m \u001b[0;34m**\u001b[0m\u001b[0mkwargs\u001b[0m\u001b[0;34m)\u001b[0m\u001b[0;34m:\u001b[0m\u001b[0;34m\u001b[0m\u001b[0;34m\u001b[0m\u001b[0m\n\u001b[1;32m   1564\u001b[0m         \u001b[0;32mif\u001b[0m \u001b[0mdata\u001b[0m \u001b[0;32mis\u001b[0m \u001b[0;32mNone\u001b[0m\u001b[0;34m:\u001b[0m\u001b[0;34m\u001b[0m\u001b[0;34m\u001b[0m\u001b[0m\n\u001b[0;32m-> 1565\u001b[0;31m             \u001b[0;32mreturn\u001b[0m \u001b[0mfunc\u001b[0m\u001b[0;34m(\u001b[0m\u001b[0max\u001b[0m\u001b[0;34m,\u001b[0m \u001b[0;34m*\u001b[0m\u001b[0mmap\u001b[0m\u001b[0;34m(\u001b[0m\u001b[0msanitize_sequence\u001b[0m\u001b[0;34m,\u001b[0m \u001b[0margs\u001b[0m\u001b[0;34m)\u001b[0m\u001b[0;34m,\u001b[0m \u001b[0;34m**\u001b[0m\u001b[0mkwargs\u001b[0m\u001b[0;34m)\u001b[0m\u001b[0;34m\u001b[0m\u001b[0;34m\u001b[0m\u001b[0m\n\u001b[0m\u001b[1;32m   1566\u001b[0m \u001b[0;34m\u001b[0m\u001b[0m\n\u001b[1;32m   1567\u001b[0m         \u001b[0mbound\u001b[0m \u001b[0;34m=\u001b[0m \u001b[0mnew_sig\u001b[0m\u001b[0;34m.\u001b[0m\u001b[0mbind\u001b[0m\u001b[0;34m(\u001b[0m\u001b[0max\u001b[0m\u001b[0;34m,\u001b[0m \u001b[0;34m*\u001b[0m\u001b[0margs\u001b[0m\u001b[0;34m,\u001b[0m \u001b[0;34m**\u001b[0m\u001b[0mkwargs\u001b[0m\u001b[0;34m)\u001b[0m\u001b[0;34m\u001b[0m\u001b[0;34m\u001b[0m\u001b[0m\n",
            "\u001b[0;32m/usr/local/lib/python3.6/dist-packages/matplotlib/cbook/deprecation.py\u001b[0m in \u001b[0;36mwrapper\u001b[0;34m(*args, **kwargs)\u001b[0m\n\u001b[1;32m    356\u001b[0m                 \u001b[0;34mf\"%(removal)s.  If any parameter follows {name!r}, they \"\u001b[0m\u001b[0;34m\u001b[0m\u001b[0;34m\u001b[0m\u001b[0m\n\u001b[1;32m    357\u001b[0m                 f\"should be pass as keyword, not positionally.\")\n\u001b[0;32m--> 358\u001b[0;31m         \u001b[0;32mreturn\u001b[0m \u001b[0mfunc\u001b[0m\u001b[0;34m(\u001b[0m\u001b[0;34m*\u001b[0m\u001b[0margs\u001b[0m\u001b[0;34m,\u001b[0m \u001b[0;34m**\u001b[0m\u001b[0mkwargs\u001b[0m\u001b[0;34m)\u001b[0m\u001b[0;34m\u001b[0m\u001b[0;34m\u001b[0m\u001b[0m\n\u001b[0m\u001b[1;32m    359\u001b[0m \u001b[0;34m\u001b[0m\u001b[0m\n\u001b[1;32m    360\u001b[0m     \u001b[0;32mreturn\u001b[0m \u001b[0mwrapper\u001b[0m\u001b[0;34m\u001b[0m\u001b[0;34m\u001b[0m\u001b[0m\n",
            "\u001b[0;32m/usr/local/lib/python3.6/dist-packages/matplotlib/cbook/deprecation.py\u001b[0m in \u001b[0;36mwrapper\u001b[0;34m(*args, **kwargs)\u001b[0m\n\u001b[1;32m    356\u001b[0m                 \u001b[0;34mf\"%(removal)s.  If any parameter follows {name!r}, they \"\u001b[0m\u001b[0;34m\u001b[0m\u001b[0;34m\u001b[0m\u001b[0m\n\u001b[1;32m    357\u001b[0m                 f\"should be pass as keyword, not positionally.\")\n\u001b[0;32m--> 358\u001b[0;31m         \u001b[0;32mreturn\u001b[0m \u001b[0mfunc\u001b[0m\u001b[0;34m(\u001b[0m\u001b[0;34m*\u001b[0m\u001b[0margs\u001b[0m\u001b[0;34m,\u001b[0m \u001b[0;34m**\u001b[0m\u001b[0mkwargs\u001b[0m\u001b[0;34m)\u001b[0m\u001b[0;34m\u001b[0m\u001b[0;34m\u001b[0m\u001b[0m\n\u001b[0m\u001b[1;32m    359\u001b[0m \u001b[0;34m\u001b[0m\u001b[0m\n\u001b[1;32m    360\u001b[0m     \u001b[0;32mreturn\u001b[0m \u001b[0mwrapper\u001b[0m\u001b[0;34m\u001b[0m\u001b[0;34m\u001b[0m\u001b[0m\n",
            "\u001b[0;32m/usr/local/lib/python3.6/dist-packages/matplotlib/axes/_axes.py\u001b[0m in \u001b[0;36mimshow\u001b[0;34m(self, X, cmap, norm, aspect, interpolation, alpha, vmin, vmax, origin, extent, shape, filternorm, filterrad, imlim, resample, url, **kwargs)\u001b[0m\n\u001b[1;32m   5613\u001b[0m                               resample=resample, **kwargs)\n\u001b[1;32m   5614\u001b[0m \u001b[0;34m\u001b[0m\u001b[0m\n\u001b[0;32m-> 5615\u001b[0;31m         \u001b[0mim\u001b[0m\u001b[0;34m.\u001b[0m\u001b[0mset_data\u001b[0m\u001b[0;34m(\u001b[0m\u001b[0mX\u001b[0m\u001b[0;34m)\u001b[0m\u001b[0;34m\u001b[0m\u001b[0;34m\u001b[0m\u001b[0m\n\u001b[0m\u001b[1;32m   5616\u001b[0m         \u001b[0mim\u001b[0m\u001b[0;34m.\u001b[0m\u001b[0mset_alpha\u001b[0m\u001b[0;34m(\u001b[0m\u001b[0malpha\u001b[0m\u001b[0;34m)\u001b[0m\u001b[0;34m\u001b[0m\u001b[0;34m\u001b[0m\u001b[0m\n\u001b[1;32m   5617\u001b[0m         \u001b[0;32mif\u001b[0m \u001b[0mim\u001b[0m\u001b[0;34m.\u001b[0m\u001b[0mget_clip_path\u001b[0m\u001b[0;34m(\u001b[0m\u001b[0;34m)\u001b[0m \u001b[0;32mis\u001b[0m \u001b[0;32mNone\u001b[0m\u001b[0;34m:\u001b[0m\u001b[0;34m\u001b[0m\u001b[0;34m\u001b[0m\u001b[0m\n",
            "\u001b[0;32m/usr/local/lib/python3.6/dist-packages/matplotlib/image.py\u001b[0m in \u001b[0;36mset_data\u001b[0;34m(self, A)\u001b[0m\n\u001b[1;32m    692\u001b[0m                 not np.can_cast(self._A.dtype, float, \"same_kind\")):\n\u001b[1;32m    693\u001b[0m             raise TypeError(\"Image data of dtype {} cannot be converted to \"\n\u001b[0;32m--> 694\u001b[0;31m                             \"float\".format(self._A.dtype))\n\u001b[0m\u001b[1;32m    695\u001b[0m \u001b[0;34m\u001b[0m\u001b[0m\n\u001b[1;32m    696\u001b[0m         if not (self._A.ndim == 2\n",
            "\u001b[0;31mTypeError\u001b[0m: Image data of dtype <U104 cannot be converted to float"
          ]
        },
        {
          "output_type": "display_data",
          "data": {
            "image/png": "[encoded data removed]",
            "text/plain": [
              "<Figure size 1296x432 with 1 Axes>"
            ]
          },
          "metadata": {
            "tags": [],
            "needs_background": "light"
          }
        }
      ]
    },
    {
      "cell_type": "code",
      "metadata": {
        "id": "k70PtpRuy0lE",
        "colab": {
          "base_uri": "https://localhost:8080/",
          "height": 441
        },
        "outputId": "7d5f8993-7e36-4f85-d1a9-a7a6b49fd991"
      },
      "source": [
        "import tensorflow as tf \n",
        "v = tf.Variable([[1, 2], [3, 4]])   \n",
        "tf.keras.constraints.UnitNorm(axis=1)(tf.cast(pooled_grads, tf.float32))"
      ],
      "execution_count": null,
      "outputs": [
        {
          "output_type": "error",
          "ename": "ValueError",
          "evalue": "ignored",
          "traceback": [
            "\u001b[0;31m---------------------------------------------------------------------------\u001b[0m",
            "\u001b[0;31mInvalidArgumentError\u001b[0m                      Traceback (most recent call last)",
            "\u001b[0;32m/usr/local/lib/python3.6/dist-packages/tensorflow/python/framework/ops.py\u001b[0m in \u001b[0;36m_create_c_op\u001b[0;34m(graph, node_def, inputs, control_inputs, op_def)\u001b[0m\n\u001b[1;32m   1653\u001b[0m   \u001b[0;32mtry\u001b[0m\u001b[0;34m:\u001b[0m\u001b[0;34m\u001b[0m\u001b[0;34m\u001b[0m\u001b[0m\n\u001b[0;32m-> 1654\u001b[0;31m     \u001b[0mc_op\u001b[0m \u001b[0;34m=\u001b[0m \u001b[0mpywrap_tf_session\u001b[0m\u001b[0;34m.\u001b[0m\u001b[0mTF_FinishOperation\u001b[0m\u001b[0;34m(\u001b[0m\u001b[0mop_desc\u001b[0m\u001b[0;34m)\u001b[0m\u001b[0;34m\u001b[0m\u001b[0;34m\u001b[0m\u001b[0m\n\u001b[0m\u001b[1;32m   1655\u001b[0m   \u001b[0;32mexcept\u001b[0m \u001b[0merrors\u001b[0m\u001b[0;34m.\u001b[0m\u001b[0mInvalidArgumentError\u001b[0m \u001b[0;32mas\u001b[0m \u001b[0me\u001b[0m\u001b[0;34m:\u001b[0m\u001b[0;34m\u001b[0m\u001b[0;34m\u001b[0m\u001b[0m\n",
            "\u001b[0;31mInvalidArgumentError\u001b[0m: Invalid reduction dimension 1 for input with 0 dimensions. for '{{node Sum}} = Sum[T=DT_FLOAT, Tidx=DT_INT32, keep_dims=true](Square_11, Sum/reduction_indices)' with input shapes: [], [] and with computed input tensors: input[1] = <1>.",
            "\nDuring handling of the above exception, another exception occurred:\n",
            "\u001b[0;31mValueError\u001b[0m                                Traceback (most recent call last)",
            "\u001b[0;32m<ipython-input-88-108a138ea44b>\u001b[0m in \u001b[0;36m<module>\u001b[0;34m()\u001b[0m\n\u001b[1;32m      1\u001b[0m \u001b[0;32mimport\u001b[0m \u001b[0mtensorflow\u001b[0m \u001b[0;32mas\u001b[0m \u001b[0mtf\u001b[0m\u001b[0;34m\u001b[0m\u001b[0;34m\u001b[0m\u001b[0m\n\u001b[1;32m      2\u001b[0m \u001b[0mv\u001b[0m \u001b[0;34m=\u001b[0m \u001b[0mtf\u001b[0m\u001b[0;34m.\u001b[0m\u001b[0mVariable\u001b[0m\u001b[0;34m(\u001b[0m\u001b[0;34m[\u001b[0m\u001b[0;34m[\u001b[0m\u001b[0;36m1\u001b[0m\u001b[0;34m,\u001b[0m \u001b[0;36m2\u001b[0m\u001b[0;34m]\u001b[0m\u001b[0;34m,\u001b[0m \u001b[0;34m[\u001b[0m\u001b[0;36m3\u001b[0m\u001b[0;34m,\u001b[0m \u001b[0;36m4\u001b[0m\u001b[0;34m]\u001b[0m\u001b[0;34m]\u001b[0m\u001b[0;34m)\u001b[0m\u001b[0;34m\u001b[0m\u001b[0;34m\u001b[0m\u001b[0m\n\u001b[0;32m----> 3\u001b[0;31m \u001b[0mtf\u001b[0m\u001b[0;34m.\u001b[0m\u001b[0mkeras\u001b[0m\u001b[0;34m.\u001b[0m\u001b[0mconstraints\u001b[0m\u001b[0;34m.\u001b[0m\u001b[0mUnitNorm\u001b[0m\u001b[0;34m(\u001b[0m\u001b[0maxis\u001b[0m\u001b[0;34m=\u001b[0m\u001b[0;36m1\u001b[0m\u001b[0;34m)\u001b[0m\u001b[0;34m(\u001b[0m\u001b[0mtf\u001b[0m\u001b[0;34m.\u001b[0m\u001b[0mcast\u001b[0m\u001b[0;34m(\u001b[0m\u001b[0mpooled_grads\u001b[0m\u001b[0;34m,\u001b[0m \u001b[0mtf\u001b[0m\u001b[0;34m.\u001b[0m\u001b[0mfloat32\u001b[0m\u001b[0;34m)\u001b[0m\u001b[0;34m)\u001b[0m\u001b[0;34m\u001b[0m\u001b[0;34m\u001b[0m\u001b[0m\n\u001b[0m",
            "\u001b[0;32m/usr/local/lib/python3.6/dist-packages/tensorflow/python/keras/constraints.py\u001b[0m in \u001b[0;36m__call__\u001b[0;34m(self, w)\u001b[0m\n\u001b[1;32m    113\u001b[0m         K.epsilon() + K.sqrt(\n\u001b[1;32m    114\u001b[0m             math_ops.reduce_sum(\n\u001b[0;32m--> 115\u001b[0;31m                 math_ops.square(w), axis=self.axis, keepdims=True)))\n\u001b[0m\u001b[1;32m    116\u001b[0m \u001b[0;34m\u001b[0m\u001b[0m\n\u001b[1;32m    117\u001b[0m   \u001b[0;32mdef\u001b[0m \u001b[0mget_config\u001b[0m\u001b[0;34m(\u001b[0m\u001b[0mself\u001b[0m\u001b[0;34m)\u001b[0m\u001b[0;34m:\u001b[0m\u001b[0;34m\u001b[0m\u001b[0;34m\u001b[0m\u001b[0m\n",
            "\u001b[0;32m/usr/local/lib/python3.6/dist-packages/tensorflow/python/util/dispatch.py\u001b[0m in \u001b[0;36mwrapper\u001b[0;34m(*args, **kwargs)\u001b[0m\n\u001b[1;32m    178\u001b[0m     \u001b[0;34m\"\"\"Call target, and fall back on dispatchers if there is a TypeError.\"\"\"\u001b[0m\u001b[0;34m\u001b[0m\u001b[0;34m\u001b[0m\u001b[0m\n\u001b[1;32m    179\u001b[0m     \u001b[0;32mtry\u001b[0m\u001b[0;34m:\u001b[0m\u001b[0;34m\u001b[0m\u001b[0;34m\u001b[0m\u001b[0m\n\u001b[0;32m--> 180\u001b[0;31m       \u001b[0;32mreturn\u001b[0m \u001b[0mtarget\u001b[0m\u001b[0;34m(\u001b[0m\u001b[0;34m*\u001b[0m\u001b[0margs\u001b[0m\u001b[0;34m,\u001b[0m \u001b[0;34m**\u001b[0m\u001b[0mkwargs\u001b[0m\u001b[0;34m)\u001b[0m\u001b[0;34m\u001b[0m\u001b[0;34m\u001b[0m\u001b[0m\n\u001b[0m\u001b[1;32m    181\u001b[0m     \u001b[0;32mexcept\u001b[0m \u001b[0;34m(\u001b[0m\u001b[0mTypeError\u001b[0m\u001b[0;34m,\u001b[0m \u001b[0mValueError\u001b[0m\u001b[0;34m)\u001b[0m\u001b[0;34m:\u001b[0m\u001b[0;34m\u001b[0m\u001b[0;34m\u001b[0m\u001b[0m\n\u001b[1;32m    182\u001b[0m       \u001b[0;31m# Note: convert_to_eager_tensor currently raises a ValueError, not a\u001b[0m\u001b[0;34m\u001b[0m\u001b[0;34m\u001b[0m\u001b[0;34m\u001b[0m\u001b[0m\n",
            "\u001b[0;32m/usr/local/lib/python3.6/dist-packages/tensorflow/python/ops/math_ops.py\u001b[0m in \u001b[0;36mreduce_sum\u001b[0;34m(input_tensor, axis, keepdims, name)\u001b[0m\n\u001b[1;32m   1740\u001b[0m \u001b[0;34m\u001b[0m\u001b[0m\n\u001b[1;32m   1741\u001b[0m   return reduce_sum_with_dims(input_tensor, axis, keepdims, name,\n\u001b[0;32m-> 1742\u001b[0;31m                               _ReductionDims(input_tensor, axis))\n\u001b[0m\u001b[1;32m   1743\u001b[0m \u001b[0;34m\u001b[0m\u001b[0m\n\u001b[1;32m   1744\u001b[0m \u001b[0;34m\u001b[0m\u001b[0m\n",
            "\u001b[0;32m/usr/local/lib/python3.6/dist-packages/tensorflow/python/ops/math_ops.py\u001b[0m in \u001b[0;36mreduce_sum_with_dims\u001b[0;34m(input_tensor, axis, keepdims, name, dims)\u001b[0m\n\u001b[1;32m   1751\u001b[0m   return _may_reduce_to_scalar(\n\u001b[1;32m   1752\u001b[0m       \u001b[0mkeepdims\u001b[0m\u001b[0;34m,\u001b[0m \u001b[0maxis\u001b[0m\u001b[0;34m,\u001b[0m\u001b[0;34m\u001b[0m\u001b[0;34m\u001b[0m\u001b[0m\n\u001b[0;32m-> 1753\u001b[0;31m       gen_math_ops._sum(input_tensor, dims, keepdims, name=name))\n\u001b[0m\u001b[1;32m   1754\u001b[0m \u001b[0;34m\u001b[0m\u001b[0m\n\u001b[1;32m   1755\u001b[0m \u001b[0;34m\u001b[0m\u001b[0m\n",
            "\u001b[0;32m/usr/local/lib/python3.6/dist-packages/tensorflow/python/ops/gen_math_ops.py\u001b[0m in \u001b[0;36m_sum\u001b[0;34m(input, axis, keep_dims, name)\u001b[0m\n\u001b[1;32m  10171\u001b[0m   _, _, _op, _outputs = _op_def_library._apply_op_helper(\n\u001b[1;32m  10172\u001b[0m         \u001b[0;34m\"Sum\"\u001b[0m\u001b[0;34m,\u001b[0m \u001b[0minput\u001b[0m\u001b[0;34m=\u001b[0m\u001b[0minput\u001b[0m\u001b[0;34m,\u001b[0m \u001b[0mreduction_indices\u001b[0m\u001b[0;34m=\u001b[0m\u001b[0maxis\u001b[0m\u001b[0;34m,\u001b[0m \u001b[0mkeep_dims\u001b[0m\u001b[0;34m=\u001b[0m\u001b[0mkeep_dims\u001b[0m\u001b[0;34m,\u001b[0m\u001b[0;34m\u001b[0m\u001b[0;34m\u001b[0m\u001b[0m\n\u001b[0;32m> 10173\u001b[0;31m                name=name)\n\u001b[0m\u001b[1;32m  10174\u001b[0m   \u001b[0m_result\u001b[0m \u001b[0;34m=\u001b[0m \u001b[0m_outputs\u001b[0m\u001b[0;34m[\u001b[0m\u001b[0;34m:\u001b[0m\u001b[0;34m]\u001b[0m\u001b[0;34m\u001b[0m\u001b[0;34m\u001b[0m\u001b[0m\n\u001b[1;32m  10175\u001b[0m   \u001b[0;32mif\u001b[0m \u001b[0m_execute\u001b[0m\u001b[0;34m.\u001b[0m\u001b[0mmust_record_gradient\u001b[0m\u001b[0;34m(\u001b[0m\u001b[0;34m)\u001b[0m\u001b[0;34m:\u001b[0m\u001b[0;34m\u001b[0m\u001b[0;34m\u001b[0m\u001b[0m\n",
            "\u001b[0;32m/usr/local/lib/python3.6/dist-packages/tensorflow/python/framework/op_def_library.py\u001b[0m in \u001b[0;36m_apply_op_helper\u001b[0;34m(op_type_name, name, **keywords)\u001b[0m\n\u001b[1;32m    742\u001b[0m       op = g._create_op_internal(op_type_name, inputs, dtypes=None,\n\u001b[1;32m    743\u001b[0m                                  \u001b[0mname\u001b[0m\u001b[0;34m=\u001b[0m\u001b[0mscope\u001b[0m\u001b[0;34m,\u001b[0m \u001b[0minput_types\u001b[0m\u001b[0;34m=\u001b[0m\u001b[0minput_types\u001b[0m\u001b[0;34m,\u001b[0m\u001b[0;34m\u001b[0m\u001b[0;34m\u001b[0m\u001b[0m\n\u001b[0;32m--> 744\u001b[0;31m                                  attrs=attr_protos, op_def=op_def)\n\u001b[0m\u001b[1;32m    745\u001b[0m \u001b[0;34m\u001b[0m\u001b[0m\n\u001b[1;32m    746\u001b[0m     \u001b[0;31m# `outputs` is returned as a separate return value so that the output\u001b[0m\u001b[0;34m\u001b[0m\u001b[0;34m\u001b[0m\u001b[0;34m\u001b[0m\u001b[0m\n",
            "\u001b[0;32m/usr/local/lib/python3.6/dist-packages/tensorflow/python/framework/func_graph.py\u001b[0m in \u001b[0;36m_create_op_internal\u001b[0;34m(self, op_type, inputs, dtypes, input_types, name, attrs, op_def, compute_device)\u001b[0m\n\u001b[1;32m    593\u001b[0m     return super(FuncGraph, self)._create_op_internal(  # pylint: disable=protected-access\n\u001b[1;32m    594\u001b[0m         \u001b[0mop_type\u001b[0m\u001b[0;34m,\u001b[0m \u001b[0minputs\u001b[0m\u001b[0;34m,\u001b[0m \u001b[0mdtypes\u001b[0m\u001b[0;34m,\u001b[0m \u001b[0minput_types\u001b[0m\u001b[0;34m,\u001b[0m \u001b[0mname\u001b[0m\u001b[0;34m,\u001b[0m \u001b[0mattrs\u001b[0m\u001b[0;34m,\u001b[0m \u001b[0mop_def\u001b[0m\u001b[0;34m,\u001b[0m\u001b[0;34m\u001b[0m\u001b[0;34m\u001b[0m\u001b[0m\n\u001b[0;32m--> 595\u001b[0;31m         compute_device)\n\u001b[0m\u001b[1;32m    596\u001b[0m \u001b[0;34m\u001b[0m\u001b[0m\n\u001b[1;32m    597\u001b[0m   \u001b[0;32mdef\u001b[0m \u001b[0mcapture\u001b[0m\u001b[0;34m(\u001b[0m\u001b[0mself\u001b[0m\u001b[0;34m,\u001b[0m \u001b[0mtensor\u001b[0m\u001b[0;34m,\u001b[0m \u001b[0mname\u001b[0m\u001b[0;34m=\u001b[0m\u001b[0;32mNone\u001b[0m\u001b[0;34m,\u001b[0m \u001b[0mshape\u001b[0m\u001b[0;34m=\u001b[0m\u001b[0;32mNone\u001b[0m\u001b[0;34m)\u001b[0m\u001b[0;34m:\u001b[0m\u001b[0;34m\u001b[0m\u001b[0;34m\u001b[0m\u001b[0m\n",
            "\u001b[0;32m/usr/local/lib/python3.6/dist-packages/tensorflow/python/framework/ops.py\u001b[0m in \u001b[0;36m_create_op_internal\u001b[0;34m(self, op_type, inputs, dtypes, input_types, name, attrs, op_def, compute_device)\u001b[0m\n\u001b[1;32m   3325\u001b[0m           \u001b[0minput_types\u001b[0m\u001b[0;34m=\u001b[0m\u001b[0minput_types\u001b[0m\u001b[0;34m,\u001b[0m\u001b[0;34m\u001b[0m\u001b[0;34m\u001b[0m\u001b[0m\n\u001b[1;32m   3326\u001b[0m           \u001b[0moriginal_op\u001b[0m\u001b[0;34m=\u001b[0m\u001b[0mself\u001b[0m\u001b[0;34m.\u001b[0m\u001b[0m_default_original_op\u001b[0m\u001b[0;34m,\u001b[0m\u001b[0;34m\u001b[0m\u001b[0;34m\u001b[0m\u001b[0m\n\u001b[0;32m-> 3327\u001b[0;31m           op_def=op_def)\n\u001b[0m\u001b[1;32m   3328\u001b[0m       \u001b[0mself\u001b[0m\u001b[0;34m.\u001b[0m\u001b[0m_create_op_helper\u001b[0m\u001b[0;34m(\u001b[0m\u001b[0mret\u001b[0m\u001b[0;34m,\u001b[0m \u001b[0mcompute_device\u001b[0m\u001b[0;34m=\u001b[0m\u001b[0mcompute_device\u001b[0m\u001b[0;34m)\u001b[0m\u001b[0;34m\u001b[0m\u001b[0;34m\u001b[0m\u001b[0m\n\u001b[1;32m   3329\u001b[0m     \u001b[0;32mreturn\u001b[0m \u001b[0mret\u001b[0m\u001b[0;34m\u001b[0m\u001b[0;34m\u001b[0m\u001b[0m\n",
            "\u001b[0;32m/usr/local/lib/python3.6/dist-packages/tensorflow/python/framework/ops.py\u001b[0m in \u001b[0;36m__init__\u001b[0;34m(self, node_def, g, inputs, output_types, control_inputs, input_types, original_op, op_def)\u001b[0m\n\u001b[1;32m   1815\u001b[0m         \u001b[0mop_def\u001b[0m \u001b[0;34m=\u001b[0m \u001b[0mself\u001b[0m\u001b[0;34m.\u001b[0m\u001b[0m_graph\u001b[0m\u001b[0;34m.\u001b[0m\u001b[0m_get_op_def\u001b[0m\u001b[0;34m(\u001b[0m\u001b[0mnode_def\u001b[0m\u001b[0;34m.\u001b[0m\u001b[0mop\u001b[0m\u001b[0;34m)\u001b[0m\u001b[0;34m\u001b[0m\u001b[0;34m\u001b[0m\u001b[0m\n\u001b[1;32m   1816\u001b[0m       self._c_op = _create_c_op(self._graph, node_def, inputs,\n\u001b[0;32m-> 1817\u001b[0;31m                                 control_input_ops, op_def)\n\u001b[0m\u001b[1;32m   1818\u001b[0m       \u001b[0mname\u001b[0m \u001b[0;34m=\u001b[0m \u001b[0mcompat\u001b[0m\u001b[0;34m.\u001b[0m\u001b[0mas_str\u001b[0m\u001b[0;34m(\u001b[0m\u001b[0mnode_def\u001b[0m\u001b[0;34m.\u001b[0m\u001b[0mname\u001b[0m\u001b[0;34m)\u001b[0m\u001b[0;34m\u001b[0m\u001b[0;34m\u001b[0m\u001b[0m\n\u001b[1;32m   1819\u001b[0m     \u001b[0;31m# pylint: enable=protected-access\u001b[0m\u001b[0;34m\u001b[0m\u001b[0;34m\u001b[0m\u001b[0;34m\u001b[0m\u001b[0m\n",
            "\u001b[0;32m/usr/local/lib/python3.6/dist-packages/tensorflow/python/framework/ops.py\u001b[0m in \u001b[0;36m_create_c_op\u001b[0;34m(graph, node_def, inputs, control_inputs, op_def)\u001b[0m\n\u001b[1;32m   1655\u001b[0m   \u001b[0;32mexcept\u001b[0m \u001b[0merrors\u001b[0m\u001b[0;34m.\u001b[0m\u001b[0mInvalidArgumentError\u001b[0m \u001b[0;32mas\u001b[0m \u001b[0me\u001b[0m\u001b[0;34m:\u001b[0m\u001b[0;34m\u001b[0m\u001b[0;34m\u001b[0m\u001b[0m\n\u001b[1;32m   1656\u001b[0m     \u001b[0;31m# Convert to ValueError for backwards compatibility.\u001b[0m\u001b[0;34m\u001b[0m\u001b[0;34m\u001b[0m\u001b[0;34m\u001b[0m\u001b[0m\n\u001b[0;32m-> 1657\u001b[0;31m     \u001b[0;32mraise\u001b[0m \u001b[0mValueError\u001b[0m\u001b[0;34m(\u001b[0m\u001b[0mstr\u001b[0m\u001b[0;34m(\u001b[0m\u001b[0me\u001b[0m\u001b[0;34m)\u001b[0m\u001b[0;34m)\u001b[0m\u001b[0;34m\u001b[0m\u001b[0;34m\u001b[0m\u001b[0m\n\u001b[0m\u001b[1;32m   1658\u001b[0m \u001b[0;34m\u001b[0m\u001b[0m\n\u001b[1;32m   1659\u001b[0m   \u001b[0;32mreturn\u001b[0m \u001b[0mc_op\u001b[0m\u001b[0;34m\u001b[0m\u001b[0;34m\u001b[0m\u001b[0m\n",
            "\u001b[0;31mValueError\u001b[0m: Invalid reduction dimension 1 for input with 0 dimensions. for '{{node Sum}} = Sum[T=DT_FLOAT, Tidx=DT_INT32, keep_dims=true](Square_11, Sum/reduction_indices)' with input shapes: [], [] and with computed input tensors: input[1] = <1>."
          ]
        }
      ]
    },
    {
      "cell_type": "code",
      "metadata": {
        "id": "c5H0jlFtMuJO",
        "colab": {
          "base_uri": "https://localhost:8080/",
          "height": 402
        },
        "outputId": "68ddae2e-aa74-4ed6-add9-6810723f582a"
      },
      "source": [
        "X_train"
      ],
      "execution_count": null,
      "outputs": [
        {
          "output_type": "execute_result",
          "data": {
            "text/html": [
              "<div>\n",
              "<style scoped>\n",
              "    .dataframe tbody tr th:only-of-type {\n",
              "        vertical-align: middle;\n",
              "    }\n",
              "\n",
              "    .dataframe tbody tr th {\n",
              "        vertical-align: top;\n",
              "    }\n",
              "\n",
              "    .dataframe thead th {\n",
              "        text-align: right;\n",
              "    }\n",
              "</style>\n",
              "<table border=\"1\" class=\"dataframe\">\n",
              "  <thead>\n",
              "    <tr style=\"text-align: right;\">\n",
              "      <th></th>\n",
              "      <th>0</th>\n",
              "    </tr>\n",
              "  </thead>\n",
              "  <tbody>\n",
              "    <tr>\n",
              "      <th>0</th>\n",
              "      <td>swear bout platinum new hot song shoe strings ...</td>\n",
              "    </tr>\n",
              "    <tr>\n",
              "      <th>1</th>\n",
              "      <td>darrenbeast nigga</td>\n",
              "    </tr>\n",
              "    <tr>\n",
              "      <th>2</th>\n",
              "      <td>bmrbauty feelin like back sleep ill night</td>\n",
              "    </tr>\n",
              "    <tr>\n",
              "      <th>3</th>\n",
              "      <td>see something walk like wait minute see</td>\n",
              "    </tr>\n",
              "    <tr>\n",
              "      <th>4</th>\n",
              "      <td>nagasaki remembered usc gathering</td>\n",
              "    </tr>\n",
              "    <tr>\n",
              "      <th>...</th>\n",
              "      <td>...</td>\n",
              "    </tr>\n",
              "    <tr>\n",
              "      <th>2245</th>\n",
              "      <td>please check new cover taylor swift fearless o...</td>\n",
              "    </tr>\n",
              "    <tr>\n",
              "      <th>2246</th>\n",
              "      <td>boop alert one veiny cock</td>\n",
              "    </tr>\n",
              "    <tr>\n",
              "      <th>2247</th>\n",
              "      <td>gone younger speaker clearly appeal teenage girls</td>\n",
              "    </tr>\n",
              "    <tr>\n",
              "      <th>2248</th>\n",
              "      <td>ashwinpande watched last night still love</td>\n",
              "    </tr>\n",
              "    <tr>\n",
              "      <th>2249</th>\n",
              "      <td>pastor preached today things work together cal...</td>\n",
              "    </tr>\n",
              "  </tbody>\n",
              "</table>\n",
              "<p>2250 rows × 1 columns</p>\n",
              "</div>"
            ],
            "text/plain": [
              "                                                      0\n",
              "0     swear bout platinum new hot song shoe strings ...\n",
              "1                                     darrenbeast nigga\n",
              "2             bmrbauty feelin like back sleep ill night\n",
              "3               see something walk like wait minute see\n",
              "4                     nagasaki remembered usc gathering\n",
              "...                                                 ...\n",
              "2245  please check new cover taylor swift fearless o...\n",
              "2246                          boop alert one veiny cock\n",
              "2247  gone younger speaker clearly appeal teenage girls\n",
              "2248          ashwinpande watched last night still love\n",
              "2249  pastor preached today things work together cal...\n",
              "\n",
              "[2250 rows x 1 columns]"
            ]
          },
          "metadata": {
            "tags": []
          },
          "execution_count": 30
        }
      ]
    },
    {
      "cell_type": "code",
      "metadata": {
        "id": "7zVzZZahOLgC"
      },
      "source": [
        "def plot_saliency(loaded_model, pure_txt, text_class, pred_labels, text_sequence):\n",
        "    text_class = 'Positive' if text_class==1 else 'Negative'\n",
        "    pred_labels = 'Positive' if pred_labels==1 else 'Negative'\n",
        "\n",
        "    input_tensors = [loaded_model.input, K.learning_phase()]\n",
        "    model_input = loaded_model.layers[2].input # the input for convolution layer\n",
        "    model_output = loaded_model.output[0][1]\n",
        "    gradients = loaded_model.optimizer.get_gradients(model_output,model_input)\n",
        "    compute_gradients = K.function(inputs=input_tensors, outputs=gradients)\n",
        "    matrix = compute_gradients([text_sequence.reshape(1,30), text_class])[0][0]\n",
        "    matrix = matrix[:len(pure_txt),:]\n",
        "\n",
        "    matrix_magnify=np.zeros((matrix.shape[0]*10,matrix.shape[1]))\n",
        "    for i in range(matrix.shape[0]):\n",
        "        for j in range(10):\n",
        "            matrix_magnify[i*10+j,:]=matrix[i,:]\n",
        "\n",
        "    fig = plt.figure()\n",
        "    ax = fig.add_subplot(111)\n",
        "    plt.imshow(normalize_array(np.absolute(matrix_magnify)), interpolation='nearest', cmap=plt.cm.Blues)\n",
        "    plt.yticks(np.arange(5, matrix.shape[0]*10, 10), pure_txt, weight='bold',fontsize=24)\n",
        "    plt.xticks(np.arange(0, matrix.shape[1], 50), weight='bold',fontsize=24)\n",
        "    plt.title('True Label: \"{}\" Predicted Label: \"{}\"'.format(text_class,pred_labels), weight='bold',fontsize=24)\n",
        "    plt.colorbar()\n",
        "    plt.show()"
      ],
      "execution_count": null,
      "outputs": []
    },
    {
      "cell_type": "code",
      "metadata": {
        "id": "2GToL0idknsk"
      },
      "source": [
        "input_tensors = [model.input, K.learning_phase()]\n",
        "model_input = model.layers[2].input"
      ],
      "execution_count": null,
      "outputs": []
    },
    {
      "cell_type": "code",
      "metadata": {
        "id": "u6vXvc1Dkrxp"
      },
      "source": [
        " model_output = model.output[0][1]"
      ],
      "execution_count": null,
      "outputs": []
    },
    {
      "cell_type": "code",
      "metadata": {
        "id": "TKR2XXuWk4i0"
      },
      "source": [
        "gradients = model.optimizer.get_gradients(model_output,model_input)"
      ],
      "execution_count": null,
      "outputs": []
    },
    {
      "cell_type": "code",
      "metadata": {
        "id": "ejONIQRLlB86"
      },
      "source": [
        "compute_gradients = K.function(inputs=input_tensors, outputs=gradients)"
      ],
      "execution_count": null,
      "outputs": []
    },
    {
      "cell_type": "code",
      "metadata": {
        "id": "_lFtF9XtlJDC",
        "colab": {
          "base_uri": "https://localhost:8080/",
          "height": 162
        },
        "outputId": "a5d00c7f-50ec-4bae-e83e-efbd27831ca6"
      },
      "source": [
        "matrix = compute_gradients([text_sequence.reshape(1,30), 'positive'])[0][0]"
      ],
      "execution_count": null,
      "outputs": [
        {
          "output_type": "error",
          "ename": "NameError",
          "evalue": "ignored",
          "traceback": [
            "\u001b[0;31m---------------------------------------------------------------------------\u001b[0m",
            "\u001b[0;31mNameError\u001b[0m                                 Traceback (most recent call last)",
            "\u001b[0;32m<ipython-input-120-e97086afc633>\u001b[0m in \u001b[0;36m<module>\u001b[0;34m()\u001b[0m\n\u001b[0;32m----> 1\u001b[0;31m \u001b[0mmatrix\u001b[0m \u001b[0;34m=\u001b[0m \u001b[0mcompute_gradients\u001b[0m\u001b[0;34m(\u001b[0m\u001b[0;34m[\u001b[0m\u001b[0mtext_sequence\u001b[0m\u001b[0;34m.\u001b[0m\u001b[0mreshape\u001b[0m\u001b[0;34m(\u001b[0m\u001b[0;36m1\u001b[0m\u001b[0;34m,\u001b[0m\u001b[0;36m30\u001b[0m\u001b[0;34m)\u001b[0m\u001b[0;34m,\u001b[0m \u001b[0;34m'positive'\u001b[0m\u001b[0;34m]\u001b[0m\u001b[0;34m)\u001b[0m\u001b[0;34m[\u001b[0m\u001b[0;36m0\u001b[0m\u001b[0;34m]\u001b[0m\u001b[0;34m[\u001b[0m\u001b[0;36m0\u001b[0m\u001b[0;34m]\u001b[0m\u001b[0;34m\u001b[0m\u001b[0;34m\u001b[0m\u001b[0m\n\u001b[0m",
            "\u001b[0;31mNameError\u001b[0m: name 'text_sequence' is not defined"
          ]
        }
      ]
    },
    {
      "cell_type": "code",
      "metadata": {
        "id": "bi__qC4pMNUg"
      },
      "source": [
        "k=980\n",
        "X_train1=[]\n",
        "y_train1=[]\n",
        "for i in range(0,2):\n",
        "  for j in range(k,k+20):\n",
        "    X_train1.append(dataset.iloc[j,0])\n",
        "    y_train1.append(dataset.iloc[j,1])\n",
        "  k+=1000"
      ],
      "execution_count": null,
      "outputs": []
    },
    {
      "cell_type": "code",
      "metadata": {
        "id": "sTFf4tGZ14sU"
      },
      "source": [
        "for i in range(1000,1050):\n",
        "  X_train1.append(dataset2.iloc[i,2])\n",
        "  y_train1.append(112345)"
      ],
      "execution_count": null,
      "outputs": []
    },
    {
      "cell_type": "code",
      "metadata": {
        "id": "1YzZaGVOlQDe"
      },
      "source": [
        "\n",
        "file=open(\"heatmap_capsules_for_users.html\",\"w\")\n",
        "for i in range(0,20):\n",
        "  type_here=[]\n",
        "  type_here.append(X_train1[i])\n",
        "  typr_here=pd.DataFrame(type_here)\n",
        "  typr_here.iloc[:,0]=typr_here.iloc[:,0].map(lambda s:preprocess(s))\n",
        "  tokenized = typr_here.iloc[:,0].apply((lambda x: tokenizer.encode(str(x), add_special_tokens=True)))\n",
        "  padded = np.array([i + [0]*(77-len(i)) for i in tokenized.values])\n",
        "  input_ids = torch.tensor(np.array(padded))\n",
        "  attention_mask = np.where(padded != 0, 1, 0)\n",
        "  input_ids = (torch.tensor(padded))\n",
        "  attention_mask = (torch.tensor(attention_mask))\n",
        "  with torch.no_grad():\n",
        "    last_hidden_states_test = model(input_ids,attention_mask)\n",
        "  y_pred = classifier.predict(last_hidden_states_test[0])\n",
        "  Xtst=last_hidden_states_test[0]\n",
        "  class_idx = np.argmax(y_pred[0]) #not needed in this case as only two classes\n",
        "  class_output = classifier.output[:, class_idx]\n",
        "  last_conv_layer = classifier.get_layer(\"conv1d_1\")\n",
        "  grads = K.gradients(class_output, last_conv_layer.output)[0]\n",
        "  pooled_grads = K.mean(grads)\n",
        "  iterate = K.function([classifier.input], [pooled_grads, last_conv_layer.output[0]])\n",
        "  pooled_grads_value, conv_layer_output_value = iterate([Xtst])\n",
        "  heatmap = np.mean(conv_layer_output_value, axis=-1)\n",
        "  heatmap = np.maximum(heatmap,0)\n",
        "  heatmap /= np.max(heatmap)#normalise values in the prediction\n",
        "  norm_len = 36/last_conv_layer.output_shape[1]\n",
        "  html = \"\"\n",
        "  if y_pred[0][0]>0.5:\n",
        "    pred = '90078731'\n",
        "  else:\n",
        "    pred = '51964081'\n",
        "  html += \"<span><h3>Based on the description, the model believes that text belongs to {} author \".format(pred)\n",
        "  html += \"<small><br>Confidence: {:.0f}%<br><br></small></h3></span>\".format(abs(((y_pred[0][0]*100)-50)*2))\n",
        "  for j,i in enumerate((type_here[0].lower()).split()):\n",
        "    html += \"<span style='background-color:rgba({},0,15,{})'>{} </span>\".format(heatmap[math.floor(j/norm_len)]*255,heatmap[math.floor(j/norm_len)]-0.3,i)\n",
        "  file.write(html)\n",
        "file.close()   \n",
        "\n",
        "\n",
        "\n"
      ],
      "execution_count": null,
      "outputs": []
    },
    {
      "cell_type": "code",
      "metadata": {
        "id": "TFAVjVingc9b"
      },
      "source": [
        " y_pred = classifier.predict(last_hidden_states_test[0])\n"
      ],
      "execution_count": null,
      "outputs": []
    },
    {
      "cell_type": "code",
      "metadata": {
        "id": "idDR9c5bgett"
      },
      "source": [
        "Xtst=last_hidden_states_test[0]"
      ],
      "execution_count": null,
      "outputs": []
    },
    {
      "cell_type": "code",
      "metadata": {
        "id": "3rY9JKoGghCP"
      },
      "source": [
        "class_idx = np.argmax(y_pred[0]) #not needed in this case as only two classes\n",
        "class_output = classifier.output[:, class_idx]\n",
        "last_conv_layer = classifier.get_layer(\"conv1d_7\")"
      ],
      "execution_count": null,
      "outputs": []
    },
    {
      "cell_type": "code",
      "metadata": {
        "id": "OHRKaZrsgvtm",
        "colab": {
          "base_uri": "https://localhost:8080/",
          "height": 54
        },
        "outputId": "7e32c7d7-6ca7-4a70-8e23-23a50cc14de7"
      },
      "source": [
        "import os\n",
        "import pandas as pd\n",
        "import numpy as np\n",
        "import matplotlib.pyplot as plt\n",
        "import math\n",
        "from IPython.display import HTML\n",
        "from sklearn.model_selection import train_test_split\n",
        "from numpy import array\n",
        "from numpy import argmax\n",
        "from keras.utils import to_categorical\n",
        "from keras.models import Model\n",
        "from keras import backend as K \n",
        "from keras.models import Sequential\n",
        "from keras import layers\n",
        "from keras.preprocessing.sequence import pad_sequences\n",
        "from keras.preprocessing.text import Tokenizer\n",
        "\n",
        "\n",
        "pd.options.display.max_rows\n",
        "pd.set_option('display.max_colwidth', -1)"
      ],
      "execution_count": null,
      "outputs": [
        {
          "output_type": "stream",
          "text": [
            "/usr/local/lib/python3.6/dist-packages/ipykernel_launcher.py:20: FutureWarning: Passing a negative integer is deprecated in version 1.0 and will not be supported in future version. Instead, use None to not limit the column width.\n"
          ],
          "name": "stderr"
        }
      ]
    },
    {
      "cell_type": "code",
      "metadata": {
        "id": "cRDsYygPgrCB"
      },
      "source": [
        "grads = K.gradients(class_output, last_conv_layer.output)[0]\n",
        "pooled_grads = K.mean(grads)\n",
        "iterate = K.function([classifier.input], [pooled_grads, last_conv_layer.output[0]])\n",
        "pooled_grads_value, conv_layer_output_value = iterate([Xtst])"
      ],
      "execution_count": null,
      "outputs": []
    },
    {
      "cell_type": "code",
      "metadata": {
        "id": "X79FrCmfgydH"
      },
      "source": [
        "\n",
        "\n",
        "heatmap = np.mean(conv_layer_output_value, axis=-1)\n",
        "heatmap = np.maximum(heatmap,0)\n",
        "heatmap /= np.max(heatmap)#normalise values in the prediction\n"
      ],
      "execution_count": null,
      "outputs": []
    },
    {
      "cell_type": "code",
      "metadata": {
        "id": "X94HLMLUg1NN"
      },
      "source": [
        "\n",
        "\n",
        "norm_len = 36/last_conv_layer.output_shape[1] # fi"
      ],
      "execution_count": null,
      "outputs": []
    },
    {
      "cell_type": "code",
      "metadata": {
        "id": "--Xx4wsbg24y",
        "colab": {
          "base_uri": "https://localhost:8080/",
          "height": 114
        },
        "outputId": "f42c4517-042e-4617-83e2-f1dcbe04eca3"
      },
      "source": [
        "html = \"\"\n",
        "if y_pred[0]>0.5:\n",
        "  pred = '90078731'\n",
        "else:\n",
        "  pred = '15401533'\n",
        "html += \"<span><h3>Based on the description, the model believes that text belongs to {} author \".format(pred)\n",
        "html += \"<small><br>Confidence: {:.0f}%<br><br></small></h3></span>\".format(abs(((y_pred[0][0]*100)-50)*2))\n",
        "for j,i in enumerate(type_here[0].split()):\n",
        "  html += \"<span style='background-color:rgba({},0,150,{})'>{} </span>\".format(heatmap[math.floor(j/norm_len)]*255,heatmap[math.floor(j/norm_len)]-0.3,i)\n",
        "\n",
        "HTML(html)\n"
      ],
      "execution_count": null,
      "outputs": [
        {
          "output_type": "execute_result",
          "data": {
            "text/html": [
              "<span><h3>Based on the description, the model believes that text belongs to 15401533 author <small><br>Confidence: 98%<br><br></small></h3></span><span style='background-color:rgba(141.85660243034363,0,150,0.2563004016876221)'>The </span><span style='background-color:rgba(122.40815162658691,0,150,0.18003196716308595)'>time </span><span style='background-color:rgba(93.97271186113358,0,150,0.06852043867111207)'>in </span><span style='background-color:rgba(87.91517570614815,0,150,0.04476539492607118)'>#Hollywood, </span><span style='background-color:rgba(142.006633579731,0,150,0.25688875913619996)'>#CA, </span><span style='background-color:rgba(228.56594324111938,0,150,0.5963370323181152)'>is </span><span style='background-color:rgba(249.58947032690048,0,150,0.6787822365760803)'>12:34:10 </span><span style='background-color:rgba(194.57352966070175,0,150,0.4630334496498108)'>am </span>"
            ],
            "text/plain": [
              "<IPython.core.display.HTML object>"
            ]
          },
          "metadata": {
            "tags": []
          },
          "execution_count": 383
        }
      ]
    },
    {
      "cell_type": "code",
      "metadata": {
        "id": "Mo-n5AGzg5yG",
        "colab": {
          "base_uri": "https://localhost:8080/",
          "height": 402
        },
        "outputId": "f140e469-b454-4eb5-8da1-29a3ba9c2238"
      },
      "source": [
        "dataset"
      ],
      "execution_count": null,
      "outputs": [
        {
          "output_type": "execute_result",
          "data": {
            "text/html": [
              "<div>\n",
              "<style scoped>\n",
              "    .dataframe tbody tr th:only-of-type {\n",
              "        vertical-align: middle;\n",
              "    }\n",
              "\n",
              "    .dataframe tbody tr th {\n",
              "        vertical-align: top;\n",
              "    }\n",
              "\n",
              "    .dataframe thead th {\n",
              "        text-align: right;\n",
              "    }\n",
              "</style>\n",
              "<table border=\"1\" class=\"dataframe\">\n",
              "  <thead>\n",
              "    <tr style=\"text-align: right;\">\n",
              "      <th></th>\n",
              "      <th>0</th>\n",
              "      <th>1</th>\n",
              "    </tr>\n",
              "  </thead>\n",
              "  <tbody>\n",
              "    <tr>\n",
              "      <th>0</th>\n",
              "      <td>b'The time in Hollywood, CA, is 11:16:13 pm\\n'</td>\n",
              "      <td>51964081</td>\n",
              "    </tr>\n",
              "    <tr>\n",
              "      <th>1</th>\n",
              "      <td>b'The time in #Hollywood, #CA, is 6:15:23 am\\n'</td>\n",
              "      <td>51964081</td>\n",
              "    </tr>\n",
              "    <tr>\n",
              "      <th>2</th>\n",
              "      <td>b'The time in Hollywood, CA, is 8:20:01 am\\n'</td>\n",
              "      <td>51964081</td>\n",
              "    </tr>\n",
              "    <tr>\n",
              "      <th>3</th>\n",
              "      <td>b'The time in #Hollywood, #CA, is 5:24:29 am\\n'</td>\n",
              "      <td>51964081</td>\n",
              "    </tr>\n",
              "    <tr>\n",
              "      <th>4</th>\n",
              "      <td>b'The time in Hollywood, CA, is 1:56:29 pm\\n'</td>\n",
              "      <td>51964081</td>\n",
              "    </tr>\n",
              "    <tr>\n",
              "      <th>...</th>\n",
              "      <td>...</td>\n",
              "      <td>...</td>\n",
              "    </tr>\n",
              "    <tr>\n",
              "      <th>1995</th>\n",
              "      <td>b'Now playing: Mario Lopez - Alone. Tune in: http://stream.laut.fm/eurodance.m3u\\n'</td>\n",
              "      <td>90078731</td>\n",
              "    </tr>\n",
              "    <tr>\n",
              "      <th>1996</th>\n",
              "      <td>b'Now playing: Axel Coon - Close to You. Tune in: http://stream.laut.fm/eurodance.m3u\\n'</td>\n",
              "      <td>90078731</td>\n",
              "    </tr>\n",
              "    <tr>\n",
              "      <th>1997</th>\n",
              "      <td>b'Now playing: Sash! - I Believe. Tune in: http://stream.laut.fm/eurodance.m3u\\n'</td>\n",
              "      <td>90078731</td>\n",
              "    </tr>\n",
              "    <tr>\n",
              "      <th>1998</th>\n",
              "      <td>b'Now playing: Lou Sern - Swiss Boy. Tune in: http://stream.laut.fm/eurodance.m3u\\n'</td>\n",
              "      <td>90078731</td>\n",
              "    </tr>\n",
              "    <tr>\n",
              "      <th>1999</th>\n",
              "      <td>b'Now playing: Phantasia - Hold Me Now. Tune in: http://stream.laut.fm/eurodance.m3u\\n'</td>\n",
              "      <td>90078731</td>\n",
              "    </tr>\n",
              "  </tbody>\n",
              "</table>\n",
              "<p>2000 rows × 2 columns</p>\n",
              "</div>"
            ],
            "text/plain": [
              "                                                                                             0         1\n",
              "0     b'The time in Hollywood, CA, is 11:16:13 pm\\n'                                            51964081\n",
              "1     b'The time in #Hollywood, #CA, is 6:15:23 am\\n'                                           51964081\n",
              "2     b'The time in Hollywood, CA, is 8:20:01 am\\n'                                             51964081\n",
              "3     b'The time in #Hollywood, #CA, is 5:24:29 am\\n'                                           51964081\n",
              "4     b'The time in Hollywood, CA, is 1:56:29 pm\\n'                                             51964081\n",
              "...                                             ...                                                  ...\n",
              "1995  b'Now playing: Mario Lopez - Alone. Tune in: http://stream.laut.fm/eurodance.m3u\\n'       90078731\n",
              "1996  b'Now playing: Axel Coon - Close to You. Tune in: http://stream.laut.fm/eurodance.m3u\\n'  90078731\n",
              "1997  b'Now playing: Sash! - I Believe. Tune in: http://stream.laut.fm/eurodance.m3u\\n'         90078731\n",
              "1998  b'Now playing: Lou Sern - Swiss Boy. Tune in: http://stream.laut.fm/eurodance.m3u\\n'      90078731\n",
              "1999  b'Now playing: Phantasia - Hold Me Now. Tune in: http://stream.laut.fm/eurodance.m3u\\n'   90078731\n",
              "\n",
              "[2000 rows x 2 columns]"
            ]
          },
          "metadata": {
            "tags": []
          },
          "execution_count": 351
        }
      ]
    },
    {
      "cell_type": "code",
      "metadata": {
        "id": "7dSvUG_jkIjE"
      },
      "source": [
        "type_here=[\"MKSDKSJDKCJNNCNKNCKNWSKXKSssssssskwjkdsdd\"]\n",
        "typr_here=pd.DataFrame(type_here)"
      ],
      "execution_count": null,
      "outputs": []
    },
    {
      "cell_type": "code",
      "metadata": {
        "id": "dsMpOlTM-o1R"
      },
      "source": [
        "\n",
        "typr_here.iloc[:,0]=typr_here.iloc[:,0].map(lambda s:preprocess(s))"
      ],
      "execution_count": null,
      "outputs": []
    },
    {
      "cell_type": "code",
      "metadata": {
        "id": "lxf1eB-I-37g",
        "colab": {
          "base_uri": "https://localhost:8080/",
          "height": 77
        },
        "outputId": "edd3932b-dd1f-4747-d5cf-a9167c851044"
      },
      "source": [
        "typr_here"
      ],
      "execution_count": null,
      "outputs": [
        {
          "output_type": "execute_result",
          "data": {
            "text/html": [
              "<div>\n",
              "<style scoped>\n",
              "    .dataframe tbody tr th:only-of-type {\n",
              "        vertical-align: middle;\n",
              "    }\n",
              "\n",
              "    .dataframe tbody tr th {\n",
              "        vertical-align: top;\n",
              "    }\n",
              "\n",
              "    .dataframe thead th {\n",
              "        text-align: right;\n",
              "    }\n",
              "</style>\n",
              "<table border=\"1\" class=\"dataframe\">\n",
              "  <thead>\n",
              "    <tr style=\"text-align: right;\">\n",
              "      <th></th>\n",
              "      <th>0</th>\n",
              "    </tr>\n",
              "  </thead>\n",
              "  <tbody>\n",
              "    <tr>\n",
              "      <th>0</th>\n",
              "      <td>mksdksjdkcjnncnkncknwskxksssssssskwjkdsdd</td>\n",
              "    </tr>\n",
              "  </tbody>\n",
              "</table>\n",
              "</div>"
            ],
            "text/plain": [
              "                                           0\n",
              "0  mksdksjdkcjnncnkncknwskxksssssssskwjkdsdd"
            ]
          },
          "metadata": {
            "tags": []
          },
          "execution_count": 67
        }
      ]
    },
    {
      "cell_type": "code",
      "metadata": {
        "id": "UWE6w07t_A7r"
      },
      "source": [
        ""
      ],
      "execution_count": null,
      "outputs": []
    }
  ]
}